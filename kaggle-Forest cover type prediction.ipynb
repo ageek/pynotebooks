{
 "metadata": {
  "name": ""
 },
 "nbformat": 3,
 "nbformat_minor": 0,
 "worksheets": [
  {
   "cells": [
    {
     "cell_type": "code",
     "collapsed": false,
     "input": [
      "import numpy as np\n",
      "import pylab as pl\n",
      "import pandas as pd"
     ],
     "language": "python",
     "metadata": {},
     "outputs": [],
     "prompt_number": 20
    },
    {
     "cell_type": "code",
     "collapsed": false,
     "input": [
      "df = pd.read_csv(\"/home/bakuda/ageekrepo/kaggle/forest-cover-type-prediction/train.csv\", dtype=np.int32 )"
     ],
     "language": "python",
     "metadata": {},
     "outputs": [],
     "prompt_number": 21
    },
    {
     "cell_type": "code",
     "collapsed": false,
     "input": [
      "df.head()"
     ],
     "language": "python",
     "metadata": {},
     "outputs": [
      {
       "html": [
        "<div style=\"max-height:1000px;max-width:1500px;overflow:auto;\">\n",
        "<table border=\"1\" class=\"dataframe\">\n",
        "  <thead>\n",
        "    <tr style=\"text-align: right;\">\n",
        "      <th></th>\n",
        "      <th>Id</th>\n",
        "      <th>Elevation</th>\n",
        "      <th>Aspect</th>\n",
        "      <th>Slope</th>\n",
        "      <th>Horizontal_Distance_To_Hydrology</th>\n",
        "      <th>Vertical_Distance_To_Hydrology</th>\n",
        "      <th>Horizontal_Distance_To_Roadways</th>\n",
        "      <th>Hillshade_9am</th>\n",
        "      <th>Hillshade_Noon</th>\n",
        "      <th>Hillshade_3pm</th>\n",
        "      <th>Horizontal_Distance_To_Fire_Points</th>\n",
        "      <th>Wilderness_Area1</th>\n",
        "      <th>Wilderness_Area2</th>\n",
        "      <th>Wilderness_Area3</th>\n",
        "      <th>Wilderness_Area4</th>\n",
        "      <th>Soil_Type1</th>\n",
        "      <th>Soil_Type2</th>\n",
        "      <th>Soil_Type3</th>\n",
        "      <th>Soil_Type4</th>\n",
        "      <th>Soil_Type5</th>\n",
        "      <th></th>\n",
        "    </tr>\n",
        "  </thead>\n",
        "  <tbody>\n",
        "    <tr>\n",
        "      <th>0</th>\n",
        "      <td> 1</td>\n",
        "      <td> 2596</td>\n",
        "      <td>  51</td>\n",
        "      <td>  3</td>\n",
        "      <td> 258</td>\n",
        "      <td>   0</td>\n",
        "      <td>  510</td>\n",
        "      <td> 221</td>\n",
        "      <td> 232</td>\n",
        "      <td> 148</td>\n",
        "      <td> 6279</td>\n",
        "      <td> 1</td>\n",
        "      <td> 0</td>\n",
        "      <td> 0</td>\n",
        "      <td> 0</td>\n",
        "      <td> 0</td>\n",
        "      <td> 0</td>\n",
        "      <td> 0</td>\n",
        "      <td> 0</td>\n",
        "      <td> 0</td>\n",
        "      <td>...</td>\n",
        "    </tr>\n",
        "    <tr>\n",
        "      <th>1</th>\n",
        "      <td> 2</td>\n",
        "      <td> 2590</td>\n",
        "      <td>  56</td>\n",
        "      <td>  2</td>\n",
        "      <td> 212</td>\n",
        "      <td>  -6</td>\n",
        "      <td>  390</td>\n",
        "      <td> 220</td>\n",
        "      <td> 235</td>\n",
        "      <td> 151</td>\n",
        "      <td> 6225</td>\n",
        "      <td> 1</td>\n",
        "      <td> 0</td>\n",
        "      <td> 0</td>\n",
        "      <td> 0</td>\n",
        "      <td> 0</td>\n",
        "      <td> 0</td>\n",
        "      <td> 0</td>\n",
        "      <td> 0</td>\n",
        "      <td> 0</td>\n",
        "      <td>...</td>\n",
        "    </tr>\n",
        "    <tr>\n",
        "      <th>2</th>\n",
        "      <td> 3</td>\n",
        "      <td> 2804</td>\n",
        "      <td> 139</td>\n",
        "      <td>  9</td>\n",
        "      <td> 268</td>\n",
        "      <td>  65</td>\n",
        "      <td> 3180</td>\n",
        "      <td> 234</td>\n",
        "      <td> 238</td>\n",
        "      <td> 135</td>\n",
        "      <td> 6121</td>\n",
        "      <td> 1</td>\n",
        "      <td> 0</td>\n",
        "      <td> 0</td>\n",
        "      <td> 0</td>\n",
        "      <td> 0</td>\n",
        "      <td> 0</td>\n",
        "      <td> 0</td>\n",
        "      <td> 0</td>\n",
        "      <td> 0</td>\n",
        "      <td>...</td>\n",
        "    </tr>\n",
        "    <tr>\n",
        "      <th>3</th>\n",
        "      <td> 4</td>\n",
        "      <td> 2785</td>\n",
        "      <td> 155</td>\n",
        "      <td> 18</td>\n",
        "      <td> 242</td>\n",
        "      <td> 118</td>\n",
        "      <td> 3090</td>\n",
        "      <td> 238</td>\n",
        "      <td> 238</td>\n",
        "      <td> 122</td>\n",
        "      <td> 6211</td>\n",
        "      <td> 1</td>\n",
        "      <td> 0</td>\n",
        "      <td> 0</td>\n",
        "      <td> 0</td>\n",
        "      <td> 0</td>\n",
        "      <td> 0</td>\n",
        "      <td> 0</td>\n",
        "      <td> 0</td>\n",
        "      <td> 0</td>\n",
        "      <td>...</td>\n",
        "    </tr>\n",
        "    <tr>\n",
        "      <th>4</th>\n",
        "      <td> 5</td>\n",
        "      <td> 2595</td>\n",
        "      <td>  45</td>\n",
        "      <td>  2</td>\n",
        "      <td> 153</td>\n",
        "      <td>  -1</td>\n",
        "      <td>  391</td>\n",
        "      <td> 220</td>\n",
        "      <td> 234</td>\n",
        "      <td> 150</td>\n",
        "      <td> 6172</td>\n",
        "      <td> 1</td>\n",
        "      <td> 0</td>\n",
        "      <td> 0</td>\n",
        "      <td> 0</td>\n",
        "      <td> 0</td>\n",
        "      <td> 0</td>\n",
        "      <td> 0</td>\n",
        "      <td> 0</td>\n",
        "      <td> 0</td>\n",
        "      <td>...</td>\n",
        "    </tr>\n",
        "  </tbody>\n",
        "</table>\n",
        "<p>5 rows \u00d7 56 columns</p>\n",
        "</div>"
       ],
       "metadata": {},
       "output_type": "pyout",
       "prompt_number": 22,
       "text": [
        "   Id  Elevation  Aspect  Slope  Horizontal_Distance_To_Hydrology  \\\n",
        "0   1       2596      51      3                               258   \n",
        "1   2       2590      56      2                               212   \n",
        "2   3       2804     139      9                               268   \n",
        "3   4       2785     155     18                               242   \n",
        "4   5       2595      45      2                               153   \n",
        "\n",
        "   Vertical_Distance_To_Hydrology  Horizontal_Distance_To_Roadways  \\\n",
        "0                               0                              510   \n",
        "1                              -6                              390   \n",
        "2                              65                             3180   \n",
        "3                             118                             3090   \n",
        "4                              -1                              391   \n",
        "\n",
        "   Hillshade_9am  Hillshade_Noon  Hillshade_3pm  \\\n",
        "0            221             232            148   \n",
        "1            220             235            151   \n",
        "2            234             238            135   \n",
        "3            238             238            122   \n",
        "4            220             234            150   \n",
        "\n",
        "   Horizontal_Distance_To_Fire_Points  Wilderness_Area1  Wilderness_Area2  \\\n",
        "0                                6279                 1                 0   \n",
        "1                                6225                 1                 0   \n",
        "2                                6121                 1                 0   \n",
        "3                                6211                 1                 0   \n",
        "4                                6172                 1                 0   \n",
        "\n",
        "   Wilderness_Area3  Wilderness_Area4  Soil_Type1  Soil_Type2  Soil_Type3  \\\n",
        "0                 0                 0           0           0           0   \n",
        "1                 0                 0           0           0           0   \n",
        "2                 0                 0           0           0           0   \n",
        "3                 0                 0           0           0           0   \n",
        "4                 0                 0           0           0           0   \n",
        "\n",
        "   Soil_Type4  Soil_Type5      \n",
        "0           0           0 ...  \n",
        "1           0           0 ...  \n",
        "2           0           0 ...  \n",
        "3           0           0 ...  \n",
        "4           0           0 ...  \n",
        "\n",
        "[5 rows x 56 columns]"
       ]
      }
     ],
     "prompt_number": 22
    },
    {
     "cell_type": "code",
     "collapsed": false,
     "input": [
      "print df.columns\n"
     ],
     "language": "python",
     "metadata": {},
     "outputs": [
      {
       "output_type": "stream",
       "stream": "stdout",
       "text": [
        "Index([u'Id', u'Elevation', u'Aspect', u'Slope', u'Horizontal_Distance_To_Hydrology', u'Vertical_Distance_To_Hydrology', u'Horizontal_Distance_To_Roadways', u'Hillshade_9am', u'Hillshade_Noon', u'Hillshade_3pm', u'Horizontal_Distance_To_Fire_Points', u'Wilderness_Area1', u'Wilderness_Area2', u'Wilderness_Area3', u'Wilderness_Area4', u'Soil_Type1', u'Soil_Type2', u'Soil_Type3', u'Soil_Type4', u'Soil_Type5', u'Soil_Type6', u'Soil_Type7', u'Soil_Type8', u'Soil_Type9', u'Soil_Type10', u'Soil_Type11', u'Soil_Type12', u'Soil_Type13', u'Soil_Type14', u'Soil_Type15', u'Soil_Type16', u'Soil_Type17', u'Soil_Type18', u'Soil_Type19', u'Soil_Type20', u'Soil_Type21', u'Soil_Type22', u'Soil_Type23', u'Soil_Type24', u'Soil_Type25', u'Soil_Type26', u'Soil_Type27', u'Soil_Type28', u'Soil_Type29', u'Soil_Type30', u'Soil_Type31', u'Soil_Type32', u'Soil_Type33', u'Soil_Type34', u'Soil_Type35', u'Soil_Type36', u'Soil_Type37', u'Soil_Type38', u'Soil_Type39', u'Soil_Type40', u'Cover_Type'], dtype='object')\n"
       ]
      }
     ],
     "prompt_number": 23
    },
    {
     "cell_type": "code",
     "collapsed": false,
     "input": [
      "#print histogram of data\n",
      "#df.head().hist()"
     ],
     "language": "python",
     "metadata": {},
     "outputs": [],
     "prompt_number": 25
    },
    {
     "cell_type": "code",
     "collapsed": false,
     "input": [
      "cols_to_keep = ['Id','Elevation','Slope','Horizontal_Distance_To_Hydrology','Vertical_Distance_To_Hydrology','Horizontal_Distance_To_Roadways','Cover_Type' ]"
     ],
     "language": "python",
     "metadata": {},
     "outputs": [],
     "prompt_number": 108
    },
    {
     "cell_type": "code",
     "collapsed": false,
     "input": [
      "df_clean = df[cols_to_keep]"
     ],
     "language": "python",
     "metadata": {},
     "outputs": [],
     "prompt_number": 109
    },
    {
     "cell_type": "code",
     "collapsed": false,
     "input": [
      "df_clean.head()"
     ],
     "language": "python",
     "metadata": {},
     "outputs": [
      {
       "html": [
        "<div style=\"max-height:1000px;max-width:1500px;overflow:auto;\">\n",
        "<table border=\"1\" class=\"dataframe\">\n",
        "  <thead>\n",
        "    <tr style=\"text-align: right;\">\n",
        "      <th></th>\n",
        "      <th>Id</th>\n",
        "      <th>Elevation</th>\n",
        "      <th>Slope</th>\n",
        "      <th>Horizontal_Distance_To_Hydrology</th>\n",
        "      <th>Vertical_Distance_To_Hydrology</th>\n",
        "      <th>Horizontal_Distance_To_Roadways</th>\n",
        "      <th>Cover_Type</th>\n",
        "    </tr>\n",
        "  </thead>\n",
        "  <tbody>\n",
        "    <tr>\n",
        "      <th>0</th>\n",
        "      <td> 1</td>\n",
        "      <td> 2596</td>\n",
        "      <td>  3</td>\n",
        "      <td> 258</td>\n",
        "      <td>   0</td>\n",
        "      <td>  510</td>\n",
        "      <td> 5</td>\n",
        "    </tr>\n",
        "    <tr>\n",
        "      <th>1</th>\n",
        "      <td> 2</td>\n",
        "      <td> 2590</td>\n",
        "      <td>  2</td>\n",
        "      <td> 212</td>\n",
        "      <td>  -6</td>\n",
        "      <td>  390</td>\n",
        "      <td> 5</td>\n",
        "    </tr>\n",
        "    <tr>\n",
        "      <th>2</th>\n",
        "      <td> 3</td>\n",
        "      <td> 2804</td>\n",
        "      <td>  9</td>\n",
        "      <td> 268</td>\n",
        "      <td>  65</td>\n",
        "      <td> 3180</td>\n",
        "      <td> 2</td>\n",
        "    </tr>\n",
        "    <tr>\n",
        "      <th>3</th>\n",
        "      <td> 4</td>\n",
        "      <td> 2785</td>\n",
        "      <td> 18</td>\n",
        "      <td> 242</td>\n",
        "      <td> 118</td>\n",
        "      <td> 3090</td>\n",
        "      <td> 2</td>\n",
        "    </tr>\n",
        "    <tr>\n",
        "      <th>4</th>\n",
        "      <td> 5</td>\n",
        "      <td> 2595</td>\n",
        "      <td>  2</td>\n",
        "      <td> 153</td>\n",
        "      <td>  -1</td>\n",
        "      <td>  391</td>\n",
        "      <td> 5</td>\n",
        "    </tr>\n",
        "  </tbody>\n",
        "</table>\n",
        "<p>5 rows \u00d7 7 columns</p>\n",
        "</div>"
       ],
       "metadata": {},
       "output_type": "pyout",
       "prompt_number": 110,
       "text": [
        "   Id  Elevation  Slope  Horizontal_Distance_To_Hydrology  \\\n",
        "0   1       2596      3                               258   \n",
        "1   2       2590      2                               212   \n",
        "2   3       2804      9                               268   \n",
        "3   4       2785     18                               242   \n",
        "4   5       2595      2                               153   \n",
        "\n",
        "   Vertical_Distance_To_Hydrology  Horizontal_Distance_To_Roadways  Cover_Type  \n",
        "0                               0                              510           5  \n",
        "1                              -6                              390           5  \n",
        "2                              65                             3180           2  \n",
        "3                             118                             3090           2  \n",
        "4                              -1                              391           5  \n",
        "\n",
        "[5 rows x 7 columns]"
       ]
      }
     ],
     "prompt_number": 110
    },
    {
     "cell_type": "code",
     "collapsed": false,
     "input": [
      "# frequency table cutting presitge and whether or not someone was admitted\n",
      "print pd.crosstab(df['Cover_Type'], df['Slope'], rownames=['Cover_Type'])"
     ],
     "language": "python",
     "metadata": {},
     "outputs": [
      {
       "output_type": "stream",
       "stream": "stdout",
       "text": [
        "Slope       0   1   2   3   4    5    6    7    8    9    10   11   12   13  \\\n",
        "Cover_Type                                                                    \n",
        "1            0  21  19  37  67  101  100  113  116  126  168  155  130  130   \n",
        "2            3  20  26  57  48   89  100  116  110  139  110  128  124  126   \n",
        "3            0   8   9   9  23   25   26   45   47   46   79   69   59   70   \n",
        "4            0   7  31  39  39   52   60   68   70   91   85   79   76   75   \n",
        "5            0   7  22  23  49   60   64   87   93   89  105   86   75   88   \n",
        "6            0   6   7  10  22   24   42   39   49   56   64   81   78   96   \n",
        "7            2   9  20  35  57   72   73  105   89  117  128  142  135  132   \n",
        "\n",
        "Slope        14   15   16   17   18  19      \n",
        "Cover_Type                                   \n",
        "1           114   93  100   81   58  57 ...  \n",
        "2           132  105  108   85   72  71 ...  \n",
        "3            89   84   74   85   69  72 ...  \n",
        "4            59   52   67   73   58  87 ...  \n",
        "5            90   96  100   75  103  67 ...  \n",
        "6            81   98   80   92  102  96 ...  \n",
        "7           134  136  111  107   96  69 ...  \n",
        "\n",
        "[7 rows x 52 columns]\n"
       ]
      }
     ],
     "prompt_number": 111
    },
    {
     "cell_type": "code",
     "collapsed": false,
     "input": [
      "#import statsmodels.api as sm\n",
      "\n",
      "# manually add the intercept\n",
      "#df['intercept'] = 1.0\n",
      "\n",
      "#logit = sm.Logit(df['Cover_Type'], df[cols_to_keep])\n",
      " \n",
      "# fit the model\n",
      "#result = logit.fit()\n",
      "\n",
      "#print result.summary()"
     ],
     "language": "python",
     "metadata": {},
     "outputs": [],
     "prompt_number": 42
    },
    {
     "cell_type": "code",
     "collapsed": false,
     "input": [
      "df_clean.values.dtype\n",
      "print df_clean.values[:2][:]\n",
      "print df_clean.values[0][:2]\n",
      "X = df_clean.values[:,[1,2,3,4,5]]\n",
      "y = df_clean.values[:, [6]]\n",
      "print X[:5]\n",
      "print y[:5]\n",
      "np.arange(1,6)"
     ],
     "language": "python",
     "metadata": {},
     "outputs": [
      {
       "output_type": "stream",
       "stream": "stdout",
       "text": [
        "[[   1 2596    3  258    0  510    5]\n",
        " [   2 2590    2  212   -6  390    5]]\n",
        "[   1 2596]\n",
        "[[2596    3  258    0  510]\n",
        " [2590    2  212   -6  390]\n",
        " [2804    9  268   65 3180]\n",
        " [2785   18  242  118 3090]\n",
        " [2595    2  153   -1  391]]\n",
        "[[5]\n",
        " [5]\n",
        " [2]\n",
        " [2]\n",
        " [5]]\n"
       ]
      },
      {
       "metadata": {},
       "output_type": "pyout",
       "prompt_number": 112,
       "text": [
        "array([1, 2, 3, 4, 5])"
       ]
      }
     ],
     "prompt_number": 112
    },
    {
     "cell_type": "code",
     "collapsed": false,
     "input": [
      "print X.shape\n",
      "print y.shape\n",
      "print df_clean.values.shape"
     ],
     "language": "python",
     "metadata": {},
     "outputs": [
      {
       "output_type": "stream",
       "stream": "stdout",
       "text": [
        "(15120, 5)\n",
        "(15120, 1)\n",
        "(15120, 7)\n"
       ]
      }
     ],
     "prompt_number": 85
    },
    {
     "cell_type": "code",
     "collapsed": false,
     "input": [
      "# Selected columns only\n",
      "#X = df_clean.values[:,[1,2,3,4,5]]\n",
      "\n",
      "# All columns\n",
      "X = df.values[:, :55]\n",
      "y = df.values[:, [55]]\n",
      "\n",
      "\n",
      "from sklearn.cross_validation import train_test_split\n",
      "X_train, X_test, y_train, y_test = train_test_split(X,y,test_size=.33, random_state=0)"
     ],
     "language": "python",
     "metadata": {},
     "outputs": [],
     "prompt_number": 11
    },
    {
     "cell_type": "code",
     "collapsed": false,
     "input": [
      "print df.shape\n",
      "print X_train.shape\n",
      "print X_test.shape\n",
      "print y_train.shape\n",
      "print y_test.shape\n",
      "print X_train[1:4][:55]\n",
      "print y_train[1:4]\n",
      "\n",
      "print type(X_train) \n",
      "print type(y_train)"
     ],
     "language": "python",
     "metadata": {},
     "outputs": [
      {
       "output_type": "stream",
       "stream": "stdout",
       "text": [
        "(15120, 56)\n",
        "(10130, 55)\n",
        "(4990, 55)\n",
        "(10130, 1)\n",
        "(4990, 1)\n",
        "[[8792 3377   97    4  573   38 1560  226  234  143 2420    0    0    1\n",
        "     0    0    0    0    0    0    0    0    0    0    0    0    0    0\n",
        "     0    0    0    0    0    0    0    0    0    0    0    0    0    0\n",
        "     0    0    0    0    1    0    0    0    0    0    0    0    0]\n",
        " [2143 2728  330   23  323  -24 1167  158  204  182 2072    0    0    1\n",
        "     0    0    0    0    0    0    0    0    0    0    0    0    0    1\n",
        "     0    0    0    0    0    0    0    0    0    0    0    0    0    0\n",
        "     0    0    0    0    0    0    0    0    0    0    0    0    0]\n",
        " [6550 3212   96   14  324   76  741  241  219  105  811    0    0    1\n",
        "     0    0    0    0    0    0    0    0    0    0    0    0    0    0\n",
        "     0    0    0    0    0    0    0    0    0    0    0    0    0    0\n",
        "     0    0    0    1    0    0    0    0    0    0    0    0    0]]\n",
        "[[7]\n",
        " [6]\n",
        " [7]]\n",
        "<type 'numpy.ndarray'>\n",
        "<type 'numpy.ndarray'>\n"
       ]
      }
     ],
     "prompt_number": 5
    },
    {
     "cell_type": "code",
     "collapsed": false,
     "input": [
      "from sklearn.ensemble import RandomForestClassifier\n",
      "from sklearn.cross_validation import cross_val_score\n",
      "from sklearn.ensemble import AdaBoostClassifier\n",
      "\n",
      "clf_rf = RandomForestClassifier(n_estimators=200, verbose=1)\n",
      "clf_rf.fit(X_train, y_train.ravel())\n",
      "\n",
      "print clf_rf\n",
      "clf_rf.score(X_test, y_test)"
     ],
     "language": "python",
     "metadata": {},
     "outputs": [
      {
       "output_type": "stream",
       "stream": "stderr",
       "text": [
        "[Parallel(n_jobs=1)]: Done   1 jobs       | elapsed:   10.8s\n",
        "[Parallel(n_jobs=1)]: Done   1 out of   1 | elapsed:   10.8s finished\n",
        "[Parallel(n_jobs=1)]: Done   1 jobs       | elapsed:    0.3s\n"
       ]
      },
      {
       "output_type": "stream",
       "stream": "stdout",
       "text": [
        "RandomForestClassifier(bootstrap=True, compute_importances=None,\n",
        "            criterion=gini, max_depth=None, max_features=auto,\n",
        "            min_density=None, min_samples_leaf=1, min_samples_split=2,\n",
        "            n_estimators=200, n_jobs=1, oob_score=False, random_state=None,\n",
        "            verbose=1)\n"
       ]
      },
      {
       "output_type": "stream",
       "stream": "stderr",
       "text": [
        "[Parallel(n_jobs=1)]: Done   1 out of   1 | elapsed:    0.3s finished\n"
       ]
      },
      {
       "metadata": {},
       "output_type": "pyout",
       "prompt_number": 16,
       "text": [
        "0.86312625250501007"
       ]
      }
     ],
     "prompt_number": 16
    },
    {
     "cell_type": "code",
     "collapsed": false,
     "input": [
      "#print np.sort(rf.feature_importances_, reverse=True)\n",
      "from sklearn.ensemble import GradientBoostingClassifier\n",
      "clf_gbc = GradientBoostingClassifier(n_estimators=100, learning_rate=1.0, max_depth=1, random_state=0).fit(X_train, y_train.ravel())\n",
      "clf_gbc.score(X_test, y_test)\n"
     ],
     "language": "python",
     "metadata": {},
     "outputs": [
      {
       "metadata": {},
       "output_type": "pyout",
       "prompt_number": 145,
       "text": [
        "0.74488977955911828"
       ]
      }
     ],
     "prompt_number": 145
    },
    {
     "cell_type": "code",
     "collapsed": false,
     "input": [
      "from sklearn.ensemble import ExtraTreesClassifier\n",
      "clf_ext = ExtraTreesClassifier(n_estimators=200).fit(X_train, y_train.ravel())\n",
      "clf_ext.score(X_test, y_test)"
     ],
     "language": "python",
     "metadata": {},
     "outputs": [
      {
       "metadata": {},
       "output_type": "pyout",
       "prompt_number": 17,
       "text": [
        "0.87214428857715431"
       ]
      }
     ],
     "prompt_number": 17
    },
    {
     "cell_type": "code",
     "collapsed": false,
     "input": [
      "from sklearn.svm import SVC\n",
      "#clf_svc = SVC(kernel='linear').fit(X_train, y_train.ravel())\n",
      "#print clf_svc\n",
      "#clf_svc.score(X_test, y_test)"
     ],
     "language": "python",
     "metadata": {},
     "outputs": [],
     "prompt_number": "*"
    },
    {
     "cell_type": "code",
     "collapsed": false,
     "input": [
      "from sklearn.linear_model import LogisticRegression\n",
      "clf_lr = LogisticRegression(C=.1).fit(X_train, y_train.ravel())\n",
      "print clf_lr\n",
      "clf_lr.score(X_test, y_test)"
     ],
     "language": "python",
     "metadata": {},
     "outputs": [
      {
       "output_type": "stream",
       "stream": "stdout",
       "text": [
        "LogisticRegression(C=0.1, class_weight=None, dual=False, fit_intercept=True,\n",
        "          intercept_scaling=1, penalty=l2, random_state=None, tol=0.0001)\n"
       ]
      },
      {
       "metadata": {},
       "output_type": "pyout",
       "prompt_number": 18,
       "text": [
        "0.64789579158316635"
       ]
      }
     ],
     "prompt_number": 18
    },
    {
     "cell_type": "code",
     "collapsed": false,
     "input": [
      "from sklearn.linear_model import SGDClassifier\n",
      "# Set autoencoder parameters\n",
      "ae = Autoencoder(max_iter=200,sparsity_param=0.1,\n",
      "                                    beta=3,n_hidden = 15,alpha=3e-3,\n",
      "                                    verbose=True, random_state=1)\n",
      "# Train and extract features\n",
      "extracted_features = ae.fit_transform(X_train)\n",
      "# Test\n",
      "clf = SGDClassifier(random_state=3)\n",
      "clf.fit(X_train, y_train.ravel())\n",
      "print 'SGD on raw feature: ', clf.score(X_test, y_test)\n",
      "#clf.fit(extracted_features, y_test)\n",
      "#print 'SGD on extracted features score: ', clf.score(extracted_features, y_test)"
     ],
     "language": "python",
     "metadata": {},
     "outputs": [
      {
       "output_type": "stream",
       "stream": "stdout",
       "text": [
        "SGD on raw pixels score:  0.292985971944\n"
       ]
      }
     ],
     "prompt_number": 59
    },
    {
     "cell_type": "code",
     "collapsed": false,
     "input": [
      "from sklearn.decomposition import PCA\n",
      "pca = PCA(n_components=5)\n",
      "pca.fit(X_train)"
     ],
     "language": "python",
     "metadata": {},
     "outputs": [
      {
       "metadata": {},
       "output_type": "pyout",
       "prompt_number": 52,
       "text": [
        "PCA(copy=True, n_components=5, whiten=False)"
       ]
      }
     ],
     "prompt_number": 52
    },
    {
     "cell_type": "code",
     "collapsed": false,
     "input": [
      "print pca.explained_variance_ratio_"
     ],
     "language": "python",
     "metadata": {},
     "outputs": [
      {
       "output_type": "stream",
       "stream": "stdout",
       "text": [
        "[ 0.85746264  0.10246987  0.03289494  0.00480047  0.00160243]\n"
       ]
      }
     ],
     "prompt_number": 53
    },
    {
     "cell_type": "code",
     "collapsed": false,
     "input": [
      "X_train_new = pca.fit_transform(X_train, y_train)\n",
      "X_test_new = pca.fit_transform(X_test)"
     ],
     "language": "python",
     "metadata": {},
     "outputs": [],
     "prompt_number": 54
    },
    {
     "cell_type": "code",
     "collapsed": false,
     "input": [
      "print X_train_new[:5]"
     ],
     "language": "python",
     "metadata": {},
     "outputs": [
      {
       "output_type": "stream",
       "stream": "stdout",
       "text": [
        "[[-4999.33349609   114.83732605  -386.75967407   243.23040771\n",
        "   -225.10316467]\n",
        " [ 1263.75024414   528.73925781  -837.06341553   609.66308594\n",
        "    115.10746765]\n",
        " [-5381.72070312  -236.74804688  -717.56243896   153.90917969    75.0146637 ]\n",
        " [ -936.93084717 -1111.92956543    48.00042725   692.7232666    -99.22013092]\n",
        " [  172.73869324  1551.51928711  1036.62634277   532.66119385\n",
        "    272.23394775]]\n"
       ]
      }
     ],
     "prompt_number": 55
    },
    {
     "cell_type": "code",
     "collapsed": false,
     "input": [
      "# Plot the PCA spectrum\n",
      "pca.fit(X_train)\n",
      "\n",
      "plt.figure(1, figsize=(4, 3))\n",
      "plt.clf()\n",
      "plt.axes([.2, .2, .7, .7])\n",
      "plt.plot(pca.explained_variance_, linewidth=2)\n",
      "plt.axis('tight')\n",
      "plt.xlabel('n_components')\n",
      "plt.ylabel('explained_variance_')"
     ],
     "language": "python",
     "metadata": {},
     "outputs": [
      {
       "metadata": {},
       "output_type": "pyout",
       "prompt_number": 56,
       "text": [
        "<matplotlib.text.Text at 0xed315cc>"
       ]
      },
      {
       "metadata": {},
       "output_type": "display_data",
       "png": "[encoded data removed]",
       "text": [
        "<matplotlib.figure.Figure at 0xec4544c>"
       ]
      }
     ],
     "prompt_number": 56
    },
    {
     "cell_type": "code",
     "collapsed": false,
     "input": [
      "from sklearn.linear_model import LogisticRegression\n",
      "clf_lr = LogisticRegression(C=1).fit(X_train_new, y_train.ravel())\n",
      "print clf_lr\n",
      "clf_lr.score(X_test_new, y_test)"
     ],
     "language": "python",
     "metadata": {},
     "outputs": [
      {
       "output_type": "stream",
       "stream": "stdout",
       "text": [
        "LogisticRegression(C=1, class_weight=None, dual=False, fit_intercept=True,\n",
        "          intercept_scaling=1, penalty=l2, random_state=None, tol=0.0001)\n"
       ]
      },
      {
       "metadata": {},
       "output_type": "pyout",
       "prompt_number": 58,
       "text": [
        "0.041883767535070143"
       ]
      }
     ],
     "prompt_number": 58
    },
    {
     "cell_type": "code",
     "collapsed": false,
     "input": [
      "import numpy as np\n",
      "\n",
      "from time import time\n",
      "from operator import itemgetter\n",
      "from scipy.stats import randint as sp_randint\n",
      "\n",
      "from sklearn.grid_search import GridSearchCV, RandomizedSearchCV\n",
      "from sklearn.datasets import load_digits\n",
      "from sklearn.ensemble import RandomForestClassifier\n",
      "\n",
      "\n",
      "# build a classifier\n",
      "#clf = RandomForestClassifier(n_estimators=20)\n",
      "clf = ExtraTreesClassifier(n_estimators=200)\n",
      "\n",
      "# Utility function to report best scores\n",
      "def report(grid_scores, n_top=3):\n",
      "    top_scores = sorted(grid_scores, key=itemgetter(1), reverse=True)[:n_top]\n",
      "    for i, score in enumerate(top_scores):\n",
      "        print(\"Model with rank: {0}\".format(i + 1))\n",
      "        print(\"Mean validation score: {0:.3f} (std: {1:.3f})\".format(\n",
      "              score.mean_validation_score,\n",
      "              np.std(score.cv_validation_scores)))\n",
      "        print(\"Parameters: {0}\".format(score.parameters))\n",
      "        print(\"\")\n",
      "\n",
      "\n",
      "# specify parameters and distributions to sample from\n",
      "param_dist = {\"max_depth\": [3, None],\n",
      "              \"max_features\": sp_randint(1, 11),\n",
      "              \"min_samples_split\": sp_randint(1, 11),\n",
      "              \"min_samples_leaf\": sp_randint(1, 11),\n",
      "              \"bootstrap\": [True, False],\n",
      "              \"criterion\": [\"gini\", \"entropy\"]}\n",
      "\n",
      "# run randomized search\n",
      "n_iter_search = 20\n",
      "random_search = RandomizedSearchCV(clf, param_distributions=param_dist,\n",
      "                                   n_iter=n_iter_search)\n",
      "\n",
      "start = time()\n",
      "random_search.fit(X_train, y_train.ravel())\n",
      "print(\"RandomizedSearchCV took %.2f seconds for %d candidates\"\n",
      "      \" parameter settings.\" % ((time() - start), n_iter_search))\n",
      "report(random_search.grid_scores_)\n",
      "\n",
      "# use a full grid over all parameters\n",
      "param_grid = {\"max_depth\": [3, None],\n",
      "              \"max_features\": [1, 1, 10],\n",
      "              \"min_samples_split\": [1, 1, 10],\n",
      "              \"min_samples_leaf\": [1, 1, 10],\n",
      "              \"bootstrap\": [True, False],\n",
      "              \"criterion\": [\"gini\", \"entropy\"]}\n",
      "\n",
      "# run grid search\n",
      "grid_search = GridSearchCV(clf, param_grid=param_grid)\n",
      "start = time()\n",
      "grid_search.fit(X_train, y_train.ravel())\n",
      "\n",
      "print(\"GridSearchCV took %.2f seconds for %d candidate parameter settings.\"\n",
      "      % (time() - start, len(grid_search.grid_scores_)))\n",
      "report(grid_search.grid_scores_)"
     ],
     "language": "python",
     "metadata": {},
     "outputs": [
      {
       "output_type": "stream",
       "stream": "stdout",
       "text": [
        "RandomizedSearchCV took 150.08 seconds for 20 candidates parameter settings.\n",
        "Model with rank: 1\n",
        "Mean validation score: 0.850 (std: 0.000)\n",
        "Parameters: {'bootstrap': False, 'min_samples_leaf': 1, 'min_samples_split': 6, 'criterion': 'gini', 'max_features': 4, 'max_depth': None}\n",
        "\n",
        "Model with rank: 2\n",
        "Mean validation score: 0.850 (std: 0.003)\n",
        "Parameters: {'bootstrap': False, 'min_samples_leaf': 3, 'min_samples_split': 7, 'criterion': 'gini', 'max_features': 10, 'max_depth': None}\n",
        "\n",
        "Model with rank: 3\n",
        "Mean validation score: 0.848 (std: 0.002)\n",
        "Parameters: {'bootstrap': False, 'min_samples_leaf': 2, 'min_samples_split': 9, 'criterion': 'entropy', 'max_features': 5, 'max_depth': None}\n",
        "\n",
        "GridSearchCV took 1179.48 seconds for 216 candidate parameter settings."
       ]
      },
      {
       "output_type": "stream",
       "stream": "stdout",
       "text": [
        "\n",
        "Model with rank: 1\n",
        "Mean validation score: 0.867 (std: 0.001)\n",
        "Parameters: {'bootstrap': False, 'min_samples_leaf': 1, 'min_samples_split': 1, 'criterion': 'gini', 'max_features': 10, 'max_depth': None}\n",
        "\n",
        "Model with rank: 2\n",
        "Mean validation score: 0.867 (std: 0.005)\n",
        "Parameters: {'bootstrap': False, 'min_samples_leaf': 1, 'min_samples_split': 1, 'criterion': 'entropy', 'max_features': 10, 'max_depth': None}\n",
        "\n",
        "Model with rank: 3\n",
        "Mean validation score: 0.867 (std: 0.006)\n",
        "Parameters: {'bootstrap': False, 'min_samples_leaf': 1, 'min_samples_split': 1, 'criterion': 'gini', 'max_features': 10, 'max_depth': None}\n",
        "\n"
       ]
      }
     ],
     "prompt_number": 19
    },
    {
     "cell_type": "code",
     "collapsed": false,
     "input": [
      "df_train = pd.read_csv(\"/home/bakuda/ageekrepo/kaggle/forest-cover-type-prediction/train.csv\", dtype=np.int32 )\n",
      "X_given = df_train.values[:, :55]\n",
      "y_given = df_train.values[:, [55]]\n",
      "\n",
      "df_pred = pd.read_csv(\"/home/bakuda/ageekrepo/kaggle/forest-cover-type-prediction/test.csv\", dtype=np.int32 )\n",
      "X_pred = df_pred.values[:, :55]\n",
      "\n",
      "from sklearn.ensemble import ExtraTreesClassifier\n",
      "clf_ext = ExtraTreesClassifier(n_estimators=100, max_features=5, verbose=1)\n",
      "clf_ext.fit(X_given, y_given.ravel())\n",
      "y_pred = clf_ext.predict(X_pred)\n",
      "print y_pred.shape"
     ],
     "language": "python",
     "metadata": {},
     "outputs": [
      {
       "output_type": "stream",
       "stream": "stderr",
       "text": [
        "/usr/local/lib/python2.7/dist-packages/scikit_learn-0.14.1-py2.7-linux-i686.egg/sklearn/ensemble/forest.py:1064: DeprecationWarning: Setting compute_importances is no longer required as version 0.14. Variable importances are now computed on the fly when accessing the feature_importances_ attribute. This parameter will be removed in 0.16.\n",
        "  DeprecationWarning)\n",
        "[Parallel(n_jobs=1)]: Done   1 jobs       | elapsed:    4.9s\n"
       ]
      },
      {
       "output_type": "stream",
       "stream": "stderr",
       "text": [
        "[Parallel(n_jobs=1)]: Done   1 out of   1 | elapsed:    4.9s finished\n",
        "[Parallel(n_jobs=1)]: Done   1 jobs       | elapsed:   13.7s\n"
       ]
      },
      {
       "output_type": "stream",
       "stream": "stdout",
       "text": [
        "(565892,)\n"
       ]
      },
      {
       "output_type": "stream",
       "stream": "stderr",
       "text": [
        "[Parallel(n_jobs=1)]: Done   1 out of   1 | elapsed:   13.7s finished\n"
       ]
      }
     ],
     "prompt_number": 6
    },
    {
     "cell_type": "code",
     "collapsed": false,
     "input": [
      "print clf_ext"
     ],
     "language": "python",
     "metadata": {},
     "outputs": [
      {
       "output_type": "stream",
       "stream": "stdout",
       "text": [
        "ExtraTreesClassifier(bootstrap=False, compute_importances=None,\n",
        "           criterion=gini, max_depth=None, max_features=auto,\n",
        "           min_density=None, min_samples_leaf=1, min_samples_split=2,\n",
        "           n_estimators=100, n_jobs=1, oob_score=False, random_state=None,\n",
        "           verbose=0)\n"
       ]
      }
     ],
     "prompt_number": 5
    },
    {
     "cell_type": "code",
     "collapsed": false,
     "input": [
      "print X_pred.shape"
     ],
     "language": "python",
     "metadata": {},
     "outputs": [
      {
       "output_type": "stream",
       "stream": "stdout",
       "text": [
        "(565892, 55)\n"
       ]
      }
     ],
     "prompt_number": 16
    },
    {
     "cell_type": "code",
     "collapsed": false,
     "input": [
      "print X_given.shape"
     ],
     "language": "python",
     "metadata": {},
     "outputs": [
      {
       "output_type": "stream",
       "stream": "stdout",
       "text": [
        "(15120, 55)\n"
       ]
      }
     ],
     "prompt_number": 17
    },
    {
     "cell_type": "code",
     "collapsed": false,
     "input": [
      "print y_pred[444:450]"
     ],
     "language": "python",
     "metadata": {},
     "outputs": [
      {
       "output_type": "stream",
       "stream": "stdout",
       "text": [
        "[2 2 5 5 5 5]\n"
       ]
      }
     ],
     "prompt_number": 4
    },
    {
     "cell_type": "code",
     "collapsed": false,
     "input": [
      "def save_results(predictions, filename):\n",
      "    \"\"\"Given a vector of predictions, save results in CSV format.\"\"\"\n",
      "    with open(filename, 'w') as f:\n",
      "        f.write(\"Id,Cover_Type\\n\")\n",
      "        i = 15120\n",
      "        for pred in predictions:\n",
      "            i += 1\n",
      "            f.write(\"%d,%s\\n\" % (i , pred))  \n",
      "    print \"Saved submissions to file: \" + filename"
     ],
     "language": "python",
     "metadata": {},
     "outputs": [],
     "prompt_number": 28
    },
    {
     "cell_type": "code",
     "collapsed": false,
     "input": [
      "subFile = \"/home/bakuda/ageekrepo/kaggle/forest-cover-type-prediction/submission_EXT.csv\"\n",
      "save_results(y_pred, subFile)"
     ],
     "language": "python",
     "metadata": {},
     "outputs": [
      {
       "output_type": "stream",
       "stream": "stdout",
       "text": [
        "Saved submissions to file: /home/bakuda/ageekrepo/kaggle/forest-cover-type-prediction/submission_EXT.csv\n"
       ]
      }
     ],
     "prompt_number": 28
    },
    {
     "cell_type": "code",
     "collapsed": false,
     "input": [
      "df_train = pd.read_csv(\"/home/bakuda/ageekrepo/kaggle/forest-cover-type-prediction/train.csv\", dtype=np.int32 )\n",
      "X_given = df_train.values[:, :55]\n",
      "y_given = df_train.values[:, [55]]\n",
      "\n",
      "df_pred = pd.read_csv(\"/home/bakuda/ageekrepo/kaggle/forest-cover-type-prediction/test.csv\", dtype=np.int32 )\n",
      "X_pred = df_pred.values[:, :55]\n",
      "from sklearn.ensemble import ExtraTreesClassifier\n",
      "clf_ext_tuned = ExtraTreesClassifier(criterion='gini', max_features=9, n_estimators=300, random_state=9)\n",
      "print clf_ext_tuned"
     ],
     "language": "python",
     "metadata": {},
     "outputs": [
      {
       "output_type": "stream",
       "stream": "stdout",
       "text": [
        "ExtraTreesClassifier(bootstrap=False, compute_importances=None,\n",
        "           criterion=gini, max_depth=None, max_features=9,\n",
        "           min_density=None, min_samples_leaf=1, min_samples_split=2,\n",
        "           n_estimators=300, n_jobs=1, oob_score=False, random_state=9,\n",
        "           verbose=0)\n"
       ]
      }
     ],
     "prompt_number": 39
    },
    {
     "cell_type": "code",
     "collapsed": false,
     "input": [
      "clf_ext_tuned.fit(X_given, y_given.ravel())\n",
      "y_pred = clf_ext_tuned.predict(X_pred)\n",
      "\n",
      "subFile = \"/home/bakuda/ageekrepo/kaggle/forest-cover-type-prediction/submission_EXT_tuned_5.csv\"\n",
      "save_results(y_pred, subFile)"
     ],
     "language": "python",
     "metadata": {},
     "outputs": [
      {
       "output_type": "stream",
       "stream": "stdout",
       "text": [
        "Saved submissions to file: /home/bakuda/ageekrepo/kaggle/forest-cover-type-prediction/submission_EXT_tuned_5.csv\n"
       ]
      }
     ],
     "prompt_number": 40
    },
    {
     "cell_type": "code",
     "collapsed": false,
     "input": [],
     "language": "python",
     "metadata": {},
     "outputs": []
    }
   ],
   "metadata": {}
  }
 ]
}