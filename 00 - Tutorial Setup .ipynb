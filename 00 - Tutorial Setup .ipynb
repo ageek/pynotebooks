{
 "metadata": {
  "name": "00 - Tutorial Setup "
 },
 "nbformat": 3,
 "nbformat_minor": 0,
 "worksheets": [
  {
   "cells": [
    {
     "cell_type": "heading",
     "level": 2,
     "metadata": {},
     "source": [
      "Tutorial Setup"
     ]
    },
    {
     "cell_type": "heading",
     "level": 3,
     "metadata": {},
     "source": [
      "Check your install"
     ]
    },
    {
     "cell_type": "code",
     "collapsed": false,
     "input": [
      "import numpy"
     ],
     "language": "python",
     "metadata": {},
     "outputs": [],
     "prompt_number": 1
    },
    {
     "cell_type": "code",
     "collapsed": false,
     "input": [
      "import scipy"
     ],
     "language": "python",
     "metadata": {},
     "outputs": [],
     "prompt_number": 2
    },
    {
     "cell_type": "code",
     "collapsed": false,
     "input": [
      "import pylab"
     ],
     "language": "python",
     "metadata": {},
     "outputs": [],
     "prompt_number": 3
    },
    {
     "cell_type": "code",
     "collapsed": false,
     "input": [
      "import sklearn"
     ],
     "language": "python",
     "metadata": {},
     "outputs": [],
     "prompt_number": 4
    },
    {
     "cell_type": "code",
     "collapsed": false,
     "input": [
      "import psutil"
     ],
     "language": "python",
     "metadata": {},
     "outputs": [
      {
       "ename": "ImportError",
       "evalue": "No module named psutil",
       "output_type": "pyerr",
       "traceback": [
        "\u001b[0;31m---------------------------------------------------------------------------\u001b[0m\n\u001b[0;31mImportError\u001b[0m                               Traceback (most recent call last)",
        "\u001b[0;32m<ipython-input-5-6a8fd40a91a2>\u001b[0m in \u001b[0;36m<module>\u001b[0;34m()\u001b[0m\n\u001b[0;32m----> 1\u001b[0;31m \u001b[0;32mimport\u001b[0m \u001b[0mpsutil\u001b[0m\u001b[0;34m\u001b[0m\u001b[0m\n\u001b[0m",
        "\u001b[0;31mImportError\u001b[0m: No module named psutil"
       ]
      }
     ],
     "prompt_number": 5
    },
    {
     "cell_type": "code",
     "collapsed": false,
     "input": [
      "import IPython.parallel"
     ],
     "language": "python",
     "metadata": {},
     "outputs": [],
     "prompt_number": 6
    },
    {
     "cell_type": "heading",
     "level": 3,
     "metadata": {},
     "source": [
      "Check that you have the datasets"
     ]
    },
    {
     "cell_type": "code",
     "collapsed": false,
     "input": [
      "%run ../fetch_data.py"
     ],
     "language": "python",
     "metadata": {},
     "outputs": [
      {
       "output_type": "stream",
       "stream": "stdout",
       "text": [
        "Creating datasets folder: /Users/antigen/Downloads/parallel_ml_tutorial/datasets\n",
        "Checking availability of the 20 newsgroups dataset\n",
        "Downloading dataset from http://people.csail.mit.edu/jrennie/20Newsgroups/20news-bydate.tar.gz (14 MB)\n",
        "Decompressing /Users/antigen/Downloads/parallel_ml_tutorial/datasets/20news-bydate.tar.gz"
       ]
      },
      {
       "output_type": "stream",
       "stream": "stdout",
       "text": [
        "\n",
        "Checking that the 20 newsgroups files exist..."
       ]
      },
      {
       "output_type": "stream",
       "stream": "stdout",
       "text": [
        "\n",
        "=> Success!\n",
        "Checking availability of the sentiment 140 dataset\n",
        "Downloading dataset from http://cs.stanford.edu/people/alecmgo/trainingandtestdata.zip (77MB)\n",
        "Extracting /Users/antigen/Downloads/parallel_ml_tutorial/datasets/trainingandtestdata.zip to /Users/antigen/Downloads/parallel_ml_tutorial/datasets/sentiment140"
       ]
      },
      {
       "output_type": "stream",
       "stream": "stdout",
       "text": [
        "\n",
        "Checking that the sentiment 140 CSV files exist..."
       ]
      },
      {
       "output_type": "stream",
       "stream": "stdout",
       "text": [
        "\n",
        "=> Success!\n"
       ]
      }
     ],
     "prompt_number": 7
    },
    {
     "cell_type": "code",
     "collapsed": false,
     "input": [
      "!ls -lh ../datasets/"
     ],
     "language": "python",
     "metadata": {},
     "outputs": [
      {
       "output_type": "stream",
       "stream": "stdout",
       "text": [
        "total 187176\r\n",
        "drwxr-xr-x  22 antigen  staff   748B 18 Mar  2003 \u001b[34m20news-bydate-test\u001b[m\u001b[m\r\n",
        "drwxr-xr-x  22 antigen  staff   748B 18 Mar  2003 \u001b[34m20news-bydate-train\u001b[m\u001b[m\r\n",
        "-rw-r--r--   1 antigen  staff    14M  1 Apr 22:28 20news-bydate.tar.gz\r\n",
        "drwxr-xr-x   4 antigen  staff   136B  1 Apr 22:30 \u001b[34msentiment140\u001b[m\u001b[m\r\n",
        "-rw-r--r--   1 antigen  staff    78M  1 Apr 22:30 trainingandtestdata.zip\r\n"
       ]
      }
     ],
     "prompt_number": 9
    },
    {
     "cell_type": "heading",
     "level": 2,
     "metadata": {},
     "source": [
      "Tutorial Survey"
     ]
    },
    {
     "cell_type": "markdown",
     "metadata": {},
     "source": [
      "Please feel in the following survery at the end of the session: https://www.surveymonkey.com/s/pycon2013_tutorials"
     ]
    }
   ],
   "metadata": {}
  }
 ]
}