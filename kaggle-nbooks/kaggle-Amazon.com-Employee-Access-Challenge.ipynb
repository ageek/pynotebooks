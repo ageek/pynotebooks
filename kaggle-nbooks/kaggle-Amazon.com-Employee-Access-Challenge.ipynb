{
 "metadata": {
  "name": ""
 },
 "nbformat": 3,
 "nbformat_minor": 0,
 "worksheets": [
  {
   "cells": [
    {
     "cell_type": "code",
     "collapsed": false,
     "input": [
      "#https://www.kaggle.com/c/amazon-employee-access-challenge/forums/t/4797/starter-code-in-python-with-scikit-learn-auc-885?limit=all\n",
      "#Vowpal Wabbit code: \n",
      "#http://www.kaggle.com/c/amazon-employee-access-challenge/forums/t/4735/beating-the-benchmark?page=2"
     ],
     "language": "python",
     "metadata": {},
     "outputs": [],
     "prompt_number": 1
    },
    {
     "cell_type": "code",
     "collapsed": false,
     "input": [
      "from __future__ import division\n",
      "\n",
      "import numpy as np\n",
      "from sklearn import (metrics, cross_validation, linear_model, preprocessing, ensemble)\n",
      "\n",
      "SEED = 42  # always use a seed for randomized procedures\n",
      "\n",
      "\n",
      "def load_data(filename, use_labels=True):\n",
      "    \"\"\"\n",
      "    Load data from CSV files and return them as numpy arrays\n",
      "    The use_labels parameter indicates whether one should\n",
      "    read the first column (containing class labels). If false,\n",
      "    return all 0s. \n",
      "    \"\"\"\n",
      "\n",
      "    # load column 1 to 8 (ignore last one)\n",
      "    data = np.loadtxt(open(\"data/\" + filename), delimiter=',',\n",
      "                      usecols=range(1, 9), skiprows=1)\n",
      "    if use_labels:\n",
      "        labels = np.loadtxt(open(\"data/\" + filename), delimiter=',',\n",
      "                            usecols=[0], skiprows=1)\n",
      "    else:\n",
      "        labels = np.zeros(data.shape[0])\n",
      "    return labels, data\n",
      "\n",
      "\n",
      "def save_results(predictions, filename):\n",
      "    \"\"\"Given a vector of predictions, save results in CSV format.\"\"\"\n",
      "    with open(filename, 'w') as f:\n",
      "        f.write(\"id,ACTION\\n\")\n",
      "        for i, pred in enumerate(predictions):\n",
      "            f.write(\"%d,%f\\n\" % (i + 1, pred))"
     ],
     "language": "python",
     "metadata": {},
     "outputs": [],
     "prompt_number": 1
    },
    {
     "cell_type": "code",
     "collapsed": false,
     "input": [
      "cd \"/home/bakuda/ageekrepo/kaggle/amazon-access-challenge/sklearn/\""
     ],
     "language": "python",
     "metadata": {},
     "outputs": [
      {
       "output_type": "stream",
       "stream": "stdout",
       "text": [
        "/home/bakuda/oldUbunuHome/bakuda/sandbox/ageekrepo/kaggle/amazon-access-challenge/sklearn\n"
       ]
      }
     ],
     "prompt_number": 2
    },
    {
     "cell_type": "code",
     "collapsed": false,
     "input": [
      "!ls"
     ],
     "language": "python",
     "metadata": {},
     "outputs": [
      {
       "output_type": "stream",
       "stream": "stdout",
       "text": [
        "classifier_corrected.py  Starter code in python with scikit-learn (AUC .885) - Amazon.pdf\r\n",
        "classifier.py\t\t submitAEAC2014.csv\r\n",
        "data\r\n"
       ]
      }
     ],
     "prompt_number": 3
    },
    {
     "cell_type": "code",
     "collapsed": false,
     "input": [
      "    model = linear_model.LogisticRegression(C=2)  # the classifier we'll use\n",
      "    \n",
      "    #model = ensemble.RandomForestClassifier()   # RandomForest wont accept sparse matrix\n",
      "\n",
      "    # === load data in memory === #\n",
      "    print \"loading data\"\n",
      "    y, X = load_data('train.csv')\n",
      "    y_test, X_test = load_data('test.csv', use_labels=False)\n",
      "\n",
      "    # === one-hot encoding === #\n",
      "    # we want to encode the category IDs encountered both in\n",
      "    # the training and the test set, so we fit the encoder on both\n",
      "    encoder = preprocessing.OneHotEncoder()\n",
      "    encoder.fit(np.vstack((X, X_test)))\n",
      "    \n",
      "    X = encoder.transform(X)  # Returns a sparse matrix (see numpy.sparse)\n",
      "    X_test = encoder.transform(X_test)\n"
     ],
     "language": "python",
     "metadata": {},
     "outputs": [
      {
       "output_type": "stream",
       "stream": "stdout",
       "text": [
        "loading data\n"
       ]
      }
     ],
     "prompt_number": 6
    },
    {
     "cell_type": "code",
     "collapsed": false,
     "input": [
      "X.shape, y.shape, X_test.shape"
     ],
     "language": "python",
     "metadata": {},
     "outputs": [
      {
       "metadata": {},
       "output_type": "pyout",
       "prompt_number": 36,
       "text": [
        "((32769, 16600), (32769,), (58921, 16600))"
       ]
      }
     ],
     "prompt_number": 36
    },
    {
     "cell_type": "code",
     "collapsed": false,
     "input": [
      "    # === training & metrics === #\n",
      "    mean_auc = 0.0\n",
      "    n = 10  # repeat the CV procedure 10 times to get more precise results\n",
      "    for i in range(n):\n",
      "        # for each iteration, randomly hold out 20% of the data as CV set\n",
      "        X_train, X_cv, y_train, y_cv = cross_validation.train_test_split(\n",
      "            X, y, test_size=.20, random_state=i*SEED)\n",
      "\n",
      "        # if you want to perform feature selection / hyperparameter\n",
      "        # optimization, this is where you want to do it\n",
      "\n",
      "        # train model and make predictions\n",
      "        model.fit(X_train, y_train) \n",
      "        preds = model.predict_proba(X_cv)[:, 1]\n",
      "\n",
      "        # compute AUC metric for this CV fold\n",
      "        fpr, tpr, thresholds = metrics.roc_curve(y_cv, preds)\n",
      "        roc_auc = metrics.auc(fpr, tpr)\n",
      "        print \"AUC (fold %d/%d): %f\" % (i + 1, n, roc_auc)\n",
      "        mean_auc += roc_auc\n",
      "\n",
      "    print \"Mean AUC: %f\" % (mean_auc/n)\n"
     ],
     "language": "python",
     "metadata": {},
     "outputs": [
      {
       "output_type": "stream",
       "stream": "stdout",
       "text": [
        "AUC (fold 1/10): 0.864114\n",
        "AUC (fold 2/10): 0.872416"
       ]
      },
      {
       "output_type": "stream",
       "stream": "stdout",
       "text": [
        "\n",
        "AUC (fold 3/10): 0.875735"
       ]
      },
      {
       "output_type": "stream",
       "stream": "stdout",
       "text": [
        "\n",
        "AUC (fold 4/10): 0.880353"
       ]
      },
      {
       "output_type": "stream",
       "stream": "stdout",
       "text": [
        "\n",
        "AUC (fold 5/10): 0.850458"
       ]
      },
      {
       "output_type": "stream",
       "stream": "stdout",
       "text": [
        "\n",
        "AUC (fold 6/10): 0.876558"
       ]
      },
      {
       "output_type": "stream",
       "stream": "stdout",
       "text": [
        "\n",
        "AUC (fold 7/10): 0.852691"
       ]
      },
      {
       "output_type": "stream",
       "stream": "stdout",
       "text": [
        "\n",
        "AUC (fold 8/10): 0.861178"
       ]
      },
      {
       "output_type": "stream",
       "stream": "stdout",
       "text": [
        "\n",
        "AUC (fold 9/10): 0.862445"
       ]
      },
      {
       "output_type": "stream",
       "stream": "stdout",
       "text": [
        "\n",
        "AUC (fold 10/10): 0.872142"
       ]
      },
      {
       "output_type": "stream",
       "stream": "stdout",
       "text": [
        "\n",
        "Mean AUC: 0.866809\n"
       ]
      }
     ],
     "prompt_number": 7
    },
    {
     "cell_type": "code",
     "collapsed": false,
     "input": [
      "    # When making predictions, retrain the model on the whole training set\n",
      "    model.fit(X, y)\n",
      "    preds = model.predict_proba(X_test)[:, 1]\n",
      "    filename = raw_input(\"Enter name for submission file: \")\n",
      "    save_results(preds, filename + \".csv\")"
     ],
     "language": "python",
     "metadata": {},
     "outputs": [
      {
       "name": "stdout",
       "output_type": "stream",
       "stream": "stdout",
       "text": [
        "Enter name for submission file: submitAEAC2014\n"
       ]
      }
     ],
     "prompt_number": 21
    },
    {
     "cell_type": "code",
     "collapsed": false,
     "input": [],
     "language": "python",
     "metadata": {},
     "outputs": []
    }
   ],
   "metadata": {}
  }
 ]
}