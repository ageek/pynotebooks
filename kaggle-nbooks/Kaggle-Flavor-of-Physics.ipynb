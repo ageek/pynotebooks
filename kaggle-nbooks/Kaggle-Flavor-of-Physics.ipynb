{
 "metadata": {
  "name": ""
 },
 "nbformat": 3,
 "nbformat_minor": 0,
 "worksheets": [
  {
   "cells": [
    {
     "cell_type": "code",
     "collapsed": false,
     "input": [
      "#https://github.com/yandexdataschool/flavours-of-physics-start/blob/master/flatness_boosting.ipynb\n",
      "\n",
      "import pandas\n",
      "import evaluation\n",
      "import hep_ml.ugradientBoosting"
     ],
     "language": "python",
     "metadata": {},
     "outputs": [
      {
       "ename": "ImportError",
       "evalue": "No module named evaluation",
       "output_type": "pyerr",
       "traceback": [
        "\u001b[1;31m---------------------------------------------------------------------------\u001b[0m\n\u001b[1;31mImportError\u001b[0m                               Traceback (most recent call last)",
        "\u001b[1;32m<ipython-input-4-60124f44e744>\u001b[0m in \u001b[0;36m<module>\u001b[1;34m()\u001b[0m\n\u001b[0;32m      2\u001b[0m \u001b[1;33m\u001b[0m\u001b[0m\n\u001b[0;32m      3\u001b[0m \u001b[1;32mimport\u001b[0m \u001b[0mpandas\u001b[0m\u001b[1;33m\u001b[0m\u001b[0m\n\u001b[1;32m----> 4\u001b[1;33m \u001b[1;32mimport\u001b[0m \u001b[0mevaluation\u001b[0m\u001b[1;33m\u001b[0m\u001b[0m\n\u001b[0m\u001b[0;32m      5\u001b[0m \u001b[1;32mimport\u001b[0m \u001b[0mhep_ml\u001b[0m\u001b[1;33m.\u001b[0m\u001b[0mugradientBoosting\u001b[0m\u001b[1;33m\u001b[0m\u001b[0m\n",
        "\u001b[1;31mImportError\u001b[0m: No module named evaluation"
       ]
      }
     ],
     "prompt_number": 4
    },
    {
     "cell_type": "code",
     "collapsed": false,
     "input": [
      "#https://www.kaggle.com/benhamner/flavours-of-physics/rf-xgboost-example/code\n",
      "'''\n",
      "import numpy as np\n",
      "import pandas as pd\n",
      "from sklearn.ensemble import RandomForestClassifier\n",
      "import xgboost as xgb\n",
      "\n",
      "print(\"Load the training/test data using pandas\")\n",
      "train = pd.read_csv(\"../input/training.csv\")\n",
      "test  = pd.read_csv(\"../input/test.csv\")\n",
      "\n",
      "print(\"Eliminate SPDhits, which makes the agreement check fail\")\n",
      "features = list(train.columns[1:-5])\n",
      "\n",
      "print(\"Train a Random Forest model\")\n",
      "rf = RandomForestClassifier(n_estimators=100, random_state=1)\n",
      "rf.fit(train[features], train[\"signal\"])\n",
      "\n",
      "print(\"Train a XGBoost model\")\n",
      "params = {\"objective\": \"binary:logistic\",\n",
      "          \"eta\": 0.3,\n",
      "          \"max_depth\": 5,\n",
      "          \"min_child_weight\": 3,\n",
      "          \"silent\": 1,\n",
      "          \"subsample\": 0.7,\n",
      "          \"colsample_bytree\": 0.7,\n",
      "          \"seed\": 1}\n",
      "num_trees=250\n",
      "gbm = xgb.train(params, xgb.DMatrix(train[features], train[\"signal\"]), num_trees)\n",
      "\n",
      "print(\"Make predictions on the test set\")\n",
      "test_probs = (rf.predict_proba(test[features])[:,1] +\n",
      "              gbm.predict(xgb.DMatrix(test[features])))/2\n",
      "submission = pd.DataFrame({\"id\": test[\"id\"], \"prediction\": test_probs})\n",
      "submission.to_csv(\"rf_xgboost_submission.csv\", index=False)\n",
      "                \n",
      "'''"
     ],
     "language": "python",
     "metadata": {},
     "outputs": [
      {
       "metadata": {},
       "output_type": "pyout",
       "prompt_number": 1,
       "text": [
        "'\\nimport numpy as np\\nimport pandas as pd\\nfrom sklearn.ensemble import RandomForestClassifier\\nimport xgboost as xgb\\n\\nprint(\"Load the training/test data using pandas\")\\ntrain = pd.read_csv(\"../input/training.csv\")\\ntest  = pd.read_csv(\"../input/test.csv\")\\n\\nprint(\"Eliminate SPDhits, which makes the agreement check fail\")\\nfeatures = list(train.columns[1:-5])\\n\\nprint(\"Train a Random Forest model\")\\nrf = RandomForestClassifier(n_estimators=100, random_state=1)\\nrf.fit(train[features], train[\"signal\"])\\n\\nprint(\"Train a XGBoost model\")\\nparams = {\"objective\": \"binary:logistic\",\\n          \"eta\": 0.3,\\n          \"max_depth\": 5,\\n          \"min_child_weight\": 3,\\n          \"silent\": 1,\\n          \"subsample\": 0.7,\\n          \"colsample_bytree\": 0.7,\\n          \"seed\": 1}\\nnum_trees=250\\ngbm = xgb.train(params, xgb.DMatrix(train[features], train[\"signal\"]), num_trees)\\n\\nprint(\"Make predictions on the test set\")\\ntest_probs = (rf.predict_proba(test[features])[:,1] +\\n              gbm.predict(xgb.DMatrix(test[features])))/2\\nsubmission = pd.DataFrame({\"id\": test[\"id\"], \"prediction\": test_probs})\\nsubmission.to_csv(\"rf_xgboost_submission.csv\", index=False)\\n                \\n'"
       ]
      }
     ],
     "prompt_number": 1
    },
    {
     "cell_type": "code",
     "collapsed": false,
     "input": [
      "import numpy as np\n",
      "import pandas as pd\n",
      "from hep_ml.losses import BinFlatnessLossFunction\n",
      "from hep_ml.gradientboosting import UGradientBoostingClassifier\n"
     ],
     "language": "python",
     "metadata": {},
     "outputs": [],
     "prompt_number": 1
    },
    {
     "cell_type": "code",
     "collapsed": false,
     "input": [
      "# https://www.kaggle.com/benhamner/flavours-of-physics/flatness-boosting-example/files\n",
      "print(\"Load the training/test data using pandas\")\n",
      "folder = \"/home/bakuda/ageekrepo/kaggle/flavor-of-physics\"\n",
      "train = pd.read_csv(folder + \"/training.csv\")\n",
      "test  = pd.read_csv(folder + \"/test.csv\")\n",
      "\n",
      "print(\"Eliminate SPDhits, which makes the agreement check fail\")\n",
      "features = list(train.columns[1:-5])\n",
      "\n",
      "print(\"Train a UGradientBoostingClassifier\")\n",
      "loss = BinFlatnessLossFunction(['mass'], n_bins=15, uniform_label=0)\n",
      "clf = UGradientBoostingClassifier(loss=loss, n_estimators=40, subsample=0.1, \n",
      "                                  max_depth=7, min_samples_leaf=10,\n",
      "                                  learning_rate=0.1, train_features=features, random_state=11)\n",
      "clf.fit(train[features + ['mass']], train['signal'])"
     ],
     "language": "python",
     "metadata": {},
     "outputs": [
      {
       "output_type": "stream",
       "stream": "stdout",
       "text": [
        "Load the training/test data using pandas\n",
        "Eliminate SPDhits, which makes the agreement check fail"
       ]
      },
      {
       "output_type": "stream",
       "stream": "stdout",
       "text": [
        "\n",
        "Train a UGradientBoostingClassifier\n"
       ]
      },
      {
       "metadata": {},
       "output_type": "pyout",
       "prompt_number": 2,
       "text": [
        "UGradientBoostingClassifier(learning_rate=0.1,\n",
        "              loss=BinFlatnessLossFunction(allow_wrong_signs=True, fl_coefficient=3.0, n_bins=15,\n",
        "            power=2.0, uniform_features=['mass'], uniform_label=array([0])),\n",
        "              max_depth=7, max_features=None, max_leaf_nodes=None,\n",
        "              min_samples_leaf=10, min_samples_split=2, n_estimators=40,\n",
        "              random_state=<mtrand.RandomState object at 0xb7aa86c>,\n",
        "              splitter='best', subsample=0.1,\n",
        "              train_features=['LifeTime', 'dira', 'FlightDistance', 'FlightDistanceError', 'IP', 'IPSig', 'VertexChi2', 'pt', 'DOCAone', 'DOCAtwo', 'DOCAthree', 'IP_p0p2', 'IP_p1p2', 'isolationa', 'isolationb', 'isolationc', 'isolationd', 'isolatione', 'isolationf', 'iso', 'CDF1', 'CDF2', 'CDF3', 'ISO_SumBDT', 'p...IPSig', 'p2_IPSig', 'p0_pt', 'p1_pt', 'p2_pt', 'p0_p', 'p1_p', 'p2_p', 'p0_eta', 'p1_eta', 'p2_eta'],\n",
        "              update_tree=True)"
       ]
      }
     ],
     "prompt_number": 2
    },
    {
     "cell_type": "code",
     "collapsed": false,
     "input": [
      "print(\"Make predictions on the test set\")\n",
      "test_probs = clf.predict_proba(test[features])[:,1]\n",
      "submission = pd.DataFrame({\"id\": test[\"id\"], \"prediction\": test_probs})\n",
      "submission.to_csv(\"flatness_boosting_submission.csv\", index=False)\n"
     ],
     "language": "python",
     "metadata": {},
     "outputs": [
      {
       "output_type": "stream",
       "stream": "stdout",
       "text": [
        "Make predictions on the test set\n"
       ]
      }
     ],
     "prompt_number": 3
    },
    {
     "cell_type": "code",
     "collapsed": false,
     "input": [],
     "language": "python",
     "metadata": {},
     "outputs": []
    }
   ],
   "metadata": {}
  }
 ]
}