{
 "metadata": {
  "name": ""
 },
 "nbformat": 3,
 "nbformat_minor": 0,
 "worksheets": [
  {
   "cells": [
    {
     "cell_type": "code",
     "collapsed": false,
     "input": [
      "cd \"/home/bakuda/pandas-book/\""
     ],
     "language": "python",
     "metadata": {},
     "outputs": [
      {
       "output_type": "stream",
       "stream": "stdout",
       "text": [
        "/home/bakuda/pandas-book\n"
       ]
      }
     ],
     "prompt_number": 88
    },
    {
     "cell_type": "code",
     "collapsed": false,
     "input": [
      "path = 'ch02/usagov_bitly_data2012-03-16-1331923249.txt'"
     ],
     "language": "python",
     "metadata": {},
     "outputs": [],
     "prompt_number": 89
    },
    {
     "cell_type": "code",
     "collapsed": false,
     "input": [
      "open(path).readline()"
     ],
     "language": "python",
     "metadata": {},
     "outputs": [
      {
       "metadata": {},
       "output_type": "pyout",
       "prompt_number": 90,
       "text": [
        "'{ \"a\": \"Mozilla\\\\/5.0 (Windows NT 6.1; WOW64) AppleWebKit\\\\/535.11 (KHTML, like Gecko) Chrome\\\\/17.0.963.78 Safari\\\\/535.11\", \"c\": \"US\", \"nk\": 1, \"tz\": \"America\\\\/New_York\", \"gr\": \"MA\", \"g\": \"A6qOVH\", \"h\": \"wfLQtf\", \"l\": \"orofrog\", \"al\": \"en-US,en;q=0.8\", \"hh\": \"1.usa.gov\", \"r\": \"http:\\\\/\\\\/www.facebook.com\\\\/l\\\\/7AQEFzjSi\\\\/1.usa.gov\\\\/wfLQtf\", \"u\": \"http:\\\\/\\\\/www.ncbi.nlm.nih.gov\\\\/pubmed\\\\/22415991\", \"t\": 1331923247, \"hc\": 1331822918, \"cy\": \"Danvers\", \"ll\": [ 42.576698, -70.954903 ] }\\n'"
       ]
      }
     ],
     "prompt_number": 90
    },
    {
     "cell_type": "code",
     "collapsed": false,
     "input": [
      "import json\n",
      "records = [json.loads(line) for line in open(path)]"
     ],
     "language": "python",
     "metadata": {},
     "outputs": [],
     "prompt_number": 91
    },
    {
     "cell_type": "code",
     "collapsed": false,
     "input": [
      "records[:1]"
     ],
     "language": "python",
     "metadata": {},
     "outputs": [
      {
       "metadata": {},
       "output_type": "pyout",
       "prompt_number": 92,
       "text": [
        "[{u'a': u'Mozilla/5.0 (Windows NT 6.1; WOW64) AppleWebKit/535.11 (KHTML, like Gecko) Chrome/17.0.963.78 Safari/535.11',\n",
        "  u'al': u'en-US,en;q=0.8',\n",
        "  u'c': u'US',\n",
        "  u'cy': u'Danvers',\n",
        "  u'g': u'A6qOVH',\n",
        "  u'gr': u'MA',\n",
        "  u'h': u'wfLQtf',\n",
        "  u'hc': 1331822918,\n",
        "  u'hh': u'1.usa.gov',\n",
        "  u'l': u'orofrog',\n",
        "  u'll': [42.576698, -70.954903],\n",
        "  u'nk': 1,\n",
        "  u'r': u'http://www.facebook.com/l/7AQEFzjSi/1.usa.gov/wfLQtf',\n",
        "  u't': 1331923247,\n",
        "  u'tz': u'America/New_York',\n",
        "  u'u': u'http://www.ncbi.nlm.nih.gov/pubmed/22415991'}]"
       ]
      }
     ],
     "prompt_number": 92
    },
    {
     "cell_type": "code",
     "collapsed": false,
     "input": [
      "records[0]['tz']"
     ],
     "language": "python",
     "metadata": {},
     "outputs": [
      {
       "metadata": {},
       "output_type": "pyout",
       "prompt_number": 14,
       "text": [
        "u'America/New_York'"
       ]
      }
     ],
     "prompt_number": 14
    },
    {
     "cell_type": "code",
     "collapsed": false,
     "input": [
      "tzs = [rec['tz'] for rec in records if 'tz' in rec]\n"
     ],
     "language": "python",
     "metadata": {},
     "outputs": [],
     "prompt_number": 16
    },
    {
     "cell_type": "code",
     "collapsed": false,
     "input": [
      "tzs[:5]"
     ],
     "language": "python",
     "metadata": {},
     "outputs": [
      {
       "metadata": {},
       "output_type": "pyout",
       "prompt_number": 18,
       "text": [
        "[u'America/New_York',\n",
        " u'America/Denver',\n",
        " u'America/New_York',\n",
        " u'America/Sao_Paulo',\n",
        " u'America/New_York']"
       ]
      }
     ],
     "prompt_number": 18
    },
    {
     "cell_type": "code",
     "collapsed": false,
     "input": [
      "type(tzs)"
     ],
     "language": "python",
     "metadata": {},
     "outputs": [
      {
       "metadata": {},
       "output_type": "pyout",
       "prompt_number": 19,
       "text": [
        "list"
       ]
      }
     ],
     "prompt_number": 19
    },
    {
     "cell_type": "code",
     "collapsed": false,
     "input": [
      "len(tzs)"
     ],
     "language": "python",
     "metadata": {},
     "outputs": [
      {
       "metadata": {},
       "output_type": "pyout",
       "prompt_number": 20,
       "text": [
        "3440"
       ]
      }
     ],
     "prompt_number": 20
    },
    {
     "cell_type": "code",
     "collapsed": false,
     "input": [
      "len(set(tzs))"
     ],
     "language": "python",
     "metadata": {},
     "outputs": [
      {
       "metadata": {},
       "output_type": "pyout",
       "prompt_number": 21,
       "text": [
        "97"
       ]
      }
     ],
     "prompt_number": 21
    },
    {
     "cell_type": "code",
     "collapsed": false,
     "input": [
      "%rmagic"
     ],
     "language": "python",
     "metadata": {},
     "outputs": [
      {
       "output_type": "stream",
       "stream": "stderr",
       "text": [
        "ERROR: Line magic function `%rmagic` not found.\n"
       ]
      }
     ],
     "prompt_number": 22
    },
    {
     "cell_type": "code",
     "collapsed": false,
     "input": [
      "tzs[:10]"
     ],
     "language": "python",
     "metadata": {},
     "outputs": [
      {
       "metadata": {},
       "output_type": "pyout",
       "prompt_number": 23,
       "text": [
        "[u'America/New_York',\n",
        " u'America/Denver',\n",
        " u'America/New_York',\n",
        " u'America/Sao_Paulo',\n",
        " u'America/New_York',\n",
        " u'America/New_York',\n",
        " u'Europe/Warsaw',\n",
        " u'',\n",
        " u'',\n",
        " u'']"
       ]
      }
     ],
     "prompt_number": 23
    },
    {
     "cell_type": "code",
     "collapsed": false,
     "input": [
      "from collections import Counter"
     ],
     "language": "python",
     "metadata": {},
     "outputs": [],
     "prompt_number": 25
    },
    {
     "cell_type": "code",
     "collapsed": false,
     "input": [
      "counts = Counter(tzs)"
     ],
     "language": "python",
     "metadata": {},
     "outputs": [],
     "prompt_number": 26
    },
    {
     "cell_type": "code",
     "collapsed": false,
     "input": [
      "counts.most_common(10)"
     ],
     "language": "python",
     "metadata": {},
     "outputs": [
      {
       "metadata": {},
       "output_type": "pyout",
       "prompt_number": 28,
       "text": [
        "[(u'America/New_York', 1251),\n",
        " (u'', 521),\n",
        " (u'America/Chicago', 400),\n",
        " (u'America/Los_Angeles', 382),\n",
        " (u'America/Denver', 191),\n",
        " (u'Europe/London', 74),\n",
        " (u'Asia/Tokyo', 37),\n",
        " (u'Pacific/Honolulu', 36),\n",
        " (u'Europe/Madrid', 35),\n",
        " (u'America/Sao_Paulo', 33)]"
       ]
      }
     ],
     "prompt_number": 28
    },
    {
     "cell_type": "code",
     "collapsed": false,
     "input": [
      "import pandas as pd"
     ],
     "language": "python",
     "metadata": {},
     "outputs": [],
     "prompt_number": 93
    },
    {
     "cell_type": "code",
     "collapsed": false,
     "input": [
      "df = pd.DataFrame(records)"
     ],
     "language": "python",
     "metadata": {},
     "outputs": [],
     "prompt_number": 94
    },
    {
     "cell_type": "code",
     "collapsed": false,
     "input": [
      "df.shape"
     ],
     "language": "python",
     "metadata": {},
     "outputs": [
      {
       "metadata": {},
       "output_type": "pyout",
       "prompt_number": 95,
       "text": [
        "(3560, 18)"
       ]
      }
     ],
     "prompt_number": 95
    },
    {
     "cell_type": "code",
     "collapsed": false,
     "input": [
      "df['tz'][:10]"
     ],
     "language": "python",
     "metadata": {},
     "outputs": [
      {
       "metadata": {},
       "output_type": "pyout",
       "prompt_number": 96,
       "text": [
        "0     America/New_York\n",
        "1       America/Denver\n",
        "2     America/New_York\n",
        "3    America/Sao_Paulo\n",
        "4     America/New_York\n",
        "5     America/New_York\n",
        "6        Europe/Warsaw\n",
        "7                     \n",
        "8                     \n",
        "9                     \n",
        "Name: tz, dtype: object"
       ]
      }
     ],
     "prompt_number": 96
    },
    {
     "cell_type": "code",
     "collapsed": false,
     "input": [
      "tz_counts = df['tz'].value_counts()"
     ],
     "language": "python",
     "metadata": {},
     "outputs": [],
     "prompt_number": 35
    },
    {
     "cell_type": "code",
     "collapsed": false,
     "input": [
      "tz_counts[:10]"
     ],
     "language": "python",
     "metadata": {},
     "outputs": [
      {
       "metadata": {},
       "output_type": "pyout",
       "prompt_number": 36,
       "text": [
        "America/New_York       1251\n",
        "                        521\n",
        "America/Chicago         400\n",
        "America/Los_Angeles     382\n",
        "America/Denver          191\n",
        "Europe/London            74\n",
        "Asia/Tokyo               37\n",
        "Pacific/Honolulu         36\n",
        "Europe/Madrid            35\n",
        "America/Sao_Paulo        33\n",
        "dtype: int64"
       ]
      }
     ],
     "prompt_number": 36
    },
    {
     "cell_type": "code",
     "collapsed": false,
     "input": [
      "clean_tz = df['tz'].fillna('Missing')"
     ],
     "language": "python",
     "metadata": {},
     "outputs": [],
     "prompt_number": 37
    },
    {
     "cell_type": "code",
     "collapsed": false,
     "input": [
      "clean_tz[clean_tz=='']='Unknown' "
     ],
     "language": "python",
     "metadata": {},
     "outputs": [],
     "prompt_number": 38
    },
    {
     "cell_type": "code",
     "collapsed": false,
     "input": [
      "tz_counts = clean_tz.value_counts()"
     ],
     "language": "python",
     "metadata": {},
     "outputs": [],
     "prompt_number": 39
    },
    {
     "cell_type": "code",
     "collapsed": false,
     "input": [
      "tz_counts[:10]"
     ],
     "language": "python",
     "metadata": {},
     "outputs": [
      {
       "metadata": {},
       "output_type": "pyout",
       "prompt_number": 40,
       "text": [
        "America/New_York       1251\n",
        "Unknown                 521\n",
        "America/Chicago         400\n",
        "America/Los_Angeles     382\n",
        "America/Denver          191\n",
        "Missing                 120\n",
        "Europe/London            74\n",
        "Asia/Tokyo               37\n",
        "Pacific/Honolulu         36\n",
        "Europe/Madrid            35\n",
        "dtype: int64"
       ]
      }
     ],
     "prompt_number": 40
    },
    {
     "cell_type": "code",
     "collapsed": false,
     "input": [
      "tz_counts[:10].plot(kind='bar', rot=0)"
     ],
     "language": "python",
     "metadata": {},
     "outputs": [
      {
       "metadata": {},
       "output_type": "pyout",
       "prompt_number": 41,
       "text": [
        "<matplotlib.axes.AxesSubplot at 0xb273d6c>"
       ]
      },
      {
       "metadata": {},
       "output_type": "display_data",
       "png": "[encoded data removed]",
       "text": [
        "<matplotlib.figure.Figure at 0xb27348c>"
       ]
      }
     ],
     "prompt_number": 41
    },
    {
     "cell_type": "code",
     "collapsed": false,
     "input": [
      "tz_counts[:10].plot(kind='barh', rot=0)"
     ],
     "language": "python",
     "metadata": {},
     "outputs": [
      {
       "metadata": {},
       "output_type": "pyout",
       "prompt_number": 42,
       "text": [
        "<matplotlib.axes.AxesSubplot at 0xb228cac>"
       ]
      },
      {
       "metadata": {},
       "output_type": "display_data",
       "png": "[encoded data removed]",
       "text": [
        "<matplotlib.figure.Figure at 0xb21558c>"
       ]
      }
     ],
     "prompt_number": 42
    },
    {
     "cell_type": "code",
     "collapsed": false,
     "input": [
      "df['a'][:5]"
     ],
     "language": "python",
     "metadata": {},
     "outputs": [
      {
       "metadata": {},
       "output_type": "pyout",
       "prompt_number": 43,
       "text": [
        "0    Mozilla/5.0 (Windows NT 6.1; WOW64) AppleWebKi...\n",
        "1                               GoogleMaps/RochesterNY\n",
        "2    Mozilla/4.0 (compatible; MSIE 8.0; Windows NT ...\n",
        "3    Mozilla/5.0 (Macintosh; Intel Mac OS X 10_6_8)...\n",
        "4    Mozilla/5.0 (Windows NT 6.1; WOW64) AppleWebKi...\n",
        "Name: a, dtype: object"
       ]
      }
     ],
     "prompt_number": 43
    },
    {
     "cell_type": "code",
     "collapsed": false,
     "input": [
      "s = df['a'][0]"
     ],
     "language": "python",
     "metadata": {},
     "outputs": [],
     "prompt_number": 44
    },
    {
     "cell_type": "code",
     "collapsed": false,
     "input": [
      "s"
     ],
     "language": "python",
     "metadata": {},
     "outputs": [
      {
       "metadata": {},
       "output_type": "pyout",
       "prompt_number": 45,
       "text": [
        "u'Mozilla/5.0 (Windows NT 6.1; WOW64) AppleWebKit/535.11 (KHTML, like Gecko) Chrome/17.0.963.78 Safari/535.11'"
       ]
      }
     ],
     "prompt_number": 45
    },
    {
     "cell_type": "code",
     "collapsed": false,
     "input": [
      "s.split()[0]"
     ],
     "language": "python",
     "metadata": {},
     "outputs": [
      {
       "metadata": {},
       "output_type": "pyout",
       "prompt_number": 47,
       "text": [
        "u'Mozilla/5.0'"
       ]
      }
     ],
     "prompt_number": 47
    },
    {
     "cell_type": "code",
     "collapsed": false,
     "input": [
      "results = pd.Series([x.split()[0] for x in df['a'].dropna()])"
     ],
     "language": "python",
     "metadata": {},
     "outputs": [],
     "prompt_number": 53
    },
    {
     "cell_type": "code",
     "collapsed": false,
     "input": [
      "#df.tz\n",
      "# same as below\n",
      "df['tz'][:5]"
     ],
     "language": "python",
     "metadata": {},
     "outputs": [
      {
       "metadata": {},
       "output_type": "pyout",
       "prompt_number": 52,
       "text": [
        "0     America/New_York\n",
        "1       America/Denver\n",
        "2     America/New_York\n",
        "3    America/Sao_Paulo\n",
        "4     America/New_York\n",
        "Name: tz, dtype: object"
       ]
      }
     ],
     "prompt_number": 52
    },
    {
     "cell_type": "code",
     "collapsed": false,
     "input": [
      "results[:5]"
     ],
     "language": "python",
     "metadata": {},
     "outputs": [
      {
       "metadata": {},
       "output_type": "pyout",
       "prompt_number": 54,
       "text": [
        "0               Mozilla/5.0\n",
        "1    GoogleMaps/RochesterNY\n",
        "2               Mozilla/4.0\n",
        "3               Mozilla/5.0\n",
        "4               Mozilla/5.0\n",
        "dtype: object"
       ]
      }
     ],
     "prompt_number": 54
    },
    {
     "cell_type": "code",
     "collapsed": false,
     "input": [
      "%load_ext rmagic"
     ],
     "language": "python",
     "metadata": {},
     "outputs": [],
     "prompt_number": 55
    },
    {
     "cell_type": "code",
     "collapsed": false,
     "input": [
      "%%R\n",
      "install.packages(\"nycflights13\", repos='http://cran.us.r\u2010project.org')"
     ],
     "language": "python",
     "metadata": {},
     "outputs": [
      {
       "output_type": "stream",
       "stream": "stderr",
       "text": [
        "/usr/local/lib/python2.7/dist-packages/ipython-1.1.0-py2.7.egg/IPython/extensions/rmagic.py:194: UserWarning: Installing package into \u2018/home/bakuda/R/i686-pc-linux-gnu-library/3.2\u2019\n",
        "(as \u2018lib\u2019 is unspecified)\n",
        "\n",
        "  value = ri.baseenv['eval'](ri.parse(line))\n"
       ]
      }
     ],
     "prompt_number": 57
    },
    {
     "cell_type": "code",
     "collapsed": false,
     "input": [
      "%%R\n",
      "library(nycflights13)\n",
      "write.csv(flights, \"flights.csv\")"
     ],
     "language": "python",
     "metadata": {},
     "outputs": [],
     "prompt_number": 58
    },
    {
     "cell_type": "code",
     "collapsed": false,
     "input": [
      "flights = pd.read_csv(\"flights.csv\", index_col=0)"
     ],
     "language": "python",
     "metadata": {},
     "outputs": [],
     "prompt_number": 59
    },
    {
     "cell_type": "code",
     "collapsed": false,
     "input": [
      "flights.shape"
     ],
     "language": "python",
     "metadata": {},
     "outputs": [
      {
       "metadata": {},
       "output_type": "pyout",
       "prompt_number": 60,
       "text": [
        "(336776, 16)"
       ]
      }
     ],
     "prompt_number": 60
    },
    {
     "cell_type": "code",
     "collapsed": false,
     "input": [
      "%%R\n",
      "head(flights)"
     ],
     "language": "python",
     "metadata": {},
     "outputs": [],
     "prompt_number": 62
    },
    {
     "cell_type": "code",
     "collapsed": false,
     "input": [
      "%%R\n",
      "search()"
     ],
     "language": "python",
     "metadata": {},
     "outputs": [],
     "prompt_number": 63
    },
    {
     "cell_type": "code",
     "collapsed": false,
     "input": [
      "#flights.head()"
     ],
     "language": "python",
     "metadata": {},
     "outputs": [],
     "prompt_number": 100
    },
    {
     "cell_type": "code",
     "collapsed": false,
     "input": [
      "df.loc[:2,:]"
     ],
     "language": "python",
     "metadata": {},
     "outputs": [
      {
       "html": [
        "<div style=\"max-height:1000px;max-width:1500px;overflow:auto;\">\n",
        "<table border=\"1\" class=\"dataframe\">\n",
        "  <thead>\n",
        "    <tr style=\"text-align: right;\">\n",
        "      <th></th>\n",
        "      <th>_heartbeat_</th>\n",
        "      <th>a</th>\n",
        "      <th>al</th>\n",
        "      <th>c</th>\n",
        "      <th>cy</th>\n",
        "      <th>g</th>\n",
        "      <th>gr</th>\n",
        "      <th>h</th>\n",
        "      <th>hc</th>\n",
        "      <th>hh</th>\n",
        "      <th>kw</th>\n",
        "      <th>l</th>\n",
        "      <th>ll</th>\n",
        "      <th>nk</th>\n",
        "      <th>r</th>\n",
        "      <th>t</th>\n",
        "      <th>tz</th>\n",
        "      <th>u</th>\n",
        "    </tr>\n",
        "  </thead>\n",
        "  <tbody>\n",
        "    <tr>\n",
        "      <th>0</th>\n",
        "      <td>NaN</td>\n",
        "      <td> Mozilla/5.0 (Windows NT 6.1; WOW64) AppleWebKi...</td>\n",
        "      <td> en-US,en;q=0.8</td>\n",
        "      <td> US</td>\n",
        "      <td>    Danvers</td>\n",
        "      <td> A6qOVH</td>\n",
        "      <td> MA</td>\n",
        "      <td> wfLQtf</td>\n",
        "      <td> 1331822918</td>\n",
        "      <td> 1.usa.gov</td>\n",
        "      <td> NaN</td>\n",
        "      <td> orofrog</td>\n",
        "      <td>  [42.576698, -70.954903]</td>\n",
        "      <td> 1</td>\n",
        "      <td> http://www.facebook.com/l/7AQEFzjSi/1.usa.gov/...</td>\n",
        "      <td> 1331923247</td>\n",
        "      <td> America/New_York</td>\n",
        "      <td>       http://www.ncbi.nlm.nih.gov/pubmed/22415991</td>\n",
        "    </tr>\n",
        "    <tr>\n",
        "      <th>1</th>\n",
        "      <td>NaN</td>\n",
        "      <td>                            GoogleMaps/RochesterNY</td>\n",
        "      <td>            NaN</td>\n",
        "      <td> US</td>\n",
        "      <td>      Provo</td>\n",
        "      <td> mwszkS</td>\n",
        "      <td> UT</td>\n",
        "      <td> mwszkS</td>\n",
        "      <td> 1308262393</td>\n",
        "      <td>      j.mp</td>\n",
        "      <td> NaN</td>\n",
        "      <td>   bitly</td>\n",
        "      <td> [40.218102, -111.613297]</td>\n",
        "      <td> 0</td>\n",
        "      <td>                          http://www.AwareMap.com/</td>\n",
        "      <td> 1331923249</td>\n",
        "      <td>   America/Denver</td>\n",
        "      <td>       http://www.monroecounty.gov/etc/911/rss.php</td>\n",
        "    </tr>\n",
        "    <tr>\n",
        "      <th>2</th>\n",
        "      <td>NaN</td>\n",
        "      <td> Mozilla/4.0 (compatible; MSIE 8.0; Windows NT ...</td>\n",
        "      <td>          en-US</td>\n",
        "      <td> US</td>\n",
        "      <td> Washington</td>\n",
        "      <td> xxr3Qb</td>\n",
        "      <td> DC</td>\n",
        "      <td> xxr3Qb</td>\n",
        "      <td> 1331919941</td>\n",
        "      <td> 1.usa.gov</td>\n",
        "      <td> NaN</td>\n",
        "      <td>   bitly</td>\n",
        "      <td>    [38.9007, -77.043098]</td>\n",
        "      <td> 1</td>\n",
        "      <td>                              http://t.co/03elZC4Q</td>\n",
        "      <td> 1331923250</td>\n",
        "      <td> America/New_York</td>\n",
        "      <td> http://boxer.senate.gov/en/press/releases/0316...</td>\n",
        "    </tr>\n",
        "  </tbody>\n",
        "</table>\n",
        "<p>3 rows \u00d7 18 columns</p>\n",
        "</div>"
       ],
       "metadata": {},
       "output_type": "pyout",
       "prompt_number": 66,
       "text": [
        "   _heartbeat_                                                  a  \\\n",
        "0          NaN  Mozilla/5.0 (Windows NT 6.1; WOW64) AppleWebKi...   \n",
        "1          NaN                             GoogleMaps/RochesterNY   \n",
        "2          NaN  Mozilla/4.0 (compatible; MSIE 8.0; Windows NT ...   \n",
        "\n",
        "               al   c          cy       g  gr       h          hc         hh  \\\n",
        "0  en-US,en;q=0.8  US     Danvers  A6qOVH  MA  wfLQtf  1331822918  1.usa.gov   \n",
        "1             NaN  US       Provo  mwszkS  UT  mwszkS  1308262393       j.mp   \n",
        "2           en-US  US  Washington  xxr3Qb  DC  xxr3Qb  1331919941  1.usa.gov   \n",
        "\n",
        "    kw        l                        ll  nk  \\\n",
        "0  NaN  orofrog   [42.576698, -70.954903]   1   \n",
        "1  NaN    bitly  [40.218102, -111.613297]   0   \n",
        "2  NaN    bitly     [38.9007, -77.043098]   1   \n",
        "\n",
        "                                                   r           t  \\\n",
        "0  http://www.facebook.com/l/7AQEFzjSi/1.usa.gov/...  1331923247   \n",
        "1                           http://www.AwareMap.com/  1331923249   \n",
        "2                               http://t.co/03elZC4Q  1331923250   \n",
        "\n",
        "                 tz                                                  u  \n",
        "0  America/New_York        http://www.ncbi.nlm.nih.gov/pubmed/22415991  \n",
        "1    America/Denver        http://www.monroecounty.gov/etc/911/rss.php  \n",
        "2  America/New_York  http://boxer.senate.gov/en/press/releases/0316...  \n",
        "\n",
        "[3 rows x 18 columns]"
       ]
      }
     ],
     "prompt_number": 66
    },
    {
     "cell_type": "code",
     "collapsed": false,
     "input": [
      "type(records)"
     ],
     "language": "python",
     "metadata": {},
     "outputs": [
      {
       "metadata": {},
       "output_type": "pyout",
       "prompt_number": 67,
       "text": [
        "list"
       ]
      }
     ],
     "prompt_number": 67
    },
    {
     "cell_type": "code",
     "collapsed": false,
     "input": [
      "type(records[0])"
     ],
     "language": "python",
     "metadata": {},
     "outputs": [
      {
       "metadata": {},
       "output_type": "pyout",
       "prompt_number": 68,
       "text": [
        "dict"
       ]
      }
     ],
     "prompt_number": 68
    },
    {
     "cell_type": "code",
     "collapsed": false,
     "input": [
      "df.columns"
     ],
     "language": "python",
     "metadata": {},
     "outputs": [
      {
       "metadata": {},
       "output_type": "pyout",
       "prompt_number": 69,
       "text": [
        "Index([u'_heartbeat_', u'a', u'al', u'c', u'cy', u'g', u'gr', u'h', u'hc', u'hh', u'kw', u'l', u'll', u'nk', u'r', u't', u'tz', u'u'], dtype='object')"
       ]
      }
     ],
     "prompt_number": 69
    },
    {
     "cell_type": "code",
     "collapsed": false,
     "input": [
      "df.shape"
     ],
     "language": "python",
     "metadata": {},
     "outputs": [
      {
       "metadata": {},
       "output_type": "pyout",
       "prompt_number": 74,
       "text": [
        "(3560, 18)"
       ]
      }
     ],
     "prompt_number": 74
    },
    {
     "cell_type": "code",
     "collapsed": false,
     "input": [
      "df.to_csv('/home/bakuda/pandas-book/ch02/bitly-data-for-R.csv', encoding='utf8', header=True, sep=',')"
     ],
     "language": "python",
     "metadata": {},
     "outputs": [],
     "prompt_number": 81
    },
    {
     "cell_type": "code",
     "collapsed": false,
     "input": [
      "df = pd.DataFrame(records)"
     ],
     "language": "python",
     "metadata": {},
     "outputs": [],
     "prompt_number": 82
    },
    {
     "cell_type": "code",
     "collapsed": false,
     "input": [
      "#df.loc[10:18]"
     ],
     "language": "python",
     "metadata": {},
     "outputs": [],
     "prompt_number": 99
    },
    {
     "cell_type": "code",
     "collapsed": false,
     "input": [
      "results.value_counts()[:10].plot(kind='barh')"
     ],
     "language": "python",
     "metadata": {},
     "outputs": [
      {
       "metadata": {},
       "output_type": "pyout",
       "prompt_number": 103,
       "text": [
        "<matplotlib.axes.AxesSubplot at 0xe0531ec>"
       ]
      },
      {
       "metadata": {},
       "output_type": "display_data",
       "png": "[encoded data removed]",
       "text": [
        "<matplotlib.figure.Figure at 0xd43db6c>"
       ]
      }
     ],
     "prompt_number": 103
    },
    {
     "cell_type": "code",
     "collapsed": false,
     "input": [
      "cdf = df[df['a'].notnull()]"
     ],
     "language": "python",
     "metadata": {},
     "outputs": [],
     "prompt_number": 104
    },
    {
     "cell_type": "code",
     "collapsed": false,
     "input": [
      "cdf.shape"
     ],
     "language": "python",
     "metadata": {},
     "outputs": [
      {
       "metadata": {},
       "output_type": "pyout",
       "prompt_number": 105,
       "text": [
        "(3440, 18)"
       ]
      }
     ],
     "prompt_number": 105
    },
    {
     "cell_type": "code",
     "collapsed": false,
     "input": [
      "cdf.groupby('a')"
     ],
     "language": "python",
     "metadata": {},
     "outputs": [
      {
       "metadata": {},
       "output_type": "pyout",
       "prompt_number": 106,
       "text": [
        "<pandas.core.groupby.DataFrameGroupBy object at 0xd43caec>"
       ]
      }
     ],
     "prompt_number": 106
    },
    {
     "cell_type": "code",
     "collapsed": false,
     "input": [
      "results.value_counts()[:20].plot(kind='barh')"
     ],
     "language": "python",
     "metadata": {},
     "outputs": [
      {
       "metadata": {},
       "output_type": "pyout",
       "prompt_number": 111,
       "text": [
        "<matplotlib.axes.AxesSubplot at 0x1dbed58c>"
       ]
      },
      {
       "metadata": {},
       "output_type": "display_data",
       "png": "[encoded data removed]",
       "text": [
        "<matplotlib.figure.Figure at 0x1e8e56ec>"
       ]
      }
     ],
     "prompt_number": 111
    },
    {
     "cell_type": "code",
     "collapsed": false,
     "input": [
      "os_types = np.where(cdf['a'].str.contains('Windows'), 'Windows', 'Not Windows')"
     ],
     "language": "python",
     "metadata": {},
     "outputs": [],
     "prompt_number": 112
    },
    {
     "cell_type": "code",
     "collapsed": false,
     "input": [
      "os_types[:5]"
     ],
     "language": "python",
     "metadata": {},
     "outputs": [
      {
       "metadata": {},
       "output_type": "pyout",
       "prompt_number": 114,
       "text": [
        "array(['Windows', 'Not Windows', 'Windows', 'Not Windows', 'Windows'], \n",
        "      dtype='|S11')"
       ]
      }
     ],
     "prompt_number": 114
    },
    {
     "cell_type": "code",
     "collapsed": false,
     "input": [
      "by_tz_os = cdf.groupby(['tz',os_types])"
     ],
     "language": "python",
     "metadata": {},
     "outputs": [],
     "prompt_number": 116
    },
    {
     "cell_type": "code",
     "collapsed": false,
     "input": [
      "by_tz_os.size()\n"
     ],
     "language": "python",
     "metadata": {},
     "outputs": [
      {
       "metadata": {},
       "output_type": "pyout",
       "prompt_number": 118,
       "text": [
        "tz                                         \n",
        "                                Not Windows    245\n",
        "                                Windows        276\n",
        "Africa/Cairo                    Windows          3\n",
        "Africa/Casablanca               Windows          1\n",
        "Africa/Ceuta                    Windows          2\n",
        "Africa/Johannesburg             Windows          1\n",
        "Africa/Lusaka                   Windows          1\n",
        "America/Anchorage               Not Windows      4\n",
        "                                Windows          1\n",
        "America/Argentina/Buenos_Aires  Not Windows      1\n",
        "America/Argentina/Cordoba       Windows          1\n",
        "America/Argentina/Mendoza       Windows          1\n",
        "America/Bogota                  Not Windows      1\n",
        "                                Windows          2\n",
        "America/Caracas                 Windows          1\n",
        "...\n",
        "Europe/Skopje     Windows         1\n",
        "Europe/Sofia      Windows         1\n",
        "Europe/Stockholm  Not Windows     2\n",
        "                  Windows        12\n",
        "Europe/Uzhgorod   Windows         1\n",
        "Europe/Vienna     Not Windows     3\n",
        "                  Windows         3\n",
        "Europe/Vilnius    Windows         2\n",
        "Europe/Volgograd  Windows         1\n",
        "Europe/Warsaw     Not Windows     1\n",
        "                  Windows        15\n",
        "Europe/Zurich     Not Windows     4\n",
        "Pacific/Auckland  Not Windows     3\n",
        "                  Windows         8\n",
        "Pacific/Honolulu  Windows        36\n",
        "Length: 149, dtype: int64"
       ]
      }
     ],
     "prompt_number": 118
    },
    {
     "cell_type": "code",
     "collapsed": false,
     "input": [
      "agg_counts = by_tz_os.size().unstack().fillna(0)"
     ],
     "language": "python",
     "metadata": {},
     "outputs": [],
     "prompt_number": 119
    },
    {
     "cell_type": "code",
     "collapsed": false,
     "input": [
      "agg_counts[:10]"
     ],
     "language": "python",
     "metadata": {},
     "outputs": [
      {
       "html": [
        "<div style=\"max-height:1000px;max-width:1500px;overflow:auto;\">\n",
        "<table border=\"1\" class=\"dataframe\">\n",
        "  <thead>\n",
        "    <tr style=\"text-align: right;\">\n",
        "      <th></th>\n",
        "      <th>Not Windows</th>\n",
        "      <th>Windows</th>\n",
        "    </tr>\n",
        "    <tr>\n",
        "      <th>tz</th>\n",
        "      <th></th>\n",
        "      <th></th>\n",
        "    </tr>\n",
        "  </thead>\n",
        "  <tbody>\n",
        "    <tr>\n",
        "      <th></th>\n",
        "      <td> 245</td>\n",
        "      <td> 276</td>\n",
        "    </tr>\n",
        "    <tr>\n",
        "      <th>Africa/Cairo</th>\n",
        "      <td>   0</td>\n",
        "      <td>   3</td>\n",
        "    </tr>\n",
        "    <tr>\n",
        "      <th>Africa/Casablanca</th>\n",
        "      <td>   0</td>\n",
        "      <td>   1</td>\n",
        "    </tr>\n",
        "    <tr>\n",
        "      <th>Africa/Ceuta</th>\n",
        "      <td>   0</td>\n",
        "      <td>   2</td>\n",
        "    </tr>\n",
        "    <tr>\n",
        "      <th>Africa/Johannesburg</th>\n",
        "      <td>   0</td>\n",
        "      <td>   1</td>\n",
        "    </tr>\n",
        "    <tr>\n",
        "      <th>Africa/Lusaka</th>\n",
        "      <td>   0</td>\n",
        "      <td>   1</td>\n",
        "    </tr>\n",
        "    <tr>\n",
        "      <th>America/Anchorage</th>\n",
        "      <td>   4</td>\n",
        "      <td>   1</td>\n",
        "    </tr>\n",
        "    <tr>\n",
        "      <th>America/Argentina/Buenos_Aires</th>\n",
        "      <td>   1</td>\n",
        "      <td>   0</td>\n",
        "    </tr>\n",
        "    <tr>\n",
        "      <th>America/Argentina/Cordoba</th>\n",
        "      <td>   0</td>\n",
        "      <td>   1</td>\n",
        "    </tr>\n",
        "    <tr>\n",
        "      <th>America/Argentina/Mendoza</th>\n",
        "      <td>   0</td>\n",
        "      <td>   1</td>\n",
        "    </tr>\n",
        "  </tbody>\n",
        "</table>\n",
        "<p>10 rows \u00d7 2 columns</p>\n",
        "</div>"
       ],
       "metadata": {},
       "output_type": "pyout",
       "prompt_number": 120,
       "text": [
        "                                Not Windows  Windows\n",
        "tz                                                  \n",
        "                                        245      276\n",
        "Africa/Cairo                              0        3\n",
        "Africa/Casablanca                         0        1\n",
        "Africa/Ceuta                              0        2\n",
        "Africa/Johannesburg                       0        1\n",
        "Africa/Lusaka                             0        1\n",
        "America/Anchorage                         4        1\n",
        "America/Argentina/Buenos_Aires            1        0\n",
        "America/Argentina/Cordoba                 0        1\n",
        "America/Argentina/Mendoza                 0        1\n",
        "\n",
        "[10 rows x 2 columns]"
       ]
      }
     ],
     "prompt_number": 120
    },
    {
     "cell_type": "code",
     "collapsed": false,
     "input": [
      "# Unstack is like R::tidyr:spread()\n",
      "by_tz_os.size().unstack()"
     ],
     "language": "python",
     "metadata": {},
     "outputs": [
      {
       "html": [
        "<div style=\"max-height:1000px;max-width:1500px;overflow:auto;\">\n",
        "<table border=\"1\" class=\"dataframe\">\n",
        "  <thead>\n",
        "    <tr style=\"text-align: right;\">\n",
        "      <th></th>\n",
        "      <th>Not Windows</th>\n",
        "      <th>Windows</th>\n",
        "    </tr>\n",
        "    <tr>\n",
        "      <th>tz</th>\n",
        "      <th></th>\n",
        "      <th></th>\n",
        "    </tr>\n",
        "  </thead>\n",
        "  <tbody>\n",
        "    <tr>\n",
        "      <th></th>\n",
        "      <td> 245</td>\n",
        "      <td> 276</td>\n",
        "    </tr>\n",
        "    <tr>\n",
        "      <th>Africa/Cairo</th>\n",
        "      <td> NaN</td>\n",
        "      <td>   3</td>\n",
        "    </tr>\n",
        "    <tr>\n",
        "      <th>Africa/Casablanca</th>\n",
        "      <td> NaN</td>\n",
        "      <td>   1</td>\n",
        "    </tr>\n",
        "    <tr>\n",
        "      <th>Africa/Ceuta</th>\n",
        "      <td> NaN</td>\n",
        "      <td>   2</td>\n",
        "    </tr>\n",
        "    <tr>\n",
        "      <th>Africa/Johannesburg</th>\n",
        "      <td> NaN</td>\n",
        "      <td>   1</td>\n",
        "    </tr>\n",
        "    <tr>\n",
        "      <th>Africa/Lusaka</th>\n",
        "      <td> NaN</td>\n",
        "      <td>   1</td>\n",
        "    </tr>\n",
        "    <tr>\n",
        "      <th>America/Anchorage</th>\n",
        "      <td>   4</td>\n",
        "      <td>   1</td>\n",
        "    </tr>\n",
        "    <tr>\n",
        "      <th>America/Argentina/Buenos_Aires</th>\n",
        "      <td>   1</td>\n",
        "      <td> NaN</td>\n",
        "    </tr>\n",
        "    <tr>\n",
        "      <th>America/Argentina/Cordoba</th>\n",
        "      <td> NaN</td>\n",
        "      <td>   1</td>\n",
        "    </tr>\n",
        "    <tr>\n",
        "      <th>America/Argentina/Mendoza</th>\n",
        "      <td> NaN</td>\n",
        "      <td>   1</td>\n",
        "    </tr>\n",
        "    <tr>\n",
        "      <th>America/Bogota</th>\n",
        "      <td>   1</td>\n",
        "      <td>   2</td>\n",
        "    </tr>\n",
        "    <tr>\n",
        "      <th>America/Caracas</th>\n",
        "      <td> NaN</td>\n",
        "      <td>   1</td>\n",
        "    </tr>\n",
        "    <tr>\n",
        "      <th>America/Chicago</th>\n",
        "      <td> 115</td>\n",
        "      <td> 285</td>\n",
        "    </tr>\n",
        "    <tr>\n",
        "      <th>America/Chihuahua</th>\n",
        "      <td>   1</td>\n",
        "      <td>   1</td>\n",
        "    </tr>\n",
        "    <tr>\n",
        "      <th>America/Costa_Rica</th>\n",
        "      <td> NaN</td>\n",
        "      <td>   1</td>\n",
        "    </tr>\n",
        "    <tr>\n",
        "      <th>America/Denver</th>\n",
        "      <td> 132</td>\n",
        "      <td>  59</td>\n",
        "    </tr>\n",
        "    <tr>\n",
        "      <th>America/Edmonton</th>\n",
        "      <td>   2</td>\n",
        "      <td>   4</td>\n",
        "    </tr>\n",
        "    <tr>\n",
        "      <th>America/Guayaquil</th>\n",
        "      <td>   2</td>\n",
        "      <td> NaN</td>\n",
        "    </tr>\n",
        "    <tr>\n",
        "      <th>America/Halifax</th>\n",
        "      <td>   1</td>\n",
        "      <td>   3</td>\n",
        "    </tr>\n",
        "    <tr>\n",
        "      <th>America/Indianapolis</th>\n",
        "      <td>   8</td>\n",
        "      <td>  12</td>\n",
        "    </tr>\n",
        "    <tr>\n",
        "      <th>America/La_Paz</th>\n",
        "      <td> NaN</td>\n",
        "      <td>   1</td>\n",
        "    </tr>\n",
        "    <tr>\n",
        "      <th>America/Lima</th>\n",
        "      <td> NaN</td>\n",
        "      <td>   1</td>\n",
        "    </tr>\n",
        "    <tr>\n",
        "      <th>America/Los_Angeles</th>\n",
        "      <td> 130</td>\n",
        "      <td> 252</td>\n",
        "    </tr>\n",
        "    <tr>\n",
        "      <th>America/Managua</th>\n",
        "      <td> NaN</td>\n",
        "      <td>   3</td>\n",
        "    </tr>\n",
        "    <tr>\n",
        "      <th>America/Mazatlan</th>\n",
        "      <td>   1</td>\n",
        "      <td> NaN</td>\n",
        "    </tr>\n",
        "    <tr>\n",
        "      <th>America/Mexico_City</th>\n",
        "      <td>   7</td>\n",
        "      <td>   8</td>\n",
        "    </tr>\n",
        "    <tr>\n",
        "      <th>America/Monterrey</th>\n",
        "      <td>   1</td>\n",
        "      <td> NaN</td>\n",
        "    </tr>\n",
        "    <tr>\n",
        "      <th>America/Montevideo</th>\n",
        "      <td> NaN</td>\n",
        "      <td>   1</td>\n",
        "    </tr>\n",
        "    <tr>\n",
        "      <th>America/Montreal</th>\n",
        "      <td>   3</td>\n",
        "      <td>   6</td>\n",
        "    </tr>\n",
        "    <tr>\n",
        "      <th>America/New_York</th>\n",
        "      <td> 339</td>\n",
        "      <td> 912</td>\n",
        "    </tr>\n",
        "    <tr>\n",
        "      <th>America/Phoenix</th>\n",
        "      <td>   3</td>\n",
        "      <td>  17</td>\n",
        "    </tr>\n",
        "    <tr>\n",
        "      <th>America/Puerto_Rico</th>\n",
        "      <td>   9</td>\n",
        "      <td>   1</td>\n",
        "    </tr>\n",
        "    <tr>\n",
        "      <th>America/Rainy_River</th>\n",
        "      <td>  10</td>\n",
        "      <td>  15</td>\n",
        "    </tr>\n",
        "    <tr>\n",
        "      <th>America/Recife</th>\n",
        "      <td> NaN</td>\n",
        "      <td>   2</td>\n",
        "    </tr>\n",
        "    <tr>\n",
        "      <th>America/Santo_Domingo</th>\n",
        "      <td>   1</td>\n",
        "      <td> NaN</td>\n",
        "    </tr>\n",
        "    <tr>\n",
        "      <th>America/Sao_Paulo</th>\n",
        "      <td>  13</td>\n",
        "      <td>  20</td>\n",
        "    </tr>\n",
        "    <tr>\n",
        "      <th>America/St_Kitts</th>\n",
        "      <td>   1</td>\n",
        "      <td> NaN</td>\n",
        "    </tr>\n",
        "    <tr>\n",
        "      <th>America/Tegucigalpa</th>\n",
        "      <td> NaN</td>\n",
        "      <td>   1</td>\n",
        "    </tr>\n",
        "    <tr>\n",
        "      <th>America/Vancouver</th>\n",
        "      <td>   6</td>\n",
        "      <td>   6</td>\n",
        "    </tr>\n",
        "    <tr>\n",
        "      <th>America/Winnipeg</th>\n",
        "      <td>   3</td>\n",
        "      <td>   1</td>\n",
        "    </tr>\n",
        "    <tr>\n",
        "      <th>Asia/Amman</th>\n",
        "      <td> NaN</td>\n",
        "      <td>   2</td>\n",
        "    </tr>\n",
        "    <tr>\n",
        "      <th>Asia/Bangkok</th>\n",
        "      <td> NaN</td>\n",
        "      <td>   6</td>\n",
        "    </tr>\n",
        "    <tr>\n",
        "      <th>Asia/Beirut</th>\n",
        "      <td>   1</td>\n",
        "      <td>   3</td>\n",
        "    </tr>\n",
        "    <tr>\n",
        "      <th>Asia/Calcutta</th>\n",
        "      <td>   2</td>\n",
        "      <td>   7</td>\n",
        "    </tr>\n",
        "    <tr>\n",
        "      <th>Asia/Dubai</th>\n",
        "      <td>   2</td>\n",
        "      <td>   2</td>\n",
        "    </tr>\n",
        "    <tr>\n",
        "      <th>Asia/Harbin</th>\n",
        "      <td> NaN</td>\n",
        "      <td>   3</td>\n",
        "    </tr>\n",
        "    <tr>\n",
        "      <th>Asia/Hong_Kong</th>\n",
        "      <td>   4</td>\n",
        "      <td>   6</td>\n",
        "    </tr>\n",
        "    <tr>\n",
        "      <th>Asia/Istanbul</th>\n",
        "      <td> NaN</td>\n",
        "      <td>   9</td>\n",
        "    </tr>\n",
        "    <tr>\n",
        "      <th>Asia/Jakarta</th>\n",
        "      <td>   2</td>\n",
        "      <td>   1</td>\n",
        "    </tr>\n",
        "    <tr>\n",
        "      <th>Asia/Jerusalem</th>\n",
        "      <td>   2</td>\n",
        "      <td>   1</td>\n",
        "    </tr>\n",
        "    <tr>\n",
        "      <th>Asia/Karachi</th>\n",
        "      <td> NaN</td>\n",
        "      <td>   3</td>\n",
        "    </tr>\n",
        "    <tr>\n",
        "      <th>Asia/Kuala_Lumpur</th>\n",
        "      <td>   1</td>\n",
        "      <td>   2</td>\n",
        "    </tr>\n",
        "    <tr>\n",
        "      <th>Asia/Kuching</th>\n",
        "      <td> NaN</td>\n",
        "      <td>   1</td>\n",
        "    </tr>\n",
        "    <tr>\n",
        "      <th>Asia/Manila</th>\n",
        "      <td> NaN</td>\n",
        "      <td>   1</td>\n",
        "    </tr>\n",
        "    <tr>\n",
        "      <th>Asia/Nicosia</th>\n",
        "      <td> NaN</td>\n",
        "      <td>   1</td>\n",
        "    </tr>\n",
        "    <tr>\n",
        "      <th>Asia/Novosibirsk</th>\n",
        "      <td> NaN</td>\n",
        "      <td>   1</td>\n",
        "    </tr>\n",
        "    <tr>\n",
        "      <th>Asia/Pontianak</th>\n",
        "      <td>   1</td>\n",
        "      <td> NaN</td>\n",
        "    </tr>\n",
        "    <tr>\n",
        "      <th>Asia/Riyadh</th>\n",
        "      <td> NaN</td>\n",
        "      <td>   1</td>\n",
        "    </tr>\n",
        "    <tr>\n",
        "      <th>Asia/Seoul</th>\n",
        "      <td>   4</td>\n",
        "      <td>   1</td>\n",
        "    </tr>\n",
        "    <tr>\n",
        "      <th>Asia/Tokyo</th>\n",
        "      <td>   2</td>\n",
        "      <td>  35</td>\n",
        "    </tr>\n",
        "    <tr>\n",
        "      <th></th>\n",
        "      <td>...</td>\n",
        "      <td>...</td>\n",
        "    </tr>\n",
        "  </tbody>\n",
        "</table>\n",
        "<p>97 rows \u00d7 2 columns</p>\n",
        "</div>"
       ],
       "metadata": {},
       "output_type": "pyout",
       "prompt_number": 121,
       "text": [
        "                                Not Windows  Windows\n",
        "tz                                                  \n",
        "                                        245      276\n",
        "Africa/Cairo                            NaN        3\n",
        "Africa/Casablanca                       NaN        1\n",
        "Africa/Ceuta                            NaN        2\n",
        "Africa/Johannesburg                     NaN        1\n",
        "Africa/Lusaka                           NaN        1\n",
        "America/Anchorage                         4        1\n",
        "America/Argentina/Buenos_Aires            1      NaN\n",
        "America/Argentina/Cordoba               NaN        1\n",
        "America/Argentina/Mendoza               NaN        1\n",
        "America/Bogota                            1        2\n",
        "America/Caracas                         NaN        1\n",
        "America/Chicago                         115      285\n",
        "America/Chihuahua                         1        1\n",
        "America/Costa_Rica                      NaN        1\n",
        "America/Denver                          132       59\n",
        "America/Edmonton                          2        4\n",
        "America/Guayaquil                         2      NaN\n",
        "America/Halifax                           1        3\n",
        "America/Indianapolis                      8       12\n",
        "America/La_Paz                          NaN        1\n",
        "America/Lima                            NaN        1\n",
        "America/Los_Angeles                     130      252\n",
        "America/Managua                         NaN        3\n",
        "America/Mazatlan                          1      NaN\n",
        "America/Mexico_City                       7        8\n",
        "America/Monterrey                         1      NaN\n",
        "America/Montevideo                      NaN        1\n",
        "America/Montreal                          3        6\n",
        "America/New_York                        339      912\n",
        "America/Phoenix                           3       17\n",
        "America/Puerto_Rico                       9        1\n",
        "America/Rainy_River                      10       15\n",
        "America/Recife                          NaN        2\n",
        "America/Santo_Domingo                     1      NaN\n",
        "America/Sao_Paulo                        13       20\n",
        "America/St_Kitts                          1      NaN\n",
        "America/Tegucigalpa                     NaN        1\n",
        "America/Vancouver                         6        6\n",
        "America/Winnipeg                          3        1\n",
        "Asia/Amman                              NaN        2\n",
        "Asia/Bangkok                            NaN        6\n",
        "Asia/Beirut                               1        3\n",
        "Asia/Calcutta                             2        7\n",
        "Asia/Dubai                                2        2\n",
        "Asia/Harbin                             NaN        3\n",
        "Asia/Hong_Kong                            4        6\n",
        "Asia/Istanbul                           NaN        9\n",
        "Asia/Jakarta                              2        1\n",
        "Asia/Jerusalem                            2        1\n",
        "Asia/Karachi                            NaN        3\n",
        "Asia/Kuala_Lumpur                         1        2\n",
        "Asia/Kuching                            NaN        1\n",
        "Asia/Manila                             NaN        1\n",
        "Asia/Nicosia                            NaN        1\n",
        "Asia/Novosibirsk                        NaN        1\n",
        "Asia/Pontianak                            1      NaN\n",
        "Asia/Riyadh                             NaN        1\n",
        "Asia/Seoul                                4        1\n",
        "Asia/Tokyo                                2       35\n",
        "                                        ...      ...\n",
        "\n",
        "[97 rows x 2 columns]"
       ]
      }
     ],
     "prompt_number": 121
    },
    {
     "cell_type": "code",
     "collapsed": false,
     "input": [
      "cdf.groupby(['tz',os_types]).size().unstack().fillna(0)[:5]"
     ],
     "language": "python",
     "metadata": {},
     "outputs": [
      {
       "html": [
        "<div style=\"max-height:1000px;max-width:1500px;overflow:auto;\">\n",
        "<table border=\"1\" class=\"dataframe\">\n",
        "  <thead>\n",
        "    <tr style=\"text-align: right;\">\n",
        "      <th></th>\n",
        "      <th>Not Windows</th>\n",
        "      <th>Windows</th>\n",
        "    </tr>\n",
        "    <tr>\n",
        "      <th>tz</th>\n",
        "      <th></th>\n",
        "      <th></th>\n",
        "    </tr>\n",
        "  </thead>\n",
        "  <tbody>\n",
        "    <tr>\n",
        "      <th></th>\n",
        "      <td> 245</td>\n",
        "      <td> 276</td>\n",
        "    </tr>\n",
        "    <tr>\n",
        "      <th>Africa/Cairo</th>\n",
        "      <td>   0</td>\n",
        "      <td>   3</td>\n",
        "    </tr>\n",
        "    <tr>\n",
        "      <th>Africa/Casablanca</th>\n",
        "      <td>   0</td>\n",
        "      <td>   1</td>\n",
        "    </tr>\n",
        "    <tr>\n",
        "      <th>Africa/Ceuta</th>\n",
        "      <td>   0</td>\n",
        "      <td>   2</td>\n",
        "    </tr>\n",
        "    <tr>\n",
        "      <th>Africa/Johannesburg</th>\n",
        "      <td>   0</td>\n",
        "      <td>   1</td>\n",
        "    </tr>\n",
        "  </tbody>\n",
        "</table>\n",
        "<p>5 rows \u00d7 2 columns</p>\n",
        "</div>"
       ],
       "metadata": {},
       "output_type": "pyout",
       "prompt_number": 123,
       "text": [
        "                     Not Windows  Windows\n",
        "tz                                       \n",
        "                             245      276\n",
        "Africa/Cairo                   0        3\n",
        "Africa/Casablanca              0        1\n",
        "Africa/Ceuta                   0        2\n",
        "Africa/Johannesburg            0        1\n",
        "\n",
        "[5 rows x 2 columns]"
       ]
      }
     ],
     "prompt_number": 123
    },
    {
     "cell_type": "code",
     "collapsed": false,
     "input": [
      "indexer = agg_counts.sum(1).argsort()\n"
     ],
     "language": "python",
     "metadata": {},
     "outputs": [],
     "prompt_number": 124
    },
    {
     "cell_type": "code",
     "collapsed": false,
     "input": [
      "indexer[:5]"
     ],
     "language": "python",
     "metadata": {},
     "outputs": [
      {
       "metadata": {},
       "output_type": "pyout",
       "prompt_number": 125,
       "text": [
        "tz\n",
        "                       24\n",
        "Africa/Cairo           20\n",
        "Africa/Casablanca      21\n",
        "Africa/Ceuta           92\n",
        "Africa/Johannesburg    87\n",
        "dtype: int64"
       ]
      }
     ],
     "prompt_number": 125
    },
    {
     "cell_type": "code",
     "collapsed": false,
     "input": [
      "count_subset = agg_counts.take(indexer)[-10:]"
     ],
     "language": "python",
     "metadata": {},
     "outputs": [],
     "prompt_number": 126
    },
    {
     "cell_type": "code",
     "collapsed": false,
     "input": [
      "count_subset"
     ],
     "language": "python",
     "metadata": {},
     "outputs": [
      {
       "html": [
        "<div style=\"max-height:1000px;max-width:1500px;overflow:auto;\">\n",
        "<table border=\"1\" class=\"dataframe\">\n",
        "  <thead>\n",
        "    <tr style=\"text-align: right;\">\n",
        "      <th></th>\n",
        "      <th>Not Windows</th>\n",
        "      <th>Windows</th>\n",
        "    </tr>\n",
        "    <tr>\n",
        "      <th>tz</th>\n",
        "      <th></th>\n",
        "      <th></th>\n",
        "    </tr>\n",
        "  </thead>\n",
        "  <tbody>\n",
        "    <tr>\n",
        "      <th>America/Sao_Paulo</th>\n",
        "      <td>  13</td>\n",
        "      <td>  20</td>\n",
        "    </tr>\n",
        "    <tr>\n",
        "      <th>Europe/Madrid</th>\n",
        "      <td>  16</td>\n",
        "      <td>  19</td>\n",
        "    </tr>\n",
        "    <tr>\n",
        "      <th>Pacific/Honolulu</th>\n",
        "      <td>   0</td>\n",
        "      <td>  36</td>\n",
        "    </tr>\n",
        "    <tr>\n",
        "      <th>Asia/Tokyo</th>\n",
        "      <td>   2</td>\n",
        "      <td>  35</td>\n",
        "    </tr>\n",
        "    <tr>\n",
        "      <th>Europe/London</th>\n",
        "      <td>  43</td>\n",
        "      <td>  31</td>\n",
        "    </tr>\n",
        "    <tr>\n",
        "      <th>America/Denver</th>\n",
        "      <td> 132</td>\n",
        "      <td>  59</td>\n",
        "    </tr>\n",
        "    <tr>\n",
        "      <th>America/Los_Angeles</th>\n",
        "      <td> 130</td>\n",
        "      <td> 252</td>\n",
        "    </tr>\n",
        "    <tr>\n",
        "      <th>America/Chicago</th>\n",
        "      <td> 115</td>\n",
        "      <td> 285</td>\n",
        "    </tr>\n",
        "    <tr>\n",
        "      <th></th>\n",
        "      <td> 245</td>\n",
        "      <td> 276</td>\n",
        "    </tr>\n",
        "    <tr>\n",
        "      <th>America/New_York</th>\n",
        "      <td> 339</td>\n",
        "      <td> 912</td>\n",
        "    </tr>\n",
        "  </tbody>\n",
        "</table>\n",
        "<p>10 rows \u00d7 2 columns</p>\n",
        "</div>"
       ],
       "metadata": {},
       "output_type": "pyout",
       "prompt_number": 127,
       "text": [
        "                     Not Windows  Windows\n",
        "tz                                       \n",
        "America/Sao_Paulo             13       20\n",
        "Europe/Madrid                 16       19\n",
        "Pacific/Honolulu               0       36\n",
        "Asia/Tokyo                     2       35\n",
        "Europe/London                 43       31\n",
        "America/Denver               132       59\n",
        "America/Los_Angeles          130      252\n",
        "America/Chicago              115      285\n",
        "                             245      276\n",
        "America/New_York             339      912\n",
        "\n",
        "[10 rows x 2 columns]"
       ]
      }
     ],
     "prompt_number": 127
    },
    {
     "cell_type": "code",
     "collapsed": false,
     "input": [
      "count_subset.plot(kind='barh', stacked=True)"
     ],
     "language": "python",
     "metadata": {},
     "outputs": [
      {
       "metadata": {},
       "output_type": "pyout",
       "prompt_number": 130,
       "text": [
        "<matplotlib.axes.AxesSubplot at 0x1cd3e0cc>"
       ]
      },
      {
       "metadata": {},
       "output_type": "display_data",
       "png": "[encoded data removed]",
       "text": [
        "<matplotlib.figure.Figure at 0x1df7992c>"
       ]
      }
     ],
     "prompt_number": 130
    },
    {
     "cell_type": "code",
     "collapsed": false,
     "input": [
      "cd \"/home/bakuda/pandas-book/ch02/movielens/\""
     ],
     "language": "python",
     "metadata": {},
     "outputs": [
      {
       "output_type": "stream",
       "stream": "stdout",
       "text": [
        "/home/bakuda/pandas-book/ch02/movielens\n"
       ]
      }
     ],
     "prompt_number": 146
    },
    {
     "cell_type": "code",
     "collapsed": false,
     "input": [
      "import pandas as pd\n",
      "unames = ['user_id', 'gender', 'age', 'occupation', 'zip']\n",
      "users = pd.read_table('./users.dat', sep='::', header=None,\n",
      "names=unames)\n",
      "rnames = ['user_id', 'movie_id', 'rating', 'timestamp']\n",
      "ratings = pd.read_table('./ratings.dat', sep='::', header=None,\n",
      "names=rnames)\n",
      "mnames = ['movie_id', 'title', 'genres']\n",
      "movies = pd.read_table('./movies.dat', sep='::', header=None,\n",
      "names=mnames)"
     ],
     "language": "python",
     "metadata": {},
     "outputs": [],
     "prompt_number": 148
    },
    {
     "cell_type": "code",
     "collapsed": false,
     "input": [
      "users[:5]"
     ],
     "language": "python",
     "metadata": {},
     "outputs": [
      {
       "html": [
        "<div style=\"max-height:1000px;max-width:1500px;overflow:auto;\">\n",
        "<table border=\"1\" class=\"dataframe\">\n",
        "  <thead>\n",
        "    <tr style=\"text-align: right;\">\n",
        "      <th></th>\n",
        "      <th>user_id</th>\n",
        "      <th>gender</th>\n",
        "      <th>age</th>\n",
        "      <th>occupation</th>\n",
        "      <th>zip</th>\n",
        "    </tr>\n",
        "  </thead>\n",
        "  <tbody>\n",
        "    <tr>\n",
        "      <th>0</th>\n",
        "      <td> 1</td>\n",
        "      <td> F</td>\n",
        "      <td>  1</td>\n",
        "      <td> 10</td>\n",
        "      <td> 48067</td>\n",
        "    </tr>\n",
        "    <tr>\n",
        "      <th>1</th>\n",
        "      <td> 2</td>\n",
        "      <td> M</td>\n",
        "      <td> 56</td>\n",
        "      <td> 16</td>\n",
        "      <td> 70072</td>\n",
        "    </tr>\n",
        "    <tr>\n",
        "      <th>2</th>\n",
        "      <td> 3</td>\n",
        "      <td> M</td>\n",
        "      <td> 25</td>\n",
        "      <td> 15</td>\n",
        "      <td> 55117</td>\n",
        "    </tr>\n",
        "    <tr>\n",
        "      <th>3</th>\n",
        "      <td> 4</td>\n",
        "      <td> M</td>\n",
        "      <td> 45</td>\n",
        "      <td>  7</td>\n",
        "      <td> 02460</td>\n",
        "    </tr>\n",
        "    <tr>\n",
        "      <th>4</th>\n",
        "      <td> 5</td>\n",
        "      <td> M</td>\n",
        "      <td> 25</td>\n",
        "      <td> 20</td>\n",
        "      <td> 55455</td>\n",
        "    </tr>\n",
        "  </tbody>\n",
        "</table>\n",
        "<p>5 rows \u00d7 5 columns</p>\n",
        "</div>"
       ],
       "metadata": {},
       "output_type": "pyout",
       "prompt_number": 149,
       "text": [
        "   user_id gender  age  occupation    zip\n",
        "0        1      F    1          10  48067\n",
        "1        2      M   56          16  70072\n",
        "2        3      M   25          15  55117\n",
        "3        4      M   45           7  02460\n",
        "4        5      M   25          20  55455\n",
        "\n",
        "[5 rows x 5 columns]"
       ]
      }
     ],
     "prompt_number": 149
    },
    {
     "cell_type": "code",
     "collapsed": false,
     "input": [
      "ratings[:5]"
     ],
     "language": "python",
     "metadata": {},
     "outputs": [
      {
       "html": [
        "<div style=\"max-height:1000px;max-width:1500px;overflow:auto;\">\n",
        "<table border=\"1\" class=\"dataframe\">\n",
        "  <thead>\n",
        "    <tr style=\"text-align: right;\">\n",
        "      <th></th>\n",
        "      <th>user_id</th>\n",
        "      <th>movie_id</th>\n",
        "      <th>rating</th>\n",
        "      <th>timestamp</th>\n",
        "    </tr>\n",
        "  </thead>\n",
        "  <tbody>\n",
        "    <tr>\n",
        "      <th>0</th>\n",
        "      <td> 1</td>\n",
        "      <td> 1193</td>\n",
        "      <td> 5</td>\n",
        "      <td> 978300760</td>\n",
        "    </tr>\n",
        "    <tr>\n",
        "      <th>1</th>\n",
        "      <td> 1</td>\n",
        "      <td>  661</td>\n",
        "      <td> 3</td>\n",
        "      <td> 978302109</td>\n",
        "    </tr>\n",
        "    <tr>\n",
        "      <th>2</th>\n",
        "      <td> 1</td>\n",
        "      <td>  914</td>\n",
        "      <td> 3</td>\n",
        "      <td> 978301968</td>\n",
        "    </tr>\n",
        "    <tr>\n",
        "      <th>3</th>\n",
        "      <td> 1</td>\n",
        "      <td> 3408</td>\n",
        "      <td> 4</td>\n",
        "      <td> 978300275</td>\n",
        "    </tr>\n",
        "    <tr>\n",
        "      <th>4</th>\n",
        "      <td> 1</td>\n",
        "      <td> 2355</td>\n",
        "      <td> 5</td>\n",
        "      <td> 978824291</td>\n",
        "    </tr>\n",
        "  </tbody>\n",
        "</table>\n",
        "<p>5 rows \u00d7 4 columns</p>\n",
        "</div>"
       ],
       "metadata": {},
       "output_type": "pyout",
       "prompt_number": 153,
       "text": [
        "   user_id  movie_id  rating  timestamp\n",
        "0        1      1193       5  978300760\n",
        "1        1       661       3  978302109\n",
        "2        1       914       3  978301968\n",
        "3        1      3408       4  978300275\n",
        "4        1      2355       5  978824291\n",
        "\n",
        "[5 rows x 4 columns]"
       ]
      }
     ],
     "prompt_number": 153
    },
    {
     "cell_type": "code",
     "collapsed": false,
     "input": [
      "movies[:5]"
     ],
     "language": "python",
     "metadata": {},
     "outputs": [
      {
       "html": [
        "<div style=\"max-height:1000px;max-width:1500px;overflow:auto;\">\n",
        "<table border=\"1\" class=\"dataframe\">\n",
        "  <thead>\n",
        "    <tr style=\"text-align: right;\">\n",
        "      <th></th>\n",
        "      <th>movie_id</th>\n",
        "      <th>title</th>\n",
        "      <th>genres</th>\n",
        "    </tr>\n",
        "  </thead>\n",
        "  <tbody>\n",
        "    <tr>\n",
        "      <th>0</th>\n",
        "      <td> 1</td>\n",
        "      <td>                   Toy Story (1995)</td>\n",
        "      <td>  Animation|Children's|Comedy</td>\n",
        "    </tr>\n",
        "    <tr>\n",
        "      <th>1</th>\n",
        "      <td> 2</td>\n",
        "      <td>                     Jumanji (1995)</td>\n",
        "      <td> Adventure|Children's|Fantasy</td>\n",
        "    </tr>\n",
        "    <tr>\n",
        "      <th>2</th>\n",
        "      <td> 3</td>\n",
        "      <td>            Grumpier Old Men (1995)</td>\n",
        "      <td>               Comedy|Romance</td>\n",
        "    </tr>\n",
        "    <tr>\n",
        "      <th>3</th>\n",
        "      <td> 4</td>\n",
        "      <td>           Waiting to Exhale (1995)</td>\n",
        "      <td>                 Comedy|Drama</td>\n",
        "    </tr>\n",
        "    <tr>\n",
        "      <th>4</th>\n",
        "      <td> 5</td>\n",
        "      <td> Father of the Bride Part II (1995)</td>\n",
        "      <td>                       Comedy</td>\n",
        "    </tr>\n",
        "  </tbody>\n",
        "</table>\n",
        "<p>5 rows \u00d7 3 columns</p>\n",
        "</div>"
       ],
       "metadata": {},
       "output_type": "pyout",
       "prompt_number": 152,
       "text": [
        "   movie_id                               title                        genres\n",
        "0         1                    Toy Story (1995)   Animation|Children's|Comedy\n",
        "1         2                      Jumanji (1995)  Adventure|Children's|Fantasy\n",
        "2         3             Grumpier Old Men (1995)                Comedy|Romance\n",
        "3         4            Waiting to Exhale (1995)                  Comedy|Drama\n",
        "4         5  Father of the Bride Part II (1995)                        Comedy\n",
        "\n",
        "[5 rows x 3 columns]"
       ]
      }
     ],
     "prompt_number": 152
    },
    {
     "cell_type": "code",
     "collapsed": false,
     "input": [
      "data = pd.merge(pd.merge(ratings, users), movies)"
     ],
     "language": "python",
     "metadata": {},
     "outputs": [],
     "prompt_number": 154
    },
    {
     "cell_type": "code",
     "collapsed": false,
     "input": [
      "data.shape"
     ],
     "language": "python",
     "metadata": {},
     "outputs": [
      {
       "metadata": {},
       "output_type": "pyout",
       "prompt_number": 155,
       "text": [
        "(1000209, 10)"
       ]
      }
     ],
     "prompt_number": 155
    },
    {
     "cell_type": "code",
     "collapsed": false,
     "input": [
      "data[:10]"
     ],
     "language": "python",
     "metadata": {},
     "outputs": [
      {
       "html": [
        "<div style=\"max-height:1000px;max-width:1500px;overflow:auto;\">\n",
        "<table border=\"1\" class=\"dataframe\">\n",
        "  <thead>\n",
        "    <tr style=\"text-align: right;\">\n",
        "      <th></th>\n",
        "      <th>user_id</th>\n",
        "      <th>movie_id</th>\n",
        "      <th>rating</th>\n",
        "      <th>timestamp</th>\n",
        "      <th>gender</th>\n",
        "      <th>age</th>\n",
        "      <th>occupation</th>\n",
        "      <th>zip</th>\n",
        "      <th>title</th>\n",
        "      <th>genres</th>\n",
        "    </tr>\n",
        "  </thead>\n",
        "  <tbody>\n",
        "    <tr>\n",
        "      <th>0</th>\n",
        "      <td>  1</td>\n",
        "      <td> 1193</td>\n",
        "      <td> 5</td>\n",
        "      <td> 978300760</td>\n",
        "      <td> F</td>\n",
        "      <td>  1</td>\n",
        "      <td> 10</td>\n",
        "      <td> 48067</td>\n",
        "      <td> One Flew Over the Cuckoo's Nest (1975)</td>\n",
        "      <td> Drama</td>\n",
        "    </tr>\n",
        "    <tr>\n",
        "      <th>1</th>\n",
        "      <td>  2</td>\n",
        "      <td> 1193</td>\n",
        "      <td> 5</td>\n",
        "      <td> 978298413</td>\n",
        "      <td> M</td>\n",
        "      <td> 56</td>\n",
        "      <td> 16</td>\n",
        "      <td> 70072</td>\n",
        "      <td> One Flew Over the Cuckoo's Nest (1975)</td>\n",
        "      <td> Drama</td>\n",
        "    </tr>\n",
        "    <tr>\n",
        "      <th>2</th>\n",
        "      <td> 12</td>\n",
        "      <td> 1193</td>\n",
        "      <td> 4</td>\n",
        "      <td> 978220179</td>\n",
        "      <td> M</td>\n",
        "      <td> 25</td>\n",
        "      <td> 12</td>\n",
        "      <td> 32793</td>\n",
        "      <td> One Flew Over the Cuckoo's Nest (1975)</td>\n",
        "      <td> Drama</td>\n",
        "    </tr>\n",
        "    <tr>\n",
        "      <th>3</th>\n",
        "      <td> 15</td>\n",
        "      <td> 1193</td>\n",
        "      <td> 4</td>\n",
        "      <td> 978199279</td>\n",
        "      <td> M</td>\n",
        "      <td> 25</td>\n",
        "      <td>  7</td>\n",
        "      <td> 22903</td>\n",
        "      <td> One Flew Over the Cuckoo's Nest (1975)</td>\n",
        "      <td> Drama</td>\n",
        "    </tr>\n",
        "    <tr>\n",
        "      <th>4</th>\n",
        "      <td> 17</td>\n",
        "      <td> 1193</td>\n",
        "      <td> 5</td>\n",
        "      <td> 978158471</td>\n",
        "      <td> M</td>\n",
        "      <td> 50</td>\n",
        "      <td>  1</td>\n",
        "      <td> 95350</td>\n",
        "      <td> One Flew Over the Cuckoo's Nest (1975)</td>\n",
        "      <td> Drama</td>\n",
        "    </tr>\n",
        "    <tr>\n",
        "      <th>5</th>\n",
        "      <td> 18</td>\n",
        "      <td> 1193</td>\n",
        "      <td> 4</td>\n",
        "      <td> 978156168</td>\n",
        "      <td> F</td>\n",
        "      <td> 18</td>\n",
        "      <td>  3</td>\n",
        "      <td> 95825</td>\n",
        "      <td> One Flew Over the Cuckoo's Nest (1975)</td>\n",
        "      <td> Drama</td>\n",
        "    </tr>\n",
        "    <tr>\n",
        "      <th>6</th>\n",
        "      <td> 19</td>\n",
        "      <td> 1193</td>\n",
        "      <td> 5</td>\n",
        "      <td> 982730936</td>\n",
        "      <td> M</td>\n",
        "      <td>  1</td>\n",
        "      <td> 10</td>\n",
        "      <td> 48073</td>\n",
        "      <td> One Flew Over the Cuckoo's Nest (1975)</td>\n",
        "      <td> Drama</td>\n",
        "    </tr>\n",
        "    <tr>\n",
        "      <th>7</th>\n",
        "      <td> 24</td>\n",
        "      <td> 1193</td>\n",
        "      <td> 5</td>\n",
        "      <td> 978136709</td>\n",
        "      <td> F</td>\n",
        "      <td> 25</td>\n",
        "      <td>  7</td>\n",
        "      <td> 10023</td>\n",
        "      <td> One Flew Over the Cuckoo's Nest (1975)</td>\n",
        "      <td> Drama</td>\n",
        "    </tr>\n",
        "    <tr>\n",
        "      <th>8</th>\n",
        "      <td> 28</td>\n",
        "      <td> 1193</td>\n",
        "      <td> 3</td>\n",
        "      <td> 978125194</td>\n",
        "      <td> F</td>\n",
        "      <td> 25</td>\n",
        "      <td>  1</td>\n",
        "      <td> 14607</td>\n",
        "      <td> One Flew Over the Cuckoo's Nest (1975)</td>\n",
        "      <td> Drama</td>\n",
        "    </tr>\n",
        "    <tr>\n",
        "      <th>9</th>\n",
        "      <td> 33</td>\n",
        "      <td> 1193</td>\n",
        "      <td> 5</td>\n",
        "      <td> 978557765</td>\n",
        "      <td> M</td>\n",
        "      <td> 45</td>\n",
        "      <td>  3</td>\n",
        "      <td> 55421</td>\n",
        "      <td> One Flew Over the Cuckoo's Nest (1975)</td>\n",
        "      <td> Drama</td>\n",
        "    </tr>\n",
        "  </tbody>\n",
        "</table>\n",
        "<p>10 rows \u00d7 10 columns</p>\n",
        "</div>"
       ],
       "metadata": {},
       "output_type": "pyout",
       "prompt_number": 156,
       "text": [
        "   user_id  movie_id  rating  timestamp gender  age  occupation    zip  \\\n",
        "0        1      1193       5  978300760      F    1          10  48067   \n",
        "1        2      1193       5  978298413      M   56          16  70072   \n",
        "2       12      1193       4  978220179      M   25          12  32793   \n",
        "3       15      1193       4  978199279      M   25           7  22903   \n",
        "4       17      1193       5  978158471      M   50           1  95350   \n",
        "5       18      1193       4  978156168      F   18           3  95825   \n",
        "6       19      1193       5  982730936      M    1          10  48073   \n",
        "7       24      1193       5  978136709      F   25           7  10023   \n",
        "8       28      1193       3  978125194      F   25           1  14607   \n",
        "9       33      1193       5  978557765      M   45           3  55421   \n",
        "\n",
        "                                    title genres  \n",
        "0  One Flew Over the Cuckoo's Nest (1975)  Drama  \n",
        "1  One Flew Over the Cuckoo's Nest (1975)  Drama  \n",
        "2  One Flew Over the Cuckoo's Nest (1975)  Drama  \n",
        "3  One Flew Over the Cuckoo's Nest (1975)  Drama  \n",
        "4  One Flew Over the Cuckoo's Nest (1975)  Drama  \n",
        "5  One Flew Over the Cuckoo's Nest (1975)  Drama  \n",
        "6  One Flew Over the Cuckoo's Nest (1975)  Drama  \n",
        "7  One Flew Over the Cuckoo's Nest (1975)  Drama  \n",
        "8  One Flew Over the Cuckoo's Nest (1975)  Drama  \n",
        "9  One Flew Over the Cuckoo's Nest (1975)  Drama  \n",
        "\n",
        "[10 rows x 10 columns]"
       ]
      }
     ],
     "prompt_number": 156
    },
    {
     "cell_type": "code",
     "collapsed": false,
     "input": [
      "data[:1]"
     ],
     "language": "python",
     "metadata": {},
     "outputs": [
      {
       "html": [
        "<div style=\"max-height:1000px;max-width:1500px;overflow:auto;\">\n",
        "<table border=\"1\" class=\"dataframe\">\n",
        "  <thead>\n",
        "    <tr style=\"text-align: right;\">\n",
        "      <th></th>\n",
        "      <th>user_id</th>\n",
        "      <th>movie_id</th>\n",
        "      <th>rating</th>\n",
        "      <th>timestamp</th>\n",
        "      <th>gender</th>\n",
        "      <th>age</th>\n",
        "      <th>occupation</th>\n",
        "      <th>zip</th>\n",
        "      <th>title</th>\n",
        "      <th>genres</th>\n",
        "    </tr>\n",
        "  </thead>\n",
        "  <tbody>\n",
        "    <tr>\n",
        "      <th>0</th>\n",
        "      <td> 1</td>\n",
        "      <td> 1193</td>\n",
        "      <td> 5</td>\n",
        "      <td> 978300760</td>\n",
        "      <td> F</td>\n",
        "      <td> 1</td>\n",
        "      <td> 10</td>\n",
        "      <td> 48067</td>\n",
        "      <td> One Flew Over the Cuckoo's Nest (1975)</td>\n",
        "      <td> Drama</td>\n",
        "    </tr>\n",
        "  </tbody>\n",
        "</table>\n",
        "<p>1 rows \u00d7 10 columns</p>\n",
        "</div>"
       ],
       "metadata": {},
       "output_type": "pyout",
       "prompt_number": 158,
       "text": [
        "   user_id  movie_id  rating  timestamp gender  age  occupation    zip  \\\n",
        "0        1      1193       5  978300760      F    1          10  48067   \n",
        "\n",
        "                                    title genres  \n",
        "0  One Flew Over the Cuckoo's Nest (1975)  Drama  \n",
        "\n",
        "[1 rows x 10 columns]"
       ]
      }
     ],
     "prompt_number": 158
    },
    {
     "cell_type": "code",
     "collapsed": false,
     "input": [
      "data.ix[0]"
     ],
     "language": "python",
     "metadata": {},
     "outputs": [
      {
       "metadata": {},
       "output_type": "pyout",
       "prompt_number": 159,
       "text": [
        "user_id                                            1\n",
        "movie_id                                        1193\n",
        "rating                                             5\n",
        "timestamp                                  978300760\n",
        "gender                                             F\n",
        "age                                                1\n",
        "occupation                                        10\n",
        "zip                                            48067\n",
        "title         One Flew Over the Cuckoo's Nest (1975)\n",
        "genres                                         Drama\n",
        "Name: 0, dtype: object"
       ]
      }
     ],
     "prompt_number": 159
    },
    {
     "cell_type": "code",
     "collapsed": false,
     "input": [],
     "language": "python",
     "metadata": {},
     "outputs": []
    }
   ],
   "metadata": {}
  }
 ]
}