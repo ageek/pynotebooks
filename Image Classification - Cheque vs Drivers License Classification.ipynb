{
 "metadata": {
  "name": ""
 },
 "nbformat": 3,
 "nbformat_minor": 0,
 "worksheets": [
  {
   "cells": [
    {
     "cell_type": "code",
     "collapsed": false,
     "input": [
      "from bs4 import BeautifulSoup\n",
      "import requests\n",
      "import re\n",
      "import urllib2\n",
      "import os\n",
      "\n",
      "\n",
      "def get_soup(url):\n",
      "    return BeautifulSoup(requests.get(url).text)\n",
      "\n",
      "image_type = \"license\"\n",
      "query = \"drivers license sample\"\n",
      "url = \"http://www.bing.com/images/search?q=\" + query + \\\n",
      "    \"&qft=+filterui:color2-bw+filterui:imagesize-large&FORM=R5IR3\"\n",
      "\n",
      "soup = get_soup(url)\n",
      "images = [a['src'] for a in soup.find_all(\"img\", {\"src\": re.compile(\"mm.bing.net\")})]\n",
      "\n",
      "for img in images:\n",
      "    raw_img = urllib2.urlopen(img).read()\n",
      "    cntr = len([i for i in os.listdir(\"images\") if image_type in i]) + 1\n",
      "    f = open(\"images/\" + image_type + \"_\"+ str(cntr), 'wb')\n",
      "    f.write(raw_img)\n",
      "    f.close()\n"
     ],
     "language": "python",
     "metadata": {},
     "outputs": []
    },
    {
     "cell_type": "code",
     "collapsed": false,
     "input": [
      "#setup a standard image size; this will distort some images but will get everything into the same shape\n",
      "import Image\n",
      "STANDARD_SIZE = (300, 167)\n",
      "def img_to_matrix(filename, verbose=False):\n",
      "    \"\"\"\n",
      "    takes a filename and turns it into a numpy array of RGB pixels\n",
      "    \"\"\"\n",
      "    img = Image.open(filename)\n",
      "    if verbose==True:\n",
      "        print \"changing size from %s to %s\" % (str(img.size), str(STANDARD_SIZE))\n",
      "    img = img.resize(STANDARD_SIZE)\n",
      "    img = list(img.getdata())\n",
      "    img = map(list, img)\n",
      "    img = np.array(img)\n",
      "    return img\n",
      " \n",
      "def flatten_image(img):\n",
      "    \"\"\"\n",
      "    takes in an (m, n) numpy array and flattens it \n",
      "    into an array of shape (1, m * n)\n",
      "    \"\"\"\n",
      "    s = img.shape[0] * img.shape[1]\n",
      "    img_wide = img.reshape(1, s)\n",
      "    return img_wide[0]"
     ],
     "language": "python",
     "metadata": {},
     "outputs": [],
     "prompt_number": 1
    },
    {
     "cell_type": "code",
     "collapsed": false,
     "input": [
      "import os\n",
      "img_dir = \"/home/bakuda/ageekrepo/images/\"\n",
      "images = [img_dir+ f for f in os.listdir(img_dir)]\n",
      "labels = [\"cheque\" if \"cheque\" in f.split('/')[-1] else \"license\" for f in images]\n",
      " \n",
      "data = []\n",
      "for image in images:\n",
      "    img = img_to_matrix(image)\n",
      "    img = flatten_image(img)\n",
      "    data.append(img)\n",
      " \n",
      "data = np.array(data)\n",
      "data"
     ],
     "language": "python",
     "metadata": {},
     "outputs": [
      {
       "metadata": {},
       "output_type": "pyout",
       "prompt_number": 2,
       "text": [
        "array([[ 55,  51,  48, ...,  45,  45,  45],\n",
        "       [255, 251, 255, ..., 244, 244, 246],\n",
        "       [255, 247, 255, ..., 248, 248, 248],\n",
        "       ..., \n",
        "       [196, 224, 228, ..., 244, 202, 203],\n",
        "       [ 32,  39,  47, ...,  29,  38,  37],\n",
        "       [244, 244, 244, ..., 252, 252, 252]])"
       ]
      }
     ],
     "prompt_number": 2
    },
    {
     "cell_type": "code",
     "collapsed": false,
     "input": [
      "from sklearn.decomposition import RandomizedPCA\n",
      "import pandas as pd\n",
      "import pylab as pl\n",
      "pca = RandomizedPCA(n_components=2)\n",
      "X = pca.fit_transform(data)\n",
      "X.shape"
     ],
     "language": "python",
     "metadata": {},
     "outputs": [
      {
       "metadata": {},
       "output_type": "pyout",
       "prompt_number": 15,
       "text": [
        "(140, 2)"
       ]
      }
     ],
     "prompt_number": 15
    },
    {
     "cell_type": "code",
     "collapsed": false,
     "input": [
      "df['x'] = X[:,0]\n",
      "df['y'] = X[:,1]\n",
      "df['label'] = (np.where(labels==\"cheque\", \"cheque\", \"license\"))\n",
      "\n",
      "#df = pd.DataFrame({\"x\": X[:, 0], \"y\": X[:, 1], \"label\":np.where(X[:,1]==1, \"cheque\", \"license\")})\n",
      "#df = pd.DataFrame({X,y,label})\n",
      "\n",
      "colors = [\"red\", \"yellow\"]\n",
      "for label, color in zip(df['label'].unique(), colors):\n",
      "    mask = df['label']==label\n",
      "    pl.scatter(df[mask]['x'], df[mask]['y'], c=color, label=label)\n",
      "pl.legend()\n",
      "pl.show()"
     ],
     "language": "python",
     "metadata": {},
     "outputs": [
      {
       "metadata": {},
       "output_type": "display_data",
       "png": "[encoded data removed]",
       "text": [
        "<matplotlib.figure.Figure at 0xa275b2c>"
       ]
      }
     ],
     "prompt_number": 39
    },
    {
     "cell_type": "code",
     "collapsed": false,
     "input": [
      "data.shape"
     ],
     "language": "python",
     "metadata": {},
     "outputs": [
      {
       "metadata": {},
       "output_type": "pyout",
       "prompt_number": 10,
       "text": [
        "(140, 150300)"
       ]
      }
     ],
     "prompt_number": 10
    },
    {
     "cell_type": "code",
     "collapsed": false,
     "input": [
      "df.shape"
     ],
     "language": "python",
     "metadata": {},
     "outputs": [
      {
       "metadata": {},
       "output_type": "pyout",
       "prompt_number": 31,
       "text": [
        "(140, 3)"
       ]
      }
     ],
     "prompt_number": 31
    },
    {
     "cell_type": "code",
     "collapsed": false,
     "input": [
      "df['y']"
     ],
     "language": "python",
     "metadata": {},
     "outputs": [
      {
       "metadata": {},
       "output_type": "pyout",
       "prompt_number": 23,
       "text": [
        "0      3042.493873\n",
        "1     14552.904449\n",
        "2     14769.595902\n",
        "3     -6454.433768\n",
        "4     14552.904449\n",
        "5    -14446.198279\n",
        "6      4093.367570\n",
        "7      1113.761665\n",
        "8     -7731.597506\n",
        "9      1911.510269\n",
        "10      877.590197\n",
        "11     4093.367570\n",
        "12     -360.783995\n",
        "13    -5214.419131\n",
        "14     4845.093785\n",
        "...\n",
        "125    -5086.711868\n",
        "126    -4505.311451\n",
        "127    -2283.676091\n",
        "128     2303.336319\n",
        "129      514.758486\n",
        "130    -7731.597506\n",
        "131      686.232581\n",
        "132     4093.367570\n",
        "133     2083.428705\n",
        "134   -14446.198279\n",
        "135     3042.493873\n",
        "136     7054.812728\n",
        "137     1773.281029\n",
        "138   -21693.212090\n",
        "139     2633.373259\n",
        "Name: y, Length: 140, dtype: float64"
       ]
      }
     ],
     "prompt_number": 23
    },
    {
     "cell_type": "code",
     "collapsed": false,
     "input": [
      "df['label']"
     ],
     "language": "python",
     "metadata": {},
     "outputs": [
      {
       "metadata": {},
       "output_type": "pyout",
       "prompt_number": 42,
       "text": [
        "0     license\n",
        "1     license\n",
        "2     license\n",
        "3     license\n",
        "4     license\n",
        "5     license\n",
        "6     license\n",
        "7     license\n",
        "8     license\n",
        "9     license\n",
        "10    license\n",
        "11    license\n",
        "12    license\n",
        "13    license\n",
        "14    license\n",
        "...\n",
        "125    license\n",
        "126    license\n",
        "127    license\n",
        "128    license\n",
        "129    license\n",
        "130    license\n",
        "131    license\n",
        "132    license\n",
        "133    license\n",
        "134    license\n",
        "135    license\n",
        "136    license\n",
        "137    license\n",
        "138    license\n",
        "139    license\n",
        "Name: label, Length: 140, dtype: object"
       ]
      }
     ],
     "prompt_number": 42
    },
    {
     "cell_type": "code",
     "collapsed": false,
     "input": [
      "X[:5,1]"
     ],
     "language": "python",
     "metadata": {},
     "outputs": [
      {
       "metadata": {},
       "output_type": "pyout",
       "prompt_number": 29,
       "text": [
        "array([  3042.49387327,  14552.9044491 ,  14769.59590244,  -6454.43376819,\n",
        "        14552.9044491 ])"
       ]
      }
     ],
     "prompt_number": 29
    },
    {
     "cell_type": "code",
     "collapsed": false,
     "input": [
      "np.where(labels==1, \"cheque\", \"license\")"
     ],
     "language": "python",
     "metadata": {},
     "outputs": [
      {
       "metadata": {},
       "output_type": "pyout",
       "prompt_number": 37,
       "text": [
        "array('license', \n",
        "      dtype='|S7')"
       ]
      }
     ],
     "prompt_number": 37
    },
    {
     "cell_type": "code",
     "collapsed": false,
     "input": [
      "pca = RandomizedPCA(n_components=5)\n",
      "train_x = pca.fit_transform(train_x)\n",
      "test_x = pca.transform(test_x)\n",
      " \n",
      "print train_x[:5]\n",
      "#array([[ 12614.55016475,  -9156.62662224,  -7649.37090539,  -3230.94749506,\n",
      "#          2495.71170459],\n",
      "#       [ 16111.39363837,   -259.55063579,    699.60464599,   3058.59026495,\n",
      "#         -1552.34714653],\n",
      "#       [ 15019.71069584,  -6403.86621428,   1968.44401114,   2896.76676466,\n",
      "#         -2157.76499726],\n",
      "#       [ 13410.53053415,  -1658.3751377 ,    261.26829049,   1991.33404567,\n",
      "#          -486.60683822],\n",
      "#       [ 12717.28773107,  -1544.27233216,  -1279.70167969,    503.33658729,\n",
      "#           -38.00244617]])\n",
      " \n",
      "knn = KNeighborsClassifier()\n",
      "knn.fit(train_x, train_y)"
     ],
     "language": "python",
     "metadata": {},
     "outputs": [
      {
       "ename": "NameError",
       "evalue": "name 'train_x' is not defined",
       "output_type": "pyerr",
       "traceback": [
        "\u001b[1;31m---------------------------------------------------------------------------\u001b[0m\n\u001b[1;31mNameError\u001b[0m                                 Traceback (most recent call last)",
        "\u001b[1;32m<ipython-input-43-5de7f732a8be>\u001b[0m in \u001b[0;36m<module>\u001b[1;34m()\u001b[0m\n\u001b[0;32m      1\u001b[0m \u001b[0mpca\u001b[0m \u001b[1;33m=\u001b[0m \u001b[0mRandomizedPCA\u001b[0m\u001b[1;33m(\u001b[0m\u001b[0mn_components\u001b[0m\u001b[1;33m=\u001b[0m\u001b[1;36m5\u001b[0m\u001b[1;33m)\u001b[0m\u001b[1;33m\u001b[0m\u001b[0m\n\u001b[1;32m----> 2\u001b[1;33m \u001b[0mtrain_x\u001b[0m \u001b[1;33m=\u001b[0m \u001b[0mpca\u001b[0m\u001b[1;33m.\u001b[0m\u001b[0mfit_transform\u001b[0m\u001b[1;33m(\u001b[0m\u001b[0mtrain_x\u001b[0m\u001b[1;33m)\u001b[0m\u001b[1;33m\u001b[0m\u001b[0m\n\u001b[0m\u001b[0;32m      3\u001b[0m \u001b[0mtest_x\u001b[0m \u001b[1;33m=\u001b[0m \u001b[0mpca\u001b[0m\u001b[1;33m.\u001b[0m\u001b[0mtransform\u001b[0m\u001b[1;33m(\u001b[0m\u001b[0mtest_x\u001b[0m\u001b[1;33m)\u001b[0m\u001b[1;33m\u001b[0m\u001b[0m\n\u001b[0;32m      4\u001b[0m \u001b[1;33m\u001b[0m\u001b[0m\n\u001b[0;32m      5\u001b[0m \u001b[1;32mprint\u001b[0m \u001b[0mtrain_x\u001b[0m\u001b[1;33m[\u001b[0m\u001b[1;33m:\u001b[0m\u001b[1;36m5\u001b[0m\u001b[1;33m]\u001b[0m\u001b[1;33m\u001b[0m\u001b[0m\n",
        "\u001b[1;31mNameError\u001b[0m: name 'train_x' is not defined"
       ]
      }
     ],
     "prompt_number": 43
    },
    {
     "cell_type": "code",
     "collapsed": false,
     "input": [],
     "language": "python",
     "metadata": {},
     "outputs": []
    }
   ],
   "metadata": {}
  }
 ]
}