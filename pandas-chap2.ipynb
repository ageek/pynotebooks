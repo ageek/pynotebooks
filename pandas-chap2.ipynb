{
 "cells": [
  {
   "cell_type": "code",
   "execution_count": 48,
   "metadata": {
    "collapsed": false
   },
   "outputs": [],
   "source": [
    "import pandas as pd\n",
    "%matplotlib inline"
   ]
  },
  {
   "cell_type": "code",
   "execution_count": 4,
   "metadata": {
    "collapsed": true
   },
   "outputs": [],
   "source": [
    "import json "
   ]
  },
  {
   "cell_type": "code",
   "execution_count": 7,
   "metadata": {
    "collapsed": true
   },
   "outputs": [],
   "source": [
    "path=\"/home/topo/repos/ghub/pydata-book/ch02/usagov_bitly_data2012-03-16-1331923249.txt\""
   ]
  },
  {
   "cell_type": "code",
   "execution_count": 9,
   "metadata": {
    "collapsed": false
   },
   "outputs": [
    {
     "data": {
      "text/plain": [
       "'{ \"a\": \"Mozilla\\\\/5.0 (Windows NT 6.1; WOW64) AppleWebKit\\\\/535.11 (KHTML, like Gecko) Chrome\\\\/17.0.963.78 Safari\\\\/535.11\", \"c\": \"US\", \"nk\": 1, \"tz\": \"America\\\\/New_York\", \"gr\": \"MA\", \"g\": \"A6qOVH\", \"h\": \"wfLQtf\", \"l\": \"orofrog\", \"al\": \"en-US,en;q=0.8\", \"hh\": \"1.usa.gov\", \"r\": \"http:\\\\/\\\\/www.facebook.com\\\\/l\\\\/7AQEFzjSi\\\\/1.usa.gov\\\\/wfLQtf\", \"u\": \"http:\\\\/\\\\/www.ncbi.nlm.nih.gov\\\\/pubmed\\\\/22415991\", \"t\": 1331923247, \"hc\": 1331822918, \"cy\": \"Danvers\", \"ll\": [ 42.576698, -70.954903 ] }\\n'"
      ]
     },
     "execution_count": 9,
     "metadata": {},
     "output_type": "execute_result"
    }
   ],
   "source": [
    "open(path).readline()"
   ]
  },
  {
   "cell_type": "code",
   "execution_count": 10,
   "metadata": {
    "collapsed": true
   },
   "outputs": [],
   "source": [
    "records = [json.loads(line) for line in open(path)]\n"
   ]
  },
  {
   "cell_type": "code",
   "execution_count": 16,
   "metadata": {
    "collapsed": false
   },
   "outputs": [
    {
     "data": {
      "text/plain": [
       "[{u'a': u'Mozilla/5.0 (Windows NT 6.1; WOW64) AppleWebKit/535.11 (KHTML, like Gecko) Chrome/17.0.963.78 Safari/535.11',\n",
       "  u'al': u'en-US,en;q=0.8',\n",
       "  u'c': u'US',\n",
       "  u'cy': u'Danvers',\n",
       "  u'g': u'A6qOVH',\n",
       "  u'gr': u'MA',\n",
       "  u'h': u'wfLQtf',\n",
       "  u'hc': 1331822918,\n",
       "  u'hh': u'1.usa.gov',\n",
       "  u'l': u'orofrog',\n",
       "  u'll': [42.576698, -70.954903],\n",
       "  u'nk': 1,\n",
       "  u'r': u'http://www.facebook.com/l/7AQEFzjSi/1.usa.gov/wfLQtf',\n",
       "  u't': 1331923247,\n",
       "  u'tz': u'America/New_York',\n",
       "  u'u': u'http://www.ncbi.nlm.nih.gov/pubmed/22415991'},\n",
       " {u'a': u'GoogleMaps/RochesterNY',\n",
       "  u'c': u'US',\n",
       "  u'cy': u'Provo',\n",
       "  u'g': u'mwszkS',\n",
       "  u'gr': u'UT',\n",
       "  u'h': u'mwszkS',\n",
       "  u'hc': 1308262393,\n",
       "  u'hh': u'j.mp',\n",
       "  u'l': u'bitly',\n",
       "  u'll': [40.218102, -111.613297],\n",
       "  u'nk': 0,\n",
       "  u'r': u'http://www.AwareMap.com/',\n",
       "  u't': 1331923249,\n",
       "  u'tz': u'America/Denver',\n",
       "  u'u': u'http://www.monroecounty.gov/etc/911/rss.php'}]"
      ]
     },
     "execution_count": 16,
     "metadata": {},
     "output_type": "execute_result"
    }
   ],
   "source": [
    "records[:2]"
   ]
  },
  {
   "cell_type": "code",
   "execution_count": 21,
   "metadata": {
    "collapsed": false
   },
   "outputs": [
    {
     "data": {
      "text/plain": [
       "u'America/New_York'"
      ]
     },
     "execution_count": 21,
     "metadata": {},
     "output_type": "execute_result"
    }
   ],
   "source": [
    "records[0]['tz']"
   ]
  },
  {
   "cell_type": "code",
   "execution_count": 23,
   "metadata": {
    "collapsed": false
   },
   "outputs": [],
   "source": [
    "tzones = [rec['tz'] for rec in records if 'tz' in rec]"
   ]
  },
  {
   "cell_type": "code",
   "execution_count": 29,
   "metadata": {
    "collapsed": false
   },
   "outputs": [
    {
     "data": {
      "text/plain": [
       "[u'America/New_York',\n",
       " u'America/Denver',\n",
       " u'America/New_York',\n",
       " u'America/Sao_Paulo',\n",
       " u'America/New_York',\n",
       " u'America/New_York',\n",
       " u'Europe/Warsaw',\n",
       " u'',\n",
       " u'',\n",
       " u'']"
      ]
     },
     "execution_count": 29,
     "metadata": {},
     "output_type": "execute_result"
    }
   ],
   "source": [
    "tzones[:10]"
   ]
  },
  {
   "cell_type": "code",
   "execution_count": 30,
   "metadata": {
    "collapsed": false
   },
   "outputs": [
    {
     "data": {
      "text/plain": [
       "3440"
      ]
     },
     "execution_count": 30,
     "metadata": {},
     "output_type": "execute_result"
    }
   ],
   "source": [
    "len(tzones)"
   ]
  },
  {
   "cell_type": "code",
   "execution_count": 31,
   "metadata": {
    "collapsed": true
   },
   "outputs": [],
   "source": [
    "#Counting Time Zones with pandas"
   ]
  },
  {
   "cell_type": "code",
   "execution_count": 32,
   "metadata": {
    "collapsed": true
   },
   "outputs": [],
   "source": [
    "from pandas import DataFrame, Series"
   ]
  },
  {
   "cell_type": "code",
   "execution_count": 33,
   "metadata": {
    "collapsed": true
   },
   "outputs": [],
   "source": [
    "df = DataFrame(records)"
   ]
  },
  {
   "cell_type": "code",
   "execution_count": 35,
   "metadata": {
    "collapsed": false
   },
   "outputs": [
    {
     "data": {
      "text/plain": [
       "0    America/New_York\n",
       "1      America/Denver\n",
       "Name: tz, dtype: object"
      ]
     },
     "execution_count": 35,
     "metadata": {},
     "output_type": "execute_result"
    }
   ],
   "source": [
    "df[:2]['tz']"
   ]
  },
  {
   "cell_type": "code",
   "execution_count": 37,
   "metadata": {
    "collapsed": false
   },
   "outputs": [
    {
     "data": {
      "text/plain": [
       "0          America/New_York\n",
       "1            America/Denver\n",
       "2          America/New_York\n",
       "3         America/Sao_Paulo\n",
       "4          America/New_York\n",
       "5          America/New_York\n",
       "6             Europe/Warsaw\n",
       "7                          \n",
       "8                          \n",
       "9                          \n",
       "10      America/Los_Angeles\n",
       "11         America/New_York\n",
       "12         America/New_York\n",
       "13                      NaN\n",
       "14         America/New_York\n",
       "15           Asia/Hong_Kong\n",
       "16           Asia/Hong_Kong\n",
       "17         America/New_York\n",
       "18           America/Denver\n",
       "19              Europe/Rome\n",
       "20             Africa/Ceuta\n",
       "21         America/New_York\n",
       "22         America/New_York\n",
       "23         America/New_York\n",
       "24            Europe/Madrid\n",
       "25        Asia/Kuala_Lumpur\n",
       "26             Asia/Nicosia\n",
       "27        America/Sao_Paulo\n",
       "28                         \n",
       "29                         \n",
       "               ...         \n",
       "3530    America/Los_Angeles\n",
       "3531                       \n",
       "3532       America/New_York\n",
       "3533       America/New_York\n",
       "3534        America/Chicago\n",
       "3535        America/Chicago\n",
       "3536                       \n",
       "3537    America/Tegucigalpa\n",
       "3538    America/Los_Angeles\n",
       "3539    America/Los_Angeles\n",
       "3540         America/Denver\n",
       "3541    America/Los_Angeles\n",
       "3542    America/Los_Angeles\n",
       "3543                    NaN\n",
       "3544        America/Chicago\n",
       "3545        America/Chicago\n",
       "3546    America/Los_Angeles\n",
       "3547       America/New_York\n",
       "3548        America/Chicago\n",
       "3549       Europe/Stockholm\n",
       "3550       America/New_York\n",
       "3551                       \n",
       "3552        America/Chicago\n",
       "3553       America/New_York\n",
       "3554       America/New_York\n",
       "3555       America/New_York\n",
       "3556        America/Chicago\n",
       "3557         America/Denver\n",
       "3558    America/Los_Angeles\n",
       "3559       America/New_York\n",
       "Name: tz, dtype: object"
      ]
     },
     "execution_count": 37,
     "metadata": {},
     "output_type": "execute_result"
    }
   ],
   "source": [
    "df['tz']"
   ]
  },
  {
   "cell_type": "code",
   "execution_count": 39,
   "metadata": {
    "collapsed": true
   },
   "outputs": [],
   "source": [
    "tz_counts = df['tz'].value_counts()"
   ]
  },
  {
   "cell_type": "code",
   "execution_count": 41,
   "metadata": {
    "collapsed": false
   },
   "outputs": [
    {
     "data": {
      "text/plain": [
       "America/New_York       1251\n",
       "                        521\n",
       "America/Chicago         400\n",
       "America/Los_Angeles     382\n",
       "America/Denver          191\n",
       "Europe/London            74\n",
       "Asia/Tokyo               37\n",
       "Pacific/Honolulu         36\n",
       "Europe/Madrid            35\n",
       "America/Sao_Paulo        33\n",
       "Europe/Berlin            28\n",
       "Europe/Rome              27\n",
       "Name: tz, dtype: int64"
      ]
     },
     "execution_count": 41,
     "metadata": {},
     "output_type": "execute_result"
    }
   ],
   "source": [
    "tz_counts[:12]"
   ]
  },
  {
   "cell_type": "code",
   "execution_count": 42,
   "metadata": {
    "collapsed": true
   },
   "outputs": [],
   "source": [
    "clean_tz = df['tz'].fillna('Missing')"
   ]
  },
  {
   "cell_type": "code",
   "execution_count": 44,
   "metadata": {
    "collapsed": false
   },
   "outputs": [],
   "source": [
    "clean_tz[clean_tz == ''] ='Unknown'"
   ]
  },
  {
   "cell_type": "code",
   "execution_count": 45,
   "metadata": {
    "collapsed": false
   },
   "outputs": [
    {
     "name": "stdout",
     "output_type": "stream",
     "text": [
      "America/New_York                  1251\n",
      "Unknown                            521\n",
      "America/Chicago                    400\n",
      "America/Los_Angeles                382\n",
      "America/Denver                     191\n",
      "Missing                            120\n",
      "Europe/London                       74\n",
      "Asia/Tokyo                          37\n",
      "Pacific/Honolulu                    36\n",
      "Europe/Madrid                       35\n",
      "America/Sao_Paulo                   33\n",
      "Europe/Berlin                       28\n",
      "Europe/Rome                         27\n",
      "America/Rainy_River                 25\n",
      "Europe/Amsterdam                    22\n",
      "America/Indianapolis                20\n",
      "America/Phoenix                     20\n",
      "Europe/Warsaw                       16\n",
      "America/Mexico_City                 15\n",
      "Europe/Stockholm                    14\n",
      "Europe/Paris                        14\n",
      "America/Vancouver                   12\n",
      "Pacific/Auckland                    11\n",
      "Asia/Hong_Kong                      10\n",
      "Europe/Prague                       10\n",
      "Europe/Helsinki                     10\n",
      "America/Puerto_Rico                 10\n",
      "Europe/Oslo                         10\n",
      "Europe/Moscow                       10\n",
      "Asia/Calcutta                        9\n",
      "                                  ... \n",
      "Europe/Belgrade                      2\n",
      "Asia/Pontianak                       1\n",
      "America/Mazatlan                     1\n",
      "Europe/Skopje                        1\n",
      "America/Argentina/Cordoba            1\n",
      "Europe/Sofia                         1\n",
      "America/Argentina/Mendoza            1\n",
      "America/St_Kitts                     1\n",
      "America/Santo_Domingo                1\n",
      "America/Monterrey                    1\n",
      "Asia/Novosibirsk                     1\n",
      "America/Argentina/Buenos_Aires       1\n",
      "Europe/Volgograd                     1\n",
      "America/Caracas                      1\n",
      "Australia/Queensland                 1\n",
      "Europe/Ljubljana                     1\n",
      "Asia/Riyadh                          1\n",
      "Asia/Manila                          1\n",
      "Africa/Casablanca                    1\n",
      "Africa/Johannesburg                  1\n",
      "Asia/Yekaterinburg                   1\n",
      "America/Lima                         1\n",
      "Asia/Kuching                         1\n",
      "Africa/Lusaka                        1\n",
      "America/Tegucigalpa                  1\n",
      "America/La_Paz                       1\n",
      "Asia/Nicosia                         1\n",
      "Europe/Uzhgorod                      1\n",
      "America/Costa_Rica                   1\n",
      "America/Montevideo                   1\n",
      "Name: tz, dtype: int64\n"
     ]
    }
   ],
   "source": [
    "clean_tz_counts = clean_tz.value_counts()\n",
    "print clean_tz_counts"
   ]
  },
  {
   "cell_type": "code",
   "execution_count": 49,
   "metadata": {
    "collapsed": false
   },
   "outputs": [
    {
     "data": {
      "text/plain": [
       "<matplotlib.axes._subplots.AxesSubplot at 0x7f92d0a18c10>"
      ]
     },
     "execution_count": 49,
     "metadata": {},
     "output_type": "execute_result"
    },
    {
     "data": {
      "image/png": "[encoded data removed]",
      "text/plain": [
       "<matplotlib.figure.Figure at 0x7f92eed46410>"
      ]
     },
     "metadata": {},
     "output_type": "display_data"
    }
   ],
   "source": [
    "clean_tz_counts[:10].plot(kind='barh')\n"
   ]
  },
  {
   "cell_type": "code",
   "execution_count": 50,
   "metadata": {
    "collapsed": false
   },
   "outputs": [
    {
     "data": {
      "text/plain": [
       "<matplotlib.axes._subplots.AxesSubplot at 0x7f92d08e7650>"
      ]
     },
     "execution_count": 50,
     "metadata": {},
     "output_type": "execute_result"
    },
    {
     "data": {
      "image/png": "[encoded data removed]",
      "text/plain": [
       "<matplotlib.figure.Figure at 0x7f92d0867a90>"
      ]
     },
     "metadata": {},
     "output_type": "display_data"
    }
   ],
   "source": [
    "clean_tz_counts[:10].plot(kind='bar')"
   ]
  },
  {
   "cell_type": "code",
   "execution_count": 53,
   "metadata": {
    "collapsed": false
   },
   "outputs": [
    {
     "data": {
      "text/plain": [
       "0    Mozilla/5.0 (Windows NT 6.1; WOW64) AppleWebKi...\n",
       "1                               GoogleMaps/RochesterNY\n",
       "2    Mozilla/4.0 (compatible; MSIE 8.0; Windows NT ...\n",
       "3    Mozilla/5.0 (Macintosh; Intel Mac OS X 10_6_8)...\n",
       "4    Mozilla/5.0 (Windows NT 6.1; WOW64) AppleWebKi...\n",
       "Name: a, dtype: object"
      ]
     },
     "execution_count": 53,
     "metadata": {},
     "output_type": "execute_result"
    }
   ],
   "source": [
    "df['a'][:5]"
   ]
  },
  {
   "cell_type": "code",
   "execution_count": 55,
   "metadata": {
    "collapsed": false
   },
   "outputs": [],
   "source": [
    "t = df['a'][5]"
   ]
  },
  {
   "cell_type": "code",
   "execution_count": 56,
   "metadata": {
    "collapsed": false
   },
   "outputs": [
    {
     "name": "stdout",
     "output_type": "stream",
     "text": [
      "Mozilla/5.0 (Windows NT 6.1; WOW64) AppleWebKit/535.11 (KHTML, like Gecko) Chrome/17.0.963.79 Safari/535.11\n"
     ]
    }
   ],
   "source": [
    "print t"
   ]
  },
  {
   "cell_type": "code",
   "execution_count": 58,
   "metadata": {
    "collapsed": false
   },
   "outputs": [
    {
     "data": {
      "text/plain": [
       "u'Mozilla/5.0'"
      ]
     },
     "execution_count": 58,
     "metadata": {},
     "output_type": "execute_result"
    }
   ],
   "source": [
    "t.split()[0]"
   ]
  },
  {
   "cell_type": "code",
   "execution_count": 59,
   "metadata": {
    "collapsed": true
   },
   "outputs": [],
   "source": [
    "results = Series([x.split()[0] for x in df.a.dropna()])"
   ]
  },
  {
   "cell_type": "code",
   "execution_count": 60,
   "metadata": {
    "collapsed": false
   },
   "outputs": [
    {
     "data": {
      "text/plain": [
       "Mozilla/5.0                                          2594\n",
       "Mozilla/4.0                                           601\n",
       "GoogleMaps/RochesterNY                                121\n",
       "Opera/9.80                                             34\n",
       "TEST_INTERNET_AGENT                                    24\n",
       "GoogleProducer                                         21\n",
       "Mozilla/6.0                                             5\n",
       "BlackBerry8520/5.0.0.681                                4\n",
       "Dalvik/1.4.0                                            3\n",
       "BlackBerry8520/5.0.0.592                                3\n",
       "Goldfire                                                2\n",
       "Socialite/7766                                          2\n",
       "BlackBerry9630/5.0.0.975                                2\n",
       "Acoon                                                   2\n",
       "BlackBerry9530/5.0.0.328                                1\n",
       "Opera/9.64(Windows                                      1\n",
       "LG-GW382f/V10d                                          1\n",
       "BlackBerry9700/5.0.0.862                                1\n",
       "Opera/9.30                                              1\n",
       "BlackBerry9300/5.0.0.997                                1\n",
       "Nokia6790s-1b/ATT.03.22                                 1\n",
       "Vodafone/1.0/LG-KU990i/V10c                             1\n",
       "SAMSUNG-SGH-A887/A887UCIJ1                              1\n",
       "Mozilla/0.6                                             1\n",
       "ICE                                                     1\n",
       "NokiaC3-00/5.0                                          1\n",
       "sometrik.com                                            1\n",
       "LG-LG220C[TF268435458416597116000000013524223841]       1\n",
       "Opera/9.00                                              1\n",
       "Vancouver                                               1\n",
       "BlackBerry9700/5.0.0.423                                1\n",
       "BlackBerry8520/5.0.0.1067                               1\n",
       "BlackBerry8530/5.0.0.654                                1\n",
       "HTTP_Request2/2.0.0                                     1\n",
       "Opera/9.50                                              1\n",
       "MOT-MB525/Blur_Version.34.4.709.MB525.Latam.en.01       1\n",
       "dtype: int64"
      ]
     },
     "execution_count": 60,
     "metadata": {},
     "output_type": "execute_result"
    }
   ],
   "source": [
    "results.value_counts()"
   ]
  },
  {
   "cell_type": "code",
   "execution_count": 62,
   "metadata": {
    "collapsed": false
   },
   "outputs": [
    {
     "data": {
      "text/plain": [
       "True     3440\n",
       "False     120\n",
       "Name: a, dtype: int64"
      ]
     },
     "execution_count": 62,
     "metadata": {},
     "output_type": "execute_result"
    }
   ],
   "source": [
    "df.a.notnull().value_counts()"
   ]
  },
  {
   "cell_type": "code",
   "execution_count": 66,
   "metadata": {
    "collapsed": false
   },
   "outputs": [
    {
     "name": "stdout",
     "output_type": "stream",
     "text": [
      "True    3440\n",
      "Name: a, dtype: int64\n"
     ]
    }
   ],
   "source": [
    "df_notnull = df[df.a.notnull()]\n",
    "print df_notnull.a.notnull().value_counts()"
   ]
  },
  {
   "cell_type": "code",
   "execution_count": 67,
   "metadata": {
    "collapsed": true
   },
   "outputs": [],
   "source": [
    "import numpy as np\n"
   ]
  },
  {
   "cell_type": "code",
   "execution_count": 69,
   "metadata": {
    "collapsed": false
   },
   "outputs": [],
   "source": [
    "os_type = np.where(df_notnull['a'].str.contains('Windows'), 'Windows', 'Not Windows')"
   ]
  },
  {
   "cell_type": "code",
   "execution_count": 71,
   "metadata": {
    "collapsed": false
   },
   "outputs": [
    {
     "data": {
      "text/plain": [
       "array(['Windows', 'Not Windows', 'Windows', ..., 'Not Windows',\n",
       "       'Not Windows', 'Windows'], \n",
       "      dtype='|S11')"
      ]
     },
     "execution_count": 71,
     "metadata": {},
     "output_type": "execute_result"
    }
   ],
   "source": [
    "os_type"
   ]
  },
  {
   "cell_type": "code",
   "execution_count": 72,
   "metadata": {
    "collapsed": true
   },
   "outputs": [],
   "source": [
    "by_tz_os = df_notnull.groupby(['tz', os_type])"
   ]
  },
  {
   "cell_type": "code",
   "execution_count": 74,
   "metadata": {
    "collapsed": false
   },
   "outputs": [
    {
     "data": {
      "text/plain": [
       "tz                                         \n",
       "                                Not Windows    245\n",
       "                                Windows        276\n",
       "Africa/Cairo                    Windows          3\n",
       "Africa/Casablanca               Windows          1\n",
       "Africa/Ceuta                    Windows          2\n",
       "Africa/Johannesburg             Windows          1\n",
       "Africa/Lusaka                   Windows          1\n",
       "America/Anchorage               Not Windows      4\n",
       "                                Windows          1\n",
       "America/Argentina/Buenos_Aires  Not Windows      1\n",
       "America/Argentina/Cordoba       Windows          1\n",
       "America/Argentina/Mendoza       Windows          1\n",
       "America/Bogota                  Not Windows      1\n",
       "                                Windows          2\n",
       "America/Caracas                 Windows          1\n",
       "America/Chicago                 Not Windows    115\n",
       "                                Windows        285\n",
       "America/Chihuahua               Not Windows      1\n",
       "                                Windows          1\n",
       "America/Costa_Rica              Windows          1\n",
       "America/Denver                  Not Windows    132\n",
       "                                Windows         59\n",
       "America/Edmonton                Not Windows      2\n",
       "                                Windows          4\n",
       "America/Guayaquil               Not Windows      2\n",
       "America/Halifax                 Not Windows      1\n",
       "                                Windows          3\n",
       "America/Indianapolis            Not Windows      8\n",
       "                                Windows         12\n",
       "America/La_Paz                  Windows          1\n",
       "                                              ... \n",
       "Europe/Madrid                   Not Windows     16\n",
       "                                Windows         19\n",
       "Europe/Malta                    Windows          2\n",
       "Europe/Moscow                   Not Windows      1\n",
       "                                Windows          9\n",
       "Europe/Oslo                     Not Windows      2\n",
       "                                Windows          8\n",
       "Europe/Paris                    Not Windows      4\n",
       "                                Windows         10\n",
       "Europe/Prague                   Not Windows      3\n",
       "                                Windows          7\n",
       "Europe/Riga                     Not Windows      1\n",
       "                                Windows          1\n",
       "Europe/Rome                     Not Windows      8\n",
       "                                Windows         19\n",
       "Europe/Skopje                   Windows          1\n",
       "Europe/Sofia                    Windows          1\n",
       "Europe/Stockholm                Not Windows      2\n",
       "                                Windows         12\n",
       "Europe/Uzhgorod                 Windows          1\n",
       "Europe/Vienna                   Not Windows      3\n",
       "                                Windows          3\n",
       "Europe/Vilnius                  Windows          2\n",
       "Europe/Volgograd                Windows          1\n",
       "Europe/Warsaw                   Not Windows      1\n",
       "                                Windows         15\n",
       "Europe/Zurich                   Not Windows      4\n",
       "Pacific/Auckland                Not Windows      3\n",
       "                                Windows          8\n",
       "Pacific/Honolulu                Windows         36\n",
       "dtype: int64"
      ]
     },
     "execution_count": 74,
     "metadata": {},
     "output_type": "execute_result"
    }
   ],
   "source": [
    "by_tz_os.size()"
   ]
  },
  {
   "cell_type": "code",
   "execution_count": 78,
   "metadata": {
    "collapsed": false
   },
   "outputs": [
    {
     "name": "stdout",
     "output_type": "stream",
     "text": [
      "                                Not Windows  Windows\n",
      "tz                                                  \n",
      "                                        245      276\n",
      "Africa/Cairo                              0        3\n",
      "Africa/Casablanca                         0        1\n",
      "Africa/Ceuta                              0        2\n",
      "Africa/Johannesburg                       0        1\n",
      "Africa/Lusaka                             0        1\n",
      "America/Anchorage                         4        1\n",
      "America/Argentina/Buenos_Aires            1        0\n",
      "America/Argentina/Cordoba                 0        1\n",
      "America/Argentina/Mendoza                 0        1\n"
     ]
    }
   ],
   "source": [
    "agg_counts = by_tz_os.size().unstack().fillna(0)\n",
    "print agg_counts[:10]"
   ]
  },
  {
   "cell_type": "code",
   "execution_count": 81,
   "metadata": {
    "collapsed": false
   },
   "outputs": [
    {
     "data": {
      "text/plain": [
       "Not Windows    1194\n",
       "Windows        2246\n",
       "dtype: float64"
      ]
     },
     "execution_count": 81,
     "metadata": {},
     "output_type": "execute_result"
    }
   ],
   "source": [
    "#column wise sums\n",
    "agg_counts.sum(axis=0)"
   ]
  },
  {
   "cell_type": "code",
   "execution_count": 90,
   "metadata": {
    "collapsed": false
   },
   "outputs": [
    {
     "data": {
      "text/plain": [
       "tz\n",
       "                                  521\n",
       "Africa/Cairo                        3\n",
       "Africa/Casablanca                   1\n",
       "Africa/Ceuta                        2\n",
       "Africa/Johannesburg                 1\n",
       "Africa/Lusaka                       1\n",
       "America/Anchorage                   5\n",
       "America/Argentina/Buenos_Aires      1\n",
       "America/Argentina/Cordoba           1\n",
       "America/Argentina/Mendoza           1\n",
       "dtype: float64"
      ]
     },
     "execution_count": 90,
     "metadata": {},
     "output_type": "execute_result"
    }
   ],
   "source": [
    "#row wise sums i.e. add \"windows\" and \"not windows\" columns\n",
    "agg_counts.sum(axis=1)[:10]"
   ]
  },
  {
   "cell_type": "code",
   "execution_count": 91,
   "metadata": {
    "collapsed": false
   },
   "outputs": [],
   "source": [
    "order = agg_counts.sum(axis=1).argsort()"
   ]
  },
  {
   "cell_type": "code",
   "execution_count": 84,
   "metadata": {
    "collapsed": false
   },
   "outputs": [
    {
     "data": {
      "text/plain": [
       "tz\n",
       "Europe/Sofia         1\n",
       "Europe/Stockholm    14\n",
       "Europe/Uzhgorod      1\n",
       "Europe/Vienna        6\n",
       "Europe/Vilnius       2\n",
       "Europe/Volgograd     1\n",
       "Europe/Warsaw       16\n",
       "Europe/Zurich        4\n",
       "Pacific/Auckland    11\n",
       "Pacific/Honolulu    36\n",
       "dtype: float64"
      ]
     },
     "execution_count": 84,
     "metadata": {},
     "output_type": "execute_result"
    }
   ],
   "source": [
    "agg_counts.sum(axis=1)[-10:]"
   ]
  },
  {
   "cell_type": "code",
   "execution_count": 95,
   "metadata": {
    "collapsed": false
   },
   "outputs": [
    {
     "name": "stdout",
     "output_type": "stream",
     "text": [
      "                     Not Windows  Windows\n",
      "tz                                       \n",
      "America/Sao_Paulo             13       20\n",
      "Europe/Madrid                 16       19\n",
      "Pacific/Honolulu               0       36\n",
      "Asia/Tokyo                     2       35\n",
      "Europe/London                 43       31\n",
      "America/Denver               132       59\n",
      "America/Los_Angeles          130      252\n",
      "America/Chicago              115      285\n",
      "                             245      276\n",
      "America/New_York             339      912\n"
     ]
    }
   ],
   "source": [
    "subset = agg_counts.take(order)[-10:]\n",
    "print subset"
   ]
  },
  {
   "cell_type": "code",
   "execution_count": 97,
   "metadata": {
    "collapsed": false
   },
   "outputs": [
    {
     "data": {
      "text/plain": [
       "<matplotlib.axes._subplots.AxesSubplot at 0x7f92d0330110>"
      ]
     },
     "execution_count": 97,
     "metadata": {},
     "output_type": "execute_result"
    },
    {
     "data": {
      "image/png": "[encoded data removed]",
      "text/plain": [
       "<matplotlib.figure.Figure at 0x7f92d0815590>"
      ]
     },
     "metadata": {},
     "output_type": "display_data"
    }
   ],
   "source": [
    "subset.plot(kind='bar')"
   ]
  },
  {
   "cell_type": "code",
   "execution_count": 100,
   "metadata": {
    "collapsed": true
   },
   "outputs": [],
   "source": [
    "#sum row-wise and get total, then divide by \n",
    "normed_subset = subset.div(subset.sum(axis=1), axis=0)"
   ]
  },
  {
   "cell_type": "code",
   "execution_count": 99,
   "metadata": {
    "collapsed": false
   },
   "outputs": [
    {
     "data": {
      "text/html": [
       "<div>\n",
       "<table border=\"1\" class=\"dataframe\">\n",
       "  <thead>\n",
       "    <tr style=\"text-align: right;\">\n",
       "      <th></th>\n",
       "      <th>Not Windows</th>\n",
       "      <th>Windows</th>\n",
       "    </tr>\n",
       "    <tr>\n",
       "      <th>tz</th>\n",
       "      <th></th>\n",
       "      <th></th>\n",
       "    </tr>\n",
       "  </thead>\n",
       "  <tbody>\n",
       "    <tr>\n",
       "      <th>America/Sao_Paulo</th>\n",
       "      <td>0.393939</td>\n",
       "      <td>0.606061</td>\n",
       "    </tr>\n",
       "    <tr>\n",
       "      <th>Europe/Madrid</th>\n",
       "      <td>0.457143</td>\n",
       "      <td>0.542857</td>\n",
       "    </tr>\n",
       "    <tr>\n",
       "      <th>Pacific/Honolulu</th>\n",
       "      <td>0.000000</td>\n",
       "      <td>1.000000</td>\n",
       "    </tr>\n",
       "    <tr>\n",
       "      <th>Asia/Tokyo</th>\n",
       "      <td>0.054054</td>\n",
       "      <td>0.945946</td>\n",
       "    </tr>\n",
       "    <tr>\n",
       "      <th>Europe/London</th>\n",
       "      <td>0.581081</td>\n",
       "      <td>0.418919</td>\n",
       "    </tr>\n",
       "    <tr>\n",
       "      <th>America/Denver</th>\n",
       "      <td>0.691099</td>\n",
       "      <td>0.308901</td>\n",
       "    </tr>\n",
       "    <tr>\n",
       "      <th>America/Los_Angeles</th>\n",
       "      <td>0.340314</td>\n",
       "      <td>0.659686</td>\n",
       "    </tr>\n",
       "    <tr>\n",
       "      <th>America/Chicago</th>\n",
       "      <td>0.287500</td>\n",
       "      <td>0.712500</td>\n",
       "    </tr>\n",
       "    <tr>\n",
       "      <th></th>\n",
       "      <td>0.470250</td>\n",
       "      <td>0.529750</td>\n",
       "    </tr>\n",
       "    <tr>\n",
       "      <th>America/New_York</th>\n",
       "      <td>0.270983</td>\n",
       "      <td>0.729017</td>\n",
       "    </tr>\n",
       "  </tbody>\n",
       "</table>\n",
       "</div>"
      ],
      "text/plain": [
       "                     Not Windows   Windows\n",
       "tz                                        \n",
       "America/Sao_Paulo       0.393939  0.606061\n",
       "Europe/Madrid           0.457143  0.542857\n",
       "Pacific/Honolulu        0.000000  1.000000\n",
       "Asia/Tokyo              0.054054  0.945946\n",
       "Europe/London           0.581081  0.418919\n",
       "America/Denver          0.691099  0.308901\n",
       "America/Los_Angeles     0.340314  0.659686\n",
       "America/Chicago         0.287500  0.712500\n",
       "                        0.470250  0.529750\n",
       "America/New_York        0.270983  0.729017"
      ]
     },
     "execution_count": 99,
     "metadata": {},
     "output_type": "execute_result"
    }
   ],
   "source": [
    "normed_subset"
   ]
  },
  {
   "cell_type": "code",
   "execution_count": 103,
   "metadata": {
    "collapsed": false
   },
   "outputs": [
    {
     "data": {
      "text/plain": [
       "tz\n",
       "America/Sao_Paulo        33\n",
       "Europe/Madrid            35\n",
       "Pacific/Honolulu         36\n",
       "Asia/Tokyo               37\n",
       "Europe/London            74\n",
       "America/Denver          191\n",
       "America/Los_Angeles     382\n",
       "America/Chicago         400\n",
       "                        521\n",
       "America/New_York       1251\n",
       "dtype: float64"
      ]
     },
     "execution_count": 103,
     "metadata": {},
     "output_type": "execute_result"
    }
   ],
   "source": [
    "subset.sum(axis=1)"
   ]
  },
  {
   "cell_type": "code",
   "execution_count": 106,
   "metadata": {
    "collapsed": false
   },
   "outputs": [
    {
     "data": {
      "text/plain": [
       "<matplotlib.axes._subplots.AxesSubplot at 0x7f92d00d8c50>"
      ]
     },
     "execution_count": 106,
     "metadata": {},
     "output_type": "execute_result"
    },
    {
     "data": {
      "image/png": "[encoded data removed]",
      "text/plain": [
       "<matplotlib.figure.Figure at 0x7f92d0028910>"
      ]
     },
     "metadata": {},
     "output_type": "display_data"
    }
   ],
   "source": [
    "normed_subset.plot(kind='bar', stacked=True)"
   ]
  },
  {
   "cell_type": "code",
   "execution_count": 8,
   "metadata": {
    "collapsed": false
   },
   "outputs": [
    {
     "name": "stdout",
     "output_type": "stream",
     "text": [
      "/home/topo/repos/ghub/pydata-book/ch02/movielens\n"
     ]
    }
   ],
   "source": [
    "cd /home/topo/repos/ghub/pydata-book/ch02/movielens"
   ]
  },
  {
   "cell_type": "code",
   "execution_count": 9,
   "metadata": {
    "collapsed": false
   },
   "outputs": [
    {
     "name": "stderr",
     "output_type": "stream",
     "text": [
      "/usr/local/lib/python2.7/dist-packages/ipykernel/__main__.py:7: ParserWarning: Falling back to the 'python' engine because the 'c' engine does not support regex separators; you can avoid this warning by specifying engine='python'.\n",
      "/usr/local/lib/python2.7/dist-packages/ipykernel/__main__.py:10: ParserWarning: Falling back to the 'python' engine because the 'c' engine does not support regex separators; you can avoid this warning by specifying engine='python'.\n",
      "/usr/local/lib/python2.7/dist-packages/ipykernel/__main__.py:13: ParserWarning: Falling back to the 'python' engine because the 'c' engine does not support regex separators; you can avoid this warning by specifying engine='python'.\n"
     ]
    }
   ],
   "source": [
    "# Movie_lens dataset\n",
    "\n",
    "\n",
    "import pandas as pd\n",
    "unames = ['user_id', 'gender', 'age', 'occupation', 'zip']\n",
    "users = pd.read_table('users.dat', sep='::', header=None,\n",
    "names=unames)\n",
    "rnames = ['user_id', 'movie_id', 'rating', 'timestamp']\n",
    "ratings = pd.read_table('ratings.dat', sep='::', header=None,\n",
    "names=rnames)\n",
    "mnames = ['movie_id', 'title', 'genres']\n",
    "movies = pd.read_table('movies.dat', sep='::', header=None,\n",
    "names=mnames)"
   ]
  },
  {
   "cell_type": "code",
   "execution_count": 6,
   "metadata": {
    "collapsed": false
   },
   "outputs": [
    {
     "name": "stdout",
     "output_type": "stream",
     "text": [
      "/home/topo/repos/ghub/pynotebooks\r\n"
     ]
    }
   ],
   "source": []
  },
  {
   "cell_type": "code",
   "execution_count": 10,
   "metadata": {
    "collapsed": false
   },
   "outputs": [
    {
     "data": {
      "text/plain": [
       "user_id       6040\n",
       "gender        6040\n",
       "age           6040\n",
       "occupation    6040\n",
       "zip           6040\n",
       "dtype: int64"
      ]
     },
     "execution_count": 10,
     "metadata": {},
     "output_type": "execute_result"
    }
   ],
   "source": [
    "users.count()"
   ]
  },
  {
   "cell_type": "code",
   "execution_count": 14,
   "metadata": {
    "collapsed": false
   },
   "outputs": [
    {
     "data": {
      "text/plain": [
       "movie_id    3883\n",
       "title       3883\n",
       "genres      3883\n",
       "dtype: int64"
      ]
     },
     "execution_count": 14,
     "metadata": {},
     "output_type": "execute_result"
    }
   ],
   "source": [
    "movies.count()"
   ]
  },
  {
   "cell_type": "code",
   "execution_count": 12,
   "metadata": {
    "collapsed": false
   },
   "outputs": [
    {
     "data": {
      "text/plain": [
       "user_id      1000209\n",
       "movie_id     1000209\n",
       "rating       1000209\n",
       "timestamp    1000209\n",
       "dtype: int64"
      ]
     },
     "execution_count": 12,
     "metadata": {},
     "output_type": "execute_result"
    }
   ],
   "source": [
    "ratings.count()"
   ]
  },
  {
   "cell_type": "code",
   "execution_count": 15,
   "metadata": {
    "collapsed": true
   },
   "outputs": [],
   "source": [
    "data = pd.merge(pd.merge(ratings, users), movies)"
   ]
  },
  {
   "cell_type": "code",
   "execution_count": 28,
   "metadata": {
    "collapsed": false
   },
   "outputs": [
    {
     "name": "stdout",
     "output_type": "stream",
     "text": [
      "(1000209, 10)\n",
      "user_id       1000209\n",
      "movie_id      1000209\n",
      "rating        1000209\n",
      "timestamp     1000209\n",
      "gender        1000209\n",
      "age           1000209\n",
      "occupation    1000209\n",
      "zip           1000209\n",
      "title         1000209\n",
      "genres        1000209\n",
      "dtype: int64\n"
     ]
    }
   ],
   "source": [
    "print data.shape\n",
    "print data.count()"
   ]
  },
  {
   "cell_type": "code",
   "execution_count": 17,
   "metadata": {
    "collapsed": false
   },
   "outputs": [
    {
     "data": {
      "text/html": [
       "<div>\n",
       "<table border=\"1\" class=\"dataframe\">\n",
       "  <thead>\n",
       "    <tr style=\"text-align: right;\">\n",
       "      <th></th>\n",
       "      <th>user_id</th>\n",
       "      <th>movie_id</th>\n",
       "      <th>rating</th>\n",
       "      <th>timestamp</th>\n",
       "      <th>gender</th>\n",
       "      <th>age</th>\n",
       "      <th>occupation</th>\n",
       "      <th>zip</th>\n",
       "      <th>title</th>\n",
       "      <th>genres</th>\n",
       "    </tr>\n",
       "  </thead>\n",
       "  <tbody>\n",
       "    <tr>\n",
       "      <th>0</th>\n",
       "      <td>1</td>\n",
       "      <td>1193</td>\n",
       "      <td>5</td>\n",
       "      <td>978300760</td>\n",
       "      <td>F</td>\n",
       "      <td>1</td>\n",
       "      <td>10</td>\n",
       "      <td>48067</td>\n",
       "      <td>One Flew Over the Cuckoo's Nest (1975)</td>\n",
       "      <td>Drama</td>\n",
       "    </tr>\n",
       "    <tr>\n",
       "      <th>1</th>\n",
       "      <td>2</td>\n",
       "      <td>1193</td>\n",
       "      <td>5</td>\n",
       "      <td>978298413</td>\n",
       "      <td>M</td>\n",
       "      <td>56</td>\n",
       "      <td>16</td>\n",
       "      <td>70072</td>\n",
       "      <td>One Flew Over the Cuckoo's Nest (1975)</td>\n",
       "      <td>Drama</td>\n",
       "    </tr>\n",
       "    <tr>\n",
       "      <th>2</th>\n",
       "      <td>12</td>\n",
       "      <td>1193</td>\n",
       "      <td>4</td>\n",
       "      <td>978220179</td>\n",
       "      <td>M</td>\n",
       "      <td>25</td>\n",
       "      <td>12</td>\n",
       "      <td>32793</td>\n",
       "      <td>One Flew Over the Cuckoo's Nest (1975)</td>\n",
       "      <td>Drama</td>\n",
       "    </tr>\n",
       "    <tr>\n",
       "      <th>3</th>\n",
       "      <td>15</td>\n",
       "      <td>1193</td>\n",
       "      <td>4</td>\n",
       "      <td>978199279</td>\n",
       "      <td>M</td>\n",
       "      <td>25</td>\n",
       "      <td>7</td>\n",
       "      <td>22903</td>\n",
       "      <td>One Flew Over the Cuckoo's Nest (1975)</td>\n",
       "      <td>Drama</td>\n",
       "    </tr>\n",
       "    <tr>\n",
       "      <th>4</th>\n",
       "      <td>17</td>\n",
       "      <td>1193</td>\n",
       "      <td>5</td>\n",
       "      <td>978158471</td>\n",
       "      <td>M</td>\n",
       "      <td>50</td>\n",
       "      <td>1</td>\n",
       "      <td>95350</td>\n",
       "      <td>One Flew Over the Cuckoo's Nest (1975)</td>\n",
       "      <td>Drama</td>\n",
       "    </tr>\n",
       "  </tbody>\n",
       "</table>\n",
       "</div>"
      ],
      "text/plain": [
       "   user_id  movie_id  rating  timestamp gender  age  occupation    zip  \\\n",
       "0        1      1193       5  978300760      F    1          10  48067   \n",
       "1        2      1193       5  978298413      M   56          16  70072   \n",
       "2       12      1193       4  978220179      M   25          12  32793   \n",
       "3       15      1193       4  978199279      M   25           7  22903   \n",
       "4       17      1193       5  978158471      M   50           1  95350   \n",
       "\n",
       "                                    title genres  \n",
       "0  One Flew Over the Cuckoo's Nest (1975)  Drama  \n",
       "1  One Flew Over the Cuckoo's Nest (1975)  Drama  \n",
       "2  One Flew Over the Cuckoo's Nest (1975)  Drama  \n",
       "3  One Flew Over the Cuckoo's Nest (1975)  Drama  \n",
       "4  One Flew Over the Cuckoo's Nest (1975)  Drama  "
      ]
     },
     "execution_count": 17,
     "metadata": {},
     "output_type": "execute_result"
    }
   ],
   "source": [
    "data[:5]"
   ]
  },
  {
   "cell_type": "code",
   "execution_count": 19,
   "metadata": {
    "collapsed": false
   },
   "outputs": [
    {
     "data": {
      "text/html": [
       "<div>\n",
       "<table border=\"1\" class=\"dataframe\">\n",
       "  <thead>\n",
       "    <tr style=\"text-align: right;\">\n",
       "      <th></th>\n",
       "      <th>user_id</th>\n",
       "      <th>movie_id</th>\n",
       "      <th>rating</th>\n",
       "      <th>timestamp</th>\n",
       "      <th>gender</th>\n",
       "      <th>age</th>\n",
       "      <th>occupation</th>\n",
       "      <th>zip</th>\n",
       "      <th>title</th>\n",
       "      <th>genres</th>\n",
       "    </tr>\n",
       "  </thead>\n",
       "  <tbody>\n",
       "    <tr>\n",
       "      <th>0</th>\n",
       "      <td>1</td>\n",
       "      <td>1193</td>\n",
       "      <td>5</td>\n",
       "      <td>978300760</td>\n",
       "      <td>F</td>\n",
       "      <td>1</td>\n",
       "      <td>10</td>\n",
       "      <td>48067</td>\n",
       "      <td>One Flew Over the Cuckoo's Nest (1975)</td>\n",
       "      <td>Drama</td>\n",
       "    </tr>\n",
       "  </tbody>\n",
       "</table>\n",
       "</div>"
      ],
      "text/plain": [
       "   user_id  movie_id  rating  timestamp gender  age  occupation    zip  \\\n",
       "0        1      1193       5  978300760      F    1          10  48067   \n",
       "\n",
       "                                    title genres  \n",
       "0  One Flew Over the Cuckoo's Nest (1975)  Drama  "
      ]
     },
     "execution_count": 19,
     "metadata": {},
     "output_type": "execute_result"
    }
   ],
   "source": [
    "data[:1]"
   ]
  },
  {
   "cell_type": "code",
   "execution_count": 20,
   "metadata": {
    "collapsed": false
   },
   "outputs": [
    {
     "data": {
      "text/plain": [
       "user_id                                            1\n",
       "movie_id                                        1193\n",
       "rating                                             5\n",
       "timestamp                                  978300760\n",
       "gender                                             F\n",
       "age                                                1\n",
       "occupation                                        10\n",
       "zip                                            48067\n",
       "title         One Flew Over the Cuckoo's Nest (1975)\n",
       "genres                                         Drama\n",
       "Name: 0, dtype: object"
      ]
     },
     "execution_count": 20,
     "metadata": {},
     "output_type": "execute_result"
    }
   ],
   "source": [
    "data.ix[0]"
   ]
  },
  {
   "cell_type": "code",
   "execution_count": 40,
   "metadata": {
    "collapsed": false
   },
   "outputs": [
    {
     "name": "stdout",
     "output_type": "stream",
     "text": [
      "title   $1,000,000 Duck (1971)  'Night Mother (1986)  \\\n",
      "gender                                                 \n",
      "F                     3.375000              3.388889   \n",
      "M                     2.761905              3.352941   \n",
      "\n",
      "title   'Til There Was You (1997)  'burbs, The (1989)  \\\n",
      "gender                                                  \n",
      "F                        2.675676            2.793478   \n",
      "M                        2.733333            2.962085   \n",
      "\n",
      "title   ...And Justice for All (1979)  1-900 (1994)  \\\n",
      "gender                                                \n",
      "F                            3.828571             2   \n",
      "M                            3.689024             3   \n",
      "\n",
      "title   10 Things I Hate About You (1999)  101 Dalmatians (1961)  \\\n",
      "gender                                                             \n",
      "F                                3.646552               3.791444   \n",
      "M                                3.311966               3.500000   \n",
      "\n",
      "title   101 Dalmatians (1996)  12 Angry Men (1957)       ...         \\\n",
      "gender                                                   ...          \n",
      "F                    3.240000             4.184397       ...          \n",
      "M                    2.911215             4.328421       ...          \n",
      "\n",
      "title   Young Poisoner's Handbook, The (1995)  Young Sherlock Holmes (1985)  \\\n",
      "gender                                                                        \n",
      "F                                    4.000000                      3.514706   \n",
      "M                                    3.532258                      3.363344   \n",
      "\n",
      "title   Young and Innocent (1937)  Your Friends and Neighbors (1998)  \\\n",
      "gender                                                                 \n",
      "F                             2.5                           2.888889   \n",
      "M                             3.5                           3.536585   \n",
      "\n",
      "title   Zachariah (1971)  Zed & Two Noughts, A (1985)  Zero Effect (1998)  \\\n",
      "gender                                                                      \n",
      "F                    NaN                     3.500000            3.864407   \n",
      "M                    3.5                     3.380952            3.723140   \n",
      "\n",
      "title   Zero Kelvin (Kj�rlighetens kj�tere) (1995)  Zeus and Roxanne (1997)  \\\n",
      "gender                                                                        \n",
      "F                                              NaN                 2.777778   \n",
      "M                                              3.5                 2.357143   \n",
      "\n",
      "title   eXistenZ (1999)  \n",
      "gender                   \n",
      "F              3.098592  \n",
      "M              3.289086  \n",
      "\n",
      "[2 rows x 3706 columns]\n"
     ]
    }
   ],
   "source": [
    "#mean rating by gender - updated as per current method...the one in book is not working anymore\n",
    "import numpy as np\n",
    "mean_ratings = pd.pivot_table(data, values='rating', index=['gender'], columns=['title'], aggfunc=np.mean)\n",
    "print mean_ratings[:2]"
   ]
  },
  {
   "cell_type": "code",
   "execution_count": 37,
   "metadata": {
    "collapsed": false
   },
   "outputs": [
    {
     "name": "stdout",
     "output_type": "stream",
     "text": [
      "title                                       gender\n",
      "$1,000,000 Duck (1971)                      F         3.375000\n",
      "                                            M         2.761905\n",
      "'Night Mother (1986)                        F         3.388889\n",
      "                                            M         3.352941\n",
      "'Til There Was You (1997)                   F         2.675676\n",
      "                                            M         2.733333\n",
      "'burbs, The (1989)                          F         2.793478\n",
      "                                            M         2.962085\n",
      "...And Justice for All (1979)               F         3.828571\n",
      "                                            M         3.689024\n",
      "1-900 (1994)                                F         2.000000\n",
      "                                            M         3.000000\n",
      "10 Things I Hate About You (1999)           F         3.646552\n",
      "                                            M         3.311966\n",
      "101 Dalmatians (1961)                       F         3.791444\n",
      "                                            M         3.500000\n",
      "101 Dalmatians (1996)                       F         3.240000\n",
      "                                            M         2.911215\n",
      "12 Angry Men (1957)                         F         4.184397\n",
      "                                            M         4.328421\n",
      "13th Warrior, The (1999)                    F         3.112000\n",
      "                                            M         3.168000\n",
      "187 (1997)                                  F         2.428571\n",
      "                                            M         2.791667\n",
      "2 Days in the Valley (1996)                 F         3.488889\n",
      "                                            M         3.244813\n",
      "20 Dates (1998)                             F         2.620690\n",
      "                                            M         2.918182\n",
      "20,000 Leagues Under the Sea (1954)         F         3.670103\n",
      "                                            M         3.709205\n",
      "                                                        ...   \n",
      "You've Got Mail (1998)                      F         3.542424\n",
      "                                            M         3.275591\n",
      "Young Doctors in Love (1982)                F         1.923077\n",
      "                                            M         2.742424\n",
      "Young Frankenstein (1974)                   F         4.289963\n",
      "                                            M         4.239177\n",
      "Young Guns (1988)                           F         3.371795\n",
      "                                            M         3.425620\n",
      "Young Guns II (1990)                        F         2.934783\n",
      "                                            M         2.904025\n",
      "Young Poisoner's Handbook, The (1995)       F         4.000000\n",
      "                                            M         3.532258\n",
      "Young Sherlock Holmes (1985)                F         3.514706\n",
      "                                            M         3.363344\n",
      "Young and Innocent (1937)                   F         2.500000\n",
      "                                            M         3.500000\n",
      "Your Friends and Neighbors (1998)           F         2.888889\n",
      "                                            M         3.536585\n",
      "Zachariah (1971)                            F              NaN\n",
      "                                            M         3.500000\n",
      "Zed & Two Noughts, A (1985)                 F         3.500000\n",
      "                                            M         3.380952\n",
      "Zero Effect (1998)                          F         3.864407\n",
      "                                            M         3.723140\n",
      "Zero Kelvin (Kj�rlighetens kj�tere) (1995)  F              NaN\n",
      "                                            M         3.500000\n",
      "Zeus and Roxanne (1997)                     F         2.777778\n",
      "                                            M         2.357143\n",
      "eXistenZ (1999)                             F         3.098592\n",
      "                                            M         3.289086\n",
      "dtype: float64\n"
     ]
    }
   ],
   "source": [
    "#unstack and print, else it'll print as above\n",
    "print mean_ratings[:5].unstack()"
   ]
  },
  {
   "cell_type": "code",
   "execution_count": 30,
   "metadata": {
    "collapsed": false
   },
   "outputs": [
    {
     "name": "stdout",
     "output_type": "stream",
     "text": [
      "Help on function pivot_table in module pandas.tools.pivot:\n",
      "\n",
      "pivot_table(data, values=None, index=None, columns=None, aggfunc='mean', fill_value=None, margins=False, dropna=True, margins_name='All')\n",
      "    Create a spreadsheet-style pivot table as a DataFrame. The levels in the\n",
      "    pivot table will be stored in MultiIndex objects (hierarchical indexes) on\n",
      "    the index and columns of the result DataFrame\n",
      "    \n",
      "    Parameters\n",
      "    ----------\n",
      "    data : DataFrame\n",
      "    values : column to aggregate, optional\n",
      "    index : a column, Grouper, array which has the same length as data, or list of them.\n",
      "        Keys to group by on the pivot table index.\n",
      "        If an array is passed, it is being used as the same manner as column values.\n",
      "    columns : a column, Grouper, array which has the same length as data, or list of them.\n",
      "        Keys to group by on the pivot table column.\n",
      "        If an array is passed, it is being used as the same manner as column values.\n",
      "    aggfunc : function, default numpy.mean, or list of functions\n",
      "        If list of functions passed, the resulting pivot table will have\n",
      "        hierarchical columns whose top level are the function names (inferred\n",
      "        from the function objects themselves)\n",
      "    fill_value : scalar, default None\n",
      "        Value to replace missing values with\n",
      "    margins : boolean, default False\n",
      "        Add all row / columns (e.g. for subtotal / grand totals)\n",
      "    dropna : boolean, default True\n",
      "        Do not include columns whose entries are all NaN\n",
      "    margins_name : string, default 'All'\n",
      "        Name of the row / column that will contain the totals\n",
      "        when margins is True.\n",
      "    \n",
      "    Examples\n",
      "    --------\n",
      "    >>> df\n",
      "       A   B   C      D\n",
      "    0  foo one small  1\n",
      "    1  foo one large  2\n",
      "    2  foo one large  2\n",
      "    3  foo two small  3\n",
      "    4  foo two small  3\n",
      "    5  bar one large  4\n",
      "    6  bar one small  5\n",
      "    7  bar two small  6\n",
      "    8  bar two large  7\n",
      "    \n",
      "    >>> table = pivot_table(df, values='D', index=['A', 'B'],\n",
      "    ...                     columns=['C'], aggfunc=np.sum)\n",
      "    >>> table\n",
      "              small  large\n",
      "    foo  one  1      4\n",
      "         two  6      NaN\n",
      "    bar  one  5      4\n",
      "         two  6      7\n",
      "    \n",
      "    Returns\n",
      "    -------\n",
      "    table : DataFrame\n",
      "\n"
     ]
    }
   ],
   "source": [
    "help(pd.pivot_table)"
   ]
  },
  {
   "cell_type": "code",
   "execution_count": 41,
   "metadata": {
    "collapsed": true
   },
   "outputs": [],
   "source": [
    "ratings_by_title = data.groupby('title').size()"
   ]
  },
  {
   "cell_type": "code",
   "execution_count": 42,
   "metadata": {
    "collapsed": false
   },
   "outputs": [
    {
     "name": "stdout",
     "output_type": "stream",
     "text": [
      "title\n",
      "$1,000,000 Duck (1971)                              37\n",
      "'Night Mother (1986)                                70\n",
      "'Til There Was You (1997)                           52\n",
      "'burbs, The (1989)                                 303\n",
      "...And Justice for All (1979)                      199\n",
      "1-900 (1994)                                         2\n",
      "10 Things I Hate About You (1999)                  700\n",
      "101 Dalmatians (1961)                              565\n",
      "101 Dalmatians (1996)                              364\n",
      "12 Angry Men (1957)                                616\n",
      "13th Warrior, The (1999)                           750\n",
      "187 (1997)                                          55\n",
      "2 Days in the Valley (1996)                        286\n",
      "20 Dates (1998)                                    139\n",
      "20,000 Leagues Under the Sea (1954)                575\n",
      "200 Cigarettes (1999)                              181\n",
      "2001: A Space Odyssey (1968)                      1716\n",
      "2010 (1984)                                        470\n",
      "24 7: Twenty Four Seven (1997)                       5\n",
      "24-hour Woman (1998)                                 9\n",
      "28 Days (2000)                                     505\n",
      "3 Ninjas: High Noon On Mega Mountain (1998)         47\n",
      "3 Strikes (2000)                                     4\n",
      "301, 302 (1995)                                      9\n",
      "39 Steps, The (1935)                               253\n",
      "400 Blows, The (Les Quatre cents coups) (1959)     187\n",
      "42 Up (1998)                                        88\n",
      "52 Pick-Up (1986)                                  140\n",
      "54 (1998)                                          259\n",
      "7th Voyage of Sinbad, The (1958)                   258\n",
      "                                                  ... \n",
      "Wrongfully Accused (1998)                          123\n",
      "Wyatt Earp (1994)                                  270\n",
      "X-Files: Fight the Future, The (1998)              996\n",
      "X-Men (2000)                                      1511\n",
      "X: The Unknown (1956)                               12\n",
      "Xiu Xiu: The Sent-Down Girl (Tian yu) (1998)        69\n",
      "Yankee Zulu (1994)                                   2\n",
      "Yards, The (1999)                                   77\n",
      "Year My Voice Broke, The (1987)                     27\n",
      "Year of Living Dangerously (1982)                  391\n",
      "Year of the Horse (1997)                             4\n",
      "Yellow Submarine (1968)                            399\n",
      "Yojimbo (1961)                                     215\n",
      "You Can't Take It With You (1938)                   77\n",
      "You So Crazy (1994)                                 13\n",
      "You've Got Mail (1998)                             838\n",
      "Young Doctors in Love (1982)                        79\n",
      "Young Frankenstein (1974)                         1193\n",
      "Young Guns (1988)                                  562\n",
      "Young Guns II (1990)                               369\n",
      "Young Poisoner's Handbook, The (1995)               79\n",
      "Young Sherlock Holmes (1985)                       379\n",
      "Young and Innocent (1937)                           10\n",
      "Your Friends and Neighbors (1998)                  109\n",
      "Zachariah (1971)                                     2\n",
      "Zed & Two Noughts, A (1985)                         29\n",
      "Zero Effect (1998)                                 301\n",
      "Zero Kelvin (Kj�rlighetens kj�tere) (1995)           2\n",
      "Zeus and Roxanne (1997)                             23\n",
      "eXistenZ (1999)                                    410\n",
      "dtype: int64\n"
     ]
    }
   ],
   "source": [
    "print ratings_by_title"
   ]
  },
  {
   "cell_type": "code",
   "execution_count": 43,
   "metadata": {
    "collapsed": false
   },
   "outputs": [
    {
     "name": "stdout",
     "output_type": "stream",
     "text": [
      "gender\n",
      "F    246440\n",
      "M    753769\n",
      "dtype: int64\n"
     ]
    }
   ],
   "source": [
    "print data.groupby('gender').size()"
   ]
  },
  {
   "cell_type": "code",
   "execution_count": 51,
   "metadata": {
    "collapsed": true
   },
   "outputs": [],
   "source": [
    "#movies with ratings >250\n",
    "active_titles = ratings_by_title.index[ratings_by_title >= 250]"
   ]
  },
  {
   "cell_type": "code",
   "execution_count": 49,
   "metadata": {
    "collapsed": false
   },
   "outputs": [
    {
     "data": {
      "text/plain": [
       "title\n",
       "$1,000,000 Duck (1971)           False\n",
       "'Night Mother (1986)             False\n",
       "'Til There Was You (1997)        False\n",
       "'burbs, The (1989)                True\n",
       "...And Justice for All (1979)    False\n",
       "dtype: bool"
      ]
     },
     "execution_count": 49,
     "metadata": {},
     "output_type": "execute_result"
    }
   ],
   "source": [
    "(ratings_by_title > 250)[:5]"
   ]
  },
  {
   "cell_type": "code",
   "execution_count": 50,
   "metadata": {
    "collapsed": false
   },
   "outputs": [
    {
     "data": {
      "text/plain": [
       "title\n",
       "'burbs, The (1989)                                                     303\n",
       "10 Things I Hate About You (1999)                                      700\n",
       "101 Dalmatians (1961)                                                  565\n",
       "101 Dalmatians (1996)                                                  364\n",
       "12 Angry Men (1957)                                                    616\n",
       "13th Warrior, The (1999)                                               750\n",
       "2 Days in the Valley (1996)                                            286\n",
       "20,000 Leagues Under the Sea (1954)                                    575\n",
       "2001: A Space Odyssey (1968)                                          1716\n",
       "2010 (1984)                                                            470\n",
       "28 Days (2000)                                                         505\n",
       "39 Steps, The (1935)                                                   253\n",
       "54 (1998)                                                              259\n",
       "7th Voyage of Sinbad, The (1958)                                       258\n",
       "8MM (1999)                                                             272\n",
       "About Last Night... (1986)                                             326\n",
       "Absent Minded Professor, The (1961)                                    380\n",
       "Absolute Power (1997)                                                  380\n",
       "Abyss, The (1989)                                                     1715\n",
       "Ace Ventura: Pet Detective (1994)                                      766\n",
       "Ace Ventura: When Nature Calls (1995)                                  389\n",
       "Addams Family Values (1993)                                            463\n",
       "Addams Family, The (1991)                                              714\n",
       "Adventures in Babysitting (1987)                                       541\n",
       "Adventures of Buckaroo Bonzai Across the 8th Dimension, The (1984)     611\n",
       "Adventures of Priscilla, Queen of the Desert, The (1994)               469\n",
       "Adventures of Robin Hood, The (1938)                                   378\n",
       "African Queen, The (1951)                                             1057\n",
       "Age of Innocence, The (1993)                                           295\n",
       "Agnes of God (1985)                                                    276\n",
       "                                                                      ... \n",
       "White Men Can't Jump (1992)                                            667\n",
       "Who Framed Roger Rabbit? (1988)                                       1799\n",
       "Who's Afraid of Virginia Woolf? (1966)                                 297\n",
       "Whole Nine Yards, The (2000)                                           602\n",
       "Wild Bunch, The (1969)                                                 264\n",
       "Wild Things (1998)                                                     626\n",
       "Wild Wild West (1999)                                                  902\n",
       "William Shakespeare's Romeo and Juliet (1996)                          479\n",
       "Willow (1988)                                                          802\n",
       "Willy Wonka and the Chocolate Factory (1971)                          1313\n",
       "Witness (1985)                                                        1046\n",
       "Wizard of Oz, The (1939)                                              1718\n",
       "Wolf (1994)                                                            272\n",
       "Women on the Verge of a Nervous Breakdown (1988)                       353\n",
       "Wonder Boys (2000)                                                     496\n",
       "Working Girl (1988)                                                    514\n",
       "World Is Not Enough, The (1999)                                        862\n",
       "Wrong Trousers, The (1993)                                             882\n",
       "Wyatt Earp (1994)                                                      270\n",
       "X-Files: Fight the Future, The (1998)                                  996\n",
       "X-Men (2000)                                                          1511\n",
       "Year of Living Dangerously (1982)                                      391\n",
       "Yellow Submarine (1968)                                                399\n",
       "You've Got Mail (1998)                                                 838\n",
       "Young Frankenstein (1974)                                             1193\n",
       "Young Guns (1988)                                                      562\n",
       "Young Guns II (1990)                                                   369\n",
       "Young Sherlock Holmes (1985)                                           379\n",
       "Zero Effect (1998)                                                     301\n",
       "eXistenZ (1999)                                                        410\n",
       "dtype: int64"
      ]
     },
     "execution_count": 50,
     "metadata": {},
     "output_type": "execute_result"
    }
   ],
   "source": [
    "ratings_by_title[ratings_by_title >250]"
   ]
  },
  {
   "cell_type": "code",
   "execution_count": 52,
   "metadata": {
    "collapsed": false
   },
   "outputs": [
    {
     "data": {
      "text/plain": [
       "Index([u''burbs, The (1989)', u'10 Things I Hate About You (1999)',\n",
       "       u'101 Dalmatians (1961)', u'101 Dalmatians (1996)',\n",
       "       u'12 Angry Men (1957)'],\n",
       "      dtype='object', name=u'title')"
      ]
     },
     "execution_count": 52,
     "metadata": {},
     "output_type": "execute_result"
    }
   ],
   "source": [
    "active_titles[:5]"
   ]
  },
  {
   "cell_type": "code",
   "execution_count": 54,
   "metadata": {
    "collapsed": true
   },
   "outputs": [],
   "source": [
    "# pick mean_ratings for active_titles only\n",
    "mean_ratings = mean_ratings.ix[active_titles]"
   ]
  },
  {
   "cell_type": "code",
   "execution_count": 55,
   "metadata": {
    "collapsed": false
   },
   "outputs": [
    {
     "data": {
      "text/html": [
       "<div>\n",
       "<table border=\"1\" class=\"dataframe\">\n",
       "  <thead>\n",
       "    <tr style=\"text-align: right;\">\n",
       "      <th>title</th>\n",
       "      <th>$1,000,000 Duck (1971)</th>\n",
       "      <th>'Night Mother (1986)</th>\n",
       "      <th>'Til There Was You (1997)</th>\n",
       "      <th>'burbs, The (1989)</th>\n",
       "      <th>...And Justice for All (1979)</th>\n",
       "      <th>1-900 (1994)</th>\n",
       "      <th>10 Things I Hate About You (1999)</th>\n",
       "      <th>101 Dalmatians (1961)</th>\n",
       "      <th>101 Dalmatians (1996)</th>\n",
       "      <th>12 Angry Men (1957)</th>\n",
       "      <th>...</th>\n",
       "      <th>Young Poisoner's Handbook, The (1995)</th>\n",
       "      <th>Young Sherlock Holmes (1985)</th>\n",
       "      <th>Young and Innocent (1937)</th>\n",
       "      <th>Your Friends and Neighbors (1998)</th>\n",
       "      <th>Zachariah (1971)</th>\n",
       "      <th>Zed &amp; Two Noughts, A (1985)</th>\n",
       "      <th>Zero Effect (1998)</th>\n",
       "      <th>Zero Kelvin (Kj�rlighetens kj�tere) (1995)</th>\n",
       "      <th>Zeus and Roxanne (1997)</th>\n",
       "      <th>eXistenZ (1999)</th>\n",
       "    </tr>\n",
       "    <tr>\n",
       "      <th>title</th>\n",
       "      <th></th>\n",
       "      <th></th>\n",
       "      <th></th>\n",
       "      <th></th>\n",
       "      <th></th>\n",
       "      <th></th>\n",
       "      <th></th>\n",
       "      <th></th>\n",
       "      <th></th>\n",
       "      <th></th>\n",
       "      <th></th>\n",
       "      <th></th>\n",
       "      <th></th>\n",
       "      <th></th>\n",
       "      <th></th>\n",
       "      <th></th>\n",
       "      <th></th>\n",
       "      <th></th>\n",
       "      <th></th>\n",
       "      <th></th>\n",
       "      <th></th>\n",
       "    </tr>\n",
       "  </thead>\n",
       "  <tbody>\n",
       "    <tr>\n",
       "      <th>'burbs, The (1989)</th>\n",
       "      <td>NaN</td>\n",
       "      <td>NaN</td>\n",
       "      <td>NaN</td>\n",
       "      <td>NaN</td>\n",
       "      <td>NaN</td>\n",
       "      <td>NaN</td>\n",
       "      <td>NaN</td>\n",
       "      <td>NaN</td>\n",
       "      <td>NaN</td>\n",
       "      <td>NaN</td>\n",
       "      <td>...</td>\n",
       "      <td>NaN</td>\n",
       "      <td>NaN</td>\n",
       "      <td>NaN</td>\n",
       "      <td>NaN</td>\n",
       "      <td>NaN</td>\n",
       "      <td>NaN</td>\n",
       "      <td>NaN</td>\n",
       "      <td>NaN</td>\n",
       "      <td>NaN</td>\n",
       "      <td>NaN</td>\n",
       "    </tr>\n",
       "    <tr>\n",
       "      <th>10 Things I Hate About You (1999)</th>\n",
       "      <td>NaN</td>\n",
       "      <td>NaN</td>\n",
       "      <td>NaN</td>\n",
       "      <td>NaN</td>\n",
       "      <td>NaN</td>\n",
       "      <td>NaN</td>\n",
       "      <td>NaN</td>\n",
       "      <td>NaN</td>\n",
       "      <td>NaN</td>\n",
       "      <td>NaN</td>\n",
       "      <td>...</td>\n",
       "      <td>NaN</td>\n",
       "      <td>NaN</td>\n",
       "      <td>NaN</td>\n",
       "      <td>NaN</td>\n",
       "      <td>NaN</td>\n",
       "      <td>NaN</td>\n",
       "      <td>NaN</td>\n",
       "      <td>NaN</td>\n",
       "      <td>NaN</td>\n",
       "      <td>NaN</td>\n",
       "    </tr>\n",
       "    <tr>\n",
       "      <th>101 Dalmatians (1961)</th>\n",
       "      <td>NaN</td>\n",
       "      <td>NaN</td>\n",
       "      <td>NaN</td>\n",
       "      <td>NaN</td>\n",
       "      <td>NaN</td>\n",
       "      <td>NaN</td>\n",
       "      <td>NaN</td>\n",
       "      <td>NaN</td>\n",
       "      <td>NaN</td>\n",
       "      <td>NaN</td>\n",
       "      <td>...</td>\n",
       "      <td>NaN</td>\n",
       "      <td>NaN</td>\n",
       "      <td>NaN</td>\n",
       "      <td>NaN</td>\n",
       "      <td>NaN</td>\n",
       "      <td>NaN</td>\n",
       "      <td>NaN</td>\n",
       "      <td>NaN</td>\n",
       "      <td>NaN</td>\n",
       "      <td>NaN</td>\n",
       "    </tr>\n",
       "    <tr>\n",
       "      <th>101 Dalmatians (1996)</th>\n",
       "      <td>NaN</td>\n",
       "      <td>NaN</td>\n",
       "      <td>NaN</td>\n",
       "      <td>NaN</td>\n",
       "      <td>NaN</td>\n",
       "      <td>NaN</td>\n",
       "      <td>NaN</td>\n",
       "      <td>NaN</td>\n",
       "      <td>NaN</td>\n",
       "      <td>NaN</td>\n",
       "      <td>...</td>\n",
       "      <td>NaN</td>\n",
       "      <td>NaN</td>\n",
       "      <td>NaN</td>\n",
       "      <td>NaN</td>\n",
       "      <td>NaN</td>\n",
       "      <td>NaN</td>\n",
       "      <td>NaN</td>\n",
       "      <td>NaN</td>\n",
       "      <td>NaN</td>\n",
       "      <td>NaN</td>\n",
       "    </tr>\n",
       "    <tr>\n",
       "      <th>12 Angry Men (1957)</th>\n",
       "      <td>NaN</td>\n",
       "      <td>NaN</td>\n",
       "      <td>NaN</td>\n",
       "      <td>NaN</td>\n",
       "      <td>NaN</td>\n",
       "      <td>NaN</td>\n",
       "      <td>NaN</td>\n",
       "      <td>NaN</td>\n",
       "      <td>NaN</td>\n",
       "      <td>NaN</td>\n",
       "      <td>...</td>\n",
       "      <td>NaN</td>\n",
       "      <td>NaN</td>\n",
       "      <td>NaN</td>\n",
       "      <td>NaN</td>\n",
       "      <td>NaN</td>\n",
       "      <td>NaN</td>\n",
       "      <td>NaN</td>\n",
       "      <td>NaN</td>\n",
       "      <td>NaN</td>\n",
       "      <td>NaN</td>\n",
       "    </tr>\n",
       "  </tbody>\n",
       "</table>\n",
       "<p>5 rows × 3706 columns</p>\n",
       "</div>"
      ],
      "text/plain": [
       "title                              $1,000,000 Duck (1971)  \\\n",
       "title                                                       \n",
       "'burbs, The (1989)                                    NaN   \n",
       "10 Things I Hate About You (1999)                     NaN   \n",
       "101 Dalmatians (1961)                                 NaN   \n",
       "101 Dalmatians (1996)                                 NaN   \n",
       "12 Angry Men (1957)                                   NaN   \n",
       "\n",
       "title                              'Night Mother (1986)  \\\n",
       "title                                                     \n",
       "'burbs, The (1989)                                  NaN   \n",
       "10 Things I Hate About You (1999)                   NaN   \n",
       "101 Dalmatians (1961)                               NaN   \n",
       "101 Dalmatians (1996)                               NaN   \n",
       "12 Angry Men (1957)                                 NaN   \n",
       "\n",
       "title                              'Til There Was You (1997)  \\\n",
       "title                                                          \n",
       "'burbs, The (1989)                                       NaN   \n",
       "10 Things I Hate About You (1999)                        NaN   \n",
       "101 Dalmatians (1961)                                    NaN   \n",
       "101 Dalmatians (1996)                                    NaN   \n",
       "12 Angry Men (1957)                                      NaN   \n",
       "\n",
       "title                              'burbs, The (1989)  \\\n",
       "title                                                   \n",
       "'burbs, The (1989)                                NaN   \n",
       "10 Things I Hate About You (1999)                 NaN   \n",
       "101 Dalmatians (1961)                             NaN   \n",
       "101 Dalmatians (1996)                             NaN   \n",
       "12 Angry Men (1957)                               NaN   \n",
       "\n",
       "title                              ...And Justice for All (1979)  \\\n",
       "title                                                              \n",
       "'burbs, The (1989)                                           NaN   \n",
       "10 Things I Hate About You (1999)                            NaN   \n",
       "101 Dalmatians (1961)                                        NaN   \n",
       "101 Dalmatians (1996)                                        NaN   \n",
       "12 Angry Men (1957)                                          NaN   \n",
       "\n",
       "title                              1-900 (1994)  \\\n",
       "title                                             \n",
       "'burbs, The (1989)                          NaN   \n",
       "10 Things I Hate About You (1999)           NaN   \n",
       "101 Dalmatians (1961)                       NaN   \n",
       "101 Dalmatians (1996)                       NaN   \n",
       "12 Angry Men (1957)                         NaN   \n",
       "\n",
       "title                              10 Things I Hate About You (1999)  \\\n",
       "title                                                                  \n",
       "'burbs, The (1989)                                               NaN   \n",
       "10 Things I Hate About You (1999)                                NaN   \n",
       "101 Dalmatians (1961)                                            NaN   \n",
       "101 Dalmatians (1996)                                            NaN   \n",
       "12 Angry Men (1957)                                              NaN   \n",
       "\n",
       "title                              101 Dalmatians (1961)  \\\n",
       "title                                                      \n",
       "'burbs, The (1989)                                   NaN   \n",
       "10 Things I Hate About You (1999)                    NaN   \n",
       "101 Dalmatians (1961)                                NaN   \n",
       "101 Dalmatians (1996)                                NaN   \n",
       "12 Angry Men (1957)                                  NaN   \n",
       "\n",
       "title                              101 Dalmatians (1996)  12 Angry Men (1957)  \\\n",
       "title                                                                           \n",
       "'burbs, The (1989)                                   NaN                  NaN   \n",
       "10 Things I Hate About You (1999)                    NaN                  NaN   \n",
       "101 Dalmatians (1961)                                NaN                  NaN   \n",
       "101 Dalmatians (1996)                                NaN                  NaN   \n",
       "12 Angry Men (1957)                                  NaN                  NaN   \n",
       "\n",
       "title                                   ...         \\\n",
       "title                                   ...          \n",
       "'burbs, The (1989)                      ...          \n",
       "10 Things I Hate About You (1999)       ...          \n",
       "101 Dalmatians (1961)                   ...          \n",
       "101 Dalmatians (1996)                   ...          \n",
       "12 Angry Men (1957)                     ...          \n",
       "\n",
       "title                              Young Poisoner's Handbook, The (1995)  \\\n",
       "title                                                                      \n",
       "'burbs, The (1989)                                                   NaN   \n",
       "10 Things I Hate About You (1999)                                    NaN   \n",
       "101 Dalmatians (1961)                                                NaN   \n",
       "101 Dalmatians (1996)                                                NaN   \n",
       "12 Angry Men (1957)                                                  NaN   \n",
       "\n",
       "title                              Young Sherlock Holmes (1985)  \\\n",
       "title                                                             \n",
       "'burbs, The (1989)                                          NaN   \n",
       "10 Things I Hate About You (1999)                           NaN   \n",
       "101 Dalmatians (1961)                                       NaN   \n",
       "101 Dalmatians (1996)                                       NaN   \n",
       "12 Angry Men (1957)                                         NaN   \n",
       "\n",
       "title                              Young and Innocent (1937)  \\\n",
       "title                                                          \n",
       "'burbs, The (1989)                                       NaN   \n",
       "10 Things I Hate About You (1999)                        NaN   \n",
       "101 Dalmatians (1961)                                    NaN   \n",
       "101 Dalmatians (1996)                                    NaN   \n",
       "12 Angry Men (1957)                                      NaN   \n",
       "\n",
       "title                              Your Friends and Neighbors (1998)  \\\n",
       "title                                                                  \n",
       "'burbs, The (1989)                                               NaN   \n",
       "10 Things I Hate About You (1999)                                NaN   \n",
       "101 Dalmatians (1961)                                            NaN   \n",
       "101 Dalmatians (1996)                                            NaN   \n",
       "12 Angry Men (1957)                                              NaN   \n",
       "\n",
       "title                              Zachariah (1971)  \\\n",
       "title                                                 \n",
       "'burbs, The (1989)                              NaN   \n",
       "10 Things I Hate About You (1999)               NaN   \n",
       "101 Dalmatians (1961)                           NaN   \n",
       "101 Dalmatians (1996)                           NaN   \n",
       "12 Angry Men (1957)                             NaN   \n",
       "\n",
       "title                              Zed & Two Noughts, A (1985)  \\\n",
       "title                                                            \n",
       "'burbs, The (1989)                                         NaN   \n",
       "10 Things I Hate About You (1999)                          NaN   \n",
       "101 Dalmatians (1961)                                      NaN   \n",
       "101 Dalmatians (1996)                                      NaN   \n",
       "12 Angry Men (1957)                                        NaN   \n",
       "\n",
       "title                              Zero Effect (1998)  \\\n",
       "title                                                   \n",
       "'burbs, The (1989)                                NaN   \n",
       "10 Things I Hate About You (1999)                 NaN   \n",
       "101 Dalmatians (1961)                             NaN   \n",
       "101 Dalmatians (1996)                             NaN   \n",
       "12 Angry Men (1957)                               NaN   \n",
       "\n",
       "title                              Zero Kelvin (Kj�rlighetens kj�tere) (1995)  \\\n",
       "title                                                                           \n",
       "'burbs, The (1989)                                                        NaN   \n",
       "10 Things I Hate About You (1999)                                         NaN   \n",
       "101 Dalmatians (1961)                                                     NaN   \n",
       "101 Dalmatians (1996)                                                     NaN   \n",
       "12 Angry Men (1957)                                                       NaN   \n",
       "\n",
       "title                              Zeus and Roxanne (1997)  eXistenZ (1999)  \n",
       "title                                                                        \n",
       "'burbs, The (1989)                                     NaN              NaN  \n",
       "10 Things I Hate About You (1999)                      NaN              NaN  \n",
       "101 Dalmatians (1961)                                  NaN              NaN  \n",
       "101 Dalmatians (1996)                                  NaN              NaN  \n",
       "12 Angry Men (1957)                                    NaN              NaN  \n",
       "\n",
       "[5 rows x 3706 columns]"
      ]
     },
     "execution_count": 55,
     "metadata": {},
     "output_type": "execute_result"
    }
   ],
   "source": [
    "mean_ratings[:5]"
   ]
  },
  {
   "cell_type": "code",
   "execution_count": 56,
   "metadata": {
    "collapsed": false
   },
   "outputs": [
    {
     "ename": "TypeError",
     "evalue": "pivot_table() got an unexpected keyword argument 'rows'",
     "output_type": "error",
     "traceback": [
      "\u001b[1;31m---------------------------------------------------------------------------\u001b[0m",
      "\u001b[1;31mTypeError\u001b[0m                                 Traceback (most recent call last)",
      "\u001b[1;32m<ipython-input-56-cb4d494f2f39>\u001b[0m in \u001b[0;36m<module>\u001b[1;34m()\u001b[0m\n\u001b[1;32m----> 1\u001b[1;33m \u001b[0mmean_ratings\u001b[0m \u001b[1;33m=\u001b[0m \u001b[0mdata\u001b[0m\u001b[1;33m.\u001b[0m\u001b[0mpivot_table\u001b[0m\u001b[1;33m(\u001b[0m\u001b[1;34m'rating'\u001b[0m\u001b[1;33m,\u001b[0m \u001b[0mrows\u001b[0m\u001b[1;33m=\u001b[0m\u001b[1;34m'title'\u001b[0m\u001b[1;33m,\u001b[0m \u001b[0mcols\u001b[0m\u001b[1;33m=\u001b[0m\u001b[1;34m'gender'\u001b[0m\u001b[1;33m,\u001b[0m \u001b[0maggfunc\u001b[0m\u001b[1;33m=\u001b[0m\u001b[1;34m'mean'\u001b[0m\u001b[1;33m)\u001b[0m\u001b[1;33m\u001b[0m\u001b[0m\n\u001b[0m",
      "\u001b[1;31mTypeError\u001b[0m: pivot_table() got an unexpected keyword argument 'rows'"
     ]
    }
   ],
   "source": [
    "#mean_ratings = data.pivot_table('rating', rows='title', cols='gender', aggfunc='mean')"
   ]
  },
  {
   "cell_type": "code",
   "execution_count": null,
   "metadata": {
    "collapsed": true
   },
   "outputs": [],
   "source": []
  }
 ],
 "metadata": {
  "kernelspec": {
   "display_name": "Python 2",
   "language": "python",
   "name": "python2"
  },
  "language_info": {
   "codemirror_mode": {
    "name": "ipython",
    "version": 2
   },
   "file_extension": ".py",
   "mimetype": "text/x-python",
   "name": "python",
   "nbconvert_exporter": "python",
   "pygments_lexer": "ipython2",
   "version": "2.7.6"
  }
 },
 "nbformat": 4,
 "nbformat_minor": 0
}
