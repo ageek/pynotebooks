{
 "metadata": {
  "name": ""
 },
 "nbformat": 3,
 "nbformat_minor": 0,
 "worksheets": [
  {
   "cells": [
    {
     "cell_type": "code",
     "collapsed": false,
     "input": [
      "import os\n",
      "import csv\n",
      "import numpy as np\n",
      "import pylab as pl\n",
      "from PIL import Image \n",
      "\n",
      "from sklearn import datasets\n",
      "from sklearn.cross_validation import cross_val_score\n",
      "from sklearn import svm, metrics\n",
      "\n",
      "from sklearn.linear_model import LogisticRegression\n",
      "from sklearn.decomposition import RandomizedPCA\n",
      "from sklearn.ensemble import RandomForestClassifier\n",
      "from sklearn.ensemble import GradientBoostingClassifier\n",
      "\n",
      "import pylab as pl\n",
      "import numpy as np\n",
      "\n",
      "import matplotlib.image as mpimg\n",
      "import cv2\n",
      "#from skimage.color import rgb2gray\n",
      "from sklearn.cross_validation import train_test_split\n",
      "from sklearn.preprocessing import StandardScaler"
     ],
     "language": "python",
     "metadata": {},
     "outputs": [],
     "prompt_number": 15
    },
    {
     "cell_type": "code",
     "collapsed": false,
     "input": [
      "import re\n",
      "\n",
      "def tryint(s):\n",
      "    try:\n",
      "        return int(s)\n",
      "    except:\n",
      "        return s\n",
      "     \n",
      "def alphanum_key(s):\n",
      "    \"\"\" Turn a string into a list of string and number chunks.\n",
      "        \"z23a\" -> [\"z\", 23, \"a\"]\n",
      "    \"\"\"\n",
      "    return [ tryint(c) for c in re.split('([0-9]+)', s) ]"
     ],
     "language": "python",
     "metadata": {},
     "outputs": [],
     "prompt_number": 16
    },
    {
     "cell_type": "code",
     "collapsed": false,
     "input": [
      "def myrgb2gray(rgb):\n",
      "    return np.dot(rgb[...,:3], [0.2989, 0.587, 0.114])\n",
      "\n",
      "\n",
      "\n",
      "# skimage.rgb2gray Normalized Data, unlike other methods\n",
      "def readDataGray(path):\n",
      "    os.chdir(path)\n",
      "    data = []\n",
      "    # the files needs to be read in numerically increasing order\n",
      "    # thats the order we need for label mapping, else use some sor of dict\n",
      "    for fileName in sorted(os.listdir(\".\"), key=alphanum_key):\n",
      "        if fileName.endswith(\".png\"):\n",
      "            fullPath = os.path.join(path, fileName)\n",
      "            #print fileName, fullPath\n",
      "            #png data is of type float\n",
      "            img = mpimg.imread(fullPath)\n",
      "            data.append(myrgb2gray(img).reshape(1024,))\n",
      "            \n",
      "            #using opencv:\n",
      "            #image = cv2.imread(fullPath)\n",
      "            #img_gray = cv2.cvtColor(image, cv2.COLOR_BGR2GRAY)\n",
      "            \n",
      "            # try with skimage.color.rgb2gray - returns normalized array\n",
      "            #data.append(rgb2gray(img).reshape(1024,))\n",
      "            \n",
      "    data = np.asarray(data, dtype='float32')\n",
      "    return data\n",
      "\n",
      "\n",
      "\n",
      "def readTrainingLabel(path):\n",
      "    # skip the first row: id,label\n",
      "    label = [x[1] for x in csv.reader(file(path))][1:]\n",
      "    label = np.asarray(label, dtype='uint8')\n",
      "    return label\n",
      "    \n",
      "\n",
      "def display_scores(params, scores, append_star=False):\n",
      "    \"\"\"Format the mean score +/- std error for params\"\"\"\n",
      "    params = \", \".join(\"{0}={1}\".format(k, v)\n",
      "                      for k, v in params.items())\n",
      "    line = \"{0}:\\t{1:.3f} (+/-{2:.3f})\".format(\n",
      "        params, np.mean(scores), sem(scores))\n",
      "    if append_star:\n",
      "        line += \" *\"\n",
      "    return line\n",
      "\n",
      "def display_grid_scores(grid_scores, top=None):\n",
      "    \"\"\"Helper function to format a report on a grid of scores\"\"\"\n",
      "    \n",
      "    grid_scores = sorted(grid_scores, key=lambda x: x[1], reverse=True)\n",
      "    if top is not None:\n",
      "        grid_scores = grid_scores[:top]\n",
      "        \n",
      "    # Compute a threshold for staring models with overlapping\n",
      "    # stderr:\n",
      "    _, best_mean, best_scores = grid_scores[0]\n",
      "    threshold = best_mean - 2 * sem(best_scores)\n",
      "    \n",
      "    for params, mean_score, scores in grid_scores:\n",
      "        append_star = mean_score + 2 * sem(scores) > threshold\n",
      "        print(display_scores(params, scores, append_star=append_star)) \n",
      "        \n",
      "def writePrediction(predictions, outFile):\n",
      "    data =''\n",
      "    dataFile = open(outFile, \"w\")\n",
      "    for res in predictions:\n",
      "        line = str(res) + \"\\n\"\n",
      "        data += line\n",
      "    dataFile.write(data)"
     ],
     "language": "python",
     "metadata": {},
     "outputs": [],
     "prompt_number": 17
    },
    {
     "cell_type": "code",
     "collapsed": false,
     "input": [
      "X_10k = readDataGray(\"/home/bakuda/ageekrepo/kaggle/object_recognition_in_images/train-10000/\")\n",
      "y_10k = readTrainingLabel(\"/home/bakuda/ageekrepo/kaggle/object_recognition_in_images/trainLabels_int.txt\")                     "
     ],
     "language": "python",
     "metadata": {},
     "outputs": [],
     "prompt_number": 7
    },
    {
     "cell_type": "code",
     "collapsed": false,
     "input": [
      "X_4k = X_10k[:4000]\n",
      "y_4k = y_10k[:4000]"
     ],
     "language": "python",
     "metadata": {},
     "outputs": [],
     "prompt_number": 23
    },
    {
     "cell_type": "code",
     "collapsed": false,
     "input": [
      "digits = datasets.load_digits()"
     ],
     "language": "python",
     "metadata": {},
     "outputs": [],
     "prompt_number": 10
    },
    {
     "cell_type": "code",
     "collapsed": false,
     "input": [
      "X_digits = digits.data\n",
      "y_digits = digits.target"
     ],
     "language": "python",
     "metadata": {},
     "outputs": [],
     "prompt_number": 12
    },
    {
     "cell_type": "code",
     "collapsed": false,
     "input": [
      "X_digits.shape, y_digits.shape"
     ],
     "language": "python",
     "metadata": {},
     "outputs": [
      {
       "metadata": {},
       "output_type": "pyout",
       "prompt_number": 13,
       "text": [
        "((1797, 64), (1797,))"
       ]
      }
     ],
     "prompt_number": 13
    },
    {
     "cell_type": "code",
     "collapsed": false,
     "input": [
      "X_train, X_test, y_train,y_test = train_test_split(X_4k, y_4k, test_size=.2)"
     ],
     "language": "python",
     "metadata": {},
     "outputs": [],
     "prompt_number": 25
    },
    {
     "cell_type": "code",
     "collapsed": false,
     "input": [
      "X_train.shape, y_test.shape"
     ],
     "language": "python",
     "metadata": {},
     "outputs": [
      {
       "metadata": {},
       "output_type": "pyout",
       "prompt_number": 28,
       "text": [
        "((3200, 1024), (800,))"
       ]
      }
     ],
     "prompt_number": 28
    },
    {
     "cell_type": "code",
     "collapsed": false,
     "input": [
      "clf_lr = LogisticRegression().fit(X_train, y_train)\n",
      "print clf_lr.score(X_train, y_train)\n",
      "print clf_lr.score(X_test, y_test)"
     ],
     "language": "python",
     "metadata": {},
     "outputs": [
      {
       "output_type": "stream",
       "stream": "stdout",
       "text": [
        "0.628125\n",
        "0.20875\n"
       ]
      }
     ],
     "prompt_number": 26
    },
    {
     "cell_type": "code",
     "collapsed": false,
     "input": [
      "clf_lr"
     ],
     "language": "python",
     "metadata": {},
     "outputs": [
      {
       "metadata": {},
       "output_type": "pyout",
       "prompt_number": 29,
       "text": [
        "LogisticRegression(C=1.0, class_weight=None, dual=False, fit_intercept=True,\n",
        "          intercept_scaling=1, penalty='l2', random_state=None, tol=0.0001)"
       ]
      }
     ],
     "prompt_number": 29
    },
    {
     "cell_type": "code",
     "collapsed": false,
     "input": [
      "from sklearn.linear_model import SGDClassifier\n",
      "clf_sgd = SGDClassifier(loss='log', penalty='elasticnet', n_iter=30).fit(X_train, y_train)\n",
      "print clf_sgd.score(X_train, y_train)\n",
      "print clf_sgd.score(X_test, y_test)"
     ],
     "language": "python",
     "metadata": {},
     "outputs": [
      {
       "output_type": "stream",
       "stream": "stdout",
       "text": [
        "0.4196875\n",
        "0.16875\n"
       ]
      }
     ],
     "prompt_number": 47
    },
    {
     "cell_type": "code",
     "collapsed": false,
     "input": [
      "from sklearn.linear_model import RandomizedLogisticRegression\n",
      "clf_rand_lr = RandomizedLogisticRegression().fit(X_train, y_train)"
     ],
     "language": "python",
     "metadata": {},
     "outputs": [],
     "prompt_number": 50
    },
    {
     "cell_type": "code",
     "collapsed": false,
     "input": [
      "X_1 = clf_rand_lr.transform(X_train)\n",
      "X_2 = clf_rand_lr.transform(X_test)"
     ],
     "language": "python",
     "metadata": {},
     "outputs": [],
     "prompt_number": 52
    },
    {
     "cell_type": "code",
     "collapsed": false,
     "input": [
      "X_1.shape, X_2.shape, X_train.shape"
     ],
     "language": "python",
     "metadata": {},
     "outputs": [
      {
       "metadata": {},
       "output_type": "pyout",
       "prompt_number": 55,
       "text": [
        "((3200, 156), (800, 156), (3200, 1024))"
       ]
      }
     ],
     "prompt_number": 55
    },
    {
     "cell_type": "code",
     "collapsed": false,
     "input": [],
     "language": "python",
     "metadata": {},
     "outputs": [],
     "prompt_number": 63
    },
    {
     "cell_type": "code",
     "collapsed": false,
     "input": [],
     "language": "python",
     "metadata": {},
     "outputs": []
    }
   ],
   "metadata": {}
  }
 ]
}