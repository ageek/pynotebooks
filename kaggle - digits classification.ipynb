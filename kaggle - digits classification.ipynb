{
 "metadata": {
  "name": ""
 },
 "nbformat": 3,
 "nbformat_minor": 0,
 "worksheets": [
  {
   "cells": [
    {
     "cell_type": "code",
     "collapsed": false,
     "input": [
      "from sklearn import datasets\n",
      "from sklearn.cross_validation import cross_val_score\n",
      "from sklearn import svm, metrics\n",
      "\n",
      "from sklearn.linear_model import LogisticRegression\n",
      "from sklearn.decomposition import RandomizedPCA\n",
      "from sklearn.ensemble import RandomForestClassifier\n",
      "\n",
      "import pylab as pl\n",
      "import numpy as np\n",
      "import pandas as pd"
     ],
     "language": "python",
     "metadata": {},
     "outputs": [],
     "prompt_number": 8
    },
    {
     "cell_type": "code",
     "collapsed": false,
     "input": [
      "train_file = '/home/bakuda/sandbox/ageekrepo/kaggle/digit_recognizer/kgg/train_2000.csv'"
     ],
     "language": "python",
     "metadata": {},
     "outputs": [],
     "prompt_number": 9
    },
    {
     "cell_type": "code",
     "collapsed": false,
     "input": [
      "import csv\n",
      "lines= [x for x in csv.reader(file(train_file))][1:]"
     ],
     "language": "python",
     "metadata": {},
     "outputs": [],
     "prompt_number": 10
    },
    {
     "cell_type": "code",
     "collapsed": false,
     "input": [
      "len(lines)"
     ],
     "language": "python",
     "metadata": {},
     "outputs": [
      {
       "metadata": {},
       "output_type": "pyout",
       "prompt_number": 11,
       "text": [
        "2000"
       ]
      }
     ],
     "prompt_number": 11
    },
    {
     "cell_type": "code",
     "collapsed": false,
     "input": [
      "X = [x for x in lines][1:]\n"
     ],
     "language": "python",
     "metadata": {},
     "outputs": [],
     "prompt_number": 12
    },
    {
     "cell_type": "code",
     "collapsed": false,
     "input": [
      "len(X)\n",
      "lines[0][:10]"
     ],
     "language": "python",
     "metadata": {},
     "outputs": [
      {
       "metadata": {},
       "output_type": "pyout",
       "prompt_number": 17,
       "text": [
        "['1', '0', '0', '0', '0', '0', '0', '0', '0', '0']"
       ]
      }
     ],
     "prompt_number": 17
    },
    {
     "cell_type": "code",
     "collapsed": false,
     "input": [
      "pl.gray()\n",
      "pl.imshow(np.asarray(lines[3][1:], dtype='uint8').reshape((28,28)), interpolation='nearest')"
     ],
     "language": "python",
     "metadata": {},
     "outputs": [
      {
       "metadata": {},
       "output_type": "pyout",
       "prompt_number": 18,
       "text": [
        "<matplotlib.image.AxesImage at 0xb05474c>"
       ]
      },
      {
       "metadata": {},
       "output_type": "display_data",
       "png": "[encoded data removed]",
       "text": [
        "<matplotlib.figure.Figure at 0xb0c62ec>"
       ]
      }
     ],
     "prompt_number": 18
    },
    {
     "cell_type": "code",
     "collapsed": false,
     "input": [
      "def images2Vector(filePath):\n",
      "    imageVector=[]\n",
      "    labelsVector=[]\n",
      "    print \"Reading csv file...\"\n",
      "    f = file(filePath, 'rb')\n",
      "    #skip header\n",
      "    f.readline()\n",
      "    # we dont hve headers, so no need to skip the first row\n",
      "    for line in csv.reader(f):\n",
      "        #print line\n",
      "        labelsVector.append(line[0])\n",
      "        imageVector.append(line[1:])\n",
      "\n",
      "    #convert the data List to np arrary\n",
      "    imageVector=np.asarray(imageVector, dtype='uint8')\n",
      "    labelsVector = np.asarray(labelsVector, dtype='uint8')\n",
      "\n",
      "    return imageVector, labelsVector"
     ],
     "language": "python",
     "metadata": {},
     "outputs": [],
     "prompt_number": 19
    },
    {
     "cell_type": "code",
     "collapsed": false,
     "input": [
      "X,y = images2Vector(train_file)"
     ],
     "language": "python",
     "metadata": {},
     "outputs": [
      {
       "output_type": "stream",
       "stream": "stdout",
       "text": [
        "Reading csv file...\n"
       ]
      }
     ],
     "prompt_number": 20
    },
    {
     "cell_type": "code",
     "collapsed": false,
     "input": [
      "X.shape, y.shape"
     ],
     "language": "python",
     "metadata": {},
     "outputs": [
      {
       "metadata": {},
       "output_type": "pyout",
       "prompt_number": 21,
       "text": [
        "((2000, 784), (2000,))"
       ]
      }
     ],
     "prompt_number": 21
    },
    {
     "cell_type": "code",
     "collapsed": false,
     "input": [
      "X[0]"
     ],
     "language": "python",
     "metadata": {},
     "outputs": [
      {
       "metadata": {},
       "output_type": "pyout",
       "prompt_number": 22,
       "text": [
        "array([  0,   0,   0,   0,   0,   0,   0,   0,   0,   0,   0,   0,   0,\n",
        "         0,   0,   0,   0,   0,   0,   0,   0,   0,   0,   0,   0,   0,\n",
        "         0,   0,   0,   0,   0,   0,   0,   0,   0,   0,   0,   0,   0,\n",
        "         0,   0,   0,   0,   0,   0,   0,   0,   0,   0,   0,   0,   0,\n",
        "         0,   0,   0,   0,   0,   0,   0,   0,   0,   0,   0,   0,   0,\n",
        "         0,   0,   0,   0,   0,   0,   0,   0,   0,   0,   0,   0,   0,\n",
        "         0,   0,   0,   0,   0,   0,   0,   0,   0,   0,   0,   0,   0,\n",
        "         0,   0,   0,   0,   0,   0,   0,   0,   0,   0,   0,   0,   0,\n",
        "         0,   0,   0,   0,   0,   0,   0,   0,   0,   0,   0,   0,   0,\n",
        "         0,   0,   0,   0,   0,   0,   0,   0,   0,   0,   0,   0,   0,\n",
        "         0,   0, 188, 255,  94,   0,   0,   0,   0,   0,   0,   0,   0,\n",
        "         0,   0,   0,   0,   0,   0,   0,   0,   0,   0,   0,   0,   0,\n",
        "         0,   0,   0, 191, 250, 253,  93,   0,   0,   0,   0,   0,   0,\n",
        "         0,   0,   0,   0,   0,   0,   0,   0,   0,   0,   0,   0,   0,\n",
        "         0,   0,   0,   0, 123, 248, 253, 167,  10,   0,   0,   0,   0,\n",
        "         0,   0,   0,   0,   0,   0,   0,   0,   0,   0,   0,   0,   0,\n",
        "         0,   0,   0,   0,   0,  80, 247, 253, 208,  13,   0,   0,   0,\n",
        "         0,   0,   0,   0,   0,   0,   0,   0,   0,   0,   0,   0,   0,\n",
        "         0,   0,   0,   0,   0,   0,  29, 207, 253, 235,  77,   0,   0,\n",
        "         0,   0,   0,   0,   0,   0,   0,   0,   0,   0,   0,   0,   0,\n",
        "         0,   0,   0,   0,   0,   0,   0,  54, 209, 253, 253,  88,   0,\n",
        "         0,   0,   0,   0,   0,   0,   0,   0,   0,   0,   0,   0,   0,\n",
        "         0,   0,   0,   0,   0,   0,   0,   0,  93, 254, 253, 238, 170,\n",
        "        17,   0,   0,   0,   0,   0,   0,   0,   0,   0,   0,   0,   0,\n",
        "         0,   0,   0,   0,   0,   0,   0,   0,   0,  23, 210, 254, 253,\n",
        "       159,   0,   0,   0,   0,   0,   0,   0,   0,   0,   0,   0,   0,\n",
        "         0,   0,   0,   0,   0,   0,   0,   0,   0,   0,  16, 209, 253,\n",
        "       254, 240,  81,   0,   0,   0,   0,   0,   0,   0,   0,   0,   0,\n",
        "         0,   0,   0,   0,   0,   0,   0,   0,   0,   0,   0,   0,  27,\n",
        "       253, 253, 254,  13,   0,   0,   0,   0,   0,   0,   0,   0,   0,\n",
        "         0,   0,   0,   0,   0,   0,   0,   0,   0,   0,   0,   0,   0,\n",
        "        20, 206, 254, 254, 198,   7,   0,   0,   0,   0,   0,   0,   0,\n",
        "         0,   0,   0,   0,   0,   0,   0,   0,   0,   0,   0,   0,   0,\n",
        "         0,   0, 168, 253, 253, 196,   7,   0,   0,   0,   0,   0,   0,\n",
        "         0,   0,   0,   0,   0,   0,   0,   0,   0,   0,   0,   0,   0,\n",
        "         0,   0,   0,  20, 203, 253, 248,  76,   0,   0,   0,   0,   0,\n",
        "         0,   0,   0,   0,   0,   0,   0,   0,   0,   0,   0,   0,   0,\n",
        "         0,   0,   0,   0,  22, 188, 253, 245,  93,   0,   0,   0,   0,\n",
        "         0,   0,   0,   0,   0,   0,   0,   0,   0,   0,   0,   0,   0,\n",
        "         0,   0,   0,   0,   0,   0, 103, 253, 253, 191,   0,   0,   0,\n",
        "         0,   0,   0,   0,   0,   0,   0,   0,   0,   0,   0,   0,   0,\n",
        "         0,   0,   0,   0,   0,   0,   0,  89, 240, 253, 195,  25,   0,\n",
        "         0,   0,   0,   0,   0,   0,   0,   0,   0,   0,   0,   0,   0,\n",
        "         0,   0,   0,   0,   0,   0,   0,   0,  15, 220, 253, 253,  80,\n",
        "         0,   0,   0,   0,   0,   0,   0,   0,   0,   0,   0,   0,   0,\n",
        "         0,   0,   0,   0,   0,   0,   0,   0,   0,   0,  94, 253, 253,\n",
        "       253,  94,   0,   0,   0,   0,   0,   0,   0,   0,   0,   0,   0,\n",
        "         0,   0,   0,   0,   0,   0,   0,   0,   0,   0,   0,   0,  89,\n",
        "       251, 253, 250, 131,   0,   0,   0,   0,   0,   0,   0,   0,   0,\n",
        "         0,   0,   0,   0,   0,   0,   0,   0,   0,   0,   0,   0,   0,\n",
        "         0,   0, 214, 218,  95,   0,   0,   0,   0,   0,   0,   0,   0,\n",
        "         0,   0,   0,   0,   0,   0,   0,   0,   0,   0,   0,   0,   0,\n",
        "         0,   0,   0,   0,   0,   0,   0,   0,   0,   0,   0,   0,   0,\n",
        "         0,   0,   0,   0,   0,   0,   0,   0,   0,   0,   0,   0,   0,\n",
        "         0,   0,   0,   0,   0,   0,   0,   0,   0,   0,   0,   0,   0,\n",
        "         0,   0,   0,   0,   0,   0,   0,   0,   0,   0,   0,   0,   0,\n",
        "         0,   0,   0,   0,   0,   0,   0,   0,   0,   0,   0,   0,   0,\n",
        "         0,   0,   0,   0,   0,   0,   0,   0,   0,   0,   0,   0,   0,\n",
        "         0,   0,   0,   0,   0,   0,   0,   0,   0,   0,   0,   0,   0,\n",
        "         0,   0,   0,   0,   0,   0,   0,   0,   0,   0,   0,   0,   0,\n",
        "         0,   0,   0,   0], dtype=uint8)"
       ]
      }
     ],
     "prompt_number": 22
    },
    {
     "cell_type": "code",
     "collapsed": false,
     "input": [
      "for i, j in enumerate(np.random.permutation(X.shape[0])[:6]):\n",
      "    print \"Selecting %d-th item from array\" %(j)\n",
      "    pl.subplot(1, 6, (i + 1))\n",
      "    pl.imshow(X[j].reshape((28, 28)), interpolation='nearest')\n",
      "    pl.title(\"Actual: %d\" % y[j])\n",
      "    pl.xticks(()), pl.yticks(())"
     ],
     "language": "python",
     "metadata": {},
     "outputs": [
      {
       "output_type": "stream",
       "stream": "stdout",
       "text": [
        "Selecting 1320-th item from array\n",
        "Selecting 1438-th item from array"
       ]
      },
      {
       "output_type": "stream",
       "stream": "stdout",
       "text": [
        "\n",
        "Selecting 340-th item from array"
       ]
      },
      {
       "output_type": "stream",
       "stream": "stdout",
       "text": [
        "\n",
        "Selecting 1979-th item from array"
       ]
      },
      {
       "output_type": "stream",
       "stream": "stdout",
       "text": [
        "\n",
        "Selecting 1047-th item from array"
       ]
      },
      {
       "output_type": "stream",
       "stream": "stdout",
       "text": [
        "\n",
        "Selecting 274-th item from array"
       ]
      },
      {
       "output_type": "stream",
       "stream": "stdout",
       "text": [
        "\n"
       ]
      },
      {
       "metadata": {},
       "output_type": "display_data",
       "png": "[encoded data removed]",
       "text": [
        "<matplotlib.figure.Figure at 0xbedadec>"
       ]
      }
     ],
     "prompt_number": 25
    },
    {
     "cell_type": "code",
     "collapsed": false,
     "input": [
      "for i, j in enumerate(np.random.permutation(X.shape[0])[:6]):\n",
      "    print i, j"
     ],
     "language": "python",
     "metadata": {},
     "outputs": [
      {
       "output_type": "stream",
       "stream": "stdout",
       "text": [
        "0 319\n",
        "1 975\n",
        "2 1977\n",
        "3 280\n",
        "4 530\n",
        "5 1527\n"
       ]
      }
     ],
     "prompt_number": 119
    },
    {
     "cell_type": "code",
     "collapsed": false,
     "input": [
      "np.random.permutation(X.shape[0])[:6]"
     ],
     "language": "python",
     "metadata": {},
     "outputs": [
      {
       "metadata": {},
       "output_type": "pyout",
       "prompt_number": 34,
       "text": [
        "array([1805, 1119, 1989, 1261, 1283,   66])"
       ]
      }
     ],
     "prompt_number": 34
    },
    {
     "cell_type": "code",
     "collapsed": false,
     "input": [
      "clf_svm = svm.SVC(kernel='poly', degree=3)"
     ],
     "language": "python",
     "metadata": {},
     "outputs": [],
     "prompt_number": 49
    },
    {
     "cell_type": "code",
     "collapsed": false,
     "input": [
      "cross_val_score(clf_svm, X, y, cv=2)"
     ],
     "language": "python",
     "metadata": {},
     "outputs": [
      {
       "metadata": {},
       "output_type": "pyout",
       "prompt_number": 50,
       "text": [
        "array([ 0.877,  0.894])"
       ]
      }
     ],
     "prompt_number": 50
    },
    {
     "cell_type": "code",
     "collapsed": false,
     "input": [
      "from sklearn.neighbors import KNeighborsClassifier"
     ],
     "language": "python",
     "metadata": {},
     "outputs": [],
     "prompt_number": 51
    },
    {
     "cell_type": "code",
     "collapsed": false,
     "input": [
      "X.shape[0]"
     ],
     "language": "python",
     "metadata": {},
     "outputs": [
      {
       "metadata": {},
       "output_type": "pyout",
       "prompt_number": 52,
       "text": [
        "2000"
       ]
      }
     ],
     "prompt_number": 52
    },
    {
     "cell_type": "code",
     "collapsed": false,
     "input": [
      "clf_knn = KNeighborsClassifier(n_neighbors=5)"
     ],
     "language": "python",
     "metadata": {},
     "outputs": [],
     "prompt_number": 53
    },
    {
     "cell_type": "code",
     "collapsed": false,
     "input": [
      "cross_val_score(clf_knn, X, y, cv=5)"
     ],
     "language": "python",
     "metadata": {},
     "outputs": [
      {
       "metadata": {},
       "output_type": "pyout",
       "prompt_number": 54,
       "text": [
        "array([ 0.8775,  0.9075,  0.895 ,  0.8675,  0.89  ])"
       ]
      }
     ],
     "prompt_number": 54
    },
    {
     "cell_type": "code",
     "collapsed": false,
     "input": [
      "clf_rf = RandomForestClassifier(n_estimators=100)"
     ],
     "language": "python",
     "metadata": {},
     "outputs": [],
     "prompt_number": 55
    },
    {
     "cell_type": "code",
     "collapsed": false,
     "input": [
      "cross_val_score(clf_rf, X, y, cv=5)"
     ],
     "language": "python",
     "metadata": {},
     "outputs": [
      {
       "metadata": {},
       "output_type": "pyout",
       "prompt_number": 56,
       "text": [
        "array([ 0.8975,  0.94  ,  0.905 ,  0.8775,  0.9025])"
       ]
      }
     ],
     "prompt_number": 56
    },
    {
     "cell_type": "code",
     "collapsed": false,
     "input": [
      "X.shape, y.shape"
     ],
     "language": "python",
     "metadata": {},
     "outputs": [
      {
       "metadata": {},
       "output_type": "pyout",
       "prompt_number": 57,
       "text": [
        "((2000, 784), (2000,))"
       ]
      }
     ],
     "prompt_number": 57
    },
    {
     "cell_type": "code",
     "collapsed": false,
     "input": [
      "from pprint import pprint\n",
      "svc_params = {\n",
      "    'C': np.logspace(-1, 2, 4),\n",
      "    'gamma': np.logspace(-4, 0, 5),\n",
      "}\n",
      "pprint(svc_params)"
     ],
     "language": "python",
     "metadata": {},
     "outputs": [
      {
       "output_type": "stream",
       "stream": "stdout",
       "text": [
        "{'C': array([   0.1,    1. ,   10. ,  100. ]),\n",
        " 'gamma': array([  1.00000000e-04,   1.00000000e-03,   1.00000000e-02,\n",
        "         1.00000000e-01,   1.00000000e+00])}\n"
       ]
      }
     ],
     "prompt_number": 58
    },
    {
     "cell_type": "code",
     "collapsed": false,
     "input": [
      "np.logspace(-4,0,5)"
     ],
     "language": "python",
     "metadata": {},
     "outputs": [
      {
       "metadata": {},
       "output_type": "pyout",
       "prompt_number": 62,
       "text": [
        "array([  1.00000000e-04,   1.00000000e-03,   1.00000000e-02,\n",
        "         1.00000000e-01,   1.00000000e+00])"
       ]
      }
     ],
     "prompt_number": 62
    },
    {
     "cell_type": "code",
     "collapsed": false,
     "input": [
      "from sklearn.grid_search import GridSearchCV"
     ],
     "language": "python",
     "metadata": {},
     "outputs": [],
     "prompt_number": 63
    },
    {
     "cell_type": "code",
     "collapsed": false,
     "input": [
      "gs_svc =GridSearchCV(svm.SVC(), svc_params, cv=5)"
     ],
     "language": "python",
     "metadata": {},
     "outputs": [],
     "prompt_number": 64
    },
    {
     "cell_type": "code",
     "collapsed": false,
     "input": [
      "gs_svc.fit(X,y)"
     ],
     "language": "python",
     "metadata": {},
     "outputs": [
      {
       "metadata": {},
       "output_type": "pyout",
       "prompt_number": 65,
       "text": [
        "GridSearchCV(cv=5,\n",
        "       estimator=SVC(C=1.0, cache_size=200, class_weight=None, coef0=0.0, degree=3, gamma=0.0,\n",
        "  kernel='rbf', max_iter=-1, probability=False, shrinking=True, tol=0.001,\n",
        "  verbose=False),\n",
        "       fit_params={}, iid=True, loss_func=None, n_jobs=1,\n",
        "       param_grid={'C': array([   0.1,    1. ,   10. ,  100. ]), 'gamma': array([  1.00000e-04,   1.00000e-03,   1.00000e-02,   1.00000e-01,\n",
        "         1.00000e+00])},\n",
        "       pre_dispatch='2*n_jobs', refit=True, score_func=None, verbose=0)"
       ]
      }
     ],
     "prompt_number": 65
    },
    {
     "cell_type": "code",
     "collapsed": false,
     "input": [
      "gs_svc.best_estimator_, gs_svc.best_params_, gs_svc.best_score_"
     ],
     "language": "python",
     "metadata": {},
     "outputs": [
      {
       "metadata": {},
       "output_type": "pyout",
       "prompt_number": 67,
       "text": [
        "(SVC(C=0.10000000000000001, cache_size=200, class_weight=None, coef0=0.0,\n",
        "  degree=3, gamma=0.0001, kernel='rbf', max_iter=-1, probability=False,\n",
        "  shrinking=True, tol=0.001, verbose=False),\n",
        " {'C': 0.10000000000000001, 'gamma': 0.0001},\n",
        " 0.11849999999999999)"
       ]
      }
     ],
     "prompt_number": 67
    },
    {
     "cell_type": "code",
     "collapsed": false,
     "input": [
      "# as we can see, the result is pretty useless even with GridSearchCV,\n",
      "# because the range specified doesn't seem to be good. \n",
      "# Even the default settings works pretty good"
     ],
     "language": "python",
     "metadata": {},
     "outputs": [],
     "prompt_number": 68
    },
    {
     "cell_type": "code",
     "collapsed": false,
     "input": [
      "clf_rbf = svm.SVC(kernel='rbf')\n",
      "cross_val_score(clf_rbf, X, y, cv=5)"
     ],
     "language": "python",
     "metadata": {},
     "outputs": [
      {
       "metadata": {},
       "output_type": "pyout",
       "prompt_number": 70,
       "text": [
        "array([ 0.1175,  0.1175,  0.1175,  0.12  ,  0.12  ])"
       ]
      }
     ],
     "prompt_number": 70
    },
    {
     "cell_type": "code",
     "collapsed": false,
     "input": [
      "clf_rbf"
     ],
     "language": "python",
     "metadata": {},
     "outputs": [
      {
       "metadata": {},
       "output_type": "pyout",
       "prompt_number": 71,
       "text": [
        "SVC(C=1.0, cache_size=200, class_weight=None, coef0=0.0, degree=3, gamma=0.0,\n",
        "  kernel='rbf', max_iter=-1, probability=False, shrinking=True, tol=0.001,\n",
        "  verbose=False)"
       ]
      }
     ],
     "prompt_number": 71
    },
    {
     "cell_type": "code",
     "collapsed": false,
     "input": [
      "from sklearn.cross_validation import train_test_split\n",
      "X_train,X_test, y_train, y_test = train_test_split(X,y, test_size=.3, random_state=0)"
     ],
     "language": "python",
     "metadata": {},
     "outputs": [],
     "prompt_number": 72
    },
    {
     "cell_type": "code",
     "collapsed": false,
     "input": [
      "X_train.shape, y_test.shape"
     ],
     "language": "python",
     "metadata": {},
     "outputs": [
      {
       "metadata": {},
       "output_type": "pyout",
       "prompt_number": 73,
       "text": [
        "((1400, 784), (600,))"
       ]
      }
     ],
     "prompt_number": 73
    },
    {
     "cell_type": "code",
     "collapsed": false,
     "input": [
      "from sklearn.preprocessing import StandardScaler\n",
      "\n",
      "scaler = StandardScaler()\n",
      "X_train_scaled = scaler.fit_transform(X_train)\n",
      "X_test_scaled = scaler.transform(X_test)\n",
      "\n",
      "clf = svm.SVC().fit(X_train_scaled, y_train)  # Look Ma'! Default params!\n",
      "print(\"Train score: {0:.3f}\".format(clf.score(X_train_scaled, y_train)))\n",
      "print(\"Test score: {0:.3f}\".format(clf.score(X_test_scaled, y_test)))"
     ],
     "language": "python",
     "metadata": {},
     "outputs": [
      {
       "output_type": "stream",
       "stream": "stdout",
       "text": [
        "Train score: 0.764\n",
        "Test score: 0.540"
       ]
      },
      {
       "output_type": "stream",
       "stream": "stdout",
       "text": [
        "\n"
       ]
      }
     ],
     "prompt_number": 75
    },
    {
     "cell_type": "code",
     "collapsed": false,
     "input": [
      "#with data normalization results with default C & gamma improved\n",
      "# from .11 to ~.54"
     ],
     "language": "python",
     "metadata": {},
     "outputs": [],
     "prompt_number": 76
    },
    {
     "cell_type": "code",
     "collapsed": false,
     "input": [
      "X_pca =  RandomizedPCA(n_components=2).fit_transform(X)"
     ],
     "language": "python",
     "metadata": {},
     "outputs": [],
     "prompt_number": 80
    },
    {
     "cell_type": "code",
     "collapsed": false,
     "input": [
      "from itertools import cycle\n",
      "colors = ['b', 'g', 'r', 'c', 'm', 'y', 'k']\n",
      "for i, c in zip(np.unique(y), cycle(colors)):\n",
      "    pl.scatter(X_pca[y==i,0], X_pca[y==i,1], label=str(i), c=c, alpha=.5)\n",
      "    pl.legend(loc='upper right')"
     ],
     "language": "python",
     "metadata": {},
     "outputs": [
      {
       "metadata": {},
       "output_type": "display_data",
       "png": "[encoded data removed]",
       "text": [
        "<matplotlib.figure.Figure at 0xa8da38c>"
       ]
      }
     ],
     "prompt_number": 81
    },
    {
     "cell_type": "code",
     "collapsed": false,
     "input": [
      "# with 2D PCA project, we can see that the data is very much overallped in thier zones\n",
      "# possibly, with higher dimensions we can separate out the results, lets try"
     ],
     "language": "python",
     "metadata": {},
     "outputs": [],
     "prompt_number": 82
    },
    {
     "cell_type": "code",
     "collapsed": false,
     "input": [
      "#cross_val_score(svm.SVC(kernel='poly', degree=3), X_pca, y, cv=5)"
     ],
     "language": "python",
     "metadata": {},
     "outputs": [
      {
       "metadata": {},
       "output_type": "pyout",
       "prompt_number": 83,
       "text": [
        "array([ 0.12  ,  0.1175,  0.1225,  0.1175,  0.1225])"
       ]
      }
     ],
     "prompt_number": "*"
    },
    {
     "cell_type": "code",
     "collapsed": false,
     "input": [],
     "language": "python",
     "metadata": {},
     "outputs": []
    }
   ],
   "metadata": {}
  }
 ]
}