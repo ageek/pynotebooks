{
 "metadata": {
  "name": ""
 },
 "nbformat": 3,
 "nbformat_minor": 0,
 "worksheets": [
  {
   "cells": [
    {
     "cell_type": "code",
     "collapsed": false,
     "input": [
      "from sklearn import datasets\n",
      "from sklearn.cross_validation import cross_val_score\n",
      "from sklearn import svm, metrics\n",
      "\n",
      "from sklearn.linear_model import LogisticRegression\n",
      "from sklearn.decomposition import RandomizedPCA\n",
      "from sklearn.ensemble import RandomForestClassifier\n",
      "\n",
      "import pylab as pl\n",
      "import numpy as np\n",
      "import pandas as pd"
     ],
     "language": "python",
     "metadata": {},
     "outputs": [],
     "prompt_number": 6
    },
    {
     "cell_type": "code",
     "collapsed": false,
     "input": [
      "#train_file = '/home/bakuda/sandbox/ageekrepo/kaggle/digit_recognizer/kgg/train_2000.csv'\n",
      "train_file = '/devSOLR-Crawler/img/gkt/kaggle/digit_recognizer/kgg/train_2000.csv'"
     ],
     "language": "python",
     "metadata": {},
     "outputs": [],
     "prompt_number": 7
    },
    {
     "cell_type": "code",
     "collapsed": false,
     "input": [
      "import csv\n",
      "lines= [x for x in csv.reader(file(train_file))][1:]"
     ],
     "language": "python",
     "metadata": {},
     "outputs": [],
     "prompt_number": 8
    },
    {
     "cell_type": "code",
     "collapsed": false,
     "input": [
      "len(lines)"
     ],
     "language": "python",
     "metadata": {},
     "outputs": [
      {
       "metadata": {},
       "output_type": "pyout",
       "prompt_number": 9,
       "text": [
        "2000"
       ]
      }
     ],
     "prompt_number": 9
    },
    {
     "cell_type": "code",
     "collapsed": false,
     "input": [
      "X = [x for x in lines][1:]\n"
     ],
     "language": "python",
     "metadata": {},
     "outputs": [],
     "prompt_number": 10
    },
    {
     "cell_type": "code",
     "collapsed": false,
     "input": [
      "len(X)\n",
      "lines[0][:10]"
     ],
     "language": "python",
     "metadata": {},
     "outputs": [
      {
       "metadata": {},
       "output_type": "pyout",
       "prompt_number": 11,
       "text": [
        "['1', '0', '0', '0', '0', '0', '0', '0', '0', '0']"
       ]
      }
     ],
     "prompt_number": 11
    },
    {
     "cell_type": "code",
     "collapsed": false,
     "input": [
      "pl.gray()\n",
      "pl.imshow(np.asarray(lines[3][1:], dtype='uint8').reshape((28,28)), interpolation='nearest')"
     ],
     "language": "python",
     "metadata": {},
     "outputs": [
      {
       "metadata": {},
       "output_type": "pyout",
       "prompt_number": 12,
       "text": [
        "<matplotlib.image.AxesImage at 0x5a7e510>"
       ]
      },
      {
       "metadata": {},
       "output_type": "display_data",
       "png": "[encoded data removed]",
       "text": [
        "<matplotlib.figure.Figure at 0x3fdee10>"
       ]
      }
     ],
     "prompt_number": 12
    },
    {
     "cell_type": "code",
     "collapsed": false,
     "input": [
      "def images2Vector(filePath):\n",
      "    imageVector=[]\n",
      "    labelsVector=[]\n",
      "    print \"Reading csv file...\"\n",
      "    f = file(filePath, 'rb')\n",
      "    #skip header\n",
      "    f.readline()\n",
      "    # we dont hve headers, so no need to skip the first row\n",
      "    for line in csv.reader(f):\n",
      "        #print line\n",
      "        labelsVector.append(line[0])\n",
      "        imageVector.append(line[1:])\n",
      "\n",
      "    #convert the data List to np arrary\n",
      "    imageVector=np.asarray(imageVector, dtype='uint8')\n",
      "    labelsVector = np.asarray(labelsVector, dtype='uint8')\n",
      "\n",
      "    return imageVector, labelsVector"
     ],
     "language": "python",
     "metadata": {},
     "outputs": [],
     "prompt_number": 12
    },
    {
     "cell_type": "code",
     "collapsed": false,
     "input": [
      "X,y = images2Vector(train_file)"
     ],
     "language": "python",
     "metadata": {},
     "outputs": [
      {
       "output_type": "stream",
       "stream": "stdout",
       "text": [
        "Reading csv file...\n"
       ]
      }
     ],
     "prompt_number": 13
    },
    {
     "cell_type": "code",
     "collapsed": false,
     "input": [
      "X.shape"
     ],
     "language": "python",
     "metadata": {},
     "outputs": [
      {
       "metadata": {},
       "output_type": "pyout",
       "prompt_number": 14,
       "text": [
        "(2000, 784)"
       ]
      }
     ],
     "prompt_number": 14
    },
    {
     "cell_type": "code",
     "collapsed": false,
     "input": [
      "type(X), type(y)"
     ],
     "language": "python",
     "metadata": {},
     "outputs": [
      {
       "metadata": {},
       "output_type": "pyout",
       "prompt_number": 34,
       "text": [
        "(numpy.ndarray, numpy.ndarray)"
       ]
      }
     ],
     "prompt_number": 34
    },
    {
     "cell_type": "code",
     "collapsed": false,
     "input": [
      "X.shape, y.shape"
     ],
     "language": "python",
     "metadata": {},
     "outputs": [
      {
       "metadata": {},
       "output_type": "pyout",
       "prompt_number": 35,
       "text": [
        "((2000, 784), (2000,))"
       ]
      }
     ],
     "prompt_number": 35
    },
    {
     "cell_type": "code",
     "collapsed": false,
     "input": [
      "X[0].astype(float)"
     ],
     "language": "python",
     "metadata": {},
     "outputs": [
      {
       "metadata": {},
       "output_type": "pyout",
       "prompt_number": 68,
       "text": [
        "array([   0.,    0.,    0.,    0.,    0.,    0.,    0.,    0.,    0.,\n",
        "          0.,    0.,    0.,    0.,    0.,    0.,    0.,    0.,    0.,\n",
        "          0.,    0.,    0.,    0.,    0.,    0.,    0.,    0.,    0.,\n",
        "          0.,    0.,    0.,    0.,    0.,    0.,    0.,    0.,    0.,\n",
        "          0.,    0.,    0.,    0.,    0.,    0.,    0.,    0.,    0.,\n",
        "          0.,    0.,    0.,    0.,    0.,    0.,    0.,    0.,    0.,\n",
        "          0.,    0.,    0.,    0.,    0.,    0.,    0.,    0.,    0.,\n",
        "          0.,    0.,    0.,    0.,    0.,    0.,    0.,    0.,    0.,\n",
        "          0.,    0.,    0.,    0.,    0.,    0.,    0.,    0.,    0.,\n",
        "          0.,    0.,    0.,    0.,    0.,    0.,    0.,    0.,    0.,\n",
        "          0.,    0.,    0.,    0.,    0.,    0.,    0.,    0.,    0.,\n",
        "          0.,    0.,    0.,    0.,    0.,    0.,    0.,    0.,    0.,\n",
        "          0.,    0.,    0.,    0.,    0.,    0.,    0.,    0.,    0.,\n",
        "          0.,    0.,    0.,    0.,    0.,    0.,    0.,    0.,    0.,\n",
        "          0.,    0.,    0.,    0.,    0.,    0.,  188.,  255.,   94.,\n",
        "          0.,    0.,    0.,    0.,    0.,    0.,    0.,    0.,    0.,\n",
        "          0.,    0.,    0.,    0.,    0.,    0.,    0.,    0.,    0.,\n",
        "          0.,    0.,    0.,    0.,    0.,    0.,  191.,  250.,  253.,\n",
        "         93.,    0.,    0.,    0.,    0.,    0.,    0.,    0.,    0.,\n",
        "          0.,    0.,    0.,    0.,    0.,    0.,    0.,    0.,    0.,\n",
        "          0.,    0.,    0.,    0.,    0.,    0.,  123.,  248.,  253.,\n",
        "        167.,   10.,    0.,    0.,    0.,    0.,    0.,    0.,    0.,\n",
        "          0.,    0.,    0.,    0.,    0.,    0.,    0.,    0.,    0.,\n",
        "          0.,    0.,    0.,    0.,    0.,    0.,   80.,  247.,  253.,\n",
        "        208.,   13.,    0.,    0.,    0.,    0.,    0.,    0.,    0.,\n",
        "          0.,    0.,    0.,    0.,    0.,    0.,    0.,    0.,    0.,\n",
        "          0.,    0.,    0.,    0.,    0.,    0.,   29.,  207.,  253.,\n",
        "        235.,   77.,    0.,    0.,    0.,    0.,    0.,    0.,    0.,\n",
        "          0.,    0.,    0.,    0.,    0.,    0.,    0.,    0.,    0.,\n",
        "          0.,    0.,    0.,    0.,    0.,    0.,   54.,  209.,  253.,\n",
        "        253.,   88.,    0.,    0.,    0.,    0.,    0.,    0.,    0.,\n",
        "          0.,    0.,    0.,    0.,    0.,    0.,    0.,    0.,    0.,\n",
        "          0.,    0.,    0.,    0.,    0.,    0.,   93.,  254.,  253.,\n",
        "        238.,  170.,   17.,    0.,    0.,    0.,    0.,    0.,    0.,\n",
        "          0.,    0.,    0.,    0.,    0.,    0.,    0.,    0.,    0.,\n",
        "          0.,    0.,    0.,    0.,    0.,    0.,   23.,  210.,  254.,\n",
        "        253.,  159.,    0.,    0.,    0.,    0.,    0.,    0.,    0.,\n",
        "          0.,    0.,    0.,    0.,    0.,    0.,    0.,    0.,    0.,\n",
        "          0.,    0.,    0.,    0.,    0.,    0.,   16.,  209.,  253.,\n",
        "        254.,  240.,   81.,    0.,    0.,    0.,    0.,    0.,    0.,\n",
        "          0.,    0.,    0.,    0.,    0.,    0.,    0.,    0.,    0.,\n",
        "          0.,    0.,    0.,    0.,    0.,    0.,    0.,   27.,  253.,\n",
        "        253.,  254.,   13.,    0.,    0.,    0.,    0.,    0.,    0.,\n",
        "          0.,    0.,    0.,    0.,    0.,    0.,    0.,    0.,    0.,\n",
        "          0.,    0.,    0.,    0.,    0.,    0.,    0.,   20.,  206.,\n",
        "        254.,  254.,  198.,    7.,    0.,    0.,    0.,    0.,    0.,\n",
        "          0.,    0.,    0.,    0.,    0.,    0.,    0.,    0.,    0.,\n",
        "          0.,    0.,    0.,    0.,    0.,    0.,    0.,    0.,  168.,\n",
        "        253.,  253.,  196.,    7.,    0.,    0.,    0.,    0.,    0.,\n",
        "          0.,    0.,    0.,    0.,    0.,    0.,    0.,    0.,    0.,\n",
        "          0.,    0.,    0.,    0.,    0.,    0.,    0.,    0.,   20.,\n",
        "        203.,  253.,  248.,   76.,    0.,    0.,    0.,    0.,    0.,\n",
        "          0.,    0.,    0.,    0.,    0.,    0.,    0.,    0.,    0.,\n",
        "          0.,    0.,    0.,    0.,    0.,    0.,    0.,    0.,   22.,\n",
        "        188.,  253.,  245.,   93.,    0.,    0.,    0.,    0.,    0.,\n",
        "          0.,    0.,    0.,    0.,    0.,    0.,    0.,    0.,    0.,\n",
        "          0.,    0.,    0.,    0.,    0.,    0.,    0.,    0.,    0.,\n",
        "        103.,  253.,  253.,  191.,    0.,    0.,    0.,    0.,    0.,\n",
        "          0.,    0.,    0.,    0.,    0.,    0.,    0.,    0.,    0.,\n",
        "          0.,    0.,    0.,    0.,    0.,    0.,    0.,    0.,    0.,\n",
        "         89.,  240.,  253.,  195.,   25.,    0.,    0.,    0.,    0.,\n",
        "          0.,    0.,    0.,    0.,    0.,    0.,    0.,    0.,    0.,\n",
        "          0.,    0.,    0.,    0.,    0.,    0.,    0.,    0.,    0.,\n",
        "         15.,  220.,  253.,  253.,   80.,    0.,    0.,    0.,    0.,\n",
        "          0.,    0.,    0.,    0.,    0.,    0.,    0.,    0.,    0.,\n",
        "          0.,    0.,    0.,    0.,    0.,    0.,    0.,    0.,    0.,\n",
        "          0.,   94.,  253.,  253.,  253.,   94.,    0.,    0.,    0.,\n",
        "          0.,    0.,    0.,    0.,    0.,    0.,    0.,    0.,    0.,\n",
        "          0.,    0.,    0.,    0.,    0.,    0.,    0.,    0.,    0.,\n",
        "          0.,    0.,   89.,  251.,  253.,  250.,  131.,    0.,    0.,\n",
        "          0.,    0.,    0.,    0.,    0.,    0.,    0.,    0.,    0.,\n",
        "          0.,    0.,    0.,    0.,    0.,    0.,    0.,    0.,    0.,\n",
        "          0.,    0.,    0.,    0.,  214.,  218.,   95.,    0.,    0.,\n",
        "          0.,    0.,    0.,    0.,    0.,    0.,    0.,    0.,    0.,\n",
        "          0.,    0.,    0.,    0.,    0.,    0.,    0.,    0.,    0.,\n",
        "          0.,    0.,    0.,    0.,    0.,    0.,    0.,    0.,    0.,\n",
        "          0.,    0.,    0.,    0.,    0.,    0.,    0.,    0.,    0.,\n",
        "          0.,    0.,    0.,    0.,    0.,    0.,    0.,    0.,    0.,\n",
        "          0.,    0.,    0.,    0.,    0.,    0.,    0.,    0.,    0.,\n",
        "          0.,    0.,    0.,    0.,    0.,    0.,    0.,    0.,    0.,\n",
        "          0.,    0.,    0.,    0.,    0.,    0.,    0.,    0.,    0.,\n",
        "          0.,    0.,    0.,    0.,    0.,    0.,    0.,    0.,    0.,\n",
        "          0.,    0.,    0.,    0.,    0.,    0.,    0.,    0.,    0.,\n",
        "          0.,    0.,    0.,    0.,    0.,    0.,    0.,    0.,    0.,\n",
        "          0.,    0.,    0.,    0.,    0.,    0.,    0.,    0.,    0.,\n",
        "          0.,    0.,    0.,    0.,    0.,    0.,    0.,    0.,    0.,\n",
        "          0.,    0.,    0.,    0.,    0.,    0.,    0.,    0.,    0.,    0.])"
       ]
      }
     ],
     "prompt_number": 68
    },
    {
     "cell_type": "code",
     "collapsed": false,
     "input": [
      "pl.gray()\n",
      "for i, j in enumerate(np.random.permutation(X.shape[0])[:6]):\n",
      "    print \"Selecting %d-th item from array\" %(j)\n",
      "    pl.subplot(1, 6, (i + 1))\n",
      "    pl.imshow(X[j].reshape((28, 28)), interpolation='nearest')\n",
      "    pl.title(\"Actual: %d\" % y[j])\n",
      "    pl.xticks(()), pl.yticks(())"
     ],
     "language": "python",
     "metadata": {},
     "outputs": [
      {
       "output_type": "stream",
       "stream": "stdout",
       "text": [
        "Selecting 1504-th item from array\n",
        "Selecting 147-th item from array\n",
        "Selecting 1294-th item from array"
       ]
      },
      {
       "output_type": "stream",
       "stream": "stdout",
       "text": [
        "\n",
        "Selecting 1650-th item from array\n",
        "Selecting 1962-th item from array"
       ]
      },
      {
       "output_type": "stream",
       "stream": "stdout",
       "text": [
        "\n",
        "Selecting 241-th item from array\n"
       ]
      },
      {
       "metadata": {},
       "output_type": "display_data",
       "png": "[encoded data removed]",
       "text": [
        "<matplotlib.figure.Figure at 0x65009d0>"
       ]
      }
     ],
     "prompt_number": 13
    },
    {
     "cell_type": "code",
     "collapsed": false,
     "input": [
      "for i, j in enumerate(np.random.permutation(X.shape[0])[:6]):\n",
      "    print i, j"
     ],
     "language": "python",
     "metadata": {},
     "outputs": [
      {
       "output_type": "stream",
       "stream": "stdout",
       "text": [
        "0 937\n",
        "1 1772\n",
        "2 1327\n",
        "3 1765\n",
        "4 1426\n",
        "5 122\n"
       ]
      }
     ],
     "prompt_number": 20
    },
    {
     "cell_type": "code",
     "collapsed": false,
     "input": [
      "np.random.permutation(X.shape[0])[:6]"
     ],
     "language": "python",
     "metadata": {},
     "outputs": [
      {
       "metadata": {},
       "output_type": "pyout",
       "prompt_number": 21,
       "text": [
        "array([ 252, 1111, 1688, 1692, 1877,  686])"
       ]
      }
     ],
     "prompt_number": 21
    },
    {
     "cell_type": "code",
     "collapsed": false,
     "input": [
      "clf_svm = svm.SVC(kernel='poly', degree=3)"
     ],
     "language": "python",
     "metadata": {},
     "outputs": [],
     "prompt_number": 22
    },
    {
     "cell_type": "code",
     "collapsed": false,
     "input": [
      "cross_val_score(clf_svm, X, y, cv=2)"
     ],
     "language": "python",
     "metadata": {},
     "outputs": [
      {
       "metadata": {},
       "output_type": "pyout",
       "prompt_number": 23,
       "text": [
        "array([ 0.877,  0.894])"
       ]
      }
     ],
     "prompt_number": 23
    },
    {
     "cell_type": "code",
     "collapsed": false,
     "input": [
      "from sklearn.neighbors import KNeighborsClassifier"
     ],
     "language": "python",
     "metadata": {},
     "outputs": [],
     "prompt_number": 24
    },
    {
     "cell_type": "code",
     "collapsed": false,
     "input": [
      "X.shape[0]"
     ],
     "language": "python",
     "metadata": {},
     "outputs": [
      {
       "metadata": {},
       "output_type": "pyout",
       "prompt_number": 25,
       "text": [
        "2000"
       ]
      }
     ],
     "prompt_number": 25
    },
    {
     "cell_type": "code",
     "collapsed": false,
     "input": [
      "clf_knn = KNeighborsClassifier(n_neighbors=5)"
     ],
     "language": "python",
     "metadata": {},
     "outputs": [],
     "prompt_number": 26
    },
    {
     "cell_type": "code",
     "collapsed": false,
     "input": [
      "cross_val_score(clf_knn, X, y, cv=5)"
     ],
     "language": "python",
     "metadata": {},
     "outputs": [
      {
       "metadata": {},
       "output_type": "pyout",
       "prompt_number": 27,
       "text": [
        "array([ 0.8775,  0.9075,  0.895 ,  0.8675,  0.89  ])"
       ]
      }
     ],
     "prompt_number": 27
    },
    {
     "cell_type": "code",
     "collapsed": false,
     "input": [
      "clf_rf = RandomForestClassifier(n_estimators=100)"
     ],
     "language": "python",
     "metadata": {},
     "outputs": [],
     "prompt_number": 28
    },
    {
     "cell_type": "code",
     "collapsed": false,
     "input": [
      "cross_val_score(clf_rf, X, y, cv=5)"
     ],
     "language": "python",
     "metadata": {},
     "outputs": [
      {
       "metadata": {},
       "output_type": "pyout",
       "prompt_number": 29,
       "text": [
        "array([ 0.92  ,  0.9325,  0.9175,  0.8775,  0.89  ])"
       ]
      }
     ],
     "prompt_number": 29
    },
    {
     "cell_type": "code",
     "collapsed": false,
     "input": [
      "X.shape, y.shape"
     ],
     "language": "python",
     "metadata": {},
     "outputs": [
      {
       "metadata": {},
       "output_type": "pyout",
       "prompt_number": 30,
       "text": [
        "((2000, 784), (2000,))"
       ]
      }
     ],
     "prompt_number": 30
    },
    {
     "cell_type": "code",
     "collapsed": false,
     "input": [
      "from pprint import pprint\n",
      "svc_params = {\n",
      "    'C': np.logspace(-1, 2, 4),\n",
      "    'gamma': np.logspace(-4, 0, 5),\n",
      "}\n",
      "pprint(svc_params)"
     ],
     "language": "python",
     "metadata": {},
     "outputs": [
      {
       "output_type": "stream",
       "stream": "stdout",
       "text": [
        "{'C': array([   0.1,    1. ,   10. ,  100. ]),\n",
        " 'gamma': array([ 0.0001,  0.001 ,  0.01  ,  0.1   ,  1.    ])}\n"
       ]
      }
     ],
     "prompt_number": 31
    },
    {
     "cell_type": "code",
     "collapsed": false,
     "input": [
      "np.logspace(-4,0,5)"
     ],
     "language": "python",
     "metadata": {},
     "outputs": [
      {
       "metadata": {},
       "output_type": "pyout",
       "prompt_number": 32,
       "text": [
        "array([ 0.0001,  0.001 ,  0.01  ,  0.1   ,  1.    ])"
       ]
      }
     ],
     "prompt_number": 32
    },
    {
     "cell_type": "code",
     "collapsed": false,
     "input": [
      "from sklearn.grid_search import GridSearchCV"
     ],
     "language": "python",
     "metadata": {},
     "outputs": [],
     "prompt_number": 33
    },
    {
     "cell_type": "code",
     "collapsed": false,
     "input": [
      "gs_svc =GridSearchCV(svm.SVC(), svc_params, cv=5)"
     ],
     "language": "python",
     "metadata": {},
     "outputs": [],
     "prompt_number": 34
    },
    {
     "cell_type": "code",
     "collapsed": false,
     "input": [
      "gs_svc.fit(X,y)"
     ],
     "language": "python",
     "metadata": {},
     "outputs": [
      {
       "metadata": {},
       "output_type": "pyout",
       "prompt_number": 35,
       "text": [
        "GridSearchCV(cv=5,\n",
        "       estimator=SVC(C=1.0, cache_size=200, class_weight=None, coef0=0.0, degree=3, gamma=0.0,\n",
        "  kernel='rbf', max_iter=-1, probability=False, random_state=None,\n",
        "  shrinking=True, tol=0.001, verbose=False),\n",
        "       fit_params={}, iid=True, loss_func=None, n_jobs=1,\n",
        "       param_grid={'C': array([   0.1,    1. ,   10. ,  100. ]), 'gamma': array([ 0.0001,  0.001 ,  0.01  ,  0.1   ,  1.    ])},\n",
        "       pre_dispatch='2*n_jobs', refit=True, score_func=None, scoring=None,\n",
        "       verbose=0)"
       ]
      }
     ],
     "prompt_number": 35
    },
    {
     "cell_type": "code",
     "collapsed": false,
     "input": [
      "gs_svc.best_estimator_, gs_svc.best_params_, gs_svc.best_score_"
     ],
     "language": "python",
     "metadata": {},
     "outputs": [
      {
       "metadata": {},
       "output_type": "pyout",
       "prompt_number": 36,
       "text": [
        "(SVC(C=0.10000000000000001, cache_size=200, class_weight=None, coef0=0.0,\n",
        "  degree=3, gamma=0.0001, kernel='rbf', max_iter=-1, probability=False,\n",
        "  random_state=None, shrinking=True, tol=0.001, verbose=False),\n",
        " {'C': 0.10000000000000001, 'gamma': 0.0001},\n",
        " 0.11849999999999999)"
       ]
      }
     ],
     "prompt_number": 36
    },
    {
     "cell_type": "code",
     "collapsed": false,
     "input": [
      "# as we can see, the result is pretty useless even with GridSearchCV,\n",
      "# because the range specified doesn't seem to be good. \n",
      "# Even the default settings works pretty good"
     ],
     "language": "python",
     "metadata": {},
     "outputs": [],
     "prompt_number": 37
    },
    {
     "cell_type": "code",
     "collapsed": false,
     "input": [
      "clf_rbf = svm.SVC(kernel='rbf')\n",
      "cross_val_score(clf_rbf, X, y, cv=5)"
     ],
     "language": "python",
     "metadata": {},
     "outputs": [
      {
       "metadata": {},
       "output_type": "pyout",
       "prompt_number": 38,
       "text": [
        "array([ 0.1175,  0.1175,  0.1175,  0.12  ,  0.12  ])"
       ]
      }
     ],
     "prompt_number": 38
    },
    {
     "cell_type": "code",
     "collapsed": false,
     "input": [
      "clf_rbf"
     ],
     "language": "python",
     "metadata": {},
     "outputs": [
      {
       "metadata": {},
       "output_type": "pyout",
       "prompt_number": 39,
       "text": [
        "SVC(C=1.0, cache_size=200, class_weight=None, coef0=0.0, degree=3, gamma=0.0,\n",
        "  kernel='rbf', max_iter=-1, probability=False, random_state=None,\n",
        "  shrinking=True, tol=0.001, verbose=False)"
       ]
      }
     ],
     "prompt_number": 39
    },
    {
     "cell_type": "code",
     "collapsed": false,
     "input": [
      "from sklearn.cross_validation import train_test_split\n",
      "X_train,X_test, y_train, y_test = train_test_split(X,y, test_size=.3, random_state=0)"
     ],
     "language": "python",
     "metadata": {},
     "outputs": [],
     "prompt_number": 40
    },
    {
     "cell_type": "code",
     "collapsed": false,
     "input": [
      "X_train.shape, y_test.shape"
     ],
     "language": "python",
     "metadata": {},
     "outputs": [
      {
       "metadata": {},
       "output_type": "pyout",
       "prompt_number": 41,
       "text": [
        "((1400, 784), (600,))"
       ]
      }
     ],
     "prompt_number": 41
    },
    {
     "cell_type": "code",
     "collapsed": false,
     "input": [
      "from sklearn.preprocessing import StandardScaler\n",
      "\n",
      "scaler = StandardScaler()\n",
      "X_train_scaled = scaler.fit_transform(X_train)\n",
      "X_test_scaled = scaler.transform(X_test)\n",
      "\n",
      "clf = svm.SVC().fit(X_train_scaled, y_train)  # Look Ma'! Default params!\n",
      "print(\"Train score: {0:.3f}\".format(clf.score(X_train_scaled, y_train)))\n",
      "print(\"Test score: {0:.3f}\".format(clf.score(X_test_scaled, y_test)))"
     ],
     "language": "python",
     "metadata": {},
     "outputs": [
      {
       "output_type": "stream",
       "stream": "stdout",
       "text": [
        "Train score: 0.984\n",
        "Test score: 0.900"
       ]
      },
      {
       "output_type": "stream",
       "stream": "stdout",
       "text": [
        "\n"
       ]
      },
      {
       "output_type": "stream",
       "stream": "stderr",
       "text": [
        "/usr/local/lib/python2.7/dist-packages/scikit_learn-0.14.1-py2.7-linux-x86_64.egg/sklearn/utils/validation.py:278: UserWarning: StandardScaler assumes floating point values as input, got uint8\n",
        "  \"got %s\" % (estimator, X.dtype))\n"
       ]
      }
     ],
     "prompt_number": 42
    },
    {
     "cell_type": "code",
     "collapsed": false,
     "input": [
      "#with data normalization results with default C & gamma improved\n",
      "# from .11 to ~.54"
     ],
     "language": "python",
     "metadata": {},
     "outputs": [],
     "prompt_number": 43
    },
    {
     "cell_type": "code",
     "collapsed": false,
     "input": [
      "X_pca =  RandomizedPCA(n_components=2).fit_transform(X)"
     ],
     "language": "python",
     "metadata": {},
     "outputs": [],
     "prompt_number": 44
    },
    {
     "cell_type": "code",
     "collapsed": false,
     "input": [
      "from itertools import cycle\n",
      "colors = ['b', 'g', 'r', 'c', 'm', 'y', 'k']\n",
      "for i, c in zip(np.unique(y), cycle(colors)):\n",
      "    pl.scatter(X_pca[y==i,0], X_pca[y==i,1], label=str(i), c=c, alpha=.5)\n",
      "    pl.legend(loc='upper right')"
     ],
     "language": "python",
     "metadata": {},
     "outputs": [
      {
       "metadata": {},
       "output_type": "display_data",
       "png": "[encoded data removed]",
       "text": [
        "<matplotlib.figure.Figure at 0x726cd50>"
       ]
      }
     ],
     "prompt_number": 45
    },
    {
     "cell_type": "code",
     "collapsed": false,
     "input": [
      "# with 2D PCA project, we can see that the data is very much overallped in thier zones\n",
      "# possibly, with higher dimensions we can separate out the results, lets try"
     ],
     "language": "python",
     "metadata": {},
     "outputs": [],
     "prompt_number": 46
    },
    {
     "cell_type": "code",
     "collapsed": false,
     "input": [
      "#cross_val_score(svm.SVC(kernel='poly', degree=3), X_pca, y, cv=2)"
     ],
     "language": "python",
     "metadata": {},
     "outputs": [],
     "prompt_number": 1
    },
    {
     "cell_type": "code",
     "collapsed": false,
     "input": [
      "import numpy as np\n",
      "\n",
      "def tanh(x):\n",
      "    return np.tanh(x)\n",
      "\n",
      "def tanh_deriv(x):\n",
      "    return 1.0 - x**2\n",
      "\n",
      "def logistic(x):\n",
      "    return 1/(1 + np.exp(-x))\n",
      "\n",
      "def logistic_derivative(x):\n",
      "    return logistic(x)*(1-logistic(x))\n",
      "\n",
      "class NeuralNetwork:\n",
      "\n",
      "    def __init__(self, layers, activation='tanh'):\n",
      "        \"\"\"\n",
      "        :param layers: A list containing the number of units in each layer. Should be at least two values\n",
      "        :param activation: The activation function to be used. Can be \"logistic\" or \"tanh\"\n",
      "        \"\"\"\n",
      "        if activation == 'logistic':\n",
      "            self.activation = logistic\n",
      "            self.activation_deriv = logistic_derivative\n",
      "        elif activation == 'tanh':\n",
      "            self.activation = tanh\n",
      "            self.activation_deriv = tanh_deriv\n",
      "\n",
      "        self.weights = []\n",
      "        for i in range(1, len(layers) - 1):\n",
      "            self.weights.append((2*np.random.random((layers[i - 1] + 1, layers[i] + 1))-1)*0.25)\n",
      "        self.weights.append((2*np.random.random((layers[i] + 1, layers[i + 1]))-1)*0.25)\n",
      "        \n",
      "    def fit(self, X, y, learning_rate=0.2, epochs=10000):\n",
      "        X = np.atleast_2d(X)\n",
      "        temp = np.ones([X.shape[0], X.shape[1]+1])\n",
      "        temp[:, 0:-1] = X  # adding the bias unit to the input layer\n",
      "        X = temp\n",
      "        y = np.array(y)\n",
      "\n",
      "        for k in range(epochs):\n",
      "            i = np.random.randint(X.shape[0])\n",
      "            a = [X[i]]\n",
      "\n",
      "            for l in range(len(self.weights)):\n",
      "                    a.append(self.activation(np.dot(a[l], self.weights[l])))\n",
      "            error = y[i] - a[-1]\n",
      "            deltas = [error * self.activation_deriv(a[-1])]\n",
      "\n",
      "            for l in range(len(a) - 2, 0, -1): # we need to begin at the second to last layer\n",
      "                deltas.append(deltas[-1].dot(self.weights[l].T)*self.activation_deriv(a[l]))\n",
      "            deltas.reverse()\n",
      "            for i in range(len(self.weights)):\n",
      "                layer = np.atleast_2d(a[i])\n",
      "                delta = np.atleast_2d(deltas[i])\n",
      "                self.weights[i] += learning_rate * layer.T.dot(delta)\n",
      "    \n",
      "    def predict(self, x):\n",
      "        x = np.array(x)\n",
      "        temp = np.ones(x.shape[0]+1)\n",
      "        temp[0:-1] = x\n",
      "        a = temp\n",
      "        for l in range(0, len(self.weights)):\n",
      "            a = self.activation(np.dot(a, self.weights[l]))\n",
      "        return a"
     ],
     "language": "python",
     "metadata": {},
     "outputs": [],
     "prompt_number": 15
    },
    {
     "cell_type": "code",
     "collapsed": false,
     "input": [
      "#now try sklearn digits dataset\n",
      "import numpy as np\n",
      "from sklearn.datasets import load_digits\n",
      "from sklearn.metrics import confusion_matrix, classification_report\n",
      "from sklearn.preprocessing import LabelBinarizer\n",
      "from sklearn.cross_validation import train_test_split\n",
      "#from NeuralNetwork import NeuralNetwork\n"
     ],
     "language": "python",
     "metadata": {},
     "outputs": [],
     "prompt_number": 16
    },
    {
     "cell_type": "code",
     "collapsed": false,
     "input": [
      "digits = load_digits()\n",
      "X_sk = digits.data\n",
      "y_sk = digits.target\n",
      "X_sk -= X_sk.min()     # normalize the values to bring them into the range 0-1\n",
      "X_sk /= X_sk.max()"
     ],
     "language": "python",
     "metadata": {},
     "outputs": [],
     "prompt_number": 42
    },
    {
     "cell_type": "code",
     "collapsed": false,
     "input": [
      "nn = NeuralNetwork([64,100,10],'logistic')\n",
      "X_train, X_test, y_train, y_test = train_test_split(X_sk,y_sk)\n",
      "labels_train = LabelBinarizer().fit_transform(y_train)\n",
      "labels_test = LabelBinarizer().fit_transform(y_test)"
     ],
     "language": "python",
     "metadata": {},
     "outputs": [],
     "prompt_number": 43
    },
    {
     "cell_type": "code",
     "collapsed": false,
     "input": [
      "nn.fit(X_train,labels_train,epochs=30000)\n",
      "predictions = []\n",
      "for i in range(X_test.shape[0]):\n",
      "    o = nn.predict(X_test[i] )\n",
      "    predictions.append(np.argmax(o))\n",
      "print confusion_matrix(y_test,predictions)\n",
      "print classification_report(y_test,predictions)"
     ],
     "language": "python",
     "metadata": {},
     "outputs": [
      {
       "output_type": "stream",
       "stream": "stdout",
       "text": [
        "[[36  0  0  0  1  0  0  0  0  0]\n",
        " [ 0 41  0  1  0  0  0  0  6  0]\n",
        " [ 0  0 58  0  0  0  0  0  0  0]\n",
        " [ 0  0  0 34  0  0  0  1  3  0]\n",
        " [ 0  0  0  0 43  0  0  0  1  1]\n",
        " [ 0  1  1  0  0 33  0  0  0  1]\n",
        " [ 0  0  0  0  0  0 43  0  0  0]\n",
        " [ 0  0  0  0  0  0  0 41  1  2]\n",
        " [ 0  2  0  0  0  0  0  0 45  0]\n",
        " [ 0  0  0  1  0  0  0  0  2 51]]\n",
        "             precision    recall  f1-score   support\n",
        "\n",
        "          0       1.00      0.97      0.99        37\n",
        "          1       0.93      0.85      0.89        48\n",
        "          2       0.98      1.00      0.99        58\n",
        "          3       0.94      0.89      0.92        38\n",
        "          4       0.98      0.96      0.97        45\n",
        "          5       1.00      0.92      0.96        36\n",
        "          6       1.00      1.00      1.00        43\n",
        "          7       0.98      0.93      0.95        44\n",
        "          8       0.78      0.96      0.86        47\n",
        "          9       0.93      0.94      0.94        54\n",
        "\n",
        "avg / total       0.95      0.94      0.95       450\n",
        "\n"
       ]
      }
     ],
     "prompt_number": 44
    },
    {
     "cell_type": "code",
     "collapsed": false,
     "input": [
      "X.shape, y.shape"
     ],
     "language": "python",
     "metadata": {},
     "outputs": [
      {
       "metadata": {},
       "output_type": "pyout",
       "prompt_number": 17,
       "text": [
        "((2000, 784), (2000,))"
       ]
      }
     ],
     "prompt_number": 17
    },
    {
     "cell_type": "code",
     "collapsed": false,
     "input": [
      "# Reduce from 784 dimensions to 64 and see how it goes\n",
      "# Logically speaking, the selection of K dimensions is based on the principle of :\n",
      "#  Choose K such that the Variance of original data is maintained even in the reduced dimension data\n",
      "#  and preferably we should retain >=90% of the original variance\n",
      "X_pca = RandomizedPCA(n_components=64).fit_transform(X)"
     ],
     "language": "python",
     "metadata": {},
     "outputs": [],
     "prompt_number": 18
    },
    {
     "cell_type": "code",
     "collapsed": false,
     "input": [
      "X_pca.shape, y.shape"
     ],
     "language": "python",
     "metadata": {},
     "outputs": [
      {
       "metadata": {},
       "output_type": "pyout",
       "prompt_number": 19,
       "text": [
        "((2000, 64), (2000,))"
       ]
      }
     ],
     "prompt_number": 19
    },
    {
     "cell_type": "code",
     "collapsed": false,
     "input": [
      "X_t = digits.data"
     ],
     "language": "python",
     "metadata": {},
     "outputs": [],
     "prompt_number": 49
    },
    {
     "cell_type": "code",
     "collapsed": false,
     "input": [
      "dig = load_digits()\n",
      "dig.data[0]"
     ],
     "language": "python",
     "metadata": {},
     "outputs": [
      {
       "metadata": {},
       "output_type": "pyout",
       "prompt_number": 53,
       "text": [
        "array([  0.,   0.,   5.,  13.,   9.,   1.,   0.,   0.,   0.,   0.,  13.,\n",
        "        15.,  10.,  15.,   5.,   0.,   0.,   3.,  15.,   2.,   0.,  11.,\n",
        "         8.,   0.,   0.,   4.,  12.,   0.,   0.,   8.,   8.,   0.,   0.,\n",
        "         5.,   8.,   0.,   0.,   9.,   8.,   0.,   0.,   4.,  11.,   0.,\n",
        "         1.,  12.,   7.,   0.,   0.,   2.,  14.,   5.,  10.,  12.,   0.,\n",
        "         0.,   0.,   0.,   6.,  13.,  10.,   0.,   0.,   0.])"
       ]
      }
     ],
     "prompt_number": 53
    },
    {
     "cell_type": "code",
     "collapsed": false,
     "input": [
      "dig.data[0] -   dig.data[0].min()"
     ],
     "language": "python",
     "metadata": {},
     "outputs": [
      {
       "metadata": {},
       "output_type": "pyout",
       "prompt_number": 54,
       "text": [
        "array([  0.,   0.,   5.,  13.,   9.,   1.,   0.,   0.,   0.,   0.,  13.,\n",
        "        15.,  10.,  15.,   5.,   0.,   0.,   3.,  15.,   2.,   0.,  11.,\n",
        "         8.,   0.,   0.,   4.,  12.,   0.,   0.,   8.,   8.,   0.,   0.,\n",
        "         5.,   8.,   0.,   0.,   9.,   8.,   0.,   0.,   4.,  11.,   0.,\n",
        "         1.,  12.,   7.,   0.,   0.,   2.,  14.,   5.,  10.,  12.,   0.,\n",
        "         0.,   0.,   0.,   6.,  13.,  10.,   0.,   0.,   0.])"
       ]
      }
     ],
     "prompt_number": 54
    },
    {
     "cell_type": "code",
     "collapsed": false,
     "input": [
      "(dig.data[0]-dig.data[0].min())/dig.data[0].max()"
     ],
     "language": "python",
     "metadata": {},
     "outputs": [
      {
       "metadata": {},
       "output_type": "pyout",
       "prompt_number": 55,
       "text": [
        "array([ 0.        ,  0.        ,  0.33333333,  0.86666667,  0.6       ,\n",
        "        0.06666667,  0.        ,  0.        ,  0.        ,  0.        ,\n",
        "        0.86666667,  1.        ,  0.66666667,  1.        ,  0.33333333,\n",
        "        0.        ,  0.        ,  0.2       ,  1.        ,  0.13333333,\n",
        "        0.        ,  0.73333333,  0.53333333,  0.        ,  0.        ,\n",
        "        0.26666667,  0.8       ,  0.        ,  0.        ,  0.53333333,\n",
        "        0.53333333,  0.        ,  0.        ,  0.33333333,  0.53333333,\n",
        "        0.        ,  0.        ,  0.6       ,  0.53333333,  0.        ,\n",
        "        0.        ,  0.26666667,  0.73333333,  0.        ,  0.06666667,\n",
        "        0.8       ,  0.46666667,  0.        ,  0.        ,  0.13333333,\n",
        "        0.93333333,  0.33333333,  0.66666667,  0.8       ,  0.        ,\n",
        "        0.        ,  0.        ,  0.        ,  0.4       ,  0.86666667,\n",
        "        0.66666667,  0.        ,  0.        ,  0.        ])"
       ]
      }
     ],
     "prompt_number": 55
    },
    {
     "cell_type": "code",
     "collapsed": false,
     "input": [
      "#for data normalization we want the datatype to be flaot\n",
      "X = X.astype(float)"
     ],
     "language": "python",
     "metadata": {},
     "outputs": [],
     "prompt_number": 20
    },
    {
     "cell_type": "code",
     "collapsed": false,
     "input": [
      "(X[0]-X[0].min()) / X[0].max() ["
     ],
     "language": "python",
     "metadata": {},
     "outputs": [
      {
       "metadata": {},
       "output_type": "pyout",
       "prompt_number": 71,
       "text": [
        "array([ 0.        ,  0.        ,  0.        ,  0.        ,  0.        ,\n",
        "        0.        ,  0.        ,  0.        ,  0.        ,  0.        ,\n",
        "        0.        ,  0.        ,  0.        ,  0.        ,  0.        ,\n",
        "        0.        ,  0.        ,  0.        ,  0.        ,  0.        ,\n",
        "        0.        ,  0.        ,  0.        ,  0.        ,  0.        ,\n",
        "        0.        ,  0.        ,  0.        ,  0.        ,  0.        ,\n",
        "        0.        ,  0.        ,  0.        ,  0.        ,  0.        ,\n",
        "        0.        ,  0.        ,  0.        ,  0.        ,  0.        ,\n",
        "        0.        ,  0.        ,  0.        ,  0.        ,  0.        ,\n",
        "        0.        ,  0.        ,  0.        ,  0.        ,  0.        ,\n",
        "        0.        ,  0.        ,  0.        ,  0.        ,  0.        ,\n",
        "        0.        ,  0.        ,  0.        ,  0.        ,  0.        ,\n",
        "        0.        ,  0.        ,  0.        ,  0.        ,  0.        ,\n",
        "        0.        ,  0.        ,  0.        ,  0.        ,  0.        ,\n",
        "        0.        ,  0.        ,  0.        ,  0.        ,  0.        ,\n",
        "        0.        ,  0.        ,  0.        ,  0.        ,  0.        ,\n",
        "        0.        ,  0.        ,  0.        ,  0.        ,  0.        ,\n",
        "        0.        ,  0.        ,  0.        ,  0.        ,  0.        ,\n",
        "        0.        ,  0.        ,  0.        ,  0.        ,  0.        ,\n",
        "        0.        ,  0.        ,  0.        ,  0.        ,  0.        ,\n",
        "        0.        ,  0.        ,  0.        ,  0.        ,  0.        ,\n",
        "        0.        ,  0.        ,  0.        ,  0.        ,  0.        ,\n",
        "        0.        ,  0.        ,  0.        ,  0.        ,  0.        ,\n",
        "        0.        ,  0.        ,  0.        ,  0.        ,  0.        ,\n",
        "        0.        ,  0.        ,  0.        ,  0.        ,  0.        ,\n",
        "        0.        ,  0.        ,  0.        ,  0.        ,  0.        ,\n",
        "        0.        ,  0.        ,  0.7372549 ,  1.        ,  0.36862745,\n",
        "        0.        ,  0.        ,  0.        ,  0.        ,  0.        ,\n",
        "        0.        ,  0.        ,  0.        ,  0.        ,  0.        ,\n",
        "        0.        ,  0.        ,  0.        ,  0.        ,  0.        ,\n",
        "        0.        ,  0.        ,  0.        ,  0.        ,  0.        ,\n",
        "        0.        ,  0.        ,  0.        ,  0.        ,  0.74901961,\n",
        "        0.98039216,  0.99215686,  0.36470588,  0.        ,  0.        ,\n",
        "        0.        ,  0.        ,  0.        ,  0.        ,  0.        ,\n",
        "        0.        ,  0.        ,  0.        ,  0.        ,  0.        ,\n",
        "        0.        ,  0.        ,  0.        ,  0.        ,  0.        ,\n",
        "        0.        ,  0.        ,  0.        ,  0.        ,  0.        ,\n",
        "        0.        ,  0.48235294,  0.97254902,  0.99215686,  0.65490196,\n",
        "        0.03921569,  0.        ,  0.        ,  0.        ,  0.        ,\n",
        "        0.        ,  0.        ,  0.        ,  0.        ,  0.        ,\n",
        "        0.        ,  0.        ,  0.        ,  0.        ,  0.        ,\n",
        "        0.        ,  0.        ,  0.        ,  0.        ,  0.        ,\n",
        "        0.        ,  0.        ,  0.        ,  0.31372549,  0.96862745,\n",
        "        0.99215686,  0.81568627,  0.05098039,  0.        ,  0.        ,\n",
        "        0.        ,  0.        ,  0.        ,  0.        ,  0.        ,\n",
        "        0.        ,  0.        ,  0.        ,  0.        ,  0.        ,\n",
        "        0.        ,  0.        ,  0.        ,  0.        ,  0.        ,\n",
        "        0.        ,  0.        ,  0.        ,  0.        ,  0.        ,\n",
        "        0.11372549,  0.81176471,  0.99215686,  0.92156863,  0.30196078,\n",
        "        0.        ,  0.        ,  0.        ,  0.        ,  0.        ,\n",
        "        0.        ,  0.        ,  0.        ,  0.        ,  0.        ,\n",
        "        0.        ,  0.        ,  0.        ,  0.        ,  0.        ,\n",
        "        0.        ,  0.        ,  0.        ,  0.        ,  0.        ,\n",
        "        0.        ,  0.        ,  0.21176471,  0.81960784,  0.99215686,\n",
        "        0.99215686,  0.34509804,  0.        ,  0.        ,  0.        ,\n",
        "        0.        ,  0.        ,  0.        ,  0.        ,  0.        ,\n",
        "        0.        ,  0.        ,  0.        ,  0.        ,  0.        ,\n",
        "        0.        ,  0.        ,  0.        ,  0.        ,  0.        ,\n",
        "        0.        ,  0.        ,  0.        ,  0.        ,  0.36470588,\n",
        "        0.99607843,  0.99215686,  0.93333333,  0.66666667,  0.06666667,\n",
        "        0.        ,  0.        ,  0.        ,  0.        ,  0.        ,\n",
        "        0.        ,  0.        ,  0.        ,  0.        ,  0.        ,\n",
        "        0.        ,  0.        ,  0.        ,  0.        ,  0.        ,\n",
        "        0.        ,  0.        ,  0.        ,  0.        ,  0.        ,\n",
        "        0.        ,  0.09019608,  0.82352941,  0.99607843,  0.99215686,\n",
        "        0.62352941,  0.        ,  0.        ,  0.        ,  0.        ,\n",
        "        0.        ,  0.        ,  0.        ,  0.        ,  0.        ,\n",
        "        0.        ,  0.        ,  0.        ,  0.        ,  0.        ,\n",
        "        0.        ,  0.        ,  0.        ,  0.        ,  0.        ,\n",
        "        0.        ,  0.        ,  0.        ,  0.0627451 ,  0.81960784,\n",
        "        0.99215686,  0.99607843,  0.94117647,  0.31764706,  0.        ,\n",
        "        0.        ,  0.        ,  0.        ,  0.        ,  0.        ,\n",
        "        0.        ,  0.        ,  0.        ,  0.        ,  0.        ,\n",
        "        0.        ,  0.        ,  0.        ,  0.        ,  0.        ,\n",
        "        0.        ,  0.        ,  0.        ,  0.        ,  0.        ,\n",
        "        0.        ,  0.10588235,  0.99215686,  0.99215686,  0.99607843,\n",
        "        0.05098039,  0.        ,  0.        ,  0.        ,  0.        ,\n",
        "        0.        ,  0.        ,  0.        ,  0.        ,  0.        ,\n",
        "        0.        ,  0.        ,  0.        ,  0.        ,  0.        ,\n",
        "        0.        ,  0.        ,  0.        ,  0.        ,  0.        ,\n",
        "        0.        ,  0.        ,  0.        ,  0.07843137,  0.80784314,\n",
        "        0.99607843,  0.99607843,  0.77647059,  0.02745098,  0.        ,\n",
        "        0.        ,  0.        ,  0.        ,  0.        ,  0.        ,\n",
        "        0.        ,  0.        ,  0.        ,  0.        ,  0.        ,\n",
        "        0.        ,  0.        ,  0.        ,  0.        ,  0.        ,\n",
        "        0.        ,  0.        ,  0.        ,  0.        ,  0.        ,\n",
        "        0.        ,  0.65882353,  0.99215686,  0.99215686,  0.76862745,\n",
        "        0.02745098,  0.        ,  0.        ,  0.        ,  0.        ,\n",
        "        0.        ,  0.        ,  0.        ,  0.        ,  0.        ,\n",
        "        0.        ,  0.        ,  0.        ,  0.        ,  0.        ,\n",
        "        0.        ,  0.        ,  0.        ,  0.        ,  0.        ,\n",
        "        0.        ,  0.        ,  0.        ,  0.07843137,  0.79607843,\n",
        "        0.99215686,  0.97254902,  0.29803922,  0.        ,  0.        ,\n",
        "        0.        ,  0.        ,  0.        ,  0.        ,  0.        ,\n",
        "        0.        ,  0.        ,  0.        ,  0.        ,  0.        ,\n",
        "        0.        ,  0.        ,  0.        ,  0.        ,  0.        ,\n",
        "        0.        ,  0.        ,  0.        ,  0.        ,  0.        ,\n",
        "        0.08627451,  0.7372549 ,  0.99215686,  0.96078431,  0.36470588,\n",
        "        0.        ,  0.        ,  0.        ,  0.        ,  0.        ,\n",
        "        0.        ,  0.        ,  0.        ,  0.        ,  0.        ,\n",
        "        0.        ,  0.        ,  0.        ,  0.        ,  0.        ,\n",
        "        0.        ,  0.        ,  0.        ,  0.        ,  0.        ,\n",
        "        0.        ,  0.        ,  0.        ,  0.40392157,  0.99215686,\n",
        "        0.99215686,  0.74901961,  0.        ,  0.        ,  0.        ,\n",
        "        0.        ,  0.        ,  0.        ,  0.        ,  0.        ,\n",
        "        0.        ,  0.        ,  0.        ,  0.        ,  0.        ,\n",
        "        0.        ,  0.        ,  0.        ,  0.        ,  0.        ,\n",
        "        0.        ,  0.        ,  0.        ,  0.        ,  0.        ,\n",
        "        0.34901961,  0.94117647,  0.99215686,  0.76470588,  0.09803922,\n",
        "        0.        ,  0.        ,  0.        ,  0.        ,  0.        ,\n",
        "        0.        ,  0.        ,  0.        ,  0.        ,  0.        ,\n",
        "        0.        ,  0.        ,  0.        ,  0.        ,  0.        ,\n",
        "        0.        ,  0.        ,  0.        ,  0.        ,  0.        ,\n",
        "        0.        ,  0.        ,  0.05882353,  0.8627451 ,  0.99215686,\n",
        "        0.99215686,  0.31372549,  0.        ,  0.        ,  0.        ,\n",
        "        0.        ,  0.        ,  0.        ,  0.        ,  0.        ,\n",
        "        0.        ,  0.        ,  0.        ,  0.        ,  0.        ,\n",
        "        0.        ,  0.        ,  0.        ,  0.        ,  0.        ,\n",
        "        0.        ,  0.        ,  0.        ,  0.        ,  0.        ,\n",
        "        0.36862745,  0.99215686,  0.99215686,  0.99215686,  0.36862745,\n",
        "        0.        ,  0.        ,  0.        ,  0.        ,  0.        ,\n",
        "        0.        ,  0.        ,  0.        ,  0.        ,  0.        ,\n",
        "        0.        ,  0.        ,  0.        ,  0.        ,  0.        ,\n",
        "        0.        ,  0.        ,  0.        ,  0.        ,  0.        ,\n",
        "        0.        ,  0.        ,  0.        ,  0.34901961,  0.98431373,\n",
        "        0.99215686,  0.98039216,  0.51372549,  0.        ,  0.        ,\n",
        "        0.        ,  0.        ,  0.        ,  0.        ,  0.        ,\n",
        "        0.        ,  0.        ,  0.        ,  0.        ,  0.        ,\n",
        "        0.        ,  0.        ,  0.        ,  0.        ,  0.        ,\n",
        "        0.        ,  0.        ,  0.        ,  0.        ,  0.        ,\n",
        "        0.        ,  0.        ,  0.83921569,  0.85490196,  0.37254902,\n",
        "        0.        ,  0.        ,  0.        ,  0.        ,  0.        ,\n",
        "        0.        ,  0.        ,  0.        ,  0.        ,  0.        ,\n",
        "        0.        ,  0.        ,  0.        ,  0.        ,  0.        ,\n",
        "        0.        ,  0.        ,  0.        ,  0.        ,  0.        ,\n",
        "        0.        ,  0.        ,  0.        ,  0.        ,  0.        ,\n",
        "        0.        ,  0.        ,  0.        ,  0.        ,  0.        ,\n",
        "        0.        ,  0.        ,  0.        ,  0.        ,  0.        ,\n",
        "        0.        ,  0.        ,  0.        ,  0.        ,  0.        ,\n",
        "        0.        ,  0.        ,  0.        ,  0.        ,  0.        ,\n",
        "        0.        ,  0.        ,  0.        ,  0.        ,  0.        ,\n",
        "        0.        ,  0.        ,  0.        ,  0.        ,  0.        ,\n",
        "        0.        ,  0.        ,  0.        ,  0.        ,  0.        ,\n",
        "        0.        ,  0.        ,  0.        ,  0.        ,  0.        ,\n",
        "        0.        ,  0.        ,  0.        ,  0.        ,  0.        ,\n",
        "        0.        ,  0.        ,  0.        ,  0.        ,  0.        ,\n",
        "        0.        ,  0.        ,  0.        ,  0.        ,  0.        ,\n",
        "        0.        ,  0.        ,  0.        ,  0.        ,  0.        ,\n",
        "        0.        ,  0.        ,  0.        ,  0.        ,  0.        ,\n",
        "        0.        ,  0.        ,  0.        ,  0.        ,  0.        ,\n",
        "        0.        ,  0.        ,  0.        ,  0.        ,  0.        ,\n",
        "        0.        ,  0.        ,  0.        ,  0.        ,  0.        ,\n",
        "        0.        ,  0.        ,  0.        ,  0.        ,  0.        ,\n",
        "        0.        ,  0.        ,  0.        ,  0.        ,  0.        ,\n",
        "        0.        ,  0.        ,  0.        ,  0.        ,  0.        ,\n",
        "        0.        ,  0.        ,  0.        ,  0.        ,  0.        ,\n",
        "        0.        ,  0.        ,  0.        ,  0.        ])"
       ]
      }
     ],
     "prompt_number": 71
    },
    {
     "cell_type": "code",
     "collapsed": false,
     "input": [
      "X_pca = X_pca.astype(float)\n",
      "X_pca -= X_pca.min()\n",
      "X_pca /= X_pca.max()"
     ],
     "language": "python",
     "metadata": {},
     "outputs": [],
     "prompt_number": 21
    },
    {
     "cell_type": "code",
     "collapsed": false,
     "input": [
      "X_pca[0]"
     ],
     "language": "python",
     "metadata": {},
     "outputs": [
      {
       "metadata": {},
       "output_type": "pyout",
       "prompt_number": 22,
       "text": [
        "array([ 0.22539456,  0.61288481,  0.38971818,  0.42090514,  0.37340266,\n",
        "        0.55101684,  0.32499858,  0.59562428,  0.46265848,  0.47023903,\n",
        "        0.49735894,  0.46127868,  0.41611494,  0.49164029,  0.3285479 ,\n",
        "        0.46994346,  0.44645583,  0.34981633,  0.42573742,  0.4598483 ,\n",
        "        0.35027524,  0.49222645,  0.4117051 ,  0.43248445,  0.46271671,\n",
        "        0.40816335,  0.37879801,  0.47236782,  0.49069642,  0.43466285,\n",
        "        0.42799056,  0.39792117,  0.43947352,  0.40288352,  0.46010311,\n",
        "        0.41036389,  0.4466442 ,  0.37127251,  0.45253204,  0.50356626,\n",
        "        0.44180692,  0.43648217,  0.42220559,  0.44088819,  0.421889  ,\n",
        "        0.4244659 ,  0.42552801,  0.44759264,  0.42710378,  0.42105458,\n",
        "        0.46540046,  0.44420773,  0.46374784,  0.42097524,  0.39086149,\n",
        "        0.40929797,  0.43176994,  0.40664773,  0.40393671,  0.42442279,\n",
        "        0.42841866,  0.43751112,  0.40775358,  0.41241401])"
       ]
      }
     ],
     "prompt_number": 22
    },
    {
     "cell_type": "code",
     "collapsed": false,
     "input": [
      "# Now lets fit the NN with just the PCA/64 dimension images\n",
      "nn = NeuralNetwork([64,100,10],'logistic')\n",
      "X_train, X_test, y_train, y_test = train_test_split(X_pca, y)\n",
      "labels_train = LabelBinarizer().fit_transform(y_train)\n",
      "labels_test = LabelBinarizer().fit_transform(y_test)\n",
      "\n",
      "nn.fit(X_train,labels_train,epochs=30000)\n",
      "predictions = []\n",
      "for i in range(X_test.shape[0]):\n",
      "    o = nn.predict(X_test[i] )\n",
      "    predictions.append(np.argmax(o))\n",
      "print confusion_matrix(y_test,predictions)\n",
      "print classification_report(y_test,predictions)"
     ],
     "language": "python",
     "metadata": {},
     "outputs": [
      {
       "output_type": "stream",
       "stream": "stdout",
       "text": [
        "[[47  0  1  0  0  0  1  0  0  0]\n",
        " [ 0 55  6  0  0  0  0  0  1  0]\n",
        " [ 0  0 62  0  0  0  1  0  0  0]\n",
        " [ 0  0 12 25  0  0  1  0  2  0]\n",
        " [ 1  0  2  0 40  0  0  0  0  5]\n",
        " [14  4  8  6  0 11  3  1  4  1]\n",
        " [ 0  0  2  0  0  0 50  0  0  0]\n",
        " [ 2  2  7  0  0  0  0 39  0  0]\n",
        " [ 1  0  4  2  0  0  2  1 26  1]\n",
        " [ 0  0  5  1  8  0  0  3  0 30]]\n",
        "             precision    recall  f1-score   support\n",
        "\n",
        "          0       0.72      0.96      0.82        49\n",
        "          1       0.90      0.89      0.89        62\n",
        "          2       0.57      0.98      0.72        63\n",
        "          3       0.74      0.62      0.68        40\n",
        "          4       0.83      0.83      0.83        48\n",
        "          5       1.00      0.21      0.35        52\n",
        "          6       0.86      0.96      0.91        52\n",
        "          7       0.89      0.78      0.83        50\n",
        "          8       0.79      0.70      0.74        37\n",
        "          9       0.81      0.64      0.71        47\n",
        "\n",
        "avg / total       0.81      0.77      0.75       500\n",
        "\n"
       ]
      }
     ],
     "prompt_number": 23
    },
    {
     "cell_type": "code",
     "collapsed": false,
     "input": [
      "# Even with reduced dimensions from 784 to 64, result is not that bad: around 75% is OK\n",
      "# Precision went down to ~75%\n",
      "# lets try with higher dimensional data"
     ],
     "language": "python",
     "metadata": {},
     "outputs": [],
     "prompt_number": 78
    },
    {
     "cell_type": "code",
     "collapsed": false,
     "input": [
      "X_pca = RandomizedPCA(n_components=500).fit_transform(X)"
     ],
     "language": "python",
     "metadata": {},
     "outputs": [],
     "prompt_number": 33
    },
    {
     "cell_type": "code",
     "collapsed": false,
     "input": [
      "# Feature Scaling/ Data Normalization/\n",
      "X_pca = X_pca.astype(float)\n",
      "X_pca -= X_pca.min()\n",
      "X_pca /= X_pca.max()"
     ],
     "language": "python",
     "metadata": {},
     "outputs": [],
     "prompt_number": 34
    },
    {
     "cell_type": "code",
     "collapsed": false,
     "input": [
      "# Now lets fit the NN with 200 dimension images\n",
      "nn = NeuralNetwork([500,400,10],'tanh')\n",
      "X_train, X_test, y_train, y_test = train_test_split(X_pca, y)\n",
      "labels_train = LabelBinarizer().fit_transform(y_train)\n",
      "labels_test = LabelBinarizer().fit_transform(y_test)\n",
      "\n",
      "nn.fit(X_train,labels_train,epochs=30000)\n",
      "predictions = []\n",
      "for i in range(X_test.shape[0]):\n",
      "    o = nn.predict(X_test[i] )\n",
      "    predictions.append(np.argmax(o))\n",
      "print confusion_matrix(y_test,predictions)\n",
      "print classification_report(y_test,predictions)"
     ],
     "language": "python",
     "metadata": {},
     "outputs": [
      {
       "output_type": "stream",
       "stream": "stdout",
       "text": [
        "[[ 0 39  0  0  0  0  0  0  0  0]\n",
        " [ 0 60  0  0  0  0  0  0  0  0]\n",
        " [ 0 71  0  0  0  0  0  0  0  0]\n",
        " [ 0 51  0  0  0  0  0  0  0  0]\n",
        " [ 0 49  0  0  0  0  0  0  0  0]\n",
        " [ 0 44  0  0  0  0  0  0  0  0]\n",
        " [ 0 50  0  0  0  0  0  0  0  0]\n",
        " [ 0 44  0  0  0  0  0  0  0  0]\n",
        " [ 0 43  0  0  0  0  0  0  0  0]\n",
        " [ 0 49  0  0  0  0  0  0  0  0]]\n",
        "             precision    recall  f1-score   support\n",
        "\n",
        "          0       0.00      0.00      0.00        39\n",
        "          1       0.12      1.00      0.21        60\n",
        "          2       0.00      0.00      0.00        71\n",
        "          3       0.00      0.00      0.00        51\n",
        "          4       0.00      0.00      0.00        49\n",
        "          5       0.00      0.00      0.00        44\n",
        "          6       0.00      0.00      0.00        50\n",
        "          7       0.00      0.00      0.00        44\n",
        "          8       0.00      0.00      0.00        43\n",
        "          9       0.00      0.00      0.00        49\n",
        "\n",
        "avg / total       0.01      0.12      0.03       500\n",
        "\n"
       ]
      },
      {
       "output_type": "stream",
       "stream": "stderr",
       "text": [
        "/usr/local/lib/python2.7/dist-packages/scikit_learn-0.14.1-py2.7-linux-x86_64.egg/sklearn/metrics/metrics.py:1905: UserWarning: The sum of true positives and false positives are equal to zero for some labels. Precision is ill defined for those labels [0 2 3 4 5 6 7 8 9]. The precision and recall are equal to zero for some labels. fbeta_score is ill defined for those labels [0 2 3 4 5 6 7 8 9]. \n",
        "  average=None)\n"
       ]
      }
     ],
     "prompt_number": 37
    },
    {
     "cell_type": "code",
     "collapsed": false,
     "input": [
      "#Now lets try the unreduced data, with full dimensions:784 = 28x28"
     ],
     "language": "python",
     "metadata": {},
     "outputs": [],
     "prompt_number": 38
    },
    {
     "cell_type": "code",
     "collapsed": false,
     "input": [
      "X = X.astype(np.float)\n",
      "X -= X.min()\n",
      "X /= X.max()"
     ],
     "language": "python",
     "metadata": {},
     "outputs": [],
     "prompt_number": 42
    },
    {
     "cell_type": "code",
     "collapsed": false,
     "input": [
      "# Now lets fit the NN with Full Dimensions: 784\n",
      "nn = NeuralNetwork([784,784,10],'logistic')\n",
      "X_train, X_test, y_train, y_test = train_test_split(X, y)\n",
      "labels_train = LabelBinarizer().fit_transform(y_train)\n",
      "labels_test = LabelBinarizer().fit_transform(y_test)\n",
      "\n",
      "nn.fit(X_train,labels_train,epochs=20000)\n",
      "predictions = []\n",
      "for i in range(X_test.shape[0]):\n",
      "    o = nn.predict(X_test[i] )\n",
      "    predictions.append(np.argmax(o))\n",
      "print confusion_matrix(y_test,predictions)\n",
      "print classification_report(y_test,predictions)"
     ],
     "language": "python",
     "metadata": {},
     "outputs": [
      {
       "output_type": "stream",
       "stream": "stdout",
       "text": [
        "[[49  0  1  0  0  1  1  0  0  0]\n",
        " [ 0 54  1  0  0  0  0  0  1  0]\n",
        " [ 1  1 44  0  1  0  0  1  0  1]\n",
        " [ 1  1  2 39  0  1  0  1  4  2]\n",
        " [ 0  0  1  0 47  0  0  0  1  4]\n",
        " [ 1  0  1  1  0 30  1  1  3  2]\n",
        " [ 2  0  0  0  1  0 45  0  0  0]\n",
        " [ 0  1  0  0  0  0  0 36  0  2]\n",
        " [ 0  4  1  3  0  3  0  0 39  5]\n",
        " [ 1  1  0  0  2  2  0  0  1 50]]\n",
        "             precision    recall  f1-score   support\n",
        "\n",
        "          0       0.89      0.94      0.92        52\n",
        "          1       0.87      0.96      0.92        56\n",
        "          2       0.86      0.90      0.88        49\n",
        "          3       0.91      0.76      0.83        51\n",
        "          4       0.92      0.89      0.90        53\n",
        "          5       0.81      0.75      0.78        40\n",
        "          6       0.96      0.94      0.95        48\n",
        "          7       0.92      0.92      0.92        39\n",
        "          8       0.80      0.71      0.75        55\n",
        "          9       0.76      0.88      0.81        57\n",
        "\n",
        "avg / total       0.87      0.87      0.86       500\n",
        "\n"
       ]
      }
     ],
     "prompt_number": 52
    },
    {
     "cell_type": "code",
     "collapsed": false,
     "input": [
      "X.shape"
     ],
     "language": "python",
     "metadata": {},
     "outputs": [
      {
       "metadata": {},
       "output_type": "pyout",
       "prompt_number": 44,
       "text": [
        "(2000, 784)"
       ]
      }
     ],
     "prompt_number": 44
    },
    {
     "cell_type": "code",
     "collapsed": false,
     "input": [
      "#lets increase the training data set and see the behavior\n",
      "train_file = '/devSOLR-Crawler/img/gkt/kaggle/digit_recognizer/kgg/train_5000.csv'\n",
      "X,y = images2Vector(train_file)\n",
      "X = X.astype(np.float)"
     ],
     "language": "python",
     "metadata": {},
     "outputs": [
      {
       "output_type": "stream",
       "stream": "stdout",
       "text": [
        "Reading csv file...\n"
       ]
      }
     ],
     "prompt_number": 53
    },
    {
     "cell_type": "code",
     "collapsed": false,
     "input": [
      "X.shape"
     ],
     "language": "python",
     "metadata": {},
     "outputs": [
      {
       "metadata": {},
       "output_type": "pyout",
       "prompt_number": 54,
       "text": [
        "(5000, 784)"
       ]
      }
     ],
     "prompt_number": 54
    },
    {
     "cell_type": "code",
     "collapsed": false,
     "input": [
      "X -= X.min()\n",
      "X /= X.max()"
     ],
     "language": "python",
     "metadata": {},
     "outputs": [],
     "prompt_number": 55
    },
    {
     "cell_type": "code",
     "collapsed": false,
     "input": [
      "nn = NeuralNetwork([784,784,10],'logistic')\n",
      "X_train, X_test, y_train, y_test = train_test_split(X, y)\n",
      "labels_train = LabelBinarizer().fit_transform(y_train)\n",
      "labels_test = LabelBinarizer().fit_transform(y_test)\n",
      "\n",
      "nn.fit(X_train,labels_train,epochs=20000)\n",
      "predictions = []\n",
      "for i in range(X_test.shape[0]):\n",
      "    o = nn.predict(X_test[i] )\n",
      "    predictions.append(np.argmax(o))\n",
      "print confusion_matrix(y_test,predictions)\n",
      "print classification_report(y_test,predictions)"
     ],
     "language": "python",
     "metadata": {},
     "outputs": [
      {
       "output_type": "stream",
       "stream": "stdout",
       "text": [
        "[[102   0   0   0   0   2   0   0   0   0]\n",
        " [  0 130   4   0   0   3   0   0   3   0]\n",
        " [  2   1 114   0   3   1   1   5   4   1]\n",
        " [  2   0   6  92   0   9   0   1   6   3]\n",
        " [  1   1   0   0 116   1   1   2   2   7]\n",
        " [  3   0   1   0   1 116   3   1   6   1]\n",
        " [  1   0   2   0   0   6 129   0   1   0]\n",
        " [  0   1   7   0   1   2   1 108   0   1]\n",
        " [  3   2   4   2   0   7   0   0  99   1]\n",
        " [  1   0   0   2   5   6   0  12   0  88]]\n",
        "             precision    recall  f1-score   support\n",
        "\n",
        "          0       0.89      0.98      0.93       104\n",
        "          1       0.96      0.93      0.95       140\n",
        "          2       0.83      0.86      0.84       132\n",
        "          3       0.96      0.77      0.86       119\n",
        "          4       0.92      0.89      0.90       131\n",
        "          5       0.76      0.88      0.81       132\n",
        "          6       0.96      0.93      0.94       139\n",
        "          7       0.84      0.89      0.86       121\n",
        "          8       0.82      0.84      0.83       118\n",
        "          9       0.86      0.77      0.81       114\n",
        "\n",
        "avg / total       0.88      0.88      0.88      1250\n",
        "\n"
       ]
      }
     ],
     "prompt_number": 57
    },
    {
     "cell_type": "code",
     "collapsed": false,
     "input": [
      "# Lets see how an RBM [with default parameters]performs on digit classification task\n",
      "train_file = '/devSOLR-Crawler/img/gkt/kaggle/digit_recognizer/kgg/train_2000.csv'\n",
      "X,y = images2Vector(train_file)\n",
      "X = X.astype(np.float)"
     ],
     "language": "python",
     "metadata": {},
     "outputs": [
      {
       "output_type": "stream",
       "stream": "stdout",
       "text": [
        "Reading csv file...\n"
       ]
      }
     ],
     "prompt_number": 58
    },
    {
     "cell_type": "code",
     "collapsed": false,
     "input": [
      "# Normalize data\n",
      "X -= X.min()\n",
      "X /= X.max()"
     ],
     "language": "python",
     "metadata": {},
     "outputs": [],
     "prompt_number": 61
    },
    {
     "cell_type": "code",
     "collapsed": false,
     "input": [
      "from sklearn.neural_network import BernoulliRBM\n",
      "from sklearn import linear_model\n",
      "from sklearn.pipeline import Pipeline"
     ],
     "language": "python",
     "metadata": {},
     "outputs": [],
     "prompt_number": 81
    },
    {
     "cell_type": "code",
     "collapsed": false,
     "input": [
      "X_train, X_test, Y_train, Y_test = train_test_split(X, y,\n",
      "                                                    test_size=0.2,\n",
      "                                                    random_state=0)\n",
      "\n",
      "# Models we will use\n",
      "logistic = linear_model.LogisticRegression()\n",
      "rbm = BernoulliRBM(random_state=0, verbose=True)\n",
      "\n",
      "classifier = Pipeline(steps=[('rbm', rbm), ('logistic', logistic)])\n",
      "\n",
      "###############################################################################\n",
      "# Training\n",
      "\n",
      "# Hyper-parameters. These were set by cross-validation,\n",
      "# using a GridSearchCV. Here we are not performing cross-validation to\n",
      "# save time.\n",
      "rbm.learning_rate = 0.06\n",
      "rbm.n_iter = 20\n",
      "# More components tend to give better prediction performance, but larger\n",
      "# fitting time\n",
      "rbm.n_components = 100\n",
      "logistic.C = 6000.0\n",
      "\n",
      "# Training RBM-Logistic Pipeline\n",
      "classifier.fit(X_train, Y_train)\n",
      "\n",
      "# Training Logistic regression\n",
      "logistic_classifier = linear_model.LogisticRegression(C=100.0)\n",
      "logistic_classifier.fit(X_train, Y_train)\n",
      "\n",
      "###############################################################################\n",
      "# Evaluation\n",
      "\n",
      "print()\n",
      "print(\"Logistic regression using RBM features:\\n%s\\n\" % (\n",
      "    metrics.classification_report(\n",
      "        Y_test,\n",
      "        classifier.predict(X_test))))\n",
      "\n",
      "print(\"Logistic regression using raw pixel features:\\n%s\\n\" % (\n",
      "    metrics.classification_report(\n",
      "        Y_test,\n",
      "        logistic_classifier.predict(X_test))))"
     ],
     "language": "python",
     "metadata": {},
     "outputs": [
      {
       "output_type": "stream",
       "stream": "stdout",
       "text": [
        "Iteration 0, pseudo-likelihood = -166.48, time = 1.48s\n",
        "Iteration 1, pseudo-likelihood = -92.22, time = 1.48s"
       ]
      },
      {
       "output_type": "stream",
       "stream": "stdout",
       "text": [
        "\n",
        "Iteration 2, pseudo-likelihood = -84.10, time = 1.49s"
       ]
      },
      {
       "output_type": "stream",
       "stream": "stdout",
       "text": [
        "\n",
        "Iteration 3, pseudo-likelihood = -79.82, time = 1.50s"
       ]
      },
      {
       "output_type": "stream",
       "stream": "stdout",
       "text": [
        "\n",
        "Iteration 4, pseudo-likelihood = -75.02, time = 1.51s"
       ]
      },
      {
       "output_type": "stream",
       "stream": "stdout",
       "text": [
        "\n",
        "Iteration 5, pseudo-likelihood = -69.75, time = 1.48s"
       ]
      },
      {
       "output_type": "stream",
       "stream": "stdout",
       "text": [
        "\n",
        "Iteration 6, pseudo-likelihood = -66.27, time = 1.48s"
       ]
      },
      {
       "output_type": "stream",
       "stream": "stdout",
       "text": [
        "\n",
        "Iteration 7, pseudo-likelihood = -65.60, time = 1.48s"
       ]
      },
      {
       "output_type": "stream",
       "stream": "stdout",
       "text": [
        "\n",
        "Iteration 8, pseudo-likelihood = -64.03, time = 1.48s"
       ]
      },
      {
       "output_type": "stream",
       "stream": "stdout",
       "text": [
        "\n",
        "Iteration 9, pseudo-likelihood = -61.65, time = 1.48s"
       ]
      },
      {
       "output_type": "stream",
       "stream": "stdout",
       "text": [
        "\n",
        "Iteration 10, pseudo-likelihood = -61.13, time = 1.48s"
       ]
      },
      {
       "output_type": "stream",
       "stream": "stdout",
       "text": [
        "\n",
        "Iteration 11, pseudo-likelihood = -59.75, time = 1.48s"
       ]
      },
      {
       "output_type": "stream",
       "stream": "stdout",
       "text": [
        "\n",
        "Iteration 12, pseudo-likelihood = -60.18, time = 1.48s"
       ]
      },
      {
       "output_type": "stream",
       "stream": "stdout",
       "text": [
        "\n",
        "Iteration 13, pseudo-likelihood = -56.99, time = 1.48s"
       ]
      },
      {
       "output_type": "stream",
       "stream": "stdout",
       "text": [
        "\n",
        "Iteration 14, pseudo-likelihood = -58.23, time = 1.48s"
       ]
      },
      {
       "output_type": "stream",
       "stream": "stdout",
       "text": [
        "\n",
        "Iteration 15, pseudo-likelihood = -57.29, time = 1.48s"
       ]
      },
      {
       "output_type": "stream",
       "stream": "stdout",
       "text": [
        "\n",
        "Iteration 16, pseudo-likelihood = -56.24, time = 1.48s"
       ]
      },
      {
       "output_type": "stream",
       "stream": "stdout",
       "text": [
        "\n",
        "Iteration 17, pseudo-likelihood = -58.50, time = 1.48s"
       ]
      },
      {
       "output_type": "stream",
       "stream": "stdout",
       "text": [
        "\n",
        "Iteration 18, pseudo-likelihood = -54.49, time = 1.48s"
       ]
      },
      {
       "output_type": "stream",
       "stream": "stdout",
       "text": [
        "\n",
        "Iteration 19, pseudo-likelihood = -51.25, time = 1.48s"
       ]
      },
      {
       "output_type": "stream",
       "stream": "stdout",
       "text": [
        "\n",
        "()"
       ]
      },
      {
       "output_type": "stream",
       "stream": "stdout",
       "text": [
        "\n",
        "Logistic regression using RBM features:\n",
        "             precision    recall  f1-score   support\n",
        "\n",
        "          0       0.98      0.98      0.98        41\n",
        "          1       0.92      0.92      0.92        37\n",
        "          2       0.91      0.81      0.86        48\n",
        "          3       0.85      0.74      0.79        31\n",
        "          4       0.62      0.85      0.72        33\n",
        "          5       0.73      0.79      0.76        34\n",
        "          6       0.95      0.95      0.95        40\n",
        "          7       0.80      0.74      0.77        43\n",
        "          8       0.82      0.74      0.78        42\n",
        "          9       0.75      0.76      0.76        51\n",
        "\n",
        "avg / total       0.84      0.83      0.83       400\n",
        "\n",
        "\n",
        "Logistic regression using raw pixel features:\n",
        "             precision    recall  f1-score   support\n",
        "\n",
        "          0       0.89      0.98      0.93        41\n",
        "          1       0.85      0.89      0.87        37\n",
        "          2       0.95      0.85      0.90        48\n",
        "          3       0.81      0.68      0.74        31\n",
        "          4       0.76      0.85      0.80        33\n",
        "          5       0.76      0.91      0.83        34\n",
        "          6       0.95      0.95      0.95        40\n",
        "          7       0.89      0.98      0.93        43\n",
        "          8       0.86      0.71      0.78        42\n",
        "          9       0.79      0.73      0.76        51\n",
        "\n",
        "avg / total       0.85      0.85      0.85       400\n",
        "\n"
       ]
      },
      {
       "output_type": "stream",
       "stream": "stdout",
       "text": [
        "\n"
       ]
      }
     ],
     "prompt_number": 82
    },
    {
     "cell_type": "code",
     "collapsed": false,
     "input": [],
     "language": "python",
     "metadata": {},
     "outputs": []
    }
   ],
   "metadata": {}
  }
 ]
}