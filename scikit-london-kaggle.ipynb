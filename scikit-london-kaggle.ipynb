<!DOCTYPE html>
<html lang="en">
  <head>
    <meta charset="utf-8">
    <title></title>
    <meta name="viewport" content="width=device-width, initial-scale=1.0">
    <meta name="description" content="">
    <meta name="author" content="">
    <!--NEW RELIC Start Perf Measurement-->
    
    <!--NREND-->

    <!-- Le styles -->
    <!--<link href="/static/css/bootstrap.css" rel="stylesheet">-->
    <link href="/static/css/docs.css" rel="stylesheet">
    <link href="/static/css/bootstrap.css" rel="stylesheet">
    <link href="/static/css/bootstrap-responsive.css" rel="stylesheet">

    <!-- Le HTML5 shim, for IE6-8 support of HTML5 elements -->
    <!--[if lt IE 9]>
      <script src="http://html5shim.googlecode.com/svn/trunk/html5.js"></script>
    <![endif]-->

    <!-- Le fav and touch icons -->
    <link rel="shortcut icon" href="/static/ico/ipynb_icon_16x16.png">
    <link rel="apple-touch-icon-precomposed" sizes="144x144" href="/static/ico/apple-touch-icon-144-precomposed.png">
    <link rel="apple-touch-icon-precomposed" sizes="114x114" href="/static/ico/apple-touch-icon-114-precomposed.png">
    <link rel="apple-touch-icon-precomposed" sizes="72x72" href="/static/ico/apple-touch-icon-72-precomposed.png">
    <link rel="apple-touch-icon-precomposed" href="/static/ico/apple-touch-icon-57-precomposed.png">
    
    
    
    <link href="/static/ipython.min.css" rel="stylesheet">
    <link href="/static/css/pygments.css" rel="stylesheet">
    <style type="text/css" media='screen and (min-width:980px)'>
    .navbar-inner {
        opacity: 0.5;
        transition: opacity 0.5s ease-in-out;
        -webkit-transition: opacity 0.5s ease-in-out;
    }

    .navbar-inner ul{
        opacity: 0.5;
        transition: opacity 0.5s ease-in-out;
        -webkit-transition: opacity 0.5s ease-in-out;
    }

    body{
        padding-top:50px;
    }

    </style>
    <style type="text/css" >
    .imgwrap {
        text-align: center;
    }
    .input_area{
        padding: 0.4em;
    }
    div.input_area > div.highlight > pre {
        margin: 0px;
        padding: 0px;
        border: none;
    }

    .navbar-inner:hover {
        opacity: 1.0;
    }

    .navbar-inner:hover ul{
        opacity: 1.0;
    }

    .highlight pre {
        background-color: transparent;
    }

    </style>
    
    <script src="https://c328740.ssl.cf1.rackcdn.com/mathjax/latest/MathJax.js?config=TeX-AMS_HTML"type="text/javascript">
    </script>
    <script type="text/javascript">
    init_mathjax = function() {
        if (window.MathJax) {
            // MathJax loaded
            MathJax.Hub.Config({
                tex2jax: {
                    inlineMath: [ ['$','$'], ["\\(","\\)"] ],
                    displayMath: [ ['$$','$$'], ["\\[","\\]"] ]
                },
                displayAlign: 'left', // Change this to 'center' to center equations.
                "HTML-CSS": {
                    styles: {'.MathJax_Display': {"margin": 0}}
                }
            });
            MathJax.Hub.Queue(["Typeset",MathJax.Hub]);
        }
    }
    init_mathjax();
    </script>
    
  </head>

  <body data-spy="scroll" data-target=".subnav" data-offset="50">


  <!-- Navbar
  ================================================== -->
    <div class="navbar navbar-fixed-top">
      <div class="navbar-inner">
        <div class="container">
          <button type="button" class="btn btn-navbar" data-toggle="collapse" data-target=".nav-collapse">
            <span class="icon-bar"></span>
            <span class="icon-bar"></span>
            <span class="icon-bar"></span>
          </button>
          <div class="nav-collapse collapse">
            <ul class="nav">
              <li>
                <a href="/">Home</a>
              </li>
              <li>
                <a href="/faq">FAQ</a>
              </li>
              <li class="">
                <a href="http://www.ipython.org">IPython</a>
              </li>
              <li>
              <a href="http://penandpants.com/2012/10/16/open-in-nbviewer-bookmarklet/">Bookmarklet</a>
              </li>
              

            </ul>
              
    <ul class="nav pull-right"> 
        
        <li class="">
            <a href="https://github.com/dolaameng/fun_with_kaggle/blob/master/sklearn-london/v1.ipynb">Notebook Home</a>
        </li>
        
        <li class="">
            <a href="https://raw.github.com/dolaameng/fun_with_kaggle/master/sklearn-london/v1.ipynb" download="v1.ipynb">Download Notebook</a>
        </li>
    </ul>
    
          </div>
        </div>
      </div>
    </div>
    <div class="container">


    
<div class="cell border-box-sizing code_cell vbox">
<div class="input hbox">
<div class="prompt input_prompt">
In&nbsp;[2]:
</div>
<div class="input_area box-flex1">
<div class="highlight"><pre><span class="kn">import</span> <span class="nn">numpy</span> <span class="kn">as</span> <span class="nn">np</span>
<span class="kn">import</span> <span class="nn">pandas</span> <span class="kn">as</span> <span class="nn">pd</span>
<span class="kn">from</span> <span class="nn">sklearn.utils</span> <span class="kn">import</span> <span class="n">shuffle</span>
<span class="kn">from</span> <span class="nn">sklearn.base</span> <span class="kn">import</span> <span class="n">BaseEstimator</span><span class="p">,</span> <span class="n">TransformerMixin</span>
<span class="kn">from</span> <span class="nn">sklearn.cross_validation</span> <span class="kn">import</span> <span class="n">train_test_split</span>
<span class="kn">from</span> <span class="nn">sklearn.preprocessing</span> <span class="kn">import</span> <span class="n">StandardScaler</span><span class="p">,</span> <span class="n">normalize</span>
<span class="kn">from</span> <span class="nn">sklearn.linear_model</span> <span class="kn">import</span> <span class="n">SGDClassifier</span>
<span class="kn">from</span> <span class="nn">sklearn.svm</span> <span class="kn">import</span> <span class="n">SVC</span>
<span class="kn">from</span> <span class="nn">sklearn.grid_search</span> <span class="kn">import</span> <span class="n">GridSearchCV</span>
<span class="kn">from</span> <span class="nn">sklearn.ensemble</span> <span class="kn">import</span> <span class="n">ExtraTreesClassifier</span>
<span class="kn">from</span> <span class="nn">sklearn.ensemble</span> <span class="kn">import</span> <span class="n">GradientBoostingClassifier</span>
<span class="kn">from</span> <span class="nn">sklearn.decomposition</span> <span class="kn">import</span> <span class="n">PCA</span>


<span class="kn">from</span> <span class="nn">autodiff</span> <span class="kn">import</span> <span class="n">optimize</span>
<span class="kn">from</span> <span class="nn">scipy</span> <span class="kn">import</span> <span class="n">stats</span>
<span class="kn">import</span> <span class="nn">pylab</span> <span class="kn">as</span> <span class="nn">pl</span>

<span class="o">%</span><span class="k">pylab</span> <span class="n">inline</span> <span class="o">--</span><span class="n">no</span><span class="o">-</span><span class="n">import</span><span class="o">-</span><span class="nb">all</span>
</pre></div>

</div>
</div>

<div class="vbox output_wrapper">
<div class="output vbox">


<div class="hbox output_area"><div class="prompt"></div>
<div class="box-flex1 output_subarea output_stream output_stdout">
<pre>
Populating the interactive namespace from numpy and matplotlib

</pre>
</div>
</div>

</div>
</div>

</div>
<div class="cell border-box-sizing code_cell vbox">
<div class="input hbox">
<div class="prompt input_prompt">
In&nbsp;[3]:
</div>
<div class="input_area box-flex1">
<div class="highlight"><pre><span class="k">def</span> <span class="nf">soft_absolute</span><span class="p">(</span><span class="n">u</span><span class="p">):</span>
    <span class="n">epsilon</span> <span class="o">=</span> <span class="mf">1e-8</span>
    <span class="k">return</span> <span class="n">np</span><span class="o">.</span><span class="n">sqrt</span><span class="p">(</span><span class="n">u</span><span class="o">*</span><span class="n">u</span> <span class="o">+</span> <span class="n">epsilon</span><span class="p">)</span>

<span class="k">def</span> <span class="nf">logistic</span><span class="p">(</span><span class="n">u</span><span class="p">):</span>
    <span class="k">return</span> <span class="mf">1.</span> <span class="o">/</span> <span class="p">(</span><span class="mf">1.</span> <span class="o">+</span> <span class="n">np</span><span class="o">.</span><span class="n">exp</span><span class="p">(</span><span class="o">-</span><span class="n">u</span><span class="p">))</span>

<span class="k">class</span> <span class="nc">SparseFilter</span><span class="p">(</span><span class="n">BaseEstimator</span><span class="p">,</span> <span class="n">TransformerMixin</span><span class="p">):</span>
    <span class="k">def</span> <span class="nf">__init__</span><span class="p">(</span><span class="bp">self</span><span class="p">,</span> <span class="n">n_features</span> <span class="o">=</span> <span class="mi">200</span><span class="p">,</span> <span class="n">n_iterations</span> <span class="o">=</span> <span class="mi">300</span><span class="p">,</span> <span class="n">activate</span><span class="o">=</span><span class="n">soft_absolute</span><span class="p">):</span>
        <span class="bp">self</span><span class="o">.</span><span class="n">epsilon</span> <span class="o">=</span> <span class="mf">1e-8</span>
        <span class="bp">self</span><span class="o">.</span><span class="n">n_features</span> <span class="o">=</span> <span class="n">n_features</span>
        <span class="bp">self</span><span class="o">.</span><span class="n">n_iterations</span> <span class="o">=</span> <span class="n">n_iterations</span>
        <span class="bp">self</span><span class="o">.</span><span class="n">activate</span> <span class="o">=</span> <span class="n">activate</span>
    <span class="k">def</span> <span class="nf">fit</span><span class="p">(</span><span class="bp">self</span><span class="p">,</span> <span class="n">X</span><span class="p">,</span> <span class="n">y</span> <span class="o">=</span> <span class="bp">None</span><span class="p">):</span>
        <span class="n">n_samples</span><span class="p">,</span> <span class="n">n_dim</span> <span class="o">=</span> <span class="n">X</span><span class="o">.</span><span class="n">shape</span>
        <span class="n">W</span> <span class="o">=</span> <span class="n">np</span><span class="o">.</span><span class="n">random</span><span class="o">.</span><span class="n">randn</span><span class="p">(</span><span class="n">n_dim</span><span class="p">,</span> <span class="bp">self</span><span class="o">.</span><span class="n">n_features</span><span class="p">)</span>
        <span class="n">b</span> <span class="o">=</span> <span class="n">np</span><span class="o">.</span><span class="n">random</span><span class="o">.</span><span class="n">randn</span><span class="p">(</span><span class="bp">self</span><span class="o">.</span><span class="n">n_features</span><span class="p">)</span>
        <span class="n">obj_fn</span> <span class="o">=</span> <span class="bp">self</span><span class="o">.</span><span class="n">get_objective_fn</span><span class="p">(</span><span class="n">X</span><span class="p">)</span>
        <span class="bp">self</span><span class="o">.</span><span class="n">W_</span><span class="p">,</span> <span class="bp">self</span><span class="o">.</span><span class="n">b_</span> <span class="o">=</span> <span class="n">optimize</span><span class="o">.</span><span class="n">fmin_l_bfgs_b</span><span class="p">(</span><span class="n">obj_fn</span><span class="p">,</span> <span class="p">(</span><span class="n">W</span><span class="p">,</span> <span class="n">b</span><span class="p">),</span> 
                                <span class="n">iprint</span> <span class="o">=</span> <span class="mi">1</span><span class="p">,</span> 
                                <span class="n">maxfun</span> <span class="o">=</span> <span class="bp">self</span><span class="o">.</span><span class="n">n_iterations</span><span class="p">)</span>
        <span class="k">return</span> <span class="bp">self</span>
    <span class="k">def</span> <span class="nf">get_objective_fn</span><span class="p">(</span><span class="bp">self</span><span class="p">,</span> <span class="n">X</span><span class="p">):</span>
        <span class="k">def</span> <span class="nf">_objective_fn</span><span class="p">(</span><span class="n">W</span><span class="p">,</span> <span class="n">b</span><span class="p">):</span>
            <span class="n">Y</span> <span class="o">=</span> <span class="bp">self</span><span class="o">.</span><span class="n">activate</span><span class="p">(</span><span class="n">np</span><span class="o">.</span><span class="n">dot</span><span class="p">(</span><span class="n">X</span><span class="p">,</span> <span class="n">W</span><span class="p">)</span> <span class="o">+</span> <span class="n">b</span><span class="p">)</span>
            <span class="n">Y</span> <span class="o">=</span> <span class="n">Y</span> <span class="o">/</span> <span class="n">np</span><span class="o">.</span><span class="n">sqrt</span><span class="p">(</span><span class="n">np</span><span class="o">.</span><span class="n">sum</span><span class="p">(</span><span class="n">Y</span><span class="o">*</span><span class="n">Y</span><span class="p">,</span> <span class="n">axis</span> <span class="o">=</span> <span class="mi">0</span><span class="p">)</span> <span class="o">+</span> <span class="bp">self</span><span class="o">.</span><span class="n">epsilon</span><span class="p">)</span>
            <span class="n">Y</span> <span class="o">=</span> <span class="n">Y</span> <span class="o">/</span> <span class="n">np</span><span class="o">.</span><span class="n">sqrt</span><span class="p">(</span><span class="n">np</span><span class="o">.</span><span class="n">sum</span><span class="p">(</span><span class="n">Y</span><span class="o">*</span><span class="n">Y</span><span class="p">,</span> <span class="n">axis</span> <span class="o">=</span> <span class="mi">1</span><span class="p">)[:,</span> <span class="n">np</span><span class="o">.</span><span class="n">newaxis</span><span class="p">]</span> <span class="o">+</span> <span class="bp">self</span><span class="o">.</span><span class="n">epsilon</span><span class="p">)</span>
            <span class="k">return</span> <span class="n">np</span><span class="o">.</span><span class="n">sum</span><span class="p">(</span><span class="n">Y</span><span class="p">)</span>
        <span class="k">return</span> <span class="n">_objective_fn</span>
    <span class="k">def</span> <span class="nf">transform</span><span class="p">(</span><span class="bp">self</span><span class="p">,</span> <span class="n">X</span><span class="p">):</span>
        <span class="n">Y</span> <span class="o">=</span> <span class="bp">self</span><span class="o">.</span><span class="n">activate</span><span class="p">(</span><span class="n">np</span><span class="o">.</span><span class="n">dot</span><span class="p">(</span><span class="n">X</span><span class="p">,</span> <span class="bp">self</span><span class="o">.</span><span class="n">W_</span><span class="p">)</span> <span class="o">+</span> <span class="bp">self</span><span class="o">.</span><span class="n">b_</span><span class="p">)</span>
        <span class="n">Y</span> <span class="o">=</span> <span class="n">Y</span> <span class="o">/</span> <span class="n">np</span><span class="o">.</span><span class="n">sqrt</span><span class="p">(</span><span class="n">np</span><span class="o">.</span><span class="n">sum</span><span class="p">(</span><span class="n">Y</span><span class="o">*</span><span class="n">Y</span><span class="p">,</span> <span class="n">axis</span><span class="o">=</span><span class="mi">0</span><span class="p">)</span> <span class="o">+</span> <span class="bp">self</span><span class="o">.</span><span class="n">epsilon</span><span class="p">)</span>
        <span class="n">Y</span> <span class="o">=</span> <span class="n">Y</span> <span class="o">/</span> <span class="n">np</span><span class="o">.</span><span class="n">sqrt</span><span class="p">(</span><span class="n">np</span><span class="o">.</span><span class="n">sum</span><span class="p">(</span><span class="n">Y</span><span class="o">*</span><span class="n">Y</span><span class="p">,</span> <span class="n">axis</span><span class="o">=</span><span class="mi">1</span><span class="p">)[:,</span> <span class="n">np</span><span class="o">.</span><span class="n">newaxis</span><span class="p">]</span> <span class="o">+</span> <span class="bp">self</span><span class="o">.</span><span class="n">epsilon</span><span class="p">)</span>
        <span class="k">return</span> <span class="n">Y</span>
</pre></div>

</div>
</div>

</div>
<div class="text_cell_render border-box-sizing rendered_html">
<h2 id="load-data">load data</h2>
</div>
<div class="cell border-box-sizing code_cell vbox">
<div class="input hbox">
<div class="prompt input_prompt">
In&nbsp;[19]:
</div>
<div class="input_area box-flex1">
<div class="highlight"><pre><span class="n">train_data</span> <span class="o">=</span> <span class="n">pd</span><span class="o">.</span><span class="n">read_csv</span><span class="p">(</span><span class="s">&#39;data/train.csv&#39;</span><span class="p">,</span> <span class="n">header</span><span class="o">=</span><span class="bp">None</span><span class="p">)</span>
<span class="n">train_labels</span> <span class="o">=</span> <span class="n">pd</span><span class="o">.</span><span class="n">read_csv</span><span class="p">(</span><span class="s">&#39;data/trainLabels.csv&#39;</span><span class="p">,</span> <span class="n">header</span><span class="o">=</span><span class="bp">None</span><span class="p">)</span>
<span class="n">test_data</span> <span class="o">=</span> <span class="n">pd</span><span class="o">.</span><span class="n">read_csv</span><span class="p">(</span><span class="s">&#39;data/test.csv&#39;</span><span class="p">,</span> <span class="n">header</span><span class="o">=</span><span class="bp">None</span><span class="p">)</span>

<span class="n">train_X</span> <span class="o">=</span> <span class="n">np</span><span class="o">.</span><span class="n">asarray</span><span class="p">(</span><span class="n">train_data</span><span class="p">)</span>
<span class="n">train_y</span> <span class="o">=</span> <span class="n">np</span><span class="o">.</span><span class="n">asarray</span><span class="p">(</span><span class="n">train_labels</span><span class="p">)</span><span class="o">.</span><span class="n">ravel</span><span class="p">()</span>
<span class="n">test_X</span> <span class="o">=</span> <span class="n">np</span><span class="o">.</span><span class="n">asarray</span><span class="p">(</span><span class="n">test_data</span><span class="p">)</span>

<span class="c">## shuffle train data</span>
<span class="n">train_X</span><span class="p">,</span> <span class="n">train_y</span> <span class="o">=</span> <span class="n">shuffle</span><span class="p">(</span><span class="n">train_X</span><span class="p">,</span> <span class="n">train_y</span><span class="p">)</span>

<span class="k">print</span> <span class="n">train_X</span><span class="o">.</span><span class="n">shape</span><span class="p">,</span> <span class="n">test_X</span><span class="o">.</span><span class="n">shape</span><span class="p">,</span> <span class="n">train_y</span><span class="o">.</span><span class="n">shape</span>
</pre></div>

</div>
</div>

<div class="vbox output_wrapper">
<div class="output vbox">


<div class="hbox output_area"><div class="prompt"></div>
<div class="box-flex1 output_subarea output_stream output_stdout">
<pre>
(1000, 40) (9000, 40) (1000,)

</pre>
</div>
</div>

</div>
</div>

</div>
<div class="text_cell_render border-box-sizing rendered_html">
<h2 id="unsupervised-feature-engineering">unsupervised feature engineering</h2>
</div>
<div class="cell border-box-sizing code_cell vbox">
<div class="input hbox">
<div class="prompt input_prompt">
In&nbsp;[44]:
</div>
<div class="input_area box-flex1">
<div class="highlight"><pre><span class="c">## train a sparse filter on both train and test data</span>
<span class="n">sf</span> <span class="o">=</span> <span class="n">SparseFilter</span><span class="p">(</span><span class="n">n_features</span><span class="o">=</span><span class="mi">50</span><span class="p">,</span> <span class="n">n_iterations</span><span class="o">=</span><span class="mi">1000</span><span class="p">)</span>
<span class="n">sf</span><span class="o">.</span><span class="n">fit</span><span class="p">(</span><span class="n">np</span><span class="o">.</span><span class="n">r_</span><span class="p">[</span><span class="n">train_X</span><span class="p">,</span> <span class="n">test_X</span><span class="p">])</span>
<span class="n">train_sf_X</span> <span class="o">=</span> <span class="n">sf</span><span class="o">.</span><span class="n">transform</span><span class="p">(</span><span class="n">train_X</span><span class="p">)</span>
<span class="n">test_sf_X</span> <span class="o">=</span> <span class="n">sf</span><span class="o">.</span><span class="n">transform</span><span class="p">(</span><span class="n">test_X</span><span class="p">)</span>
</pre></div>

</div>
</div>

</div>
<div class="cell border-box-sizing code_cell vbox">
<div class="input hbox">
<div class="prompt input_prompt">
In&nbsp;[45]:
</div>
<div class="input_area box-flex1">
<div class="highlight"><pre><span class="c">## train a pca on both train and test data</span>
<span class="c">## but before that, see how many components are suitable</span>
<span class="n">pca</span> <span class="o">=</span> <span class="n">PCA</span><span class="p">()</span>
<span class="n">pca</span><span class="o">.</span><span class="n">fit</span><span class="p">(</span><span class="n">np</span><span class="o">.</span><span class="n">r_</span><span class="p">[</span><span class="n">train_X</span><span class="p">,</span> <span class="n">test_X</span><span class="p">])</span>
<span class="n">pd</span><span class="o">.</span><span class="n">DataFrame</span><span class="p">(</span><span class="n">pca</span><span class="o">.</span><span class="n">explained_variance_ratio_</span><span class="p">)</span><span class="o">.</span><span class="n">plot</span><span class="p">(</span><span class="n">kind</span> <span class="o">=</span> <span class="s">&#39;bar&#39;</span><span class="p">)</span>
<span class="n">n_components</span> <span class="o">=</span> <span class="n">np</span><span class="o">.</span><span class="n">where</span><span class="p">(</span><span class="n">np</span><span class="o">.</span><span class="n">cumsum</span><span class="p">(</span><span class="n">pca</span><span class="o">.</span><span class="n">explained_variance_ratio_</span><span class="p">)</span> <span class="o">&gt;=</span> <span class="mf">0.85</span><span class="p">)[</span><span class="mi">0</span><span class="p">][</span><span class="mi">0</span><span class="p">]</span>
<span class="k">print</span> <span class="n">n_components</span>

<span class="n">pca</span> <span class="o">=</span> <span class="n">PCA</span><span class="p">(</span><span class="n">n_components</span><span class="o">=</span><span class="n">n_components</span><span class="p">)</span>
<span class="n">pca</span><span class="o">.</span><span class="n">fit</span><span class="p">(</span><span class="n">np</span><span class="o">.</span><span class="n">r_</span><span class="p">[</span><span class="n">train_X</span><span class="p">,</span> <span class="n">test_X</span><span class="p">])</span>
<span class="n">train_pca_X</span> <span class="o">=</span> <span class="n">pca</span><span class="o">.</span><span class="n">transform</span><span class="p">(</span><span class="n">train_X</span><span class="p">)</span>
<span class="n">test_pca_X</span> <span class="o">=</span> <span class="n">pca</span><span class="o">.</span><span class="n">transform</span><span class="p">(</span><span class="n">test_X</span><span class="p">)</span>
</pre></div>

</div>
</div>

<div class="vbox output_wrapper">
<div class="output vbox">


<div class="hbox output_area"><div class="prompt"></div>
<div class="box-flex1 output_subarea output_stream output_stdout">
<pre>
15

</pre>
</div>
</div>

<div class="hbox output_area"><div class="prompt"></div>
<div class="box-flex1 output_subarea output_display_data">


<img src="data:image/png;base64,iVBORw0KGgoAAAANSUhEUgAAAXYAAAEACAYAAACnJV25AAAABHNCSVQICAgIfAhkiAAAAAlwSFlz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=
">

</div>
</div>

</div>
</div>

</div>
<div class="cell border-box-sizing code_cell vbox">
<div class="input hbox">
<div class="prompt input_prompt">
In&nbsp;[46]:
</div>
<div class="input_area box-flex1">
<div class="highlight"><pre><span class="c">## combine two features</span>
<span class="c">## standarization</span>
<span class="n">ss</span> <span class="o">=</span> <span class="n">StandardScaler</span><span class="p">()</span>
<span class="n">train_combined_X</span> <span class="o">=</span> <span class="n">ss</span><span class="o">.</span><span class="n">fit_transform</span><span class="p">(</span><span class="n">np</span><span class="o">.</span><span class="n">c_</span><span class="p">[</span><span class="n">train_sf_X</span><span class="p">,</span> <span class="n">train_pca_X</span><span class="p">])</span>
<span class="n">test_combined_X</span> <span class="o">=</span> <span class="n">ss</span><span class="o">.</span><span class="n">transform</span><span class="p">(</span><span class="n">np</span><span class="o">.</span><span class="n">c_</span><span class="p">[</span><span class="n">test_sf_X</span><span class="p">,</span> <span class="n">test_pca_X</span><span class="p">])</span>
<span class="k">print</span> <span class="n">train_combined_X</span><span class="o">.</span><span class="n">shape</span><span class="p">,</span> <span class="n">test_combined_X</span><span class="o">.</span><span class="n">shape</span>
</pre></div>

</div>
</div>

<div class="vbox output_wrapper">
<div class="output vbox">


<div class="hbox output_area"><div class="prompt"></div>
<div class="box-flex1 output_subarea output_stream output_stdout">
<pre>
(1000, 65) (9000, 65)

</pre>
</div>
</div>

</div>
</div>

</div>
<div class="cell border-box-sizing code_cell vbox">
<div class="input hbox">
<div class="prompt input_prompt">
In&nbsp;[47]:
</div>
<div class="input_area box-flex1">
<div class="highlight"><pre><span class="c">## filter features by forest model</span>
<span class="n">trees</span> <span class="o">=</span> <span class="n">ExtraTreesClassifier</span><span class="p">(</span><span class="n">n_estimators</span><span class="o">=</span><span class="mi">100</span><span class="p">)</span>
<span class="n">trees</span><span class="o">.</span><span class="n">fit</span><span class="p">(</span><span class="n">train_combined_X</span><span class="p">,</span> <span class="n">train_y</span><span class="p">)</span>
<span class="n">pd</span><span class="o">.</span><span class="n">DataFrame</span><span class="p">(</span><span class="n">trees</span><span class="o">.</span><span class="n">feature_importances_</span><span class="p">)</span><span class="o">.</span><span class="n">plot</span><span class="p">(</span><span class="n">kind</span><span class="o">=</span><span class="s">&#39;bar&#39;</span><span class="p">)</span>
<span class="n">selected_features</span> <span class="o">=</span> <span class="n">np</span><span class="o">.</span><span class="n">where</span><span class="p">(</span><span class="n">trees</span><span class="o">.</span><span class="n">feature_importances_</span> <span class="o">&gt;</span> <span class="mf">0.005</span><span class="p">)[</span><span class="mi">0</span><span class="p">]</span>

<span class="n">train_selected_X</span> <span class="o">=</span> <span class="n">train_combined_X</span><span class="p">[:,</span> <span class="n">selected_features</span><span class="p">]</span>
<span class="n">test_selected_X</span> <span class="o">=</span> <span class="n">test_combined_X</span><span class="p">[:,</span> <span class="n">selected_features</span><span class="p">]</span>
<span class="k">print</span> <span class="n">train_selected_X</span><span class="o">.</span><span class="n">shape</span><span class="p">,</span> <span class="n">test_selected_X</span><span class="o">.</span><span class="n">shape</span>
</pre></div>

</div>
</div>

<div class="vbox output_wrapper">
<div class="output vbox">


<div class="hbox output_area"><div class="prompt"></div>
<div class="box-flex1 output_subarea output_stream output_stdout">
<pre>
(1000, 49) (9000, 49)

</pre>
</div>
</div>

<div class="hbox output_area"><div class="prompt"></div>
<div class="box-flex1 output_subarea output_display_data">


<img src="data:image/png;base64,iVBORw0KGgoAAAANSUhEUgAAAXcAAAEBCAYAAACDu+UiAAAABHNCSVQICAgIfAhkiAAAAAlwSFlz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">

</div>
</div>

</div>
</div>

</div>
<div class="cell border-box-sizing code_cell vbox">
<div class="input hbox">
<div class="prompt input_prompt">
In&nbsp;[55]:
</div>
<div class="input_area box-flex1">
<div class="highlight"><pre><span class="n">svc</span> <span class="o">=</span> <span class="n">SVC</span><span class="p">(</span><span class="n">probability</span><span class="o">=</span><span class="bp">True</span><span class="p">)</span>
<span class="n">gammas</span> <span class="o">=</span> <span class="p">[</span><span class="mf">1e-4</span><span class="p">,</span> <span class="mf">3e-4</span><span class="p">,</span> <span class="mf">1e-3</span><span class="p">,</span> <span class="mf">3e-3</span><span class="p">,</span> <span class="mf">1e-2</span><span class="p">,</span> <span class="mf">3e-2</span><span class="p">,</span> <span class="mf">1e-1</span><span class="p">,</span> <span class="mf">3e-1</span><span class="p">,</span> <span class="mf">1.</span><span class="p">,</span> <span class="mf">3.</span><span class="p">,</span> <span class="mf">10.</span><span class="p">]</span>
<span class="n">gs</span> <span class="o">=</span> <span class="n">GridSearchCV</span><span class="p">(</span><span class="n">svc</span><span class="p">,</span> <span class="p">{</span><span class="s">&#39;gamma&#39;</span><span class="p">:</span> <span class="n">gammas</span><span class="p">},</span> <span class="n">scoring</span> <span class="o">=</span> <span class="s">&#39;accuracy&#39;</span><span class="p">,</span> <span class="n">cv</span> <span class="o">=</span> <span class="mi">10</span><span class="p">,</span> <span class="n">n_jobs</span><span class="o">=-</span><span class="mi">1</span><span class="p">)</span>
<span class="n">gs</span><span class="o">.</span><span class="n">fit</span><span class="p">(</span><span class="n">train_selected_X</span><span class="p">,</span> <span class="n">train_y</span><span class="p">)</span>
<span class="k">print</span> <span class="n">gs</span><span class="o">.</span><span class="n">best_params_</span>
<span class="k">print</span> <span class="n">gs</span><span class="o">.</span><span class="n">best_score_</span>
</pre></div>

</div>
</div>

<div class="vbox output_wrapper">
<div class="output vbox">


<div class="hbox output_area"><div class="prompt"></div>
<div class="box-flex1 output_subarea output_stream output_stdout">
<pre>
{&apos;gamma&apos;: 0.03}
0.97

</pre>
</div>
</div>

</div>
</div>

</div>
<div class="cell border-box-sizing code_cell vbox">
<div class="input hbox">
<div class="prompt input_prompt">
In&nbsp;[56]:
</div>
<div class="input_area box-flex1">
<div class="highlight"><pre><span class="n">svc</span> <span class="o">=</span> <span class="n">SVC</span><span class="p">(</span><span class="n">probability</span><span class="o">=</span><span class="bp">True</span><span class="p">,</span> <span class="o">**</span><span class="n">gs</span><span class="o">.</span><span class="n">best_params_</span><span class="p">)</span>
<span class="n">svc</span><span class="o">.</span><span class="n">fit</span><span class="p">(</span><span class="n">train_selected_X</span><span class="p">,</span> <span class="n">train_y</span><span class="p">)</span>
</pre></div>

</div>
</div>

<div class="vbox output_wrapper">
<div class="output vbox">


<div class="hbox output_area"><div class="prompt output_prompt">
    Out[56]:</div>
<div class="box-flex1 output_subarea output_pyout">


<pre>
SVC(C=1.0, cache_size=200, class_weight=None, coef0=0.0, degree=3, gamma=0.03,
  kernel=&apos;rbf&apos;, max_iter=-1, probability=True, random_state=None,
  shrinking=True, tol=0.001, verbose=False)
</pre>

</div>
</div>

</div>
</div>

</div>
<div class="cell border-box-sizing code_cell vbox">
<div class="input hbox">
<div class="prompt input_prompt">
In&nbsp;[57]:
</div>
<div class="input_area box-flex1">
<div class="highlight"><pre><span class="n">test_yhat</span> <span class="o">=</span> <span class="n">svc</span><span class="o">.</span><span class="n">predict</span><span class="p">(</span><span class="n">test_selected_X</span><span class="p">)</span>
<span class="k">print</span> <span class="n">test_yhat</span><span class="o">.</span><span class="n">shape</span>
</pre></div>

</div>
</div>

<div class="vbox output_wrapper">
<div class="output vbox">


<div class="hbox output_area"><div class="prompt"></div>
<div class="box-flex1 output_subarea output_stream output_stdout">
<pre>
(9000,)

</pre>
</div>
</div>

</div>
</div>

</div>
<div class="cell border-box-sizing code_cell vbox">
<div class="input hbox">
<div class="prompt input_prompt">
In&nbsp;[62]:
</div>
<div class="input_area box-flex1">
<div class="highlight"><pre><span class="n">test_yhat_df</span> <span class="o">=</span> <span class="n">pd</span><span class="o">.</span><span class="n">DataFrame</span><span class="p">(</span><span class="nb">dict</span><span class="p">(</span><span class="n">Id</span> <span class="o">=</span> <span class="n">np</span><span class="o">.</span><span class="n">arange</span><span class="p">(</span><span class="mi">1</span><span class="p">,</span> <span class="n">test_yhat</span><span class="o">.</span><span class="n">shape</span><span class="p">[</span><span class="mi">0</span><span class="p">]</span><span class="o">+</span><span class="mi">1</span><span class="p">),</span> <span class="n">Solution</span><span class="o">=</span><span class="n">test_yhat</span><span class="p">))</span>
<span class="n">test_yhat_df</span><span class="o">.</span><span class="n">to_csv</span><span class="p">(</span><span class="s">&#39;submission/submission1.csv&#39;</span><span class="p">,</span> <span class="n">header</span> <span class="o">=</span> <span class="bp">True</span><span class="p">,</span> <span class="n">index</span><span class="o">=</span><span class="bp">False</span><span class="p">)</span>
</pre></div>

</div>
</div>

</div>
<div class="cell border-box-sizing code_cell vbox">
<div class="input hbox">
<div class="prompt input_prompt">
In&nbsp;[52]:
</div>
<div class="input_area box-flex1">
<div class="highlight"><pre><span class="n">forest</span> <span class="o">=</span> <span class="n">ExtraTreesClassifier</span><span class="p">(</span><span class="n">n_estimators</span><span class="o">=</span><span class="mi">50</span><span class="p">)</span>
<span class="n">max_features_choices</span> <span class="o">=</span> <span class="p">[</span><span class="mf">0.1</span><span class="p">,</span> <span class="mf">0.2</span><span class="p">,</span> <span class="mf">0.3</span><span class="p">,</span> <span class="mf">0.4</span><span class="p">,</span> <span class="mf">0.5</span><span class="p">,</span> <span class="mf">0.6</span><span class="p">,</span> <span class="mf">0.7</span><span class="p">,</span> <span class="mf">0.8</span><span class="p">,</span> <span class="mf">0.9</span><span class="p">,</span> <span class="mf">1.0</span><span class="p">]</span>
<span class="n">gs</span> <span class="o">=</span> <span class="n">GridSearchCV</span><span class="p">(</span><span class="n">forest</span><span class="p">,</span> <span class="p">{</span><span class="s">&#39;max_features&#39;</span><span class="p">:</span> <span class="n">max_features_choices</span><span class="p">},</span> <span class="n">scoring</span> <span class="o">=</span> <span class="s">&#39;accuracy&#39;</span><span class="p">,</span> <span class="n">cv</span> <span class="o">=</span> <span class="mi">10</span><span class="p">,</span> <span class="n">n_jobs</span><span class="o">=-</span><span class="mi">1</span><span class="p">)</span>
<span class="n">gs</span><span class="o">.</span><span class="n">fit</span><span class="p">(</span><span class="n">train_selected_X</span><span class="p">,</span> <span class="n">train_y</span><span class="p">)</span>
<span class="k">print</span> <span class="n">gs</span><span class="o">.</span><span class="n">best_params_</span>
<span class="k">print</span> <span class="n">gs</span><span class="o">.</span><span class="n">best_score_</span>
</pre></div>

</div>
</div>

<div class="vbox output_wrapper">
<div class="output vbox">


<div class="hbox output_area"><div class="prompt"></div>
<div class="box-flex1 output_subarea output_stream output_stdout">
<pre>
{&apos;max_features&apos;: 0.1}
0.966

</pre>
</div>
</div>

</div>
</div>

</div>
<div class="text_cell_render border-box-sizing rendered_html">
<p><strong>The cross validation result is very close to the evaluation score in public board, which implies the assumpiton of iid is quite solid, and thus confirms that it is most likely to be &quot;simulated&quot; data</strong></p>
</div>
<div class="cell border-box-sizing code_cell vbox">
<div class="input hbox">
<div class="prompt input_prompt">
In&nbsp;[]:
</div>
<div class="input_area box-flex1">
<div class="highlight"><pre>
</pre></div>

</div>
</div>

</div>


     <!-- Footer
     ================================================== -->
      <footer class="footer">
      <p class="pull-right"><a href="#">Back to top</a></p>
      <p>More info on <a href='http://ipython.org'> IPython website </a>.
      <a href="https://github.com/ipython/nbviewer">The code for this site</a> is licensed under  <a href="https://github.com/ipython/nbviewer/blob/master/LICENSE.txt" target="_blank">BSD</a>.
      Some icons from <a href="http://glyphicons.com">Glyphicons Free</a>, built thanks to <a href="http://twitter.github.com/bootstrap/"> Twitter Bootstrap</a></p>
      <p>This web site does not host notebooks, it only renders notebooks available on other websites.
      Thanks to all our <a href="https://github.com/ipython/nbviewer/contributors">contributors</a>.</p>
      </footer>
    </div><!-- /container -->



    <!-- Le javascript
    ================================================== -->
    <!-- Placed at the end of the document so the pages load faster -->

    <!--<script type="text/javascript" src="http://platform.twitter.com/widgets.js"></script>-->
    <script src="/static/js/jquery.js"></script>
    <!--<script src="/static/js/google-code-prettify/prettify.js"></script>-->
    <!--<script src="/static/js/bootstrap-transition.js"></script>-->
    <!--<script src="/static/js/bootstrap-alert.js"></script>-->
    <!--<script src="/static/js/bootstrap-modal.js"></script>-->
    <!--<script src="/static/js/bootstrap-dropdown.js"></script>-->
    <!--<script src="/static/js/bootstrap-scrollspy.js"></script>-->
    <!--<script src="/static/js/bootstrap-tab.js"></script>-->
    <!--<script src="/static/js/bootstrap-tooltip.js"></script>-->
    <!--<script src="/static/js/bootstrap-popover.js"></script>-->
    <!--<script src="/static/js/bootstrap-button.js"></script>-->
    <script src="/static/js/bootstrap-collapse.js"></script>
    <!--<script src="/static/js/bootstrap-carousel.js"></script>-->
    <!--<script src="/static/js/bootstrap-typeahead.js"></script>-->
    <!--<script src="/static/js/application.js"></script>-->


    <!-- Analytics
    ================================================== -->
    <script type="text/javascript">
      var _gaq = _gaq || [];
      _gaq.push(['_setAccount', 'UA-38683231-2']);
      _gaq.push(['_trackPageview']);

      (function() {
        var ga = document.createElement('script'); ga.type = 'text/javascript'; ga.async = true;
        ga.src = ('https:' == document.location.protocol ? 'https://ssl' : 'http://www') + '.google-analytics.com/ga.js';
        var s = document.getElementsByTagName('script')[0]; s.parentNode.insertBefore(ga, s);
      })();

    </script>
    <!--NEW RELIC Stop Perf Measurement-->
    
    <!--NEW RELIC End-->
  </body>
</html>