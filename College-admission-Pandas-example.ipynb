{
 "metadata": {
  "name": "",
  "signature": "sha256:c5019aea20baf6806cdf62f0dc2085784e27cdd516ab802520bd83d1b47b41ee"
 },
 "nbformat": 3,
 "nbformat_minor": 0,
 "worksheets": [
  {
   "cells": [
    {
     "cell_type": "code",
     "collapsed": false,
     "input": [
      "import pandas as pd\n",
      "import statsmodels.api as sm\n",
      "import pylab as pl\n",
      "import numpy as np\n"
     ],
     "language": "python",
     "metadata": {},
     "outputs": [],
     "prompt_number": 5
    },
    {
     "cell_type": "code",
     "collapsed": false,
     "input": [
      "# read the data in\n",
      "df = pd.read_csv(\"http://www.ats.ucla.edu/stat/data/binary.csv\")\n",
      " \n",
      "# take a look at the dataset\n",
      "print df.head()\n",
      "#    admit  gre   gpa  rank\n",
      "# 0      0  380  3.61     3\n",
      "# 1      1  660  3.67     3\n",
      "# 2      1  800  4.00     1\n",
      "# 3      1  640  3.19     4\n",
      "# 4      0  520  2.93     4\n",
      " \n",
      "# rename the 'rank' column because there is also a DataFrame method called 'rank'\n",
      "df.columns = [\"admit\", \"gre\", \"gpa\", \"prestige\"]\n",
      "print df.columns"
     ],
     "language": "python",
     "metadata": {},
     "outputs": [
      {
       "output_type": "stream",
       "stream": "stdout",
       "text": [
        "   admit  gre   gpa  rank\n",
        "0      0  380  3.61     3\n",
        "1      1  660  3.67     3\n",
        "2      1  800  4.00     1\n",
        "3      1  640  3.19     4\n",
        "4      0  520  2.93     4\n",
        "\n",
        "[5 rows x 4 columns]\n",
        "Index([u'admit', u'gre', u'gpa', u'prestige'], dtype='object')\n"
       ]
      }
     ],
     "prompt_number": 17
    },
    {
     "cell_type": "code",
     "collapsed": false,
     "input": [
      "# summarize the data\n",
      "print df.describe()\n",
      "#             admit         gre         gpa   prestige\n",
      "# count  400.000000  400.000000  400.000000  400.00000\n",
      "# mean     0.317500  587.700000    3.389900    2.48500\n",
      "# std      0.466087  115.516536    0.380567    0.94446\n",
      "# min      0.000000  220.000000    2.260000    1.00000\n",
      "# 25%      0.000000  520.000000    3.130000    2.00000\n",
      "# 50%      0.000000  580.000000    3.395000    2.00000\n",
      "# 75%      1.000000  660.000000    3.670000    3.00000\n",
      "# max      1.000000  800.000000    4.000000    4.00000\n",
      " \n",
      "# take a look at the standard deviation of each column\n",
      "print df.std()\n",
      "# admit      0.466087\n",
      "# gre      115.516536\n",
      "# gpa        0.380567\n",
      "# prestige   0.944460\n",
      " \n",
      "# frequency table cutting presitge and whether or not someone was admitted\n",
      "print pd.crosstab(df['admit'], df['prestige'], rownames=['admit'])\n",
      "# prestige   1   2   3   4\n",
      "# admit                   \n",
      "# 0         28  97  93  55\n",
      "# 1         33  54  28  12\n",
      " \n",
      "# plot all of the columns\n",
      "df.hist()\n",
      "pl.show()"
     ],
     "language": "python",
     "metadata": {},
     "outputs": [
      {
       "output_type": "stream",
       "stream": "stdout",
       "text": [
        "            admit         gre         gpa   prestige\n",
        "count  400.000000  400.000000  400.000000  400.00000\n",
        "mean     0.317500  587.700000    3.389900    2.48500\n",
        "std      0.466087  115.516536    0.380567    0.94446\n",
        "min      0.000000  220.000000    2.260000    1.00000\n",
        "25%      0.000000  520.000000    3.130000    2.00000\n",
        "50%      0.000000  580.000000    3.395000    2.00000\n",
        "75%      1.000000  660.000000    3.670000    3.00000\n",
        "max      1.000000  800.000000    4.000000    4.00000\n",
        "\n",
        "[8 rows x 4 columns]\n",
        "admit         0.466087\n",
        "gre         115.516536\n",
        "gpa           0.380567\n",
        "prestige      0.944460\n",
        "dtype: float64\n",
        "prestige   1   2   3   4\n",
        "admit                   \n",
        "0         28  97  93  55\n",
        "1         33  54  28  12\n",
        "\n",
        "[2 rows x 4 columns]\n"
       ]
      },
      {
       "metadata": {},
       "output_type": "display_data",
       "png": "[encoded data removed]",
       "text": [
        "<matplotlib.figure.Figure at 0x57ea650>"
       ]
      }
     ],
     "prompt_number": 18
    },
    {
     "cell_type": "code",
     "collapsed": false,
     "input": [
      "# dummify rank\n",
      "dummy_ranks = pd.get_dummies(df['prestige'], prefix='prestige')\n",
      "print dummy_ranks.head()\n",
      "#    prestige_1  prestige_2  prestige_3  prestige_4\n",
      "# 0           0           0           1           0\n",
      "# 1           0           0           1           0\n",
      "# 2           1           0           0           0\n",
      "# 3           0           0           0           1\n",
      "# 4           0           0           0           1\n",
      " \n",
      "# create a clean data frame for the regression\n",
      "cols_to_keep = ['admit', 'gre', 'gpa']\n",
      "data = df[cols_to_keep].join(dummy_ranks.ix[:, 'prestige_2':])\n",
      "print data.head()\n",
      "#    admit  gre   gpa  prestige_2  prestige_3  prestige_4\n",
      "# 0      0  380  3.61           0           1           0\n",
      "# 1      1  660  3.67           0           1           0\n",
      "# 2      1  800  4.00           0           0           0\n",
      "# 3      1  640  3.19           0           0           1\n",
      "# 4      0  520  2.93           0           0           1\n",
      " \n",
      "# manually add the intercept\n",
      "data['intercept'] = 1.0"
     ],
     "language": "python",
     "metadata": {},
     "outputs": [
      {
       "output_type": "stream",
       "stream": "stdout",
       "text": [
        "   prestige_1  prestige_2  prestige_3  prestige_4\n",
        "0           0           0           1           0\n",
        "1           0           0           1           0\n",
        "2           1           0           0           0\n",
        "3           0           0           0           1\n",
        "4           0           0           0           1\n",
        "\n",
        "[5 rows x 4 columns]\n",
        "   admit  gre   gpa  prestige_2  prestige_3  prestige_4\n",
        "0      0  380  3.61           0           1           0\n",
        "1      1  660  3.67           0           1           0\n",
        "2      1  800  4.00           0           0           0\n",
        "3      1  640  3.19           0           0           1\n",
        "4      0  520  2.93           0           0           1\n",
        "\n",
        "[5 rows x 6 columns]\n"
       ]
      }
     ],
     "prompt_number": 8
    },
    {
     "cell_type": "code",
     "collapsed": false,
     "input": [
      "train_cols = data.columns[1:]\n",
      "# Index([gre, gpa, prestige_2, prestige_3, prestige_4], dtype=object)\n",
      " \n",
      "logit = sm.Logit(data['admit'], data[train_cols])\n",
      " \n",
      "# fit the model\n",
      "result = logit.fit()"
     ],
     "language": "python",
     "metadata": {},
     "outputs": [
      {
       "output_type": "stream",
       "stream": "stdout",
       "text": [
        "Optimization terminated successfully.\n",
        "         Current function value: 0.573147\n",
        "         Iterations 6\n"
       ]
      }
     ],
     "prompt_number": 9
    },
    {
     "cell_type": "code",
     "collapsed": false,
     "input": [
      "# cool enough to deserve it's own gist\n",
      "print result.summary()"
     ],
     "language": "python",
     "metadata": {},
     "outputs": [
      {
       "output_type": "stream",
       "stream": "stdout",
       "text": [
        "                           Logit Regression Results                           \n",
        "==============================================================================\n",
        "Dep. Variable:                  admit   No. Observations:                  400\n",
        "Model:                          Logit   Df Residuals:                      394\n",
        "Method:                           MLE   Df Model:                            5\n",
        "Date:                Sun, 04 May 2014   Pseudo R-squ.:                 0.08292\n",
        "Time:                        06:04:19   Log-Likelihood:                -229.26\n",
        "converged:                       True   LL-Null:                       -249.99\n",
        "                                        LLR p-value:                 7.578e-08\n",
        "==============================================================================\n",
        "                 coef    std err          z      P>|z|      [95.0% Conf. Int.]\n",
        "------------------------------------------------------------------------------\n",
        "gre            0.0023      0.001      2.070      0.038         0.000     0.004\n",
        "gpa            0.8040      0.332      2.423      0.015         0.154     1.454\n",
        "prestige_2    -0.6754      0.316     -2.134      0.033        -1.296    -0.055\n",
        "prestige_3    -1.3402      0.345     -3.881      0.000        -2.017    -0.663\n",
        "prestige_4    -1.5515      0.418     -3.713      0.000        -2.370    -0.733\n",
        "intercept     -3.9900      1.140     -3.500      0.000        -6.224    -1.756\n",
        "==============================================================================\n"
       ]
      }
     ],
     "prompt_number": 10
    },
    {
     "cell_type": "code",
     "collapsed": false,
     "input": [
      "# look at the confidence interval of each coeffecient\n",
      "print result.conf_int()\n",
      "#                    0         1\n",
      "# gre         0.000120  0.004409\n",
      "# gpa         0.153684  1.454391\n",
      "# prestige_2 -1.295751 -0.055135\n",
      "# prestige_3 -2.016992 -0.663416\n",
      "# prestige_4 -2.370399 -0.732529\n",
      "# intercept  -6.224242 -1.755716"
     ],
     "language": "python",
     "metadata": {},
     "outputs": [
      {
       "output_type": "stream",
       "stream": "stdout",
       "text": [
        "                   0         1\n",
        "gre         0.000120  0.004409\n",
        "gpa         0.153684  1.454391\n",
        "prestige_2 -1.295751 -0.055135\n",
        "prestige_3 -2.016992 -0.663416\n",
        "prestige_4 -2.370399 -0.732529\n",
        "intercept  -6.224242 -1.755716\n",
        "\n",
        "[6 rows x 2 columns]\n"
       ]
      }
     ],
     "prompt_number": 11
    },
    {
     "cell_type": "code",
     "collapsed": false,
     "input": [
      "# odds ratios only\n",
      "print np.exp(result.params)\n",
      "# gre           1.002267\n",
      "# gpa           2.234545\n",
      "# prestige_2    0.508931\n",
      "# prestige_3    0.261792\n",
      "# prestige_4    0.211938\n",
      "# intercept     0.018500"
     ],
     "language": "python",
     "metadata": {},
     "outputs": [
      {
       "output_type": "stream",
       "stream": "stdout",
       "text": [
        "gre           1.002267\n",
        "gpa           2.234545\n",
        "prestige_2    0.508931\n",
        "prestige_3    0.261792\n",
        "prestige_4    0.211938\n",
        "intercept     0.018500\n",
        "dtype: float64\n"
       ]
      }
     ],
     "prompt_number": 12
    },
    {
     "cell_type": "code",
     "collapsed": false,
     "input": [
      "# odds ratios and 95% CI\n",
      "params = result.params\n",
      "conf = result.conf_int()\n",
      "conf['OR'] = params\n",
      "conf.columns = ['2.5%', '97.5%', 'OR']\n",
      "print np.exp(conf)\n",
      "#                   2.5%     97.5%        OR\n",
      "# gre           1.000120  1.004418  1.002267\n",
      "# gpa           1.166122  4.281877  2.234545\n",
      "# prestige_2    0.273692  0.946358  0.508931\n",
      "# prestige_3    0.133055  0.515089  0.261792\n",
      "# prestige_4    0.093443  0.480692  0.211938\n",
      "# intercept     0.001981  0.172783  0.018500"
     ],
     "language": "python",
     "metadata": {},
     "outputs": [
      {
       "output_type": "stream",
       "stream": "stdout",
       "text": [
        "                2.5%     97.5%        OR\n",
        "gre         1.000120  1.004418  1.002267\n",
        "gpa         1.166122  4.281877  2.234545\n",
        "prestige_2  0.273692  0.946358  0.508931\n",
        "prestige_3  0.133055  0.515089  0.261792\n",
        "prestige_4  0.093443  0.480692  0.211938\n",
        "intercept   0.001981  0.172783  0.018500\n",
        "\n",
        "[6 rows x 3 columns]\n"
       ]
      }
     ],
     "prompt_number": 13
    },
    {
     "cell_type": "code",
     "collapsed": false,
     "input": [
      "# instead of generating all possible values of GRE and GPA, we're going\n",
      "# to use an evenly spaced range of 10 values from the min to the max \n",
      "gres = np.linspace(data['gre'].min(), data['gre'].max(), 10)\n",
      "print gres\n",
      "# array([ 220.        ,  284.44444444,  348.88888889,  413.33333333,\n",
      "#         477.77777778,  542.22222222,  606.66666667,  671.11111111,\n",
      "#         735.55555556,  800.        ])\n",
      "gpas = np.linspace(data['gpa'].min(), data['gpa'].max(), 10)\n",
      "print gpas\n",
      "# array([ 2.26      ,  2.45333333,  2.64666667,  2.84      ,  3.03333333,\n",
      "#         3.22666667,  3.42      ,  3.61333333,  3.80666667,  4.        ])\n",
      " \n",
      " \n",
      "# enumerate all possibilities\n",
      "combos = pd.DataFrame(cartesian([gres, gpas, [1, 2, 3, 4], [1.]]))\n",
      "# recreate the dummy variables\n",
      "combos.columns = ['gre', 'gpa', 'prestige', 'intercept']\n",
      "dummy_ranks = pd.get_dummies(combos['prestige'], prefix='prestige')\n",
      "dummy_ranks.columns = ['prestige_1', 'prestige_2', 'prestige_3', 'prestige_4']\n",
      " \n",
      "# keep only what we need for making predictions\n",
      "cols_to_keep = ['gre', 'gpa', 'prestige', 'intercept']\n",
      "combos = combos[cols_to_keep].join(dummy_ranks.ix[:, 'prestige_2':])\n",
      " \n",
      "# make predictions on the enumerated dataset\n",
      "combos['admit_pred'] = result.predict(combos[train_cols])\n",
      " \n",
      "print combos.head()\n",
      "#    gre       gpa  prestige  intercept  prestige_2  prestige_3  prestige_4  admit_pred\n",
      "# 0  220  2.260000         1          1           0           0           0    0.157801\n",
      "# 1  220  2.260000         2          1           1           0           0    0.087056\n",
      "# 2  220  2.260000         3          1           0           1           0    0.046758\n",
      "# 3  220  2.260000         4          1           0           0           1    0.038194\n",
      "# 4  220  2.453333         1          1           0           0           0    0.179574\n"
     ],
     "language": "python",
     "metadata": {},
     "outputs": [
      {
       "output_type": "stream",
       "stream": "stdout",
       "text": [
        "[ 220.          284.44444444  348.88888889  413.33333333  477.77777778\n",
        "  542.22222222  606.66666667  671.11111111  735.55555556  800.        ]\n",
        "[ 2.26        2.45333333  2.64666667  2.84        3.03333333  3.22666667\n",
        "  3.42        3.61333333  3.80666667  4.        ]\n"
       ]
      },
      {
       "ename": "AttributeError",
       "evalue": "'module' object has no attribute 'cartesian'",
       "output_type": "pyerr",
       "traceback": [
        "\u001b[1;31m---------------------------------------------------------------------------\u001b[0m\n\u001b[1;31mAttributeError\u001b[0m                            Traceback (most recent call last)",
        "\u001b[1;32m<ipython-input-15-294df4197144>\u001b[0m in \u001b[0;36m<module>\u001b[1;34m()\u001b[0m\n\u001b[0;32m     13\u001b[0m \u001b[1;33m\u001b[0m\u001b[0m\n\u001b[0;32m     14\u001b[0m \u001b[1;31m# enumerate all possibilities\u001b[0m\u001b[1;33m\u001b[0m\u001b[1;33m\u001b[0m\u001b[0m\n\u001b[1;32m---> 15\u001b[1;33m \u001b[0mcombos\u001b[0m \u001b[1;33m=\u001b[0m \u001b[0mpd\u001b[0m\u001b[1;33m.\u001b[0m\u001b[0mDataFrame\u001b[0m\u001b[1;33m(\u001b[0m\u001b[0mnp\u001b[0m\u001b[1;33m.\u001b[0m\u001b[0mcartesian\u001b[0m\u001b[1;33m(\u001b[0m\u001b[1;33m[\u001b[0m\u001b[0mgres\u001b[0m\u001b[1;33m,\u001b[0m \u001b[0mgpas\u001b[0m\u001b[1;33m,\u001b[0m \u001b[1;33m[\u001b[0m\u001b[1;36m1\u001b[0m\u001b[1;33m,\u001b[0m \u001b[1;36m2\u001b[0m\u001b[1;33m,\u001b[0m \u001b[1;36m3\u001b[0m\u001b[1;33m,\u001b[0m \u001b[1;36m4\u001b[0m\u001b[1;33m]\u001b[0m\u001b[1;33m,\u001b[0m \u001b[1;33m[\u001b[0m\u001b[1;36m1.\u001b[0m\u001b[1;33m]\u001b[0m\u001b[1;33m]\u001b[0m\u001b[1;33m)\u001b[0m\u001b[1;33m)\u001b[0m\u001b[1;33m\u001b[0m\u001b[0m\n\u001b[0m\u001b[0;32m     16\u001b[0m \u001b[1;31m# recreate the dummy variables\u001b[0m\u001b[1;33m\u001b[0m\u001b[1;33m\u001b[0m\u001b[0m\n\u001b[0;32m     17\u001b[0m \u001b[0mcombos\u001b[0m\u001b[1;33m.\u001b[0m\u001b[0mcolumns\u001b[0m \u001b[1;33m=\u001b[0m \u001b[1;33m[\u001b[0m\u001b[1;34m'gre'\u001b[0m\u001b[1;33m,\u001b[0m \u001b[1;34m'gpa'\u001b[0m\u001b[1;33m,\u001b[0m \u001b[1;34m'prestige'\u001b[0m\u001b[1;33m,\u001b[0m \u001b[1;34m'intercept'\u001b[0m\u001b[1;33m]\u001b[0m\u001b[1;33m\u001b[0m\u001b[0m\n",
        "\u001b[1;31mAttributeError\u001b[0m: 'module' object has no attribute 'cartesian'"
       ]
      }
     ],
     "prompt_number": 15
    },
    {
     "cell_type": "code",
     "collapsed": false,
     "input": [
      "def isolate_and_plot(variable):\n",
      "    # isolate gre and class rank\n",
      "    grouped = pd.pivot_table(combos, values=['admit_pred'], rows=[variable, 'prestige'],\n",
      "                             aggfunc=np.mean)\n",
      "    \n",
      "    # in case you're curious as to what this looks like\n",
      "    # print grouped.head()\n",
      "    #                      admit_pred\n",
      "    # gre        prestige            \n",
      "    # 220.000000 1           0.282462\n",
      "    #            2           0.169987\n",
      "    #            3           0.096544\n",
      "    #            4           0.079859\n",
      "    # 284.444444 1           0.311718\n",
      "    \n",
      "    # make a plot\n",
      "    colors = 'rbgyrbgy'\n",
      "    for col in combos.prestige.unique():\n",
      "        plt_data = grouped.ix[grouped.index.get_level_values(1)==col]\n",
      "        pl.plot(plt_data.index.get_level_values(0), plt_data['admit_pred'],\n",
      "                color=colors[int(col)])\n",
      " \n",
      "    pl.xlabel(variable)\n",
      "    pl.ylabel(\"P(admit=1)\")\n",
      "    pl.legend(['1', '2', '3', '4'], loc='upper left', title='Prestige')\n",
      "    pl.title(\"Prob(admit=1) isolating \" + variable + \" and presitge\")\n",
      "    pl.show()\n",
      " \n",
      "isolate_and_plot('gre')\n",
      "isolate_and_plot('gpa')"
     ],
     "language": "python",
     "metadata": {},
     "outputs": [
      {
       "ename": "NameError",
       "evalue": "global name 'combos' is not defined",
       "output_type": "pyerr",
       "traceback": [
        "\u001b[1;31m---------------------------------------------------------------------------\u001b[0m\n\u001b[1;31mNameError\u001b[0m                                 Traceback (most recent call last)",
        "\u001b[1;32m<ipython-input-16-0e9f0e385dd4>\u001b[0m in \u001b[0;36m<module>\u001b[1;34m()\u001b[0m\n\u001b[0;32m     27\u001b[0m     \u001b[0mpl\u001b[0m\u001b[1;33m.\u001b[0m\u001b[0mshow\u001b[0m\u001b[1;33m(\u001b[0m\u001b[1;33m)\u001b[0m\u001b[1;33m\u001b[0m\u001b[0m\n\u001b[0;32m     28\u001b[0m \u001b[1;33m\u001b[0m\u001b[0m\n\u001b[1;32m---> 29\u001b[1;33m \u001b[0misolate_and_plot\u001b[0m\u001b[1;33m(\u001b[0m\u001b[1;34m'gre'\u001b[0m\u001b[1;33m)\u001b[0m\u001b[1;33m\u001b[0m\u001b[0m\n\u001b[0m\u001b[0;32m     30\u001b[0m \u001b[0misolate_and_plot\u001b[0m\u001b[1;33m(\u001b[0m\u001b[1;34m'gpa'\u001b[0m\u001b[1;33m)\u001b[0m\u001b[1;33m\u001b[0m\u001b[0m\n",
        "\u001b[1;32m<ipython-input-16-0e9f0e385dd4>\u001b[0m in \u001b[0;36misolate_and_plot\u001b[1;34m(variable)\u001b[0m\n\u001b[0;32m      1\u001b[0m \u001b[1;32mdef\u001b[0m \u001b[0misolate_and_plot\u001b[0m\u001b[1;33m(\u001b[0m\u001b[0mvariable\u001b[0m\u001b[1;33m)\u001b[0m\u001b[1;33m:\u001b[0m\u001b[1;33m\u001b[0m\u001b[0m\n\u001b[0;32m      2\u001b[0m     \u001b[1;31m# isolate gre and class rank\u001b[0m\u001b[1;33m\u001b[0m\u001b[1;33m\u001b[0m\u001b[0m\n\u001b[1;32m----> 3\u001b[1;33m     grouped = pd.pivot_table(combos, values=['admit_pred'], rows=[variable, 'prestige'],\n\u001b[0m\u001b[0;32m      4\u001b[0m                              aggfunc=np.mean)\n\u001b[0;32m      5\u001b[0m \u001b[1;33m\u001b[0m\u001b[0m\n",
        "\u001b[1;31mNameError\u001b[0m: global name 'combos' is not defined"
       ]
      }
     ],
     "prompt_number": 16
    },
    {
     "cell_type": "code",
     "collapsed": false,
     "input": [],
     "language": "python",
     "metadata": {},
     "outputs": []
    }
   ],
   "metadata": {}
  }
 ]
}