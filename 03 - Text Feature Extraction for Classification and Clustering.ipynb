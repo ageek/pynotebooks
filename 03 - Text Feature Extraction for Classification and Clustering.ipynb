{
 "metadata": {
  "name": "03 - Text Feature Extraction for Classification and Clustering"
 },
 "nbformat": 3,
 "nbformat_minor": 0,
 "worksheets": [
  {
   "cells": [
    {
     "cell_type": "code",
     "collapsed": false,
     "input": [
      "%pylab inline\n",
      "import pylab as pl\n",
      "import numpy as np\n",
      "\n",
      "# Some nice default configuration for plots\n",
      "pl.rcParams['figure.figsize'] = 10, 7.5\n",
      "pl.rcParams['axes.grid'] = True\n",
      "pl.gray()"
     ],
     "language": "python",
     "metadata": {},
     "outputs": [
      {
       "output_type": "stream",
       "stream": "stdout",
       "text": [
        "\n",
        "Welcome to pylab, a matplotlib-based Python environment [backend: module://IPython.zmq.pylab.backend_inline].\n",
        "For more information, type 'help(pylab)'.\n"
       ]
      }
     ],
     "prompt_number": 1
    },
    {
     "cell_type": "heading",
     "level": 1,
     "metadata": {},
     "source": [
      "Text Feature Extraction for Classification and Clustering"
     ]
    },
    {
     "cell_type": "markdown",
     "metadata": {},
     "source": [
      "<style>\n",
      "div.input {\n",
      "    width: 105ex; /* about 80 chars + buffer */\n",
      "}\n",
      "div.text_cell {\n",
      "    width: 105ex; /* instead of 100%, */\n",
      "}\n",
      "div.text_cell_render {\n",
      "    /*font-family: \"Helvetica Neue\", Arial, Helvetica, Geneva, sans-serif;*/\n",
      "    font-family: \"Charis SIL\", serif !important; /* Make non-code text serif. */\n",
      "    line-height: 145% !important; /* added for some line spacing of text. */\n",
      "    width: 105ex !important; /* instead of 'inherit' for shorter lines */\n",
      "}\n",
      "/* Set the size of the headers */\n",
      "div.text_cell_render h1 {\n",
      "    font-size: 18pt;\n",
      "}\n",
      "div.text_cell_render h2 {\n",
      "    font-size: 14pt;\n",
      "}\n",
      ".CodeMirror {\n",
      "     font-family: Consolas, monospace;\n",
      "}\n",
      "</style>\n",
      "\n",
      "Outline of this section:\n",
      "\n",
      "- Turn a corpus of text documents into **feature vectors** using a **Bag of Words** representation,\n",
      "- Train a simple text classifier on the feature vectors,\n",
      "- Wrap the vectorizer and the classifier with a **pipeline**,\n",
      "- Cross-validation and **model selection** on the pipeline."
     ]
    },
    {
     "cell_type": "heading",
     "level": 2,
     "metadata": {},
     "source": [
      "Text Classification in 20 lines of Python"
     ]
    },
    {
     "cell_type": "markdown",
     "metadata": {},
     "source": [
      "Let's start by implementing a canonical text classification example:\n",
      "\n",
      "- The 20 newsgroups dataset: around 18000 text posts from 20 newsgroups forums\n",
      "- Bag of Words features extraction with TF-IDF weighting\n",
      "- Naive Bayes classifier or Linear Support Vector Machine for the classifier itself"
     ]
    },
    {
     "cell_type": "code",
     "collapsed": false,
     "input": [
      "from sklearn.datasets import load_files\n",
      "from sklearn.feature_extraction.text import TfidfVectorizer\n",
      "from sklearn.naive_bayes import MultinomialNB\n",
      "\n",
      "# Load the text data\n",
      "categories = [\n",
      "    'alt.atheism',\n",
      "    'talk.religion.misc',\n",
      "    'comp.graphics',\n",
      "    'sci.space',\n",
      "]\n",
      "twenty_train_small = load_files('../datasets/20news-bydate-train/',\n",
      "    categories=categories, charset='latin-1')\n",
      "twenty_test_small = load_files('../datasets/20news-bydate-test/',\n",
      "    categories=categories, charset='latin-1')\n",
      "\n",
      "# Turn the text documents into vectors of word frequencies\n",
      "vectorizer = TfidfVectorizer(min_df=2)\n",
      "X_train = vectorizer.fit_transform(twenty_train_small.data)\n",
      "y_train = twenty_train_small.target\n",
      "\n",
      "# Fit a classifier on the training set\n",
      "classifier = MultinomialNB().fit(X_train, y_train)\n",
      "print(\"Training score: {0:.1f}%\".format(\n",
      "    classifier.score(X_train, y_train) * 100))\n",
      "\n",
      "# Evaluate the classifier on the testing set\n",
      "X_test = vectorizer.transform(twenty_test_small.data)\n",
      "y_test = twenty_test_small.target\n",
      "print(\"Testing score: {0:.1f}%\".format(\n",
      "    classifier.score(X_test, y_test) * 100))"
     ],
     "language": "python",
     "metadata": {},
     "outputs": [
      {
       "output_type": "stream",
       "stream": "stdout",
       "text": [
        "Training score: 95.1%\n",
        "Testing score: 85.1%"
       ]
      },
      {
       "output_type": "stream",
       "stream": "stdout",
       "text": [
        "\n"
       ]
      }
     ],
     "prompt_number": 2
    },
    {
     "cell_type": "markdown",
     "metadata": {},
     "source": [
      "Here is a workflow diagram summary of what happened previously:"
     ]
    },
    {
     "cell_type": "markdown",
     "metadata": {},
     "source": [
      "\n",
      "<img src=\"files/images/supervised_scikit_learn.png\" style=\"width: 99%\" />"
     ]
    },
    {
     "cell_type": "markdown",
     "metadata": {},
     "source": [
      "Let's now decompose what we just did to understand and customize each step."
     ]
    },
    {
     "cell_type": "heading",
     "level": 3,
     "metadata": {},
     "source": [
      "Loading the Dataset"
     ]
    },
    {
     "cell_type": "markdown",
     "metadata": {},
     "source": [
      "Let's explore the dataset loading utility without passing a list of categories: in this case we load the full 20 newsgroups dataset in memory. The source website for the 20 newsgroups already provides a date-based train / test split that is made available using the `subset` keyword argument: "
     ]
    },
    {
     "cell_type": "code",
     "collapsed": false,
     "input": [
      "ls -l ../datasets/"
     ],
     "language": "python",
     "metadata": {},
     "outputs": [
      {
       "output_type": "stream",
       "stream": "stdout",
       "text": [
        "total 187176\r\n",
        "drwxr-xr-x  22 antigen  staff       748 18 Mar  2003 \u001b[34m20news-bydate-test\u001b[m\u001b[m/\r\n",
        "drwxr-xr-x  22 antigen  staff       748 18 Mar  2003 \u001b[34m20news-bydate-train\u001b[m\u001b[m/\r\n",
        "-rw-r--r--   1 antigen  staff  14464277  1 Apr 22:28 20news-bydate.tar.gz\r\n",
        "drwxr-xr-x   4 antigen  staff       136  1 Apr 22:30 \u001b[34msentiment140\u001b[m\u001b[m/\r\n",
        "-rw-r--r--   1 antigen  staff  81363704  1 Apr 22:30 trainingandtestdata.zip\r\n"
       ]
      }
     ],
     "prompt_number": 3
    },
    {
     "cell_type": "code",
     "collapsed": false,
     "input": [
      "ls -lh ../datasets/20news-bydate-train"
     ],
     "language": "python",
     "metadata": {},
     "outputs": [
      {
       "output_type": "stream",
       "stream": "stdout",
       "text": [
        "total 0\r\n",
        "drwxr-xr-x  482 antigen  staff    16K 18 Mar  2003 \u001b[34malt.atheism\u001b[m\u001b[m/\r\n",
        "drwxr-xr-x  586 antigen  staff    19K 18 Mar  2003 \u001b[34mcomp.graphics\u001b[m\u001b[m/\r\n",
        "drwxr-xr-x  593 antigen  staff    20K 18 Mar  2003 \u001b[34mcomp.os.ms-windows.misc\u001b[m\u001b[m/\r\n",
        "drwxr-xr-x  592 antigen  staff    20K 18 Mar  2003 \u001b[34mcomp.sys.ibm.pc.hardware\u001b[m\u001b[m/\r\n",
        "drwxr-xr-x  580 antigen  staff    19K 18 Mar  2003 \u001b[34mcomp.sys.mac.hardware\u001b[m\u001b[m/\r\n",
        "drwxr-xr-x  595 antigen  staff    20K 18 Mar  2003 \u001b[34mcomp.windows.x\u001b[m\u001b[m/\r\n",
        "drwxr-xr-x  587 antigen  staff    19K 18 Mar  2003 \u001b[34mmisc.forsale\u001b[m\u001b[m/\r\n",
        "drwxr-xr-x  596 antigen  staff    20K 18 Mar  2003 \u001b[34mrec.autos\u001b[m\u001b[m/\r\n",
        "drwxr-xr-x  600 antigen  staff    20K 18 Mar  2003 \u001b[34mrec.motorcycles\u001b[m\u001b[m/\r\n",
        "drwxr-xr-x  599 antigen  staff    20K 18 Mar  2003 \u001b[34mrec.sport.baseball\u001b[m\u001b[m/\r\n",
        "drwxr-xr-x  602 antigen  staff    20K 18 Mar  2003 \u001b[34mrec.sport.hockey\u001b[m\u001b[m/\r\n",
        "drwxr-xr-x  597 antigen  staff    20K 18 Mar  2003 \u001b[34msci.crypt\u001b[m\u001b[m/\r\n",
        "drwxr-xr-x  593 antigen  staff    20K 18 Mar  2003 \u001b[34msci.electronics\u001b[m\u001b[m/\r\n",
        "drwxr-xr-x  596 antigen  staff    20K 18 Mar  2003 \u001b[34msci.med\u001b[m\u001b[m/\r\n",
        "drwxr-xr-x  595 antigen  staff    20K 18 Mar  2003 \u001b[34msci.space\u001b[m\u001b[m/\r\n",
        "drwxr-xr-x  601 antigen  staff    20K 18 Mar  2003 \u001b[34msoc.religion.christian\u001b[m\u001b[m/\r\n",
        "drwxr-xr-x  548 antigen  staff    18K 18 Mar  2003 \u001b[34mtalk.politics.guns\u001b[m\u001b[m/\r\n",
        "drwxr-xr-x  566 antigen  staff    19K 18 Mar  2003 \u001b[34mtalk.politics.mideast\u001b[m\u001b[m/\r\n",
        "drwxr-xr-x  467 antigen  staff    16K 18 Mar  2003 \u001b[34mtalk.politics.misc\u001b[m\u001b[m/\r\n",
        "drwxr-xr-x  379 antigen  staff    13K 18 Mar  2003 \u001b[34mtalk.religion.misc\u001b[m\u001b[m/\r\n"
       ]
      }
     ],
     "prompt_number": 4
    },
    {
     "cell_type": "code",
     "collapsed": false,
     "input": [
      "ls -lh ../datasets/20news-bydate-train/alt.atheism/"
     ],
     "language": "python",
     "metadata": {},
     "outputs": [
      {
       "output_type": "stream",
       "stream": "stdout",
       "text": [
        "total 4480\r\n",
        "-rw-r--r--  1 antigen  staff    12K 18 Mar  2003 49960\r\n",
        "-rw-r--r--  1 antigen  staff    31K 18 Mar  2003 51060\r\n",
        "-rw-r--r--  1 antigen  staff   4.0K 18 Mar  2003 51119\r\n",
        "-rw-r--r--  1 antigen  staff   1.6K 18 Mar  2003 51120\r\n",
        "-rw-r--r--  1 antigen  staff   773B 18 Mar  2003 51121\r\n",
        "-rw-r--r--  1 antigen  staff   4.8K 18 Mar  2003 51122\r\n",
        "-rw-r--r--  1 antigen  staff   618B 18 Mar  2003 51123\r\n",
        "-rw-r--r--  1 antigen  staff   1.4K 18 Mar  2003 51124\r\n",
        "-rw-r--r--  1 antigen  staff   2.7K 18 Mar  2003 51125\r\n",
        "-rw-r--r--  1 antigen  staff   427B 18 Mar  2003 51126\r\n",
        "-rw-r--r--  1 antigen  staff   742B 18 Mar  2003 51127\r\n",
        "-rw-r--r--  1 antigen  staff   650B 18 Mar  2003 51128\r\n",
        "-rw-r--r--  1 antigen  staff   1.3K 18 Mar  2003 51130\r\n",
        "-rw-r--r--  1 antigen  staff   2.3K 18 Mar  2003 51131\r\n",
        "-rw-r--r--  1 antigen  staff   2.6K 18 Mar  2003 51132\r\n",
        "-rw-r--r--  1 antigen  staff   1.5K 18 Mar  2003 51133\r\n",
        "-rw-r--r--  1 antigen  staff   1.2K 18 Mar  2003 51134\r\n",
        "-rw-r--r--  1 antigen  staff   1.6K 18 Mar  2003 51135\r\n",
        "-rw-r--r--  1 antigen  staff   2.1K 18 Mar  2003 51136\r\n",
        "-rw-r--r--  1 antigen  staff   1.3K 18 Mar  2003 51139\r\n",
        "-rw-r--r--  1 antigen  staff   409B 18 Mar  2003 51140\r\n",
        "-rw-r--r--  1 antigen  staff   940B 18 Mar  2003 51141\r\n",
        "-rw-r--r--  1 antigen  staff   9.0K 18 Mar  2003 51142\r\n",
        "-rw-r--r--  1 antigen  staff   632B 18 Mar  2003 51143\r\n",
        "-rw-r--r--  1 antigen  staff   1.2K 18 Mar  2003 51144\r\n",
        "-rw-r--r--  1 antigen  staff   609B 18 Mar  2003 51145\r\n",
        "-rw-r--r--  1 antigen  staff   631B 18 Mar  2003 51146\r\n",
        "-rw-r--r--  1 antigen  staff   1.0K 18 Mar  2003 51147\r\n",
        "-rw-r--r--  1 antigen  staff   1.8K 18 Mar  2003 51148\r\n",
        "-rw-r--r--  1 antigen  staff   405B 18 Mar  2003 51149\r\n",
        "-rw-r--r--  1 antigen  staff   696B 18 Mar  2003 51150\r\n",
        "-rw-r--r--  1 antigen  staff   5.5K 18 Mar  2003 51151\r\n",
        "-rw-r--r--  1 antigen  staff   1.4K 18 Mar  2003 51152\r\n",
        "-rw-r--r--  1 antigen  staff   5.0K 18 Mar  2003 51153\r\n",
        "-rw-r--r--  1 antigen  staff   1.3K 18 Mar  2003 51154\r\n",
        "-rw-r--r--  1 antigen  staff   1.6K 18 Mar  2003 51155\r\n",
        "-rw-r--r--  1 antigen  staff   5.0K 18 Mar  2003 51156\r\n",
        "-rw-r--r--  1 antigen  staff   1.8K 18 Mar  2003 51157\r\n",
        "-rw-r--r--  1 antigen  staff   604B 18 Mar  2003 51158\r\n",
        "-rw-r--r--  1 antigen  staff   1.4K 18 Mar  2003 51159\r\n",
        "-rw-r--r--  1 antigen  staff   1.0K 18 Mar  2003 51160\r\n",
        "-rw-r--r--  1 antigen  staff   1.4K 18 Mar  2003 51161\r\n",
        "-rw-r--r--  1 antigen  staff   2.9K 18 Mar  2003 51162\r\n",
        "-rw-r--r--  1 antigen  staff   1.1K 18 Mar  2003 51163\r\n",
        "-rw-r--r--  1 antigen  staff   2.3K 18 Mar  2003 51164\r\n",
        "-rw-r--r--  1 antigen  staff   4.8K 18 Mar  2003 51165\r\n",
        "-rw-r--r--  1 antigen  staff   1.2K 18 Mar  2003 51169\r\n",
        "-rw-r--r--  1 antigen  staff   868B 18 Mar  2003 51170\r\n",
        "-rw-r--r--  1 antigen  staff   721B 18 Mar  2003 51171\r\n",
        "-rw-r--r--  1 antigen  staff   3.0K 18 Mar  2003 51172\r\n",
        "-rw-r--r--  1 antigen  staff   1.9K 18 Mar  2003 51173\r\n",
        "-rw-r--r--  1 antigen  staff   645B 18 Mar  2003 51174\r\n",
        "-rw-r--r--  1 antigen  staff   2.4K 18 Mar  2003 51175\r\n",
        "-rw-r--r--  1 antigen  staff   2.9K 18 Mar  2003 51176\r\n",
        "-rw-r--r--  1 antigen  staff   1.3K 18 Mar  2003 51177\r\n",
        "-rw-r--r--  1 antigen  staff   879B 18 Mar  2003 51178\r\n",
        "-rw-r--r--  1 antigen  staff   1.3K 18 Mar  2003 51179\r\n",
        "-rw-r--r--  1 antigen  staff   994B 18 Mar  2003 51180\r\n",
        "-rw-r--r--  1 antigen  staff   1.2K 18 Mar  2003 51181\r\n",
        "-rw-r--r--  1 antigen  staff   2.2K 18 Mar  2003 51182\r\n",
        "-rw-r--r--  1 antigen  staff   1.7K 18 Mar  2003 51183\r\n",
        "-rw-r--r--  1 antigen  staff   1.0K 18 Mar  2003 51184\r\n",
        "-rw-r--r--  1 antigen  staff   1.2K 18 Mar  2003 51185\r\n",
        "-rw-r--r--  1 antigen  staff   949B 18 Mar  2003 51186\r\n",
        "-rw-r--r--  1 antigen  staff   1.9K 18 Mar  2003 51187\r\n",
        "-rw-r--r--  1 antigen  staff   1.1K 18 Mar  2003 51188\r\n",
        "-rw-r--r--  1 antigen  staff   834B 18 Mar  2003 51189\r\n",
        "-rw-r--r--  1 antigen  staff   895B 18 Mar  2003 51190\r\n",
        "-rw-r--r--  1 antigen  staff   776B 18 Mar  2003 51191\r\n",
        "-rw-r--r--  1 antigen  staff   1.6K 18 Mar  2003 51192\r\n",
        "-rw-r--r--  1 antigen  staff   1.8K 18 Mar  2003 51193\r\n",
        "-rw-r--r--  1 antigen  staff   1.4K 18 Mar  2003 51194\r\n",
        "-rw-r--r--  1 antigen  staff   964B 18 Mar  2003 51195\r\n",
        "-rw-r--r--  1 antigen  staff   2.4K 18 Mar  2003 51196\r\n",
        "-rw-r--r--  1 antigen  staff   759B 18 Mar  2003 51197\r\n",
        "-rw-r--r--  1 antigen  staff   1.5K 18 Mar  2003 51198\r\n",
        "-rw-r--r--  1 antigen  staff   1.0K 18 Mar  2003 51199\r\n",
        "-rw-r--r--  1 antigen  staff   1.9K 18 Mar  2003 51200\r\n",
        "-rw-r--r--  1 antigen  staff   916B 18 Mar  2003 51201\r\n",
        "-rw-r--r--  1 antigen  staff   1.9K 18 Mar  2003 51202\r\n",
        "-rw-r--r--  1 antigen  staff   1.5K 18 Mar  2003 51203\r\n",
        "-rw-r--r--  1 antigen  staff   846B 18 Mar  2003 51204\r\n",
        "-rw-r--r--  1 antigen  staff   1.4K 18 Mar  2003 51205\r\n",
        "-rw-r--r--  1 antigen  staff   881B 18 Mar  2003 51206\r\n",
        "-rw-r--r--  1 antigen  staff   6.2K 18 Mar  2003 51208\r\n",
        "-rw-r--r--  1 antigen  staff   1.7K 18 Mar  2003 51209\r\n",
        "-rw-r--r--  1 antigen  staff   1.7K 18 Mar  2003 51210\r\n",
        "-rw-r--r--  1 antigen  staff    10K 18 Mar  2003 51211\r\n",
        "-rw-r--r--  1 antigen  staff   2.5K 18 Mar  2003 51212\r\n",
        "-rw-r--r--  1 antigen  staff   1.6K 18 Mar  2003 51213\r\n",
        "-rw-r--r--  1 antigen  staff   636B 18 Mar  2003 51214\r\n",
        "-rw-r--r--  1 antigen  staff   989B 18 Mar  2003 51215\r\n",
        "-rw-r--r--  1 antigen  staff   668B 18 Mar  2003 51216\r\n",
        "-rw-r--r--  1 antigen  staff   2.8K 18 Mar  2003 51217\r\n",
        "-rw-r--r--  1 antigen  staff   1.7K 18 Mar  2003 51218\r\n",
        "-rw-r--r--  1 antigen  staff   905B 18 Mar  2003 51219\r\n",
        "-rw-r--r--  1 antigen  staff   2.4K 18 Mar  2003 51220\r\n",
        "-rw-r--r--  1 antigen  staff   1.0K 18 Mar  2003 51221\r\n",
        "-rw-r--r--  1 antigen  staff   1.7K 18 Mar  2003 51222\r\n",
        "-rw-r--r--  1 antigen  staff   1.0K 18 Mar  2003 51223\r\n",
        "-rw-r--r--  1 antigen  staff   2.1K 18 Mar  2003 51224\r\n",
        "-rw-r--r--  1 antigen  staff   1.5K 18 Mar  2003 51225\r\n",
        "-rw-r--r--  1 antigen  staff   3.4K 18 Mar  2003 51226\r\n",
        "-rw-r--r--  1 antigen  staff   704B 18 Mar  2003 51227\r\n",
        "-rw-r--r--  1 antigen  staff   949B 18 Mar  2003 51228\r\n",
        "-rw-r--r--  1 antigen  staff   714B 18 Mar  2003 51229\r\n",
        "-rw-r--r--  1 antigen  staff   966B 18 Mar  2003 51230\r\n",
        "-rw-r--r--  1 antigen  staff   2.9K 18 Mar  2003 51231\r\n",
        "-rw-r--r--  1 antigen  staff   871B 18 Mar  2003 51232\r\n",
        "-rw-r--r--  1 antigen  staff   1.0K 18 Mar  2003 51233\r\n",
        "-rw-r--r--  1 antigen  staff   1.5K 18 Mar  2003 51234\r\n",
        "-rw-r--r--  1 antigen  staff   2.4K 18 Mar  2003 51235\r\n",
        "-rw-r--r--  1 antigen  staff   1.2K 18 Mar  2003 51236\r\n",
        "-rw-r--r--  1 antigen  staff   564B 18 Mar  2003 51237\r\n",
        "-rw-r--r--  1 antigen  staff    11K 18 Mar  2003 51238\r\n",
        "-rw-r--r--  1 antigen  staff   1.3K 18 Mar  2003 51239\r\n",
        "-rw-r--r--  1 antigen  staff   749B 18 Mar  2003 51240\r\n",
        "-rw-r--r--  1 antigen  staff   932B 18 Mar  2003 51241\r\n",
        "-rw-r--r--  1 antigen  staff   1.2K 18 Mar  2003 51242\r\n",
        "-rw-r--r--  1 antigen  staff   2.2K 18 Mar  2003 51243\r\n",
        "-rw-r--r--  1 antigen  staff   554B 18 Mar  2003 51244\r\n",
        "-rw-r--r--  1 antigen  staff   1.3K 18 Mar  2003 51245\r\n",
        "-rw-r--r--  1 antigen  staff   1.7K 18 Mar  2003 51246\r\n",
        "-rw-r--r--  1 antigen  staff   1.7K 18 Mar  2003 51247\r\n",
        "-rw-r--r--  1 antigen  staff   1.6K 18 Mar  2003 51249\r\n",
        "-rw-r--r--  1 antigen  staff   2.8K 18 Mar  2003 51250\r\n",
        "-rw-r--r--  1 antigen  staff   570B 18 Mar  2003 51251\r\n",
        "-rw-r--r--  1 antigen  staff   1.8K 18 Mar  2003 51252\r\n",
        "-rw-r--r--  1 antigen  staff   3.1K 18 Mar  2003 51253\r\n",
        "-rw-r--r--  1 antigen  staff   2.9K 18 Mar  2003 51254\r\n",
        "-rw-r--r--  1 antigen  staff   748B 18 Mar  2003 51255\r\n",
        "-rw-r--r--  1 antigen  staff   2.3K 18 Mar  2003 51256\r\n",
        "-rw-r--r--  1 antigen  staff   1.2K 18 Mar  2003 51258\r\n",
        "-rw-r--r--  1 antigen  staff   1.7K 18 Mar  2003 51259\r\n",
        "-rw-r--r--  1 antigen  staff   6.2K 18 Mar  2003 51260\r\n",
        "-rw-r--r--  1 antigen  staff   1.6K 18 Mar  2003 51261\r\n",
        "-rw-r--r--  1 antigen  staff   1.3K 18 Mar  2003 51262\r\n",
        "-rw-r--r--  1 antigen  staff   1.2K 18 Mar  2003 51265\r\n",
        "-rw-r--r--  1 antigen  staff   456B 18 Mar  2003 51266\r\n",
        "-rw-r--r--  1 antigen  staff   816B 18 Mar  2003 51267\r\n",
        "-rw-r--r--  1 antigen  staff   2.4K 18 Mar  2003 51268\r\n",
        "-rw-r--r--  1 antigen  staff   1.0K 18 Mar  2003 51269\r\n",
        "-rw-r--r--  1 antigen  staff   3.4K 18 Mar  2003 51270\r\n",
        "-rw-r--r--  1 antigen  staff   1.3K 18 Mar  2003 51271\r\n",
        "-rw-r--r--  1 antigen  staff   2.0K 18 Mar  2003 51272\r\n",
        "-rw-r--r--  1 antigen  staff   790B 18 Mar  2003 51273\r\n",
        "-rw-r--r--  1 antigen  staff   1.6K 18 Mar  2003 51274\r\n",
        "-rw-r--r--  1 antigen  staff   2.5K 18 Mar  2003 51275\r\n",
        "-rw-r--r--  1 antigen  staff   4.4K 18 Mar  2003 51276\r\n",
        "-rw-r--r--  1 antigen  staff   1.5K 18 Mar  2003 51277\r\n",
        "-rw-r--r--  1 antigen  staff   6.2K 18 Mar  2003 51278\r\n",
        "-rw-r--r--  1 antigen  staff   963B 18 Mar  2003 51279\r\n",
        "-rw-r--r--  1 antigen  staff   2.0K 18 Mar  2003 51280\r\n",
        "-rw-r--r--  1 antigen  staff   1.1K 18 Mar  2003 51281\r\n",
        "-rw-r--r--  1 antigen  staff   618B 18 Mar  2003 51282\r\n",
        "-rw-r--r--  1 antigen  staff   2.7K 18 Mar  2003 51283\r\n",
        "-rw-r--r--  1 antigen  staff   1.0K 18 Mar  2003 51284\r\n",
        "-rw-r--r--  1 antigen  staff   1.3K 18 Mar  2003 51285\r\n",
        "-rw-r--r--  1 antigen  staff   601B 18 Mar  2003 51286\r\n",
        "-rw-r--r--  1 antigen  staff   751B 18 Mar  2003 51287\r\n",
        "-rw-r--r--  1 antigen  staff   1.3K 18 Mar  2003 51288\r\n",
        "-rw-r--r--  1 antigen  staff   8.0K 18 Mar  2003 51290\r\n",
        "-rw-r--r--  1 antigen  staff   1.0K 18 Mar  2003 51291\r\n",
        "-rw-r--r--  1 antigen  staff   2.9K 18 Mar  2003 51292\r\n",
        "-rw-r--r--  1 antigen  staff   1.2K 18 Mar  2003 51293\r\n",
        "-rw-r--r--  1 antigen  staff   1.8K 18 Mar  2003 51294\r\n",
        "-rw-r--r--  1 antigen  staff   1.9K 18 Mar  2003 51295\r\n",
        "-rw-r--r--  1 antigen  staff   1.7K 18 Mar  2003 51296\r\n",
        "-rw-r--r--  1 antigen  staff   4.2K 18 Mar  2003 51297\r\n",
        "-rw-r--r--  1 antigen  staff   2.6K 18 Mar  2003 51298\r\n",
        "-rw-r--r--  1 antigen  staff   2.2K 18 Mar  2003 51299\r\n",
        "-rw-r--r--  1 antigen  staff   2.3K 18 Mar  2003 51300\r\n",
        "-rw-r--r--  1 antigen  staff   6.3K 18 Mar  2003 51301\r\n",
        "-rw-r--r--  1 antigen  staff   1.3K 18 Mar  2003 51302\r\n",
        "-rw-r--r--  1 antigen  staff   1.9K 18 Mar  2003 51303\r\n",
        "-rw-r--r--  1 antigen  staff    10K 18 Mar  2003 51304\r\n",
        "-rw-r--r--  1 antigen  staff   1.5K 18 Mar  2003 51305\r\n",
        "-rw-r--r--  1 antigen  staff   1.4K 18 Mar  2003 51306\r\n",
        "-rw-r--r--  1 antigen  staff   4.1K 18 Mar  2003 51307\r\n",
        "-rw-r--r--  1 antigen  staff   6.2K 18 Mar  2003 51308\r\n",
        "-rw-r--r--  1 antigen  staff   1.0K 18 Mar  2003 51309\r\n",
        "-rw-r--r--  1 antigen  staff   768B 18 Mar  2003 51310\r\n",
        "-rw-r--r--  1 antigen  staff   1.0K 18 Mar  2003 51311\r\n",
        "-rw-r--r--  1 antigen  staff   930B 18 Mar  2003 51312\r\n",
        "-rw-r--r--  1 antigen  staff   771B 18 Mar  2003 51313\r\n",
        "-rw-r--r--  1 antigen  staff   670B 18 Mar  2003 51314\r\n",
        "-rw-r--r--  1 antigen  staff   1.1K 18 Mar  2003 51315\r\n",
        "-rw-r--r--  1 antigen  staff   3.7K 18 Mar  2003 51316\r\n",
        "-rw-r--r--  1 antigen  staff   406B 18 Mar  2003 51317\r\n",
        "-rw-r--r--  1 antigen  staff   5.4K 18 Mar  2003 51318\r\n",
        "-rw-r--r--  1 antigen  staff   9.6K 18 Mar  2003 51319\r\n",
        "-rw-r--r--  1 antigen  staff   2.1K 18 Mar  2003 51320\r\n",
        "-rw-r--r--  1 antigen  staff    29K 18 Mar  2003 52499\r\n",
        "-rw-r--r--  1 antigen  staff    25K 18 Mar  2003 52909\r\n",
        "-rw-r--r--  1 antigen  staff   5.8K 18 Mar  2003 52910\r\n",
        "-rw-r--r--  1 antigen  staff   819B 18 Mar  2003 53055\r\n",
        "-rw-r--r--  1 antigen  staff   857B 18 Mar  2003 53056\r\n",
        "-rw-r--r--  1 antigen  staff   755B 18 Mar  2003 53057\r\n",
        "-rw-r--r--  1 antigen  staff   4.4K 18 Mar  2003 53058\r\n",
        "-rw-r--r--  1 antigen  staff   2.1K 18 Mar  2003 53059\r\n",
        "-rw-r--r--  1 antigen  staff   1.1K 18 Mar  2003 53062\r\n",
        "-rw-r--r--  1 antigen  staff   1.6K 18 Mar  2003 53064\r\n",
        "-rw-r--r--  1 antigen  staff   515B 18 Mar  2003 53065\r\n",
        "-rw-r--r--  1 antigen  staff   9.2K 18 Mar  2003 53066\r\n",
        "-rw-r--r--  1 antigen  staff   2.4K 18 Mar  2003 53067\r\n",
        "-rw-r--r--  1 antigen  staff   610B 18 Mar  2003 53069\r\n",
        "-rw-r--r--  1 antigen  staff   759B 18 Mar  2003 53070\r\n",
        "-rw-r--r--  1 antigen  staff   2.3K 18 Mar  2003 53071\r\n",
        "-rw-r--r--  1 antigen  staff   1.5K 18 Mar  2003 53072\r\n",
        "-rw-r--r--  1 antigen  staff   1.9K 18 Mar  2003 53073\r\n",
        "-rw-r--r--  1 antigen  staff   2.1K 18 Mar  2003 53075\r\n",
        "-rw-r--r--  1 antigen  staff   411B 18 Mar  2003 53078\r\n",
        "-rw-r--r--  1 antigen  staff   1.3K 18 Mar  2003 53081\r\n",
        "-rw-r--r--  1 antigen  staff   962B 18 Mar  2003 53082\r\n",
        "-rw-r--r--  1 antigen  staff   1.3K 18 Mar  2003 53083\r\n",
        "-rw-r--r--  1 antigen  staff   2.0K 18 Mar  2003 53085\r\n",
        "-rw-r--r--  1 antigen  staff   1.1K 18 Mar  2003 53086\r\n",
        "-rw-r--r--  1 antigen  staff   247B 18 Mar  2003 53087\r\n",
        "-rw-r--r--  1 antigen  staff   3.8K 18 Mar  2003 53090\r\n",
        "-rw-r--r--  1 antigen  staff   1.1K 18 Mar  2003 53093\r\n",
        "-rw-r--r--  1 antigen  staff   1.1K 18 Mar  2003 53094\r\n",
        "-rw-r--r--  1 antigen  staff   1.0K 18 Mar  2003 53095\r\n",
        "-rw-r--r--  1 antigen  staff   863B 18 Mar  2003 53096\r\n",
        "-rw-r--r--  1 antigen  staff   1.1K 18 Mar  2003 53097\r\n",
        "-rw-r--r--  1 antigen  staff   1.2K 18 Mar  2003 53098\r\n",
        "-rw-r--r--  1 antigen  staff   1.1K 18 Mar  2003 53099\r\n",
        "-rw-r--r--  1 antigen  staff   2.0K 18 Mar  2003 53106\r\n",
        "-rw-r--r--  1 antigen  staff   784B 18 Mar  2003 53108\r\n",
        "-rw-r--r--  1 antigen  staff   2.3K 18 Mar  2003 53110\r\n",
        "-rw-r--r--  1 antigen  staff   712B 18 Mar  2003 53111\r\n",
        "-rw-r--r--  1 antigen  staff   2.4K 18 Mar  2003 53112\r\n",
        "-rw-r--r--  1 antigen  staff   2.6K 18 Mar  2003 53113\r\n",
        "-rw-r--r--  1 antigen  staff   1.7K 18 Mar  2003 53114\r\n",
        "-rw-r--r--  1 antigen  staff   1.5K 18 Mar  2003 53117\r\n",
        "-rw-r--r--  1 antigen  staff   2.8K 18 Mar  2003 53118\r\n",
        "-rw-r--r--  1 antigen  staff   4.1K 18 Mar  2003 53120\r\n",
        "-rw-r--r--  1 antigen  staff   1.8K 18 Mar  2003 53121\r\n",
        "-rw-r--r--  1 antigen  staff   2.4K 18 Mar  2003 53122\r\n",
        "-rw-r--r--  1 antigen  staff   1.2K 18 Mar  2003 53123\r\n",
        "-rw-r--r--  1 antigen  staff   3.4K 18 Mar  2003 53124\r\n",
        "-rw-r--r--  1 antigen  staff   1.8K 18 Mar  2003 53125\r\n",
        "-rw-r--r--  1 antigen  staff   1.2K 18 Mar  2003 53126\r\n",
        "-rw-r--r--  1 antigen  staff   826B 18 Mar  2003 53127\r\n",
        "-rw-r--r--  1 antigen  staff   958B 18 Mar  2003 53130\r\n",
        "-rw-r--r--  1 antigen  staff   1.5K 18 Mar  2003 53131\r\n",
        "-rw-r--r--  1 antigen  staff   1.0K 18 Mar  2003 53132\r\n",
        "-rw-r--r--  1 antigen  staff   640B 18 Mar  2003 53133\r\n",
        "-rw-r--r--  1 antigen  staff   1.3K 18 Mar  2003 53134\r\n",
        "-rw-r--r--  1 antigen  staff   2.1K 18 Mar  2003 53135\r\n",
        "-rw-r--r--  1 antigen  staff   4.2K 18 Mar  2003 53136\r\n",
        "-rw-r--r--  1 antigen  staff   4.8K 18 Mar  2003 53137\r\n",
        "-rw-r--r--  1 antigen  staff   1.3K 18 Mar  2003 53139\r\n",
        "-rw-r--r--  1 antigen  staff   3.0K 18 Mar  2003 53140\r\n",
        "-rw-r--r--  1 antigen  staff   2.1K 18 Mar  2003 53141\r\n",
        "-rw-r--r--  1 antigen  staff   456B 18 Mar  2003 53142\r\n",
        "-rw-r--r--  1 antigen  staff   760B 18 Mar  2003 53143\r\n",
        "-rw-r--r--  1 antigen  staff   768B 18 Mar  2003 53144\r\n",
        "-rw-r--r--  1 antigen  staff   1.0K 18 Mar  2003 53145\r\n",
        "-rw-r--r--  1 antigen  staff   1.2K 18 Mar  2003 53149\r\n",
        "-rw-r--r--  1 antigen  staff   2.1K 18 Mar  2003 53150\r\n",
        "-rw-r--r--  1 antigen  staff   1.3K 18 Mar  2003 53151\r\n",
        "-rw-r--r--  1 antigen  staff   1.9K 18 Mar  2003 53153\r\n",
        "-rw-r--r--  1 antigen  staff   1.2K 18 Mar  2003 53154\r\n",
        "-rw-r--r--  1 antigen  staff   1.2K 18 Mar  2003 53157\r\n",
        "-rw-r--r--  1 antigen  staff   2.0K 18 Mar  2003 53158\r\n",
        "-rw-r--r--  1 antigen  staff   819B 18 Mar  2003 53159\r\n",
        "-rw-r--r--  1 antigen  staff   1.9K 18 Mar  2003 53160\r\n",
        "-rw-r--r--  1 antigen  staff   3.5K 18 Mar  2003 53161\r\n",
        "-rw-r--r--  1 antigen  staff   1.5K 18 Mar  2003 53162\r\n",
        "-rw-r--r--  1 antigen  staff   1.9K 18 Mar  2003 53163\r\n",
        "-rw-r--r--  1 antigen  staff   2.2K 18 Mar  2003 53164\r\n",
        "-rw-r--r--  1 antigen  staff   1.1K 18 Mar  2003 53165\r\n",
        "-rw-r--r--  1 antigen  staff   684B 18 Mar  2003 53166\r\n",
        "-rw-r--r--  1 antigen  staff   443B 18 Mar  2003 53167\r\n",
        "-rw-r--r--  1 antigen  staff   1.2K 18 Mar  2003 53168\r\n",
        "-rw-r--r--  1 antigen  staff   1.4K 18 Mar  2003 53170\r\n",
        "-rw-r--r--  1 antigen  staff   2.5K 18 Mar  2003 53171\r\n",
        "-rw-r--r--  1 antigen  staff   785B 18 Mar  2003 53172\r\n",
        "-rw-r--r--  1 antigen  staff   1.1K 18 Mar  2003 53173\r\n",
        "-rw-r--r--  1 antigen  staff   1.3K 18 Mar  2003 53174\r\n",
        "-rw-r--r--  1 antigen  staff   737B 18 Mar  2003 53175\r\n",
        "-rw-r--r--  1 antigen  staff   1.3K 18 Mar  2003 53176\r\n",
        "-rw-r--r--  1 antigen  staff   1.8K 18 Mar  2003 53177\r\n",
        "-rw-r--r--  1 antigen  staff   2.2K 18 Mar  2003 53178\r\n",
        "-rw-r--r--  1 antigen  staff   1.6K 18 Mar  2003 53179\r\n",
        "-rw-r--r--  1 antigen  staff   2.1K 18 Mar  2003 53180\r\n",
        "-rw-r--r--  1 antigen  staff   3.2K 18 Mar  2003 53181\r\n",
        "-rw-r--r--  1 antigen  staff   1.2K 18 Mar  2003 53182\r\n",
        "-rw-r--r--  1 antigen  staff   1.4K 18 Mar  2003 53183\r\n",
        "-rw-r--r--  1 antigen  staff   1.7K 18 Mar  2003 53184\r\n",
        "-rw-r--r--  1 antigen  staff   2.6K 18 Mar  2003 53185\r\n",
        "-rw-r--r--  1 antigen  staff   3.0K 18 Mar  2003 53186\r\n",
        "-rw-r--r--  1 antigen  staff   665B 18 Mar  2003 53187\r\n",
        "-rw-r--r--  1 antigen  staff   2.0K 18 Mar  2003 53188\r\n",
        "-rw-r--r--  1 antigen  staff   1.3K 18 Mar  2003 53190\r\n",
        "-rw-r--r--  1 antigen  staff   1.9K 18 Mar  2003 53191\r\n",
        "-rw-r--r--  1 antigen  staff   1.8K 18 Mar  2003 53192\r\n",
        "-rw-r--r--  1 antigen  staff   1.4K 18 Mar  2003 53193\r\n",
        "-rw-r--r--  1 antigen  staff   792B 18 Mar  2003 53194\r\n",
        "-rw-r--r--  1 antigen  staff   2.0K 18 Mar  2003 53195\r\n",
        "-rw-r--r--  1 antigen  staff   1.6K 18 Mar  2003 53196\r\n",
        "-rw-r--r--  1 antigen  staff   2.6K 18 Mar  2003 53197\r\n",
        "-rw-r--r--  1 antigen  staff   1.1K 18 Mar  2003 53198\r\n",
        "-rw-r--r--  1 antigen  staff   1.4K 18 Mar  2003 53199\r\n",
        "-rw-r--r--  1 antigen  staff   1.3K 18 Mar  2003 53201\r\n",
        "-rw-r--r--  1 antigen  staff   1.3K 18 Mar  2003 53203\r\n",
        "-rw-r--r--  1 antigen  staff   3.7K 18 Mar  2003 53208\r\n",
        "-rw-r--r--  1 antigen  staff   1.1K 18 Mar  2003 53209\r\n",
        "-rw-r--r--  1 antigen  staff   1.5K 18 Mar  2003 53210\r\n",
        "-rw-r--r--  1 antigen  staff   2.7K 18 Mar  2003 53211\r\n",
        "-rw-r--r--  1 antigen  staff   1.4K 18 Mar  2003 53212\r\n",
        "-rw-r--r--  1 antigen  staff   2.3K 18 Mar  2003 53213\r\n",
        "-rw-r--r--  1 antigen  staff   1.9K 18 Mar  2003 53214\r\n",
        "-rw-r--r--  1 antigen  staff   919B 18 Mar  2003 53215\r\n",
        "-rw-r--r--  1 antigen  staff   868B 18 Mar  2003 53216\r\n",
        "-rw-r--r--  1 antigen  staff   2.3K 18 Mar  2003 53217\r\n",
        "-rw-r--r--  1 antigen  staff   1.0K 18 Mar  2003 53218\r\n",
        "-rw-r--r--  1 antigen  staff   1.1K 18 Mar  2003 53219\r\n",
        "-rw-r--r--  1 antigen  staff   640B 18 Mar  2003 53220\r\n",
        "-rw-r--r--  1 antigen  staff   1.1K 18 Mar  2003 53221\r\n",
        "-rw-r--r--  1 antigen  staff   2.0K 18 Mar  2003 53222\r\n",
        "-rw-r--r--  1 antigen  staff   2.0K 18 Mar  2003 53223\r\n",
        "-rw-r--r--  1 antigen  staff   3.4K 18 Mar  2003 53224\r\n",
        "-rw-r--r--  1 antigen  staff   808B 18 Mar  2003 53225\r\n",
        "-rw-r--r--  1 antigen  staff   1.0K 18 Mar  2003 53226\r\n",
        "-rw-r--r--  1 antigen  staff   640B 18 Mar  2003 53228\r\n",
        "-rw-r--r--  1 antigen  staff   856B 18 Mar  2003 53229\r\n",
        "-rw-r--r--  1 antigen  staff   967B 18 Mar  2003 53230\r\n",
        "-rw-r--r--  1 antigen  staff   781B 18 Mar  2003 53231\r\n",
        "-rw-r--r--  1 antigen  staff   1.2K 18 Mar  2003 53232\r\n",
        "-rw-r--r--  1 antigen  staff   2.2K 18 Mar  2003 53235\r\n",
        "-rw-r--r--  1 antigen  staff   1.7K 18 Mar  2003 53237\r\n",
        "-rw-r--r--  1 antigen  staff   2.2K 18 Mar  2003 53238\r\n",
        "-rw-r--r--  1 antigen  staff   2.4K 18 Mar  2003 53239\r\n",
        "-rw-r--r--  1 antigen  staff   1.2K 18 Mar  2003 53240\r\n",
        "-rw-r--r--  1 antigen  staff   1.3K 18 Mar  2003 53243\r\n",
        "-rw-r--r--  1 antigen  staff   1.3K 18 Mar  2003 53248\r\n",
        "-rw-r--r--  1 antigen  staff   1.4K 18 Mar  2003 53249\r\n",
        "-rw-r--r--  1 antigen  staff   1.8K 18 Mar  2003 53250\r\n",
        "-rw-r--r--  1 antigen  staff   1.5K 18 Mar  2003 53251\r\n",
        "-rw-r--r--  1 antigen  staff   1.4K 18 Mar  2003 53252\r\n",
        "-rw-r--r--  1 antigen  staff   1.2K 18 Mar  2003 53256\r\n",
        "-rw-r--r--  1 antigen  staff   806B 18 Mar  2003 53258\r\n",
        "-rw-r--r--  1 antigen  staff   4.2K 18 Mar  2003 53266\r\n",
        "-rw-r--r--  1 antigen  staff   3.5K 18 Mar  2003 53267\r\n",
        "-rw-r--r--  1 antigen  staff   1.8K 18 Mar  2003 53269\r\n",
        "-rw-r--r--  1 antigen  staff   3.2K 18 Mar  2003 53271\r\n",
        "-rw-r--r--  1 antigen  staff   1.3K 18 Mar  2003 53274\r\n",
        "-rw-r--r--  1 antigen  staff   2.1K 18 Mar  2003 53275\r\n",
        "-rw-r--r--  1 antigen  staff   2.0K 18 Mar  2003 53281\r\n",
        "-rw-r--r--  1 antigen  staff   958B 18 Mar  2003 53282\r\n",
        "-rw-r--r--  1 antigen  staff   3.2K 18 Mar  2003 53283\r\n",
        "-rw-r--r--  1 antigen  staff   872B 18 Mar  2003 53284\r\n",
        "-rw-r--r--  1 antigen  staff   387B 18 Mar  2003 53285\r\n",
        "-rw-r--r--  1 antigen  staff   3.1K 18 Mar  2003 53286\r\n",
        "-rw-r--r--  1 antigen  staff   3.5K 18 Mar  2003 53287\r\n",
        "-rw-r--r--  1 antigen  staff   2.6K 18 Mar  2003 53288\r\n",
        "-rw-r--r--  1 antigen  staff   956B 18 Mar  2003 53289\r\n",
        "-rw-r--r--  1 antigen  staff   1.6K 18 Mar  2003 53290\r\n",
        "-rw-r--r--  1 antigen  staff    10K 18 Mar  2003 53292\r\n",
        "-rw-r--r--  1 antigen  staff   5.4K 18 Mar  2003 53298\r\n",
        "-rw-r--r--  1 antigen  staff   945B 18 Mar  2003 53303\r\n",
        "-rw-r--r--  1 antigen  staff   1.2K 18 Mar  2003 53304\r\n",
        "-rw-r--r--  1 antigen  staff   1.5K 18 Mar  2003 53305\r\n",
        "-rw-r--r--  1 antigen  staff   1.4K 18 Mar  2003 53306\r\n",
        "-rw-r--r--  1 antigen  staff   590B 18 Mar  2003 53307\r\n",
        "-rw-r--r--  1 antigen  staff   663B 18 Mar  2003 53308\r\n",
        "-rw-r--r--  1 antigen  staff   907B 18 Mar  2003 53309\r\n",
        "-rw-r--r--  1 antigen  staff   1.0K 18 Mar  2003 53311\r\n",
        "-rw-r--r--  1 antigen  staff   1.5K 18 Mar  2003 53312\r\n",
        "-rw-r--r--  1 antigen  staff   576B 18 Mar  2003 53314\r\n",
        "-rw-r--r--  1 antigen  staff    15K 18 Mar  2003 53323\r\n",
        "-rw-r--r--  1 antigen  staff   1.0K 18 Mar  2003 53334\r\n",
        "-rw-r--r--  1 antigen  staff   783B 18 Mar  2003 53347\r\n",
        "-rw-r--r--  1 antigen  staff   5.8K 18 Mar  2003 53351\r\n",
        "-rw-r--r--  1 antigen  staff   1.6K 18 Mar  2003 53366\r\n",
        "-rw-r--r--  1 antigen  staff   698B 18 Mar  2003 53370\r\n",
        "-rw-r--r--  1 antigen  staff   600B 18 Mar  2003 53371\r\n",
        "-rw-r--r--  1 antigen  staff   5.6K 18 Mar  2003 53373\r\n",
        "-rw-r--r--  1 antigen  staff   1.8K 18 Mar  2003 53374\r\n",
        "-rw-r--r--  1 antigen  staff   1.1K 18 Mar  2003 53375\r\n",
        "-rw-r--r--  1 antigen  staff   849B 18 Mar  2003 53376\r\n",
        "-rw-r--r--  1 antigen  staff   621B 18 Mar  2003 53377\r\n",
        "-rw-r--r--  1 antigen  staff   270B 18 Mar  2003 53380\r\n",
        "-rw-r--r--  1 antigen  staff   1.1K 18 Mar  2003 53381\r\n",
        "-rw-r--r--  1 antigen  staff   2.2K 18 Mar  2003 53382\r\n",
        "-rw-r--r--  1 antigen  staff   1.6K 18 Mar  2003 53383\r\n",
        "-rw-r--r--  1 antigen  staff   1.6K 18 Mar  2003 53387\r\n",
        "-rw-r--r--  1 antigen  staff   759B 18 Mar  2003 53389\r\n",
        "-rw-r--r--  1 antigen  staff   396B 18 Mar  2003 53390\r\n",
        "-rw-r--r--  1 antigen  staff   669B 18 Mar  2003 53391\r\n",
        "-rw-r--r--  1 antigen  staff   1.8K 18 Mar  2003 53434\r\n",
        "-rw-r--r--  1 antigen  staff   1.6K 18 Mar  2003 53435\r\n",
        "-rw-r--r--  1 antigen  staff   708B 18 Mar  2003 53436\r\n",
        "-rw-r--r--  1 antigen  staff   887B 18 Mar  2003 53437\r\n",
        "-rw-r--r--  1 antigen  staff   838B 18 Mar  2003 53438\r\n",
        "-rw-r--r--  1 antigen  staff   1.4K 18 Mar  2003 53439\r\n",
        "-rw-r--r--  1 antigen  staff   1.3K 18 Mar  2003 53440\r\n",
        "-rw-r--r--  1 antigen  staff   384B 18 Mar  2003 53441\r\n",
        "-rw-r--r--  1 antigen  staff   857B 18 Mar  2003 53442\r\n",
        "-rw-r--r--  1 antigen  staff   1.6K 18 Mar  2003 53443\r\n",
        "-rw-r--r--  1 antigen  staff   1.4K 18 Mar  2003 53445\r\n",
        "-rw-r--r--  1 antigen  staff   1.3K 18 Mar  2003 53449\r\n",
        "-rw-r--r--  1 antigen  staff   2.4K 18 Mar  2003 53459\r\n",
        "-rw-r--r--  1 antigen  staff   1.4K 18 Mar  2003 53460\r\n",
        "-rw-r--r--  1 antigen  staff   1.0K 18 Mar  2003 53465\r\n",
        "-rw-r--r--  1 antigen  staff   1.3K 18 Mar  2003 53466\r\n",
        "-rw-r--r--  1 antigen  staff   1.0K 18 Mar  2003 53467\r\n",
        "-rw-r--r--  1 antigen  staff   1.4K 18 Mar  2003 53468\r\n",
        "-rw-r--r--  1 antigen  staff   1.1K 18 Mar  2003 53471\r\n",
        "-rw-r--r--  1 antigen  staff   1.9K 18 Mar  2003 53477\r\n",
        "-rw-r--r--  1 antigen  staff   718B 18 Mar  2003 53478\r\n",
        "-rw-r--r--  1 antigen  staff   781B 18 Mar  2003 53483\r\n",
        "-rw-r--r--  1 antigen  staff   1.6K 18 Mar  2003 53509\r\n",
        "-rw-r--r--  1 antigen  staff   910B 18 Mar  2003 53510\r\n",
        "-rw-r--r--  1 antigen  staff   781B 18 Mar  2003 53512\r\n",
        "-rw-r--r--  1 antigen  staff   1.8K 18 Mar  2003 53515\r\n",
        "-rw-r--r--  1 antigen  staff   2.1K 18 Mar  2003 53518\r\n",
        "-rw-r--r--  1 antigen  staff    50K 18 Mar  2003 53519\r\n",
        "-rw-r--r--  1 antigen  staff   6.0K 18 Mar  2003 53521\r\n",
        "-rw-r--r--  1 antigen  staff   1.0K 18 Mar  2003 53522\r\n",
        "-rw-r--r--  1 antigen  staff   2.8K 18 Mar  2003 53523\r\n",
        "-rw-r--r--  1 antigen  staff   338B 18 Mar  2003 53524\r\n",
        "-rw-r--r--  1 antigen  staff   1.4K 18 Mar  2003 53525\r\n",
        "-rw-r--r--  1 antigen  staff   489B 18 Mar  2003 53526\r\n",
        "-rw-r--r--  1 antigen  staff   2.6K 18 Mar  2003 53527\r\n",
        "-rw-r--r--  1 antigen  staff   2.4K 18 Mar  2003 53528\r\n",
        "-rw-r--r--  1 antigen  staff   228B 18 Mar  2003 53529\r\n",
        "-rw-r--r--  1 antigen  staff   1.1K 18 Mar  2003 53531\r\n",
        "-rw-r--r--  1 antigen  staff   1.3K 18 Mar  2003 53532\r\n",
        "-rw-r--r--  1 antigen  staff   1.2K 18 Mar  2003 53533\r\n",
        "-rw-r--r--  1 antigen  staff   356B 18 Mar  2003 53534\r\n",
        "-rw-r--r--  1 antigen  staff   614B 18 Mar  2003 53535\r\n",
        "-rw-r--r--  1 antigen  staff   895B 18 Mar  2003 53571\r\n",
        "-rw-r--r--  1 antigen  staff   1.0K 18 Mar  2003 53572\r\n",
        "-rw-r--r--  1 antigen  staff   697B 18 Mar  2003 53573\r\n",
        "-rw-r--r--  1 antigen  staff   1.0K 18 Mar  2003 53574\r\n",
        "-rw-r--r--  1 antigen  staff   1.8K 18 Mar  2003 53654\r\n",
        "-rw-r--r--  1 antigen  staff   2.3K 18 Mar  2003 53655\r\n",
        "-rw-r--r--  1 antigen  staff   2.5K 18 Mar  2003 53656\r\n",
        "-rw-r--r--  1 antigen  staff   2.1K 18 Mar  2003 53660\r\n",
        "-rw-r--r--  1 antigen  staff   6.8K 18 Mar  2003 53661\r\n",
        "-rw-r--r--  1 antigen  staff   1.8K 18 Mar  2003 53753\r\n",
        "-rw-r--r--  1 antigen  staff   698B 18 Mar  2003 53754\r\n",
        "-rw-r--r--  1 antigen  staff   779B 18 Mar  2003 53755\r\n",
        "-rw-r--r--  1 antigen  staff   3.9K 18 Mar  2003 53756\r\n",
        "-rw-r--r--  1 antigen  staff   1.3K 18 Mar  2003 53757\r\n",
        "-rw-r--r--  1 antigen  staff   2.2K 18 Mar  2003 53758\r\n",
        "-rw-r--r--  1 antigen  staff   745B 18 Mar  2003 53759\r\n",
        "-rw-r--r--  1 antigen  staff   1.9K 18 Mar  2003 53760\r\n",
        "-rw-r--r--  1 antigen  staff   592B 18 Mar  2003 53761\r\n",
        "-rw-r--r--  1 antigen  staff   658B 18 Mar  2003 53762\r\n",
        "-rw-r--r--  1 antigen  staff   756B 18 Mar  2003 53763\r\n",
        "-rw-r--r--  1 antigen  staff   2.7K 18 Mar  2003 53764\r\n",
        "-rw-r--r--  1 antigen  staff   1.1K 18 Mar  2003 53765\r\n",
        "-rw-r--r--  1 antigen  staff   906B 18 Mar  2003 53766\r\n",
        "-rw-r--r--  1 antigen  staff   535B 18 Mar  2003 53780\r\n",
        "-rw-r--r--  1 antigen  staff   1.3K 18 Mar  2003 53785\r\n",
        "-rw-r--r--  1 antigen  staff   2.3K 18 Mar  2003 54165\r\n",
        "-rw-r--r--  1 antigen  staff   2.8K 18 Mar  2003 54166\r\n",
        "-rw-r--r--  1 antigen  staff   547B 18 Mar  2003 54167\r\n",
        "-rw-r--r--  1 antigen  staff   2.4K 18 Mar  2003 54168\r\n",
        "-rw-r--r--  1 antigen  staff   4.7K 18 Mar  2003 54178\r\n",
        "-rw-r--r--  1 antigen  staff   1.8K 18 Mar  2003 54179\r\n",
        "-rw-r--r--  1 antigen  staff   4.4K 18 Mar  2003 54180\r\n",
        "-rw-r--r--  1 antigen  staff   1.3K 18 Mar  2003 54181\r\n",
        "-rw-r--r--  1 antigen  staff   3.0K 18 Mar  2003 54182\r\n",
        "-rw-r--r--  1 antigen  staff   1.4K 18 Mar  2003 54198\r\n",
        "-rw-r--r--  1 antigen  staff   1.8K 18 Mar  2003 54199\r\n",
        "-rw-r--r--  1 antigen  staff   2.5K 18 Mar  2003 54200\r\n",
        "-rw-r--r--  1 antigen  staff   1.7K 18 Mar  2003 54201\r\n",
        "-rw-r--r--  1 antigen  staff   1.0K 18 Mar  2003 54202\r\n",
        "-rw-r--r--  1 antigen  staff   1.2K 18 Mar  2003 54203\r\n",
        "-rw-r--r--  1 antigen  staff   565B 18 Mar  2003 54204\r\n",
        "-rw-r--r--  1 antigen  staff   641B 18 Mar  2003 54227\r\n",
        "-rw-r--r--  1 antigen  staff   1.0K 18 Mar  2003 54228\r\n",
        "-rw-r--r--  1 antigen  staff   877B 18 Mar  2003 54470\r\n",
        "-rw-r--r--  1 antigen  staff   1.0K 18 Mar  2003 54471\r\n",
        "-rw-r--r--  1 antigen  staff   993B 18 Mar  2003 54472\r\n",
        "-rw-r--r--  1 antigen  staff   434B 18 Mar  2003 54473\r\n"
       ]
      }
     ],
     "prompt_number": 5
    },
    {
     "cell_type": "markdown",
     "metadata": {},
     "source": [
      "The `load_files` function can load text files from a 2 levels folder structure assuming folder names represent categories:"
     ]
    },
    {
     "cell_type": "code",
     "collapsed": false,
     "input": [
      "#print(load_files.__doc__)"
     ],
     "language": "python",
     "metadata": {},
     "outputs": [],
     "prompt_number": 6
    },
    {
     "cell_type": "code",
     "collapsed": false,
     "input": [
      "all_twenty_train = load_files('../datasets/20news-bydate-train/',\n",
      "  charset='latin-1', random_state=42)\n",
      "all_twenty_test = load_files('../datasets/20news-bydate-test/',\n",
      "    charset='latin-1', random_state=42)"
     ],
     "language": "python",
     "metadata": {},
     "outputs": [],
     "prompt_number": 7
    },
    {
     "cell_type": "code",
     "collapsed": false,
     "input": [
      "all_target_names = all_twenty_train.target_names\n",
      "all_target_names"
     ],
     "language": "python",
     "metadata": {},
     "outputs": [
      {
       "output_type": "pyout",
       "prompt_number": 8,
       "text": [
        "['alt.atheism',\n",
        " 'comp.graphics',\n",
        " 'comp.os.ms-windows.misc',\n",
        " 'comp.sys.ibm.pc.hardware',\n",
        " 'comp.sys.mac.hardware',\n",
        " 'comp.windows.x',\n",
        " 'misc.forsale',\n",
        " 'rec.autos',\n",
        " 'rec.motorcycles',\n",
        " 'rec.sport.baseball',\n",
        " 'rec.sport.hockey',\n",
        " 'sci.crypt',\n",
        " 'sci.electronics',\n",
        " 'sci.med',\n",
        " 'sci.space',\n",
        " 'soc.religion.christian',\n",
        " 'talk.politics.guns',\n",
        " 'talk.politics.mideast',\n",
        " 'talk.politics.misc',\n",
        " 'talk.religion.misc']"
       ]
      }
     ],
     "prompt_number": 8
    },
    {
     "cell_type": "code",
     "collapsed": false,
     "input": [
      "all_twenty_train.target"
     ],
     "language": "python",
     "metadata": {},
     "outputs": [
      {
       "output_type": "pyout",
       "prompt_number": 9,
       "text": [
        "array([12,  6,  9, ...,  9,  1, 12])"
       ]
      }
     ],
     "prompt_number": 9
    },
    {
     "cell_type": "code",
     "collapsed": false,
     "input": [
      "all_twenty_train.target.shape"
     ],
     "language": "python",
     "metadata": {},
     "outputs": [
      {
       "output_type": "pyout",
       "prompt_number": 10,
       "text": [
        "(11314,)"
       ]
      }
     ],
     "prompt_number": 10
    },
    {
     "cell_type": "code",
     "collapsed": false,
     "input": [
      "all_twenty_test.target.shape"
     ],
     "language": "python",
     "metadata": {},
     "outputs": [
      {
       "output_type": "pyout",
       "prompt_number": 11,
       "text": [
        "(7532,)"
       ]
      }
     ],
     "prompt_number": 11
    },
    {
     "cell_type": "code",
     "collapsed": false,
     "input": [
      "len(all_twenty_train.data)"
     ],
     "language": "python",
     "metadata": {},
     "outputs": [
      {
       "output_type": "pyout",
       "prompt_number": 12,
       "text": [
        "11314"
       ]
      }
     ],
     "prompt_number": 12
    },
    {
     "cell_type": "code",
     "collapsed": false,
     "input": [
      "type(all_twenty_train.data[0])"
     ],
     "language": "python",
     "metadata": {},
     "outputs": [
      {
       "output_type": "pyout",
       "prompt_number": 13,
       "text": [
        "unicode"
       ]
      }
     ],
     "prompt_number": 13
    },
    {
     "cell_type": "code",
     "collapsed": false,
     "input": [
      "def display_sample(i, dataset):\n",
      "    print(\"Class name: \" + dataset.target_names[dataset.target[i]])\n",
      "    print(\"Text content:\\n\")\n",
      "    print(dataset.data[i])"
     ],
     "language": "python",
     "metadata": {},
     "outputs": [],
     "prompt_number": 14
    },
    {
     "cell_type": "code",
     "collapsed": false,
     "input": [
      "display_sample(0, all_twenty_train)"
     ],
     "language": "python",
     "metadata": {},
     "outputs": [
      {
       "output_type": "stream",
       "stream": "stdout",
       "text": [
        "Class name: sci.electronics\n",
        "Text content:\n",
        "\n",
        "From: wtm@uhura.neoucom.edu (Bill Mayhew)\n",
        "Subject: Re: How to the disks copy protected.\n",
        "Organization: Northeastern Ohio Universities College of Medicine\n",
        "Lines: 23\n",
        "\n",
        "Write a good manual to go with the software.  The hassle of\n",
        "photocopying the manual is offset by simplicity of purchasing\n",
        "the package for only $15.  Also, consider offering an inexpensive\n",
        "but attractive perc for registered users.  For instance, a coffee\n",
        "mug.  You could produce and mail the incentive for a couple of\n",
        "dollars, so consider pricing the product at $17.95.\n",
        "\n",
        "You're lucky if only 20% of the instances of your program in use\n",
        "are non-licensed users.\n",
        "\n",
        "The best approach is to estimate your loss and accomodate that into\n",
        "your price structure.  Sure it hurts legitimate users, but too bad.\n",
        "Retailers have to charge off loss to shoplifters onto paying\n",
        "customers; the software industry is the same.\n",
        "\n",
        "Unless your product is exceptionally unique, using an ostensibly\n",
        "copy-proof disk will just send your customers to the competetion.\n",
        "\n",
        "\n",
        "-- \n",
        "Bill Mayhew      NEOUCOM Computer Services Department\n",
        "Rootstown, OH  44272-9995  USA    phone: 216-325-2511\n",
        "wtm@uhura.neoucom.edu (140.220.1.1)    146.580: N8WED\n",
        "\n"
       ]
      }
     ],
     "prompt_number": 15
    },
    {
     "cell_type": "code",
     "collapsed": false,
     "input": [
      "display_sample(1, all_twenty_train)"
     ],
     "language": "python",
     "metadata": {},
     "outputs": [
      {
       "output_type": "stream",
       "stream": "stdout",
       "text": [
        "Class name: misc.forsale\n",
        "Text content:\n",
        "\n",
        "From: andy@SAIL.Stanford.EDU (Andy Freeman)\n",
        "Subject: Re: Catalog of Hard-to-Find PC Enhancements (Repost)\n",
        "Organization: Computer Science Department,  Stanford University.\n",
        "Lines: 33\n",
        "\n",
        ">andy@SAIL.Stanford.EDU (Andy Freeman) writes:\n",
        ">> >In article <C5ELME.4z4@unix.portal.com> jdoll@shell.portal.com (Joe Doll) wr\n",
        ">> >>   \"The Catalog of Personal Computing Tools for Engineers and Scien-\n",
        ">> >>   tists\" lists hardware cards and application software packages for \n",
        ">> >>   PC/XT/AT/PS/2 class machines.  Focus is on engineering and scien-\n",
        ">> >>   tific applications of PCs, such as data acquisition/control, \n",
        ">> >>   design automation, and data analysis and presentation.  \n",
        ">> >\n",
        ">> >>   If you would like a free copy, reply with your (U. S. Postal) \n",
        ">> >>   mailing address.\n",
        ">> \n",
        ">> Don't bother - it never comes.  It's a cheap trick for building a\n",
        ">> mailing list to sell if my junk mail flow is any indication.\n",
        ">> \n",
        ">> -andy sent his address months ago\n",
        ">\n",
        ">Perhaps we can get Portal to nuke this weasal.  I never received a \n",
        ">catalog either.  If that person doesn't respond to a growing flame, then \n",
        ">we can assume that we'yall look forward to lotsa junk mail.\n",
        "\n",
        "I don't want him nuked, I want him to be honest.  The junk mail has\n",
        "been much more interesting than the promised catalog.  If I'd known\n",
        "what I was going to get, I wouldn't have hesitated.  I wouldn't be\n",
        "surprised if there were other folks who looked at the ad and said\n",
        "\"nope\" but who would be very interested in the junk mail that results.\n",
        "Similarly, there are people who wanted the advertised catalog who\n",
        "aren't happy with the junk they got instead.\n",
        "\n",
        "The folks buying the mailing lists would prefer an honest ad, and\n",
        "so would the people reading it.\n",
        "\n",
        "-andy\n",
        "--\n",
        "\n"
       ]
      }
     ],
     "prompt_number": 16
    },
    {
     "cell_type": "markdown",
     "metadata": {},
     "source": [
      "Let's compute the (uncompressed, in-memory) size of the training and test sets in MB assuming an 8 bit encoding (in this case, all chars can be encoded using the latin-1 charset)."
     ]
    },
    {
     "cell_type": "code",
     "collapsed": false,
     "input": [
      "def text_size(text, charset='iso-8859-1'):\n",
      "    return len(text.encode(charset)) * 8 * 1e-6\n",
      "\n",
      "train_size_mb = sum(text_size(text) for text in all_twenty_train.data) \n",
      "test_size_mb = sum(text_size(text) for text in all_twenty_test.data)\n",
      "\n",
      "print(\"Training set size: {0} MB\".format(int(train_size_mb)))\n",
      "print(\"Testing set size: {0} MB\".format(int(test_size_mb)))"
     ],
     "language": "python",
     "metadata": {},
     "outputs": [
      {
       "output_type": "stream",
       "stream": "stdout",
       "text": [
        "Training set size: 176 MB\n",
        "Testing set size: 110 MB\n"
       ]
      }
     ],
     "prompt_number": 17
    },
    {
     "cell_type": "markdown",
     "metadata": {},
     "source": [
      "If we only consider a small subset of the 4 categories selected from the initial example:"
     ]
    },
    {
     "cell_type": "code",
     "collapsed": false,
     "input": [
      "train_small_size_mb = sum(text_size(text) for text in twenty_train_small.data) \n",
      "test_small_size_mb = sum(text_size(text) for text in twenty_test_small.data)\n",
      "\n",
      "print(\"Training set size: {0} MB\".format(int(train_small_size_mb)))\n",
      "print(\"Testing set size: {0} MB\".format(int(test_small_size_mb)))"
     ],
     "language": "python",
     "metadata": {},
     "outputs": [
      {
       "output_type": "stream",
       "stream": "stdout",
       "text": [
        "Training set size: 31 MB\n",
        "Testing set size: 22 MB\n"
       ]
      }
     ],
     "prompt_number": 18
    },
    {
     "cell_type": "heading",
     "level": 3,
     "metadata": {},
     "source": [
      "Extracting Text Features"
     ]
    },
    {
     "cell_type": "code",
     "collapsed": false,
     "input": [
      "from sklearn.feature_extraction.text import TfidfVectorizer\n",
      "\n",
      "TfidfVectorizer()"
     ],
     "language": "python",
     "metadata": {},
     "outputs": [
      {
       "output_type": "pyout",
       "prompt_number": 19,
       "text": [
        "TfidfVectorizer(analyzer='word', binary=False, charset='utf-8',\n",
        "        charset_error='strict', dtype=<type 'long'>, input='content',\n",
        "        lowercase=True, max_df=1.0, max_features=None, max_n=None,\n",
        "        min_df=2, min_n=None, ngram_range=(1, 1), norm='l2',\n",
        "        preprocessor=None, smooth_idf=True, stop_words=None,\n",
        "        strip_accents=None, sublinear_tf=False,\n",
        "        token_pattern=u'(?u)\\\\b\\\\w\\\\w+\\\\b', tokenizer=None, use_idf=True,\n",
        "        vocabulary=None)"
       ]
      }
     ],
     "prompt_number": 19
    },
    {
     "cell_type": "code",
     "collapsed": false,
     "input": [
      "vectorizer = TfidfVectorizer(min_df=1)\n",
      "\n",
      "%time X_train_small = vectorizer.fit_transform(twenty_train_small.data)"
     ],
     "language": "python",
     "metadata": {},
     "outputs": [
      {
       "output_type": "stream",
       "stream": "stdout",
       "text": [
        "CPU times: user 3.07 s, sys: 0.09 s, total: 3.16 s\n",
        "Wall time: 3.64 s\n"
       ]
      }
     ],
     "prompt_number": 20
    },
    {
     "cell_type": "markdown",
     "metadata": {},
     "source": [
      "The results is not a `numpy.array` but instead a `scipy.sparse` matrix. This datastructure is quite similar to a 2D numpy array but it does not store the zeros."
     ]
    },
    {
     "cell_type": "code",
     "collapsed": false,
     "input": [
      "X_train_small"
     ],
     "language": "python",
     "metadata": {},
     "outputs": [
      {
       "output_type": "pyout",
       "prompt_number": 21,
       "text": [
        "<2034x34118 sparse matrix of type '<type 'numpy.float64'>'\n",
        "\twith 323433 stored elements in Compressed Sparse Row format>"
       ]
      }
     ],
     "prompt_number": 21
    },
    {
     "cell_type": "markdown",
     "metadata": {},
     "source": [
      "scipy.sparse matrices also have a shape attribute to access the dimensions:"
     ]
    },
    {
     "cell_type": "code",
     "collapsed": false,
     "input": [
      "n_samples, n_features = X_train_small.shape"
     ],
     "language": "python",
     "metadata": {},
     "outputs": [],
     "prompt_number": 22
    },
    {
     "cell_type": "markdown",
     "metadata": {},
     "source": [
      "This dataset has around 2000 samples (the rows of the data matrix):"
     ]
    },
    {
     "cell_type": "code",
     "collapsed": false,
     "input": [
      "n_samples"
     ],
     "language": "python",
     "metadata": {},
     "outputs": [
      {
       "output_type": "pyout",
       "prompt_number": 23,
       "text": [
        "2034"
       ]
      }
     ],
     "prompt_number": 23
    },
    {
     "cell_type": "markdown",
     "metadata": {},
     "source": [
      "This is the same value as the number of strings in the original list of text documents:"
     ]
    },
    {
     "cell_type": "code",
     "collapsed": false,
     "input": [
      "len(twenty_train_small.data)"
     ],
     "language": "python",
     "metadata": {},
     "outputs": [
      {
       "output_type": "pyout",
       "prompt_number": 24,
       "text": [
        "2034"
       ]
      }
     ],
     "prompt_number": 24
    },
    {
     "cell_type": "markdown",
     "metadata": {},
     "source": [
      "The columns represent the individual token occurrences:"
     ]
    },
    {
     "cell_type": "code",
     "collapsed": false,
     "input": [
      "n_features"
     ],
     "language": "python",
     "metadata": {},
     "outputs": [
      {
       "output_type": "pyout",
       "prompt_number": 25,
       "text": [
        "34118"
       ]
      }
     ],
     "prompt_number": 25
    },
    {
     "cell_type": "markdown",
     "metadata": {},
     "source": [
      "This number is the size of the vocabulary of the model extracted during fit in a Python dictionary:"
     ]
    },
    {
     "cell_type": "code",
     "collapsed": false,
     "input": [
      "type(vectorizer.vocabulary_)"
     ],
     "language": "python",
     "metadata": {},
     "outputs": [
      {
       "output_type": "pyout",
       "prompt_number": 26,
       "text": [
        "dict"
       ]
      }
     ],
     "prompt_number": 26
    },
    {
     "cell_type": "code",
     "collapsed": false,
     "input": [
      "len(vectorizer.vocabulary_)"
     ],
     "language": "python",
     "metadata": {},
     "outputs": [
      {
       "output_type": "pyout",
       "prompt_number": 27,
       "text": [
        "34118"
       ]
      }
     ],
     "prompt_number": 27
    },
    {
     "cell_type": "markdown",
     "metadata": {},
     "source": [
      "The keys of the `vocabulary_` attribute are also called feature names and can be accessed as a list of strings."
     ]
    },
    {
     "cell_type": "code",
     "collapsed": false,
     "input": [
      "len(vectorizer.get_feature_names())"
     ],
     "language": "python",
     "metadata": {},
     "outputs": [
      {
       "output_type": "pyout",
       "prompt_number": 28,
       "text": [
        "34118"
       ]
      }
     ],
     "prompt_number": 28
    },
    {
     "cell_type": "markdown",
     "metadata": {},
     "source": [
      "Here are the first 10 elements (sorted in lexicographical order):"
     ]
    },
    {
     "cell_type": "code",
     "collapsed": false,
     "input": [
      "vectorizer.get_feature_names()[:10]"
     ],
     "language": "python",
     "metadata": {},
     "outputs": [
      {
       "output_type": "pyout",
       "prompt_number": 29,
       "text": [
        "[u'00',\n",
        " u'000',\n",
        " u'0000',\n",
        " u'00000',\n",
        " u'000000',\n",
        " u'000005102000',\n",
        " u'000021',\n",
        " u'000062david42',\n",
        " u'0000vec',\n",
        " u'0001']"
       ]
      }
     ],
     "prompt_number": 29
    },
    {
     "cell_type": "markdown",
     "metadata": {},
     "source": [
      "Let's have a look at the features from the middle:"
     ]
    },
    {
     "cell_type": "code",
     "collapsed": false,
     "input": [
      "vectorizer.get_feature_names()[n_features / 2:n_features / 2 + 10]"
     ],
     "language": "python",
     "metadata": {},
     "outputs": [
      {
       "output_type": "pyout",
       "prompt_number": 30,
       "text": [
        "[u'inadequate',\n",
        " u'inala',\n",
        " u'inalienable',\n",
        " u'inane',\n",
        " u'inanimate',\n",
        " u'inapplicable',\n",
        " u'inappropriate',\n",
        " u'inappropriately',\n",
        " u'inaudible',\n",
        " u'inbreeding']"
       ]
      }
     ],
     "prompt_number": 30
    },
    {
     "cell_type": "markdown",
     "metadata": {},
     "source": [
      "Now that we have extracted a vector representation of the data, it's a good idea to project the data on the first 2D of a Principal Component Analysis to get a feel of the data. Note that the `RandomizedPCA` class can accept `scipy.sparse` matrices as input (as an alternative to numpy arrays):"
     ]
    },
    {
     "cell_type": "code",
     "collapsed": false,
     "input": [
      "from sklearn.decomposition import RandomizedPCA\n",
      "\n",
      "%time X_train_small_pca = RandomizedPCA(n_components=2).fit_transform(X_train_small)"
     ],
     "language": "python",
     "metadata": {},
     "outputs": [
      {
       "output_type": "stream",
       "stream": "stdout",
       "text": [
        "CPU times: user 0.16 s, sys: 0.02 s, total: 0.18 s\n",
        "Wall time: 0.19 s\n"
       ]
      }
     ],
     "prompt_number": 31
    },
    {
     "cell_type": "code",
     "collapsed": false,
     "input": [
      "from itertools import cycle\n",
      "\n",
      "colors = ['b', 'g', 'r', 'c', 'm', 'y', 'k']\n",
      "for i, c in zip(np.unique(y_train), cycle(colors)):\n",
      "    pl.scatter(X_train_small_pca[y_train == i, 0],\n",
      "               X_train_small_pca[y_train == i, 1],\n",
      "               c=c, label=twenty_train_small.target_names[i], alpha=0.5)\n",
      "    \n",
      "#_ = pl.legend(loc='best')"
     ],
     "language": "python",
     "metadata": {},
     "outputs": [
      {
       "output_type": "display_data",
       "png": "[encoded data removed]"
      }
     ],
     "prompt_number": 33
    },
    {
     "cell_type": "markdown",
     "metadata": {},
     "source": [
      "We can observe that there is a large overlap of the samples from different categories. This is to be expected as the PCA linear projection projects data from a 34118 dimensional space down to 2 dimensions: data that is linearly separable in 34118D is often no longer linearly separable in 2D.\n",
      "    \n",
      "Still we can notice an interesting pattern: the newsgroups on religion and atheism occupy the much the same region and computer graphics and space science / space overlap more together than they do with the religion or atheism newsgroups."
     ]
    },
    {
     "cell_type": "heading",
     "level": 3,
     "metadata": {},
     "source": [
      "Training a Classifier on Text Features"
     ]
    },
    {
     "cell_type": "markdown",
     "metadata": {},
     "source": [
      "We have previously extracted a vector representation of the training corpus and put it into a variable name `X_train_small`. To train a supervised model, in this case a classifier, we also need "
     ]
    },
    {
     "cell_type": "code",
     "collapsed": false,
     "input": [
      "y_train_small = twenty_train_small.target"
     ],
     "language": "python",
     "metadata": {},
     "outputs": [],
     "prompt_number": 34
    },
    {
     "cell_type": "code",
     "collapsed": false,
     "input": [
      "y_train_small.shape"
     ],
     "language": "python",
     "metadata": {},
     "outputs": [
      {
       "output_type": "pyout",
       "prompt_number": 35,
       "text": [
        "(2034,)"
       ]
      }
     ],
     "prompt_number": 35
    },
    {
     "cell_type": "code",
     "collapsed": false,
     "input": [
      "y_train_small"
     ],
     "language": "python",
     "metadata": {},
     "outputs": [
      {
       "output_type": "pyout",
       "prompt_number": 36,
       "text": [
        "array([1, 2, 2, ..., 2, 1, 1])"
       ]
      }
     ],
     "prompt_number": 36
    },
    {
     "cell_type": "markdown",
     "metadata": {},
     "source": [
      "We can shape that we have the same number of samples for the input data and the labels:"
     ]
    },
    {
     "cell_type": "code",
     "collapsed": false,
     "input": [
      "X_train_small.shape[0] == y_train_small.shape[0]"
     ],
     "language": "python",
     "metadata": {},
     "outputs": [
      {
       "output_type": "pyout",
       "prompt_number": 37,
       "text": [
        "True"
       ]
      }
     ],
     "prompt_number": 37
    },
    {
     "cell_type": "markdown",
     "metadata": {},
     "source": [
      "We can now train a classifier, for instance a Multinomial Naive Bayesian classifier:"
     ]
    },
    {
     "cell_type": "code",
     "collapsed": false,
     "input": [
      "from sklearn.naive_bayes import MultinomialNB\n",
      "\n",
      "clf = MultinomialNB(alpha=0.1)\n",
      "clf"
     ],
     "language": "python",
     "metadata": {},
     "outputs": [
      {
       "output_type": "pyout",
       "prompt_number": 38,
       "text": [
        "MultinomialNB(alpha=0.1, fit_prior=True)"
       ]
      }
     ],
     "prompt_number": 38
    },
    {
     "cell_type": "code",
     "collapsed": false,
     "input": [
      "clf.fit(X_train_small, y_train_small)"
     ],
     "language": "python",
     "metadata": {},
     "outputs": [
      {
       "output_type": "pyout",
       "prompt_number": 39,
       "text": [
        "MultinomialNB(alpha=0.1, fit_prior=True)"
       ]
      }
     ],
     "prompt_number": 39
    },
    {
     "cell_type": "markdown",
     "metadata": {},
     "source": [
      "We can now evaluate the classifier on the testing set. Let's first use the builtin score function, which is the rate of correct classification in the test set:"
     ]
    },
    {
     "cell_type": "code",
     "collapsed": false,
     "input": [
      "X_test_small = vectorizer.transform(twenty_test_small.data)\n",
      "y_test_small = twenty_test_small.target"
     ],
     "language": "python",
     "metadata": {},
     "outputs": [],
     "prompt_number": 40
    },
    {
     "cell_type": "code",
     "collapsed": false,
     "input": [
      "X_test_small.shape"
     ],
     "language": "python",
     "metadata": {},
     "outputs": [
      {
       "output_type": "pyout",
       "prompt_number": 41,
       "text": [
        "(1353, 34118)"
       ]
      }
     ],
     "prompt_number": 41
    },
    {
     "cell_type": "code",
     "collapsed": false,
     "input": [
      "y_test_small.shape"
     ],
     "language": "python",
     "metadata": {},
     "outputs": [
      {
       "output_type": "pyout",
       "prompt_number": 42,
       "text": [
        "(1353,)"
       ]
      }
     ],
     "prompt_number": 42
    },
    {
     "cell_type": "code",
     "collapsed": false,
     "input": [
      "clf.score(X_test_small, y_test_small)"
     ],
     "language": "python",
     "metadata": {},
     "outputs": [
      {
       "output_type": "pyout",
       "prompt_number": 43,
       "text": [
        "0.89652623798965259"
       ]
      }
     ],
     "prompt_number": 43
    },
    {
     "cell_type": "markdown",
     "metadata": {},
     "source": [
      "We can also compute the score on the test set and observe that the model is both overfitting and underfitting a bit at the same time:"
     ]
    },
    {
     "cell_type": "code",
     "collapsed": false,
     "input": [
      "clf.score(X_train_small, y_train_small)"
     ],
     "language": "python",
     "metadata": {},
     "outputs": [
      {
       "output_type": "pyout",
       "prompt_number": 44,
       "text": [
        "0.99262536873156337"
       ]
      }
     ],
     "prompt_number": 44
    },
    {
     "cell_type": "heading",
     "level": 3,
     "metadata": {},
     "source": [
      "Introspecting the Behavior of the Text Vectorizer"
     ]
    },
    {
     "cell_type": "markdown",
     "metadata": {},
     "source": [
      "The text vectorizer has many parameters to customize it's behavior, in particular how it extracts tokens:"
     ]
    },
    {
     "cell_type": "code",
     "collapsed": false,
     "input": [
      "TfidfVectorizer()"
     ],
     "language": "python",
     "metadata": {},
     "outputs": [
      {
       "output_type": "pyout",
       "prompt_number": 45,
       "text": [
        "TfidfVectorizer(analyzer='word', binary=False, charset='utf-8',\n",
        "        charset_error='strict', dtype=<type 'long'>, input='content',\n",
        "        lowercase=True, max_df=1.0, max_features=None, max_n=None,\n",
        "        min_df=2, min_n=None, ngram_range=(1, 1), norm='l2',\n",
        "        preprocessor=None, smooth_idf=True, stop_words=None,\n",
        "        strip_accents=None, sublinear_tf=False,\n",
        "        token_pattern=u'(?u)\\\\b\\\\w\\\\w+\\\\b', tokenizer=None, use_idf=True,\n",
        "        vocabulary=None)"
       ]
      }
     ],
     "prompt_number": 45
    },
    {
     "cell_type": "code",
     "collapsed": false,
     "input": [
      "print(TfidfVectorizer.__doc__)"
     ],
     "language": "python",
     "metadata": {},
     "outputs": [
      {
       "output_type": "stream",
       "stream": "stdout",
       "text": [
        "Convert a collection of raw documents to a matrix of TF-IDF features.\n",
        "\n",
        "    Equivalent to CountVectorizer followed by TfidfTransformer.\n",
        "\n",
        "    Parameters\n",
        "    ----------\n",
        "    input: string {'filename', 'file', 'content'}\n",
        "        If filename, the sequence passed as an argument to fit is\n",
        "        expected to be a list of filenames that need reading to fetch\n",
        "        the raw content to analyze.\n",
        "\n",
        "        If 'file', the sequence items must have 'read' method (file-like\n",
        "        object) it is called to fetch the bytes in memory.\n",
        "\n",
        "        Otherwise the input is expected to be the sequence strings or\n",
        "        bytes items are expected to be analyzed directly.\n",
        "\n",
        "    charset: string, 'utf-8' by default.\n",
        "        If bytes or files are given to analyze, this charset is used to\n",
        "        decode.\n",
        "\n",
        "    charset_error: {'strict', 'ignore', 'replace'}\n",
        "        Instruction on what to do if a byte sequence is given to analyze that\n",
        "        contains characters not of the given `charset`. By default, it is\n",
        "        'strict', meaning that a UnicodeDecodeError will be raised. Other\n",
        "        values are 'ignore' and 'replace'.\n",
        "\n",
        "    strip_accents: {'ascii', 'unicode', None}\n",
        "        Remove accents during the preprocessing step.\n",
        "        'ascii' is a fast method that only works on characters that have\n",
        "        an direct ASCII mapping.\n",
        "        'unicode' is a slightly slower method that works on any characters.\n",
        "        None (default) does nothing.\n",
        "\n",
        "    analyzer: string, {'word', 'char'} or callable\n",
        "        Whether the feature should be made of word or character n-grams.\n",
        "\n",
        "        If a callable is passed it is used to extract the sequence of features\n",
        "        out of the raw, unprocessed input.\n",
        "\n",
        "    preprocessor: callable or None (default)\n",
        "        Override the preprocessing (string transformation) stage while\n",
        "        preserving the tokenizing and n-grams generation steps.\n",
        "\n",
        "    tokenizer: callable or None (default)\n",
        "        Override the string tokenization step while preserving the\n",
        "        preprocessing and n-grams generation steps.\n",
        "\n",
        "\n",
        "    ngram_range: tuple (min_n, max_n)\n",
        "        The lower and upper boundary of the range of n-values for different\n",
        "        n-grams to be extracted. All values of n such that min_n <= n <= max_n\n",
        "        will be used.\n",
        "\n",
        "    stop_words: string {'english'}, list, or None (default)\n",
        "        If a string, it is passed to _check_stop_list and the appropriate stop\n",
        "        list is returned is currently the only\n",
        "        supported string value.\n",
        "\n",
        "        If a list, that list is assumed to contain stop words, all of which\n",
        "        will be removed from the resulting tokens.\n",
        "\n",
        "        If None, no stop words will be used. max_df can be set to a value\n",
        "        in the range [0.7, 1.0) to automatically detect and filter stop\n",
        "        words based on intra corpus document frequency of terms.\n",
        "\n",
        "    lowercase: boolean, default True\n",
        "        Convert all characters to lowercase befor tokenizing.\n",
        "\n",
        "    token_pattern: string\n",
        "        Regular expression denoting what constitutes a \"token\", only used\n",
        "        if `tokenize == 'word'`. The default regexp select tokens of 2\n",
        "        or more letters characters (punctuation is completely ignored\n",
        "        and always treated as a token separator).\n",
        "\n",
        "    max_df : float in range [0.0, 1.0] or int, optional, 1.0 by default\n",
        "        When building the vocabulary ignore terms that have a term frequency\n",
        "        strictly higher than the given threshold (corpus specific stop words).\n",
        "        If float, the parameter represents a proportion of documents, integer\n",
        "        absolute counts.\n",
        "        This parameter is ignored if vocabulary is not None.\n",
        "\n",
        "    min_df : float in range [0.0, 1.0] or int, optional, 2 by default\n",
        "        When building the vocabulary ignore terms that have a term frequency\n",
        "        strictly lower than the given threshold.\n",
        "        This value is also called cut-off in the literature.\n",
        "        If float, the parameter represents a proportion of documents, integer\n",
        "        absolute counts.\n",
        "        This parameter is ignored if vocabulary is not None.\n",
        "\n",
        "    max_features : optional, None by default\n",
        "        If not None, build a vocabulary that only consider the top\n",
        "        max_features ordered by term frequency across the corpus.\n",
        "\n",
        "        This parameter is ignored if vocabulary is not None.\n",
        "\n",
        "    vocabulary: Mapping or iterable, optional\n",
        "        Either a Mapping (e.g., a dict) where keys are terms and values are\n",
        "        indices in the feature matrix, or an iterable over terms. If not\n",
        "        given, a vocabulary is determined from the input documents.\n",
        "\n",
        "    binary: boolean, False by default.\n",
        "        If True, all non zero counts are set to 1. This is useful for discrete\n",
        "        probabilistic models that model binary events rather than integer\n",
        "        counts.\n",
        "\n",
        "    dtype: type, optional\n",
        "        Type of the matrix returned by fit_transform() or transform().\n",
        "\n",
        "    norm : 'l1', 'l2' or None, optional\n",
        "        Norm used to normalize term vectors. None for no normalization.\n",
        "\n",
        "    use_idf : boolean, optional\n",
        "        Enable inverse-document-frequency reweighting.\n",
        "\n",
        "    smooth_idf : boolean, optional\n",
        "        Smooth idf weights by adding one to document frequencies, as if an\n",
        "        extra document was seen containing every term in the collection\n",
        "        exactly once. Prevents zero divisions.\n",
        "\n",
        "    sublinear_tf : boolean, optional\n",
        "        Apply sublinear tf scaling, i.e. replace tf with 1 + log(tf).\n",
        "\n",
        "    See also\n",
        "    --------\n",
        "    CountVectorizer\n",
        "        Tokenize the documents and count the occurrences of token and return\n",
        "        them as a sparse matrix\n",
        "\n",
        "    TfidfTransformer\n",
        "        Apply Term Frequency Inverse Document Frequency normalization to a\n",
        "        sparse matrix of occurrence counts.\n",
        "\n",
        "    \n"
       ]
      }
     ],
     "prompt_number": 46
    },
    {
     "cell_type": "markdown",
     "metadata": {},
     "source": [
      "The easiest way to introspect what the vectorizer is actually doing for a given test of parameters is call the `vectorizer.build_analyzer()` to get an instance of the text analyzer it uses to process the text:"
     ]
    },
    {
     "cell_type": "code",
     "collapsed": false,
     "input": [
      "analyzer = TfidfVectorizer().build_analyzer()\n",
      "analyzer(\"I love scikit-learn: this is a cool Python lib!\")"
     ],
     "language": "python",
     "metadata": {},
     "outputs": [
      {
       "output_type": "pyout",
       "prompt_number": 47,
       "text": [
        "[u'love', u'scikit', u'learn', u'this', u'is', u'cool', u'python', u'lib']"
       ]
      }
     ],
     "prompt_number": 47
    },
    {
     "cell_type": "markdown",
     "metadata": {},
     "source": [
      "You can notice that all the tokens are lowercase, that the single letter word \"I\" was dropped, and that hyphenation is used. Let's change some of that default behavior:"
     ]
    },
    {
     "cell_type": "code",
     "collapsed": false,
     "input": [
      "analyzer = TfidfVectorizer(\n",
      "    preprocessor=lambda text: text,  # disable lowercasing\n",
      "    token_pattern=ur'(?u)\\b[\\w-]+\\b', # treat hyphen as a letter\n",
      "                                      # do not exclude single letter tokens\n",
      ").build_analyzer()\n",
      "\n",
      "analyzer(\"I love scikit-learn: this is a cool Python lib!\")"
     ],
     "language": "python",
     "metadata": {},
     "outputs": [
      {
       "output_type": "pyout",
       "prompt_number": 48,
       "text": [
        "[u'I',\n",
        " u'love',\n",
        " u'scikit-learn',\n",
        " u'this',\n",
        " u'is',\n",
        " u'a',\n",
        " u'cool',\n",
        " u'Python',\n",
        " u'lib']"
       ]
      }
     ],
     "prompt_number": 48
    },
    {
     "cell_type": "markdown",
     "metadata": {},
     "source": [
      "The analyzer name comes from the Lucene parlance: it wraps the sequential application of:\n",
      "\n",
      "- text preprocessing (processing the text documents as a whole, e.g. lowercasing)\n",
      "- text tokenization (splitting the document into a sequence of tokens)\n",
      "- token filtering and recombination (e.g. n-grams extraction, see later)\n",
      "\n",
      "The analyzer system of scikit-learn is much more basic than lucene's though."
     ]
    },
    {
     "cell_type": "markdown",
     "metadata": {},
     "source": [
      "**Exercise**:\n",
      "\n",
      "- Write a pre-processor callable (e.g. a python function) to remove the headers of the text a newsgroup post.\n",
      "- Vectorize the data again and measure the impact on performance of removing the header info from the dataset.\n",
      "- Do you expect the performance of the model to improve or decrease? What is the score of a uniform random classifier on the same dataset?\n",
      "\n",
      "Hint: the `TfidfVectorizer` class can accept python functions to customize the `preprocessor`, `tokenizer` or `analyzer` stages of the vectorizer.\n",
      "    \n",
      "- type `TfidfVectorizer()` alone in a cell to see the default value of the parameters\n",
      "\n",
      "- type `TfidfVectorizer.__doc__` to print the constructor parameters doc or `?` suffix operator on a any Python class or method to read the docstring or even the `??` operator to read the source code."
     ]
    },
    {
     "cell_type": "code",
     "collapsed": false,
     "input": [],
     "language": "python",
     "metadata": {},
     "outputs": []
    },
    {
     "cell_type": "heading",
     "level": 2,
     "metadata": {},
     "source": [
      "Model Selection of the Naive Bayes Classifier Parameter Alone"
     ]
    },
    {
     "cell_type": "markdown",
     "metadata": {},
     "source": [
      "The `MultinomialNB` class is a good baseline classifier for text as it's fast and has few parameters to tweak:"
     ]
    },
    {
     "cell_type": "code",
     "collapsed": false,
     "input": [
      "MultinomialNB()"
     ],
     "language": "python",
     "metadata": {},
     "outputs": [
      {
       "output_type": "pyout",
       "prompt_number": 49,
       "text": [
        "MultinomialNB(alpha=1.0, fit_prior=True)"
       ]
      }
     ],
     "prompt_number": 49
    },
    {
     "cell_type": "code",
     "collapsed": false,
     "input": [
      "print(MultinomialNB.__doc__)"
     ],
     "language": "python",
     "metadata": {},
     "outputs": [
      {
       "output_type": "stream",
       "stream": "stdout",
       "text": [
        "\n",
        "    Naive Bayes classifier for multinomial models\n",
        "\n",
        "    The multinomial Naive Bayes classifier is suitable for classification with\n",
        "    discrete features (e.g., word counts for text classification). The\n",
        "    multinomial distribution normally requires integer feature counts. However,\n",
        "    in practice, fractional counts such as tf-idf may also work.\n",
        "\n",
        "    Parameters\n",
        "    ----------\n",
        "    alpha: float, optional (default=1.0)\n",
        "        Additive (Laplace/Lidstone) smoothing parameter\n",
        "        (0 for no smoothing).\n",
        "    fit_prior: boolean\n",
        "        Whether to learn class prior probabilities or not.\n",
        "        If false, a uniform prior will be used.\n",
        "\n",
        "    Attributes\n",
        "    ----------\n",
        "    `intercept_`, `class_log_prior_` : array, shape = [n_classes]\n",
        "        Smoothed empirical log probability for each class.\n",
        "\n",
        "    `feature_log_prob_`, `coef_` : array, shape = [n_classes, n_features]\n",
        "        Empirical log probability of features\n",
        "        given a class, P(x_i|y).\n",
        "\n",
        "        (`intercept_` and `coef_` are properties\n",
        "        referring to `class_log_prior_` and\n",
        "        `feature_log_prob_`, respectively.)\n",
        "\n",
        "    Examples\n",
        "    --------\n",
        "    >>> import numpy as np\n",
        "    >>> X = np.random.randint(5, size=(6, 100))\n",
        "    >>> Y = np.array([1, 2, 3, 4, 5, 6])\n",
        "    >>> from sklearn.naive_bayes import MultinomialNB\n",
        "    >>> clf = MultinomialNB()\n",
        "    >>> clf.fit(X, Y)\n",
        "    MultinomialNB(alpha=1.0, fit_prior=True)\n",
        "    >>> print(clf.predict(X[2]))\n",
        "    [3]\n",
        "\n",
        "    Notes\n",
        "    -----\n",
        "    For the rationale behind the names `coef_` and `intercept_`, i.e.\n",
        "    naive Bayes as a linear classifier, see J. Rennie et al. (2003),\n",
        "    Tackling the poor assumptions of naive Bayes text classifiers, ICML.\n",
        "    \n"
       ]
      }
     ],
     "prompt_number": 50
    },
    {
     "cell_type": "markdown",
     "metadata": {},
     "source": [
      "By reading the doc we can see that the `alpha` parameter is a good candidate to adjust the model for the bias (underfitting) vs variance (overfitting) trade-off."
     ]
    },
    {
     "cell_type": "markdown",
     "metadata": {},
     "source": [
      "**Exercise**:\n",
      "    \n",
      "- use the `sklearn.grid_search.GridSearchCV` or the `model_selection.RandomizedGridSeach` utility function from the previous chapters to find a good value for the parameter `alpha`\n",
      "- plots the validation scores (and optionally the training scores) for each value of alpha and identify the areas where model overfitts or underfitts.\n",
      "    \n",
      "    \n",
      "Hints:\n",
      "    \n",
      "- you can search for values of alpha in the range [0.00001 - 1] using a logarithmic scale\n",
      "- `RandomizedGridSearch` also has a `launch_for_arrays` method as an alternative to `launch_for_splits` in case the CV splits have not been precomputed in advance.\n",
      "1"
     ]
    },
    {
     "cell_type": "code",
     "collapsed": false,
     "input": [],
     "language": "python",
     "metadata": {},
     "outputs": []
    },
    {
     "cell_type": "heading",
     "level": 2,
     "metadata": {},
     "source": [
      "Setting Up a Pipeline for Cross Validation and Model Selection of the Feature Extraction parameters"
     ]
    },
    {
     "cell_type": "markdown",
     "metadata": {},
     "source": [
      "The feature extraction class has many options to customize its behavior:"
     ]
    },
    {
     "cell_type": "code",
     "collapsed": false,
     "input": [
      "print(TfidfVectorizer.__doc__)"
     ],
     "language": "python",
     "metadata": {},
     "outputs": [
      {
       "output_type": "stream",
       "stream": "stdout",
       "text": [
        "Convert a collection of raw documents to a matrix of TF-IDF features.\n",
        "\n",
        "    Equivalent to CountVectorizer followed by TfidfTransformer.\n",
        "\n",
        "    Parameters\n",
        "    ----------\n",
        "    input: string {'filename', 'file', 'content'}\n",
        "        If filename, the sequence passed as an argument to fit is\n",
        "        expected to be a list of filenames that need reading to fetch\n",
        "        the raw content to analyze.\n",
        "\n",
        "        If 'file', the sequence items must have 'read' method (file-like\n",
        "        object) it is called to fetch the bytes in memory.\n",
        "\n",
        "        Otherwise the input is expected to be the sequence strings or\n",
        "        bytes items are expected to be analyzed directly.\n",
        "\n",
        "    charset: string, 'utf-8' by default.\n",
        "        If bytes or files are given to analyze, this charset is used to\n",
        "        decode.\n",
        "\n",
        "    charset_error: {'strict', 'ignore', 'replace'}\n",
        "        Instruction on what to do if a byte sequence is given to analyze that\n",
        "        contains characters not of the given `charset`. By default, it is\n",
        "        'strict', meaning that a UnicodeDecodeError will be raised. Other\n",
        "        values are 'ignore' and 'replace'.\n",
        "\n",
        "    strip_accents: {'ascii', 'unicode', None}\n",
        "        Remove accents during the preprocessing step.\n",
        "        'ascii' is a fast method that only works on characters that have\n",
        "        an direct ASCII mapping.\n",
        "        'unicode' is a slightly slower method that works on any characters.\n",
        "        None (default) does nothing.\n",
        "\n",
        "    analyzer: string, {'word', 'char'} or callable\n",
        "        Whether the feature should be made of word or character n-grams.\n",
        "\n",
        "        If a callable is passed it is used to extract the sequence of features\n",
        "        out of the raw, unprocessed input.\n",
        "\n",
        "    preprocessor: callable or None (default)\n",
        "        Override the preprocessing (string transformation) stage while\n",
        "        preserving the tokenizing and n-grams generation steps.\n",
        "\n",
        "    tokenizer: callable or None (default)\n",
        "        Override the string tokenization step while preserving the\n",
        "        preprocessing and n-grams generation steps.\n",
        "\n",
        "\n",
        "    ngram_range: tuple (min_n, max_n)\n",
        "        The lower and upper boundary of the range of n-values for different\n",
        "        n-grams to be extracted. All values of n such that min_n <= n <= max_n\n",
        "        will be used.\n",
        "\n",
        "    stop_words: string {'english'}, list, or None (default)\n",
        "        If a string, it is passed to _check_stop_list and the appropriate stop\n",
        "        list is returned is currently the only\n",
        "        supported string value.\n",
        "\n",
        "        If a list, that list is assumed to contain stop words, all of which\n",
        "        will be removed from the resulting tokens.\n",
        "\n",
        "        If None, no stop words will be used. max_df can be set to a value\n",
        "        in the range [0.7, 1.0) to automatically detect and filter stop\n",
        "        words based on intra corpus document frequency of terms.\n",
        "\n",
        "    lowercase: boolean, default True\n",
        "        Convert all characters to lowercase befor tokenizing.\n",
        "\n",
        "    token_pattern: string\n",
        "        Regular expression denoting what constitutes a \"token\", only used\n",
        "        if `tokenize == 'word'`. The default regexp select tokens of 2\n",
        "        or more letters characters (punctuation is completely ignored\n",
        "        and always treated as a token separator).\n",
        "\n",
        "    max_df : float in range [0.0, 1.0] or int, optional, 1.0 by default\n",
        "        When building the vocabulary ignore terms that have a term frequency\n",
        "        strictly higher than the given threshold (corpus specific stop words).\n",
        "        If float, the parameter represents a proportion of documents, integer\n",
        "        absolute counts.\n",
        "        This parameter is ignored if vocabulary is not None.\n",
        "\n",
        "    min_df : float in range [0.0, 1.0] or int, optional, 2 by default\n",
        "        When building the vocabulary ignore terms that have a term frequency\n",
        "        strictly lower than the given threshold.\n",
        "        This value is also called cut-off in the literature.\n",
        "        If float, the parameter represents a proportion of documents, integer\n",
        "        absolute counts.\n",
        "        This parameter is ignored if vocabulary is not None.\n",
        "\n",
        "    max_features : optional, None by default\n",
        "        If not None, build a vocabulary that only consider the top\n",
        "        max_features ordered by term frequency across the corpus.\n",
        "\n",
        "        This parameter is ignored if vocabulary is not None.\n",
        "\n",
        "    vocabulary: Mapping or iterable, optional\n",
        "        Either a Mapping (e.g., a dict) where keys are terms and values are\n",
        "        indices in the feature matrix, or an iterable over terms. If not\n",
        "        given, a vocabulary is determined from the input documents.\n",
        "\n",
        "    binary: boolean, False by default.\n",
        "        If True, all non zero counts are set to 1. This is useful for discrete\n",
        "        probabilistic models that model binary events rather than integer\n",
        "        counts.\n",
        "\n",
        "    dtype: type, optional\n",
        "        Type of the matrix returned by fit_transform() or transform().\n",
        "\n",
        "    norm : 'l1', 'l2' or None, optional\n",
        "        Norm used to normalize term vectors. None for no normalization.\n",
        "\n",
        "    use_idf : boolean, optional\n",
        "        Enable inverse-document-frequency reweighting.\n",
        "\n",
        "    smooth_idf : boolean, optional\n",
        "        Smooth idf weights by adding one to document frequencies, as if an\n",
        "        extra document was seen containing every term in the collection\n",
        "        exactly once. Prevents zero divisions.\n",
        "\n",
        "    sublinear_tf : boolean, optional\n",
        "        Apply sublinear tf scaling, i.e. replace tf with 1 + log(tf).\n",
        "\n",
        "    See also\n",
        "    --------\n",
        "    CountVectorizer\n",
        "        Tokenize the documents and count the occurrences of token and return\n",
        "        them as a sparse matrix\n",
        "\n",
        "    TfidfTransformer\n",
        "        Apply Term Frequency Inverse Document Frequency normalization to a\n",
        "        sparse matrix of occurrence counts.\n",
        "\n",
        "    \n"
       ]
      }
     ],
     "prompt_number": 51
    },
    {
     "cell_type": "markdown",
     "metadata": {},
     "source": [
      "In order to evaluate the impact of the parameters of the feature extraction one can chain a configured feature extraction and linear classifier (as an alternative to the naive Bayes model:"
     ]
    },
    {
     "cell_type": "code",
     "collapsed": false,
     "input": [
      "from sklearn.linear_model import PassiveAggressiveClassifier\n",
      "from sklearn.pipeline import Pipeline\n",
      "\n",
      "pipeline = Pipeline((\n",
      "    ('vec', TfidfVectorizer(min_df=1, max_df=0.8, use_idf=True)),\n",
      "    ('clf', PassiveAggressiveClassifier(C=1)),\n",
      "))"
     ],
     "language": "python",
     "metadata": {},
     "outputs": [],
     "prompt_number": 58
    },
    {
     "cell_type": "markdown",
     "metadata": {},
     "source": [
      "Such a pipeline can then be cross validated or even grid searched:"
     ]
    },
    {
     "cell_type": "code",
     "collapsed": false,
     "input": [
      "from sklearn.cross_validation import cross_val_score\n",
      "from scipy.stats import sem\n",
      "\n",
      "scores = cross_val_score(pipeline, twenty_train_small.data,\n",
      "                         twenty_train_small.target, cv=3, n_jobs=-1)\n",
      "scores.mean(), sem(scores)"
     ],
     "language": "python",
     "metadata": {},
     "outputs": [
      {
       "output_type": "pyout",
       "prompt_number": 59,
       "text": [
        "(0.96116027531956727, 0.0026015253796112022)"
       ]
      }
     ],
     "prompt_number": 59
    },
    {
     "cell_type": "markdown",
     "metadata": {},
     "source": [
      "For the grid search, the parameters names are prefixed with the name of the pipeline step using \"__\" as a separator:"
     ]
    },
    {
     "cell_type": "code",
     "collapsed": false,
     "input": [
      "from sklearn.grid_search import GridSearchCV\n",
      "\n",
      "parameters = {\n",
      "              \n",
      "    #'vec__min_df': [1, 2],\n",
      "    'vec__max_df': [0.8, 1.0],\n",
      "    'vec__ngrams_range': [(1, 1), (1, 2)],\n",
      "    'vec__use_idf': [True, False],\n",
      "}\n",
      "\n",
      "gs = GridSearchCV(pipeline, parameters, verbose=2, refit=False)\n",
      "_ = gs.fit(twenty_train_small.data, twenty_train_small.target)"
     ],
     "language": "python",
     "metadata": {},
     "outputs": [
      {
       "ename": "ValueError",
       "evalue": "Invalid parameter ngrams_range for estimator TfidfVectorizer",
       "output_type": "pyerr",
       "traceback": [
        "\u001b[0;31m---------------------------------------------------------------------------\u001b[0m\n\u001b[0;31mValueError\u001b[0m                                Traceback (most recent call last)",
        "\u001b[0;32m<ipython-input-60-e5c44cf5676e>\u001b[0m in \u001b[0;36m<module>\u001b[0;34m()\u001b[0m\n\u001b[1;32m     10\u001b[0m \u001b[0;34m\u001b[0m\u001b[0m\n\u001b[1;32m     11\u001b[0m \u001b[0mgs\u001b[0m \u001b[0;34m=\u001b[0m \u001b[0mGridSearchCV\u001b[0m\u001b[0;34m(\u001b[0m\u001b[0mpipeline\u001b[0m\u001b[0;34m,\u001b[0m \u001b[0mparameters\u001b[0m\u001b[0;34m,\u001b[0m \u001b[0mverbose\u001b[0m\u001b[0;34m=\u001b[0m\u001b[0;36m2\u001b[0m\u001b[0;34m,\u001b[0m \u001b[0mrefit\u001b[0m\u001b[0;34m=\u001b[0m\u001b[0mFalse\u001b[0m\u001b[0;34m)\u001b[0m\u001b[0;34m\u001b[0m\u001b[0m\n\u001b[0;32m---> 12\u001b[0;31m \u001b[0m_\u001b[0m \u001b[0;34m=\u001b[0m \u001b[0mgs\u001b[0m\u001b[0;34m.\u001b[0m\u001b[0mfit\u001b[0m\u001b[0;34m(\u001b[0m\u001b[0mtwenty_train_small\u001b[0m\u001b[0;34m.\u001b[0m\u001b[0mdata\u001b[0m\u001b[0;34m,\u001b[0m \u001b[0mtwenty_train_small\u001b[0m\u001b[0;34m.\u001b[0m\u001b[0mtarget\u001b[0m\u001b[0;34m)\u001b[0m\u001b[0;34m\u001b[0m\u001b[0m\n\u001b[0m",
        "\u001b[0;32m/Users/antigen/.virtualenvs/pandas/lib/python2.7/site-packages/sklearn/grid_search.pyc\u001b[0m in \u001b[0;36mfit\u001b[0;34m(self, X, y, **params)\u001b[0m\n\u001b[1;32m    350\u001b[0m \u001b[0;34m\u001b[0m\u001b[0m\n\u001b[1;32m    351\u001b[0m         \"\"\"\n\u001b[0;32m--> 352\u001b[0;31m         \u001b[0;32mreturn\u001b[0m \u001b[0mself\u001b[0m\u001b[0;34m.\u001b[0m\u001b[0m_fit\u001b[0m\u001b[0;34m(\u001b[0m\u001b[0mX\u001b[0m\u001b[0;34m,\u001b[0m \u001b[0my\u001b[0m\u001b[0;34m)\u001b[0m\u001b[0;34m\u001b[0m\u001b[0m\n\u001b[0m\u001b[1;32m    353\u001b[0m \u001b[0;34m\u001b[0m\u001b[0m\n\u001b[1;32m    354\u001b[0m     \u001b[0;32mdef\u001b[0m \u001b[0m_fit\u001b[0m\u001b[0;34m(\u001b[0m\u001b[0mself\u001b[0m\u001b[0;34m,\u001b[0m \u001b[0mX\u001b[0m\u001b[0;34m,\u001b[0m \u001b[0my\u001b[0m\u001b[0;34m)\u001b[0m\u001b[0;34m:\u001b[0m\u001b[0;34m\u001b[0m\u001b[0m\n",
        "\u001b[0;32m/Users/antigen/.virtualenvs/pandas/lib/python2.7/site-packages/sklearn/grid_search.pyc\u001b[0m in \u001b[0;36m_fit\u001b[0;34m(self, X, y)\u001b[0m\n\u001b[1;32m    391\u001b[0m                 \u001b[0mX\u001b[0m\u001b[0;34m,\u001b[0m \u001b[0my\u001b[0m\u001b[0;34m,\u001b[0m \u001b[0mbase_clf\u001b[0m\u001b[0;34m,\u001b[0m \u001b[0mclf_params\u001b[0m\u001b[0;34m,\u001b[0m \u001b[0mtrain\u001b[0m\u001b[0;34m,\u001b[0m \u001b[0mtest\u001b[0m\u001b[0;34m,\u001b[0m \u001b[0mself\u001b[0m\u001b[0;34m.\u001b[0m\u001b[0mloss_func\u001b[0m\u001b[0;34m,\u001b[0m\u001b[0;34m\u001b[0m\u001b[0m\n\u001b[1;32m    392\u001b[0m                 self.score_func, self.verbose, **self.fit_params)\n\u001b[0;32m--> 393\u001b[0;31m                     for clf_params in grid for train, test in cv)\n\u001b[0m\u001b[1;32m    394\u001b[0m \u001b[0;34m\u001b[0m\u001b[0m\n\u001b[1;32m    395\u001b[0m         \u001b[0;31m# Out is a list of triplet: score, estimator, n_test_samples\u001b[0m\u001b[0;34m\u001b[0m\u001b[0;34m\u001b[0m\u001b[0m\n",
        "\u001b[0;32m/Users/antigen/.virtualenvs/pandas/lib/python2.7/site-packages/sklearn/externals/joblib/parallel.pyc\u001b[0m in \u001b[0;36m__call__\u001b[0;34m(self, iterable)\u001b[0m\n\u001b[1;32m    512\u001b[0m         \u001b[0;32mtry\u001b[0m\u001b[0;34m:\u001b[0m\u001b[0;34m\u001b[0m\u001b[0m\n\u001b[1;32m    513\u001b[0m             \u001b[0;32mfor\u001b[0m \u001b[0mfunction\u001b[0m\u001b[0;34m,\u001b[0m \u001b[0margs\u001b[0m\u001b[0;34m,\u001b[0m \u001b[0mkwargs\u001b[0m \u001b[0;32min\u001b[0m \u001b[0miterable\u001b[0m\u001b[0;34m:\u001b[0m\u001b[0;34m\u001b[0m\u001b[0m\n\u001b[0;32m--> 514\u001b[0;31m                 \u001b[0mself\u001b[0m\u001b[0;34m.\u001b[0m\u001b[0mdispatch\u001b[0m\u001b[0;34m(\u001b[0m\u001b[0mfunction\u001b[0m\u001b[0;34m,\u001b[0m \u001b[0margs\u001b[0m\u001b[0;34m,\u001b[0m \u001b[0mkwargs\u001b[0m\u001b[0;34m)\u001b[0m\u001b[0;34m\u001b[0m\u001b[0m\n\u001b[0m\u001b[1;32m    515\u001b[0m \u001b[0;34m\u001b[0m\u001b[0m\n\u001b[1;32m    516\u001b[0m             \u001b[0mself\u001b[0m\u001b[0;34m.\u001b[0m\u001b[0mretrieve\u001b[0m\u001b[0;34m(\u001b[0m\u001b[0;34m)\u001b[0m\u001b[0;34m\u001b[0m\u001b[0m\n",
        "\u001b[0;32m/Users/antigen/.virtualenvs/pandas/lib/python2.7/site-packages/sklearn/externals/joblib/parallel.pyc\u001b[0m in \u001b[0;36mdispatch\u001b[0;34m(self, func, args, kwargs)\u001b[0m\n\u001b[1;32m    309\u001b[0m         \"\"\"\n\u001b[1;32m    310\u001b[0m         \u001b[0;32mif\u001b[0m \u001b[0mself\u001b[0m\u001b[0;34m.\u001b[0m\u001b[0m_pool\u001b[0m \u001b[0;32mis\u001b[0m \u001b[0mNone\u001b[0m\u001b[0;34m:\u001b[0m\u001b[0;34m\u001b[0m\u001b[0m\n\u001b[0;32m--> 311\u001b[0;31m             \u001b[0mjob\u001b[0m \u001b[0;34m=\u001b[0m \u001b[0mImmediateApply\u001b[0m\u001b[0;34m(\u001b[0m\u001b[0mfunc\u001b[0m\u001b[0;34m,\u001b[0m \u001b[0margs\u001b[0m\u001b[0;34m,\u001b[0m \u001b[0mkwargs\u001b[0m\u001b[0;34m)\u001b[0m\u001b[0;34m\u001b[0m\u001b[0m\n\u001b[0m\u001b[1;32m    312\u001b[0m             \u001b[0mindex\u001b[0m \u001b[0;34m=\u001b[0m \u001b[0mlen\u001b[0m\u001b[0;34m(\u001b[0m\u001b[0mself\u001b[0m\u001b[0;34m.\u001b[0m\u001b[0m_jobs\u001b[0m\u001b[0;34m)\u001b[0m\u001b[0;34m\u001b[0m\u001b[0m\n\u001b[1;32m    313\u001b[0m             \u001b[0;32mif\u001b[0m \u001b[0;32mnot\u001b[0m \u001b[0m_verbosity_filter\u001b[0m\u001b[0;34m(\u001b[0m\u001b[0mindex\u001b[0m\u001b[0;34m,\u001b[0m \u001b[0mself\u001b[0m\u001b[0;34m.\u001b[0m\u001b[0mverbose\u001b[0m\u001b[0;34m)\u001b[0m\u001b[0;34m:\u001b[0m\u001b[0;34m\u001b[0m\u001b[0m\n",
        "\u001b[0;32m/Users/antigen/.virtualenvs/pandas/lib/python2.7/site-packages/sklearn/externals/joblib/parallel.pyc\u001b[0m in \u001b[0;36m__init__\u001b[0;34m(self, func, args, kwargs)\u001b[0m\n\u001b[1;32m    133\u001b[0m         \u001b[0;31m# Don't delay the application, to avoid keeping the input\u001b[0m\u001b[0;34m\u001b[0m\u001b[0;34m\u001b[0m\u001b[0m\n\u001b[1;32m    134\u001b[0m         \u001b[0;31m# arguments in memory\u001b[0m\u001b[0;34m\u001b[0m\u001b[0;34m\u001b[0m\u001b[0m\n\u001b[0;32m--> 135\u001b[0;31m         \u001b[0mself\u001b[0m\u001b[0;34m.\u001b[0m\u001b[0mresults\u001b[0m \u001b[0;34m=\u001b[0m \u001b[0mfunc\u001b[0m\u001b[0;34m(\u001b[0m\u001b[0;34m*\u001b[0m\u001b[0margs\u001b[0m\u001b[0;34m,\u001b[0m \u001b[0;34m**\u001b[0m\u001b[0mkwargs\u001b[0m\u001b[0;34m)\u001b[0m\u001b[0;34m\u001b[0m\u001b[0m\n\u001b[0m\u001b[1;32m    136\u001b[0m \u001b[0;34m\u001b[0m\u001b[0m\n\u001b[1;32m    137\u001b[0m     \u001b[0;32mdef\u001b[0m \u001b[0mget\u001b[0m\u001b[0;34m(\u001b[0m\u001b[0mself\u001b[0m\u001b[0;34m)\u001b[0m\u001b[0;34m:\u001b[0m\u001b[0;34m\u001b[0m\u001b[0m\n",
        "\u001b[0;32m/Users/antigen/.virtualenvs/pandas/lib/python2.7/site-packages/sklearn/grid_search.pyc\u001b[0m in \u001b[0;36mfit_grid_point\u001b[0;34m(X, y, base_clf, clf_params, train, test, loss_func, score_func, verbose, **fit_params)\u001b[0m\n\u001b[1;32m     83\u001b[0m     \u001b[0;31m# update parameters of the classifier after a copy of its base structure\u001b[0m\u001b[0;34m\u001b[0m\u001b[0;34m\u001b[0m\u001b[0m\n\u001b[1;32m     84\u001b[0m     \u001b[0mclf\u001b[0m \u001b[0;34m=\u001b[0m \u001b[0mclone\u001b[0m\u001b[0;34m(\u001b[0m\u001b[0mbase_clf\u001b[0m\u001b[0;34m)\u001b[0m\u001b[0;34m\u001b[0m\u001b[0m\n\u001b[0;32m---> 85\u001b[0;31m     \u001b[0mclf\u001b[0m\u001b[0;34m.\u001b[0m\u001b[0mset_params\u001b[0m\u001b[0;34m(\u001b[0m\u001b[0;34m**\u001b[0m\u001b[0mclf_params\u001b[0m\u001b[0;34m)\u001b[0m\u001b[0;34m\u001b[0m\u001b[0m\n\u001b[0m\u001b[1;32m     86\u001b[0m \u001b[0;34m\u001b[0m\u001b[0m\n\u001b[1;32m     87\u001b[0m     \u001b[0;32mif\u001b[0m \u001b[0mhasattr\u001b[0m\u001b[0;34m(\u001b[0m\u001b[0mbase_clf\u001b[0m\u001b[0;34m,\u001b[0m \u001b[0;34m'kernel'\u001b[0m\u001b[0;34m)\u001b[0m \u001b[0;32mand\u001b[0m \u001b[0mhasattr\u001b[0m\u001b[0;34m(\u001b[0m\u001b[0mbase_clf\u001b[0m\u001b[0;34m.\u001b[0m\u001b[0mkernel\u001b[0m\u001b[0;34m,\u001b[0m \u001b[0;34m'__call__'\u001b[0m\u001b[0;34m)\u001b[0m\u001b[0;34m:\u001b[0m\u001b[0;34m\u001b[0m\u001b[0m\n",
        "\u001b[0;32m/Users/antigen/.virtualenvs/pandas/lib/python2.7/site-packages/sklearn/base.pyc\u001b[0m in \u001b[0;36mset_params\u001b[0;34m(self, **params)\u001b[0m\n\u001b[1;32m    229\u001b[0m                             % (name, self))\n\u001b[1;32m    230\u001b[0m                 \u001b[0msub_object\u001b[0m \u001b[0;34m=\u001b[0m \u001b[0mvalid_params\u001b[0m\u001b[0;34m[\u001b[0m\u001b[0mname\u001b[0m\u001b[0;34m]\u001b[0m\u001b[0;34m\u001b[0m\u001b[0m\n\u001b[0;32m--> 231\u001b[0;31m                 \u001b[0msub_object\u001b[0m\u001b[0;34m.\u001b[0m\u001b[0mset_params\u001b[0m\u001b[0;34m(\u001b[0m\u001b[0;34m**\u001b[0m\u001b[0;34m{\u001b[0m\u001b[0msub_name\u001b[0m\u001b[0;34m:\u001b[0m \u001b[0mvalue\u001b[0m\u001b[0;34m}\u001b[0m\u001b[0;34m)\u001b[0m\u001b[0;34m\u001b[0m\u001b[0m\n\u001b[0m\u001b[1;32m    232\u001b[0m             \u001b[0;32melse\u001b[0m\u001b[0;34m:\u001b[0m\u001b[0;34m\u001b[0m\u001b[0m\n\u001b[1;32m    233\u001b[0m                 \u001b[0;31m# simple objects case\u001b[0m\u001b[0;34m\u001b[0m\u001b[0;34m\u001b[0m\u001b[0m\n",
        "\u001b[0;32m/Users/antigen/.virtualenvs/pandas/lib/python2.7/site-packages/sklearn/base.pyc\u001b[0m in \u001b[0;36mset_params\u001b[0;34m(self, **params)\u001b[0m\n\u001b[1;32m    234\u001b[0m                 \u001b[0;32mif\u001b[0m \u001b[0;32mnot\u001b[0m \u001b[0mkey\u001b[0m \u001b[0;32min\u001b[0m \u001b[0mvalid_params\u001b[0m\u001b[0;34m:\u001b[0m\u001b[0;34m\u001b[0m\u001b[0m\n\u001b[1;32m    235\u001b[0m                     raise ValueError('Invalid parameter %s ' 'for estimator %s'\n\u001b[0;32m--> 236\u001b[0;31m                             % (key, self.__class__.__name__))\n\u001b[0m\u001b[1;32m    237\u001b[0m                 \u001b[0msetattr\u001b[0m\u001b[0;34m(\u001b[0m\u001b[0mself\u001b[0m\u001b[0;34m,\u001b[0m \u001b[0mkey\u001b[0m\u001b[0;34m,\u001b[0m \u001b[0mvalue\u001b[0m\u001b[0;34m)\u001b[0m\u001b[0;34m\u001b[0m\u001b[0m\n\u001b[1;32m    238\u001b[0m         \u001b[0;32mreturn\u001b[0m \u001b[0mself\u001b[0m\u001b[0;34m\u001b[0m\u001b[0m\n",
        "\u001b[0;31mValueError\u001b[0m: Invalid parameter ngrams_range for estimator TfidfVectorizer"
       ]
      },
      {
       "output_type": "stream",
       "stream": "stdout",
       "text": [
        "[GridSearchCV] vec__max_df=0.8, vec__use_idf=True, vec__ngrams_range=(1, 1) ....\n"
       ]
      }
     ],
     "prompt_number": 60
    },
    {
     "cell_type": "code",
     "collapsed": false,
     "input": [
      "gs.best_score_"
     ],
     "language": "python",
     "metadata": {},
     "outputs": [
      {
       "ename": "AttributeError",
       "evalue": "'GridSearchCV' object has no attribute 'best_score_'",
       "output_type": "pyerr",
       "traceback": [
        "\u001b[0;31m---------------------------------------------------------------------------\u001b[0m\n\u001b[0;31mAttributeError\u001b[0m                            Traceback (most recent call last)",
        "\u001b[0;32m<ipython-input-61-179e7fb439ec>\u001b[0m in \u001b[0;36m<module>\u001b[0;34m()\u001b[0m\n\u001b[0;32m----> 1\u001b[0;31m \u001b[0mgs\u001b[0m\u001b[0;34m.\u001b[0m\u001b[0mbest_score_\u001b[0m\u001b[0;34m\u001b[0m\u001b[0m\n\u001b[0m",
        "\u001b[0;31mAttributeError\u001b[0m: 'GridSearchCV' object has no attribute 'best_score_'"
       ]
      }
     ],
     "prompt_number": 61
    },
    {
     "cell_type": "code",
     "collapsed": false,
     "input": [
      "gs.best_params_"
     ],
     "language": "python",
     "metadata": {},
     "outputs": [
      {
       "ename": "AttributeError",
       "evalue": "'GridSearchCV' object has no attribute 'best_params_'",
       "output_type": "pyerr",
       "traceback": [
        "\u001b[0;31m---------------------------------------------------------------------------\u001b[0m\n\u001b[0;31mAttributeError\u001b[0m                            Traceback (most recent call last)",
        "\u001b[0;32m<ipython-input-62-cdd9b47fcec7>\u001b[0m in \u001b[0;36m<module>\u001b[0;34m()\u001b[0m\n\u001b[0;32m----> 1\u001b[0;31m \u001b[0mgs\u001b[0m\u001b[0;34m.\u001b[0m\u001b[0mbest_params_\u001b[0m\u001b[0;34m\u001b[0m\u001b[0m\n\u001b[0m",
        "\u001b[0;31mAttributeError\u001b[0m: 'GridSearchCV' object has no attribute 'best_params_'"
       ]
      }
     ],
     "prompt_number": 62
    },
    {
     "cell_type": "heading",
     "level": 2,
     "metadata": {},
     "source": [
      "Introspecting Model Performance"
     ]
    },
    {
     "cell_type": "heading",
     "level": 3,
     "metadata": {},
     "source": [
      "Displaying the Most Discriminative Features"
     ]
    },
    {
     "cell_type": "markdown",
     "metadata": {},
     "source": [
      "Let's fit a model on the small dataset and collect info on the fitted components:"
     ]
    },
    {
     "cell_type": "code",
     "collapsed": false,
     "input": [
      "_ = pipeline.fit(twenty_train_small.data, twenty_train_small.target)"
     ],
     "language": "python",
     "metadata": {},
     "outputs": [],
     "prompt_number": 63
    },
    {
     "cell_type": "code",
     "collapsed": false,
     "input": [
      "vec_name, vec = pipeline.steps[0]\n",
      "clf_name, clf = pipeline.steps[1]\n",
      "\n",
      "feature_names = vec.get_feature_names()\n",
      "target_names = twenty_train_small.target_names\n",
      "\n",
      "feature_weights = clf.coef_\n",
      "\n",
      "feature_weights.shape"
     ],
     "language": "python",
     "metadata": {},
     "outputs": [
      {
       "output_type": "pyout",
       "prompt_number": 64,
       "text": [
        "(4, 34109)"
       ]
      }
     ],
     "prompt_number": 64
    },
    {
     "cell_type": "markdown",
     "metadata": {},
     "source": [
      "By sorting the feature weights on the linear model and asking the vectorizer what their names is, one can get a clue on what the model did actually learn on the data:"
     ]
    },
    {
     "cell_type": "code",
     "collapsed": false,
     "input": [
      "def display_important_features(feature_names, target_names, weights, n_top=30):\n",
      "    for i, target_name in enumerate(target_names):\n",
      "        print(\"Class: \" + target_name)\n",
      "        print(\"\")\n",
      "        \n",
      "        sorted_features_indices = weights[i].argsort()[::-1]\n",
      "        \n",
      "        most_important = sorted_features_indices[:n_top]\n",
      "        print(\", \".join(\"{0}: {1:.4f}\".format(feature_names[j], weights[i, j])\n",
      "                        for j in most_important))\n",
      "        print(\"...\")\n",
      "        \n",
      "        least_important = sorted_features_indices[-n_top:]\n",
      "        print(\", \".join(\"{0}: {1:.4f}\".format(feature_names[j], weights[i, j])\n",
      "                        for j in least_important))\n",
      "        print(\"\")\n",
      "        \n",
      "display_important_features(feature_names, target_names, feature_weights)"
     ],
     "language": "python",
     "metadata": {},
     "outputs": [
      {
       "output_type": "stream",
       "stream": "stdout",
       "text": [
        "Class: alt.atheism\n",
        "\n",
        "atheism: 2.8369, atheists: 2.7697, keith: 2.6781, cobb: 2.1986, islamic: 1.7952, okcforum: 1.6646, caltech: 1.5838, rice: 1.5769, bobby: 1.5187, peace: 1.5151, freedom: 1.4775, wingate: 1.4733, tammy: 1.4702, enviroleague: 1.4619, atheist: 1.4277, psilink: 1.3985, rushdie: 1.3846, tek: 1.3809, jaeger: 1.3783, osrhe: 1.3591, bible: 1.3543, wwc: 1.3375, mangoe: 1.3324, perry: 1.3082, religion: 1.2733, benedikt: 1.2581, liar: 1.2288, lunatic: 1.2110, free: 1.2060, charley: 1.2006\n",
        "...\n",
        "good: -0.8709, dm: -0.8764, 10: -0.8786, brian: -0.8900, objective: -0.8986, deal: -0.9098, thanks: -0.9174, order: -0.9174, image: -0.9258, scic: -0.9314, force: -0.9314, useful: -0.9377, com: -0.9414, weiss: -0.9428, interested: -0.9465, use: -0.9525, buffalo: -0.9580, fbi: -0.9660, 2000: -0.9810, they: -1.0051, muhammad: -1.0165, out: -1.0520, kevin: -1.0545, org: -1.0908, morality: -1.1773, mail: -1.1945, graphics: -1.5805, christian: -1.6466, hudson: -1.6503, space: -1.8655\n",
        "\n",
        "Class: comp.graphics\n",
        "\n",
        "graphics: 4.3650, image: 2.5319, tiff: 1.9232, file: 1.8831, animation: 1.8733, 3d: 1.7270, card: 1.7127, files: 1.6637, 42: 1.6542, 3do: 1.6326, points: 1.6154, code: 1.5795, computer: 1.5767, video: 1.5549, color: 1.5069, polygon: 1.5057, windows: 1.4597, comp: 1.4421, package: 1.3865, format: 1.3183, pc: 1.2518, email: 1.2262, cview: 1.2155, hi: 1.2004, 24: 1.1909, postscript: 1.1827, virtual: 1.1706, sphere: 1.1691, looking: 1.1613, images: 1.1561\n",
        "...\n",
        "astronomy: -0.9077, are: -0.9133, who: -0.9217, bill: -0.9354, atheism: -0.9397, org: -0.9404, christian: -0.9489, funding: -0.9494, that: -0.9597, by: -0.9654, solar: -0.9708, access: -0.9722, us: -0.9907, planets: -0.9992, cmu: -1.0507, moon: -1.0730, you: -1.0802, nasa: -1.0859, dgi: -1.1009, jennise: -1.1009, writes: -1.1152, was: -1.1369, beast: -1.1597, dc: -1.2858, he: -1.3806, orbit: -1.3853, edu: -1.4121, re: -1.4396, god: -1.6422, space: -3.5582\n",
        "\n",
        "Class: sci.space\n",
        "\n",
        "space: 5.7627, orbit: 2.3450, dc: 2.0973, nasa: 2.0815, moon: 1.9315, launch: 1.8711, sci: 1.7931, alaska: 1.7344, solar: 1.6946, henry: 1.6384, pat: 1.5734, ether: 1.5178, nick: 1.4982, planets: 1.4155, dietz: 1.3681, cmu: 1.3530, aurora: 1.3106, nicho: 1.2958, funding: 1.2768, lunar: 1.2757, astronomy: 1.2595, flight: 1.2418, rockets: 1.2048, jennise: 1.1963, dgi: 1.1963, shuttle: 1.1652, spacecraft: 1.1631, sky: 1.1593, digex: 1.1247, rochester: 1.1080\n",
        "...\n",
        "any: -0.8163, computer: -0.8183, gaspra: -0.8261, bible: -0.8342, video: -0.8485, religion: -0.8640, format: -0.8682, fbi: -0.8720, com: -0.8725, card: -0.8737, cc: -0.8828, code: -0.8875, 24: -0.8883, library: -0.8904, sgi: -0.9208, halat: -0.9531, 3d: -0.9607, ___: -0.9630, points: -1.0150, tiff: -1.0278, color: -1.0560, keith: -1.0664, koresh: -1.1302, file: -1.1529, files: -1.1679, image: -1.3169, christian: -1.3767, animation: -1.4241, god: -1.7873, graphics: -2.5640\n",
        "\n",
        "Class: talk.religion.misc\n",
        "\n",
        "christian: 3.0979, hudson: 1.8959, who: 1.8842, beast: 1.8652, fbi: 1.6698, mr: 1.6386, buffalo: 1.6148, 2000: 1.5694, abortion: 1.5172, church: 1.5061, koresh: 1.4853, weiss: 1.4829, morality: 1.4750, brian: 1.4736, order: 1.4545, frank: 1.4508, biblical: 1.4123, 666: 1.3742, thyagi: 1.3520, terrorist: 1.3306, christians: 1.3202, mormons: 1.2810, amdahl: 1.2641, blood: 1.2380, freenet: 1.2299, rosicrucian: 1.2122, mitre: 1.2032, christ: 1.1982, objective: 1.1635, love: 1.1519\n",
        "...\n",
        "file: -0.9489, saturn: -0.9516, university: -0.9569, on: -0.9592, ac: -0.9685, lunatic: -0.9820, for: -0.9882, orbit: -0.9893, some: -1.0031, anyone: -1.0355, uk: -1.0703, liar: -1.0715, ibm: -1.0965, wwc: -1.1029, thanks: -1.1200, freedom: -1.1455, nasa: -1.1951, free: -1.2008, thing: -1.2337, atheist: -1.2573, princeton: -1.2966, cobb: -1.3150, keith: -1.4660, caltech: -1.4869, graphics: -1.5331, edu: -1.5969, atheism: -1.7381, it: -1.7571, atheists: -1.9418, space: -2.2211\n",
        "\n"
       ]
      }
     ],
     "prompt_number": 65
    },
    {
     "cell_type": "heading",
     "level": 3,
     "metadata": {},
     "source": [
      "Displaying the per-class Classification Reports"
     ]
    },
    {
     "cell_type": "code",
     "collapsed": false,
     "input": [
      "from sklearn.metrics import classification_report\n",
      "\n",
      "predicted = pipeline.predict(twenty_test_small.data)"
     ],
     "language": "python",
     "metadata": {},
     "outputs": [],
     "prompt_number": 66
    },
    {
     "cell_type": "code",
     "collapsed": false,
     "input": [
      "print(classification_report(twenty_test_small.target, predicted,\n",
      "                            target_names=twenty_test_small.target_names))"
     ],
     "language": "python",
     "metadata": {},
     "outputs": [
      {
       "output_type": "stream",
       "stream": "stdout",
       "text": [
        "                    precision    recall  f1-score   support\n",
        "\n",
        "       alt.atheism       0.87      0.78      0.83       319\n",
        "     comp.graphics       0.93      0.96      0.95       389\n",
        "         sci.space       0.95      0.95      0.95       394\n",
        "talk.religion.misc       0.76      0.80      0.78       251\n",
        "\n",
        "       avg / total       0.89      0.89      0.89      1353\n",
        "\n"
       ]
      }
     ],
     "prompt_number": 67
    },
    {
     "cell_type": "heading",
     "level": 3,
     "metadata": {},
     "source": [
      "Printing the Confusion Matrix"
     ]
    },
    {
     "cell_type": "markdown",
     "metadata": {},
     "source": [
      "The confusion matrix summarize which class where by having a look at off-diagonal entries: here we can see that articles about atheism have been wrongly classified as being about religion 57 times for instance: "
     ]
    },
    {
     "cell_type": "code",
     "collapsed": false,
     "input": [
      "from sklearn.metrics import confusion_matrix\n",
      "\n",
      "confusion_matrix(twenty_test_small.target, predicted)"
     ],
     "language": "python",
     "metadata": {},
     "outputs": [
      {
       "output_type": "pyout",
       "prompt_number": 68,
       "text": [
        "array([[250,   5,   7,  57],\n",
        "       [  2, 375,   6,   6],\n",
        "       [  2,  15, 375,   2],\n",
        "       [ 32,   9,   8, 202]])"
       ]
      }
     ],
     "prompt_number": 68
    },
    {
     "cell_type": "code",
     "collapsed": false,
     "input": [],
     "language": "python",
     "metadata": {},
     "outputs": []
    }
   ],
   "metadata": {}
  }
 ]
}