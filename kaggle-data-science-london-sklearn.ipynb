{
 "metadata": {
  "name": ""
 },
 "nbformat": 3,
 "nbformat_minor": 0,
 "worksheets": [
  {
   "cells": [
    {
     "cell_type": "code",
     "collapsed": false,
     "input": [
      "from sklearn.metrics import classification_report, confusion_matrix\n",
      "from sklearn.cross_validation import cross_val_score\n",
      "from sklearn.linear_model import LogisticRegression\n",
      "from sklearn.ensemble import RandomForestClassifier\n",
      "import pylab as pl\n",
      "import pandas as pd\n",
      "import numpy as np\n",
      "import sklearn"
     ],
     "language": "python",
     "metadata": {},
     "outputs": [],
     "prompt_number": 146
    },
    {
     "cell_type": "code",
     "collapsed": false,
     "input": [
      "trainCSV = '/devSOLR-Crawler/img/gkt/kaggle/data_science_london_scikit/train.csv'\n",
      "testCSV = '/devSOLR-Crawler/img/gkt/kaggle/data_science_london_scikit/test.csv'\n",
      "trainLabel = '/devSOLR-Crawler/img/gkt/kaggle/data_science_london_scikit/trainLabels.csv'\n"
     ],
     "language": "python",
     "metadata": {},
     "outputs": [],
     "prompt_number": 147
    },
    {
     "cell_type": "code",
     "collapsed": false,
     "input": [
      "train_df = pd.read_csv(trainCSV, header=None)\n",
      "test_df = pd.read_csv(testCSV, header=None)\n",
      "trainClass_df = pd.read_csv(trainLabel, header=None)"
     ],
     "language": "python",
     "metadata": {},
     "outputs": [],
     "prompt_number": 148
    },
    {
     "cell_type": "code",
     "collapsed": false,
     "input": [
      "type(trainClass_df), type(train_df), type(test_df)"
     ],
     "language": "python",
     "metadata": {},
     "outputs": [
      {
       "metadata": {},
       "output_type": "pyout",
       "prompt_number": 149,
       "text": [
        "(pandas.core.frame.DataFrame,\n",
        " pandas.core.frame.DataFrame,\n",
        " pandas.core.frame.DataFrame)"
       ]
      }
     ],
     "prompt_number": 149
    },
    {
     "cell_type": "code",
     "collapsed": false,
     "input": [
      "train_df.shape, test_df.shape, trainClass_df.shape"
     ],
     "language": "python",
     "metadata": {},
     "outputs": [
      {
       "metadata": {},
       "output_type": "pyout",
       "prompt_number": 150,
       "text": [
        "((1000, 40), (9000, 40), (1000, 1))"
       ]
      }
     ],
     "prompt_number": 150
    },
    {
     "cell_type": "code",
     "collapsed": false,
     "input": [
      "train_df.ix[2][:10]"
     ],
     "language": "python",
     "metadata": {},
     "outputs": [
      {
       "metadata": {},
       "output_type": "pyout",
       "prompt_number": 151,
       "text": [
        "X.1     1.192222\n",
        "X.2    -0.414371\n",
        "X.3     0.067054\n",
        "X.4    -2.233568\n",
        "X.5     3.658881\n",
        "X.6     0.089007\n",
        "X.7     0.203439\n",
        "X.8    -4.219054\n",
        "X.9    -1.184919\n",
        "X.10   -1.240310\n",
        "Name: 2"
       ]
      }
     ],
     "prompt_number": 151
    },
    {
     "cell_type": "code",
     "collapsed": false,
     "input": [
      "trainClass_df.ix[:10]"
     ],
     "language": "python",
     "metadata": {},
     "outputs": [
      {
       "metadata": {},
       "output_type": "pyout",
       "prompt_number": 48,
       "text": [
        "    X.1\n",
        "0     1\n",
        "1     0\n",
        "2     0\n",
        "3     1\n",
        "4     0\n",
        "5     1\n",
        "6     0\n",
        "7     1\n",
        "8     1\n",
        "9     0\n",
        "10    1"
       ]
      }
     ],
     "prompt_number": 48
    },
    {
     "cell_type": "code",
     "collapsed": false,
     "input": [
      "obj = pd.Series(np.random.permutation(xrange(10)))\n",
      "obj"
     ],
     "language": "python",
     "metadata": {},
     "outputs": [
      {
       "metadata": {},
       "output_type": "pyout",
       "prompt_number": 57,
       "text": [
        "0    5\n",
        "1    8\n",
        "2    1\n",
        "3    0\n",
        "4    6\n",
        "5    2\n",
        "6    7\n",
        "7    9\n",
        "8    3\n",
        "9    4"
       ]
      }
     ],
     "prompt_number": 57
    },
    {
     "cell_type": "code",
     "collapsed": false,
     "input": [
      "obj.values"
     ],
     "language": "python",
     "metadata": {},
     "outputs": [
      {
       "metadata": {},
       "output_type": "pyout",
       "prompt_number": 63,
       "text": [
        "array([5, 8, 1, 0, 6, 2, 7, 9, 3, 4])"
       ]
      }
     ],
     "prompt_number": 63
    },
    {
     "cell_type": "code",
     "collapsed": false,
     "input": [
      "obj[obj > 2]"
     ],
     "language": "python",
     "metadata": {},
     "outputs": [
      {
       "metadata": {},
       "output_type": "pyout",
       "prompt_number": 68,
       "text": [
        "0    5\n",
        "1    8\n",
        "4    6\n",
        "6    7\n",
        "7    9\n",
        "8    3\n",
        "9    4"
       ]
      }
     ],
     "prompt_number": 68
    },
    {
     "cell_type": "code",
     "collapsed": false,
     "input": [
      "np.exp(obj)"
     ],
     "language": "python",
     "metadata": {},
     "outputs": [
      {
       "metadata": {},
       "output_type": "pyout",
       "prompt_number": 69,
       "text": [
        "0     148.413159\n",
        "1    2980.957987\n",
        "2       2.718282\n",
        "3       1.000000\n",
        "4     403.428793\n",
        "5       7.389056\n",
        "6    1096.633158\n",
        "7    8103.083928\n",
        "8      20.085537\n",
        "9      54.598150"
       ]
      }
     ],
     "prompt_number": 69
    },
    {
     "cell_type": "code",
     "collapsed": false,
     "input": [
      "data = {'state': ['Ohio', 'Ohio', 'Ohio', 'Nevada', 'Nevada'],\n",
      "'year': [2000, 2001, 2002, 2001, 2002],\n",
      "'pop': [1.5, 1.7, 3.6, 2.4, 2.9]}\n",
      "frame = pd.DataFrame(data)"
     ],
     "language": "python",
     "metadata": {},
     "outputs": [],
     "prompt_number": 70
    },
    {
     "cell_type": "code",
     "collapsed": false,
     "input": [
      "frame.ix[2:3]"
     ],
     "language": "python",
     "metadata": {},
     "outputs": [
      {
       "metadata": {},
       "output_type": "pyout",
       "prompt_number": 77,
       "text": [
        "   pop   state  year\n",
        "2  3.6    Ohio  2002\n",
        "3  2.4  Nevada  2001"
       ]
      }
     ],
     "prompt_number": 77
    },
    {
     "cell_type": "code",
     "collapsed": false,
     "input": [
      "X =  train_df.as_matrix()\n",
      "test = test_df.as_matrix()\n",
      "y = trainClass_df.as_matrix()\n",
      "#clf_rf = RandomForestClassifier(n_estimators=20)\n",
      "#clf_rf.fit(train_df.ix, trainClass_df.ix)"
     ],
     "language": "python",
     "metadata": {},
     "outputs": [],
     "prompt_number": 152
    },
    {
     "cell_type": "code",
     "collapsed": false,
     "input": [
      "X.shape, y.shape, test.shape"
     ],
     "language": "python",
     "metadata": {},
     "outputs": [
      {
       "metadata": {},
       "output_type": "pyout",
       "prompt_number": 153,
       "text": [
        "((1000, 40), (1000, 1), (9000, 40))"
       ]
      }
     ],
     "prompt_number": 153
    },
    {
     "cell_type": "code",
     "collapsed": false,
     "input": [
      "np.asarray(y[:5])"
     ],
     "language": "python",
     "metadata": {},
     "outputs": [
      {
       "metadata": {},
       "output_type": "pyout",
       "prompt_number": 91,
       "text": [
        "array([[1],\n",
        "       [0],\n",
        "       [0],\n",
        "       [1],\n",
        "       [0]])"
       ]
      }
     ],
     "prompt_number": 91
    },
    {
     "cell_type": "code",
     "collapsed": false,
     "input": [
      "clf_rf = RandomForestClassifier(n_estimators=20)\n",
      "clf_rf.fit(X,y.ravel())"
     ],
     "language": "python",
     "metadata": {},
     "outputs": [
      {
       "metadata": {},
       "output_type": "pyout",
       "prompt_number": 154,
       "text": [
        "RandomForestClassifier(bootstrap=True, compute_importances=None,\n",
        "            criterion='gini', max_depth=None, max_features='auto',\n",
        "            min_density=None, min_samples_leaf=1, min_samples_split=2,\n",
        "            n_estimators=20, n_jobs=1, oob_score=False, random_state=None,\n",
        "            verbose=0)"
       ]
      }
     ],
     "prompt_number": 154
    },
    {
     "cell_type": "code",
     "collapsed": false,
     "input": [
      "cross_val_score(clf_rf, X,y.ravel(),cv=5)"
     ],
     "language": "python",
     "metadata": {},
     "outputs": [
      {
       "metadata": {},
       "output_type": "pyout",
       "prompt_number": 155,
       "text": [
        "array([ 0.78 ,  0.89 ,  0.885,  0.855,  0.855])"
       ]
      }
     ],
     "prompt_number": 155
    },
    {
     "cell_type": "code",
     "collapsed": false,
     "input": [
      "y.ravel()[:5]"
     ],
     "language": "python",
     "metadata": {},
     "outputs": [
      {
       "metadata": {},
       "output_type": "pyout",
       "prompt_number": 96,
       "text": [
        "array([1, 0, 0, 1, 0])"
       ]
      }
     ],
     "prompt_number": 96
    },
    {
     "cell_type": "code",
     "collapsed": false,
     "input": [
      "clf_logreg = LogisticRegression(penalty='l2', C=1.0, random_state=44)\n",
      "clf_logreg.fit(X, y.ravel())\n",
      "cross_val_score(clf_logreg, X, y.ravel(), cv=5)"
     ],
     "language": "python",
     "metadata": {},
     "outputs": [
      {
       "metadata": {},
       "output_type": "pyout",
       "prompt_number": 156,
       "text": [
        "array([ 0.765,  0.85 ,  0.805,  0.845,  0.82 ])"
       ]
      }
     ],
     "prompt_number": 156
    },
    {
     "cell_type": "code",
     "collapsed": false,
     "input": [
      "from sklearn.decomposition import RandomizedPCA, PCA, NMF\n",
      "from sklearn.svm import SVC\n",
      "decompt = [RandomizedPCA(), PCA()]\n",
      "for reduction in decompt:\n",
      "    X_red = reduction.fit(X, y.ravel()).transform(X)\n",
      "    #clf_red = RandomForestClassifier(n_estimators=500)\n",
      "    #clf_red = LogisticRegression(penalty='l2')\n",
      "    clf_red = SVC(C=10, gamma=.01)\n",
      "    \n",
      "    clf_red.fit(X_red, y.ravel())\n",
      "    print cross_val_score(clf_red, X_red, y.ravel(), cv=5)"
     ],
     "language": "python",
     "metadata": {},
     "outputs": [
      {
       "output_type": "stream",
       "stream": "stdout",
       "text": [
        "[ 0.875  0.93   0.93   0.935  0.915]\n",
        "[ 0.875  0.93   0.93   0.935  0.915]"
       ]
      },
      {
       "output_type": "stream",
       "stream": "stdout",
       "text": [
        "\n"
       ]
      }
     ],
     "prompt_number": 169
    },
    {
     "cell_type": "code",
     "collapsed": false,
     "input": [
      "X_pca = RandomizedPCA(n_components=2).fit_transform(X)"
     ],
     "language": "python",
     "metadata": {},
     "outputs": [],
     "prompt_number": 158
    },
    {
     "cell_type": "code",
     "collapsed": false,
     "input": [
      "X_pca.shape"
     ],
     "language": "python",
     "metadata": {},
     "outputs": [
      {
       "metadata": {},
       "output_type": "pyout",
       "prompt_number": 159,
       "text": [
        "(1000, 2)"
       ]
      }
     ],
     "prompt_number": 159
    },
    {
     "cell_type": "code",
     "collapsed": false,
     "input": [
      "from itertools import cycle\n",
      "color =  ['r','g']\n",
      "for i,c in zip(np.unique(y.ravel()), cycle(color)):\n",
      "    pl.scatter(X_pca[y.ravel()==i,0], X_pca[y.ravel()==i,1], label=str(i), c=c, alpha=.7)\n",
      "    pl.legend(loc='best')"
     ],
     "language": "python",
     "metadata": {},
     "outputs": [
      {
       "metadata": {},
       "output_type": "display_data",
       "png": "[encoded data removed]",
       "text": [
        "<matplotlib.figure.Figure at 0x5631590>"
       ]
      }
     ],
     "prompt_number": 160
    },
    {
     "cell_type": "code",
     "collapsed": false,
     "input": [
      "from sklearn.preprocessing import MinMaxScaler\n",
      "X_scaled = MinMaxScaler().fit_transform(X,y.ravel())"
     ],
     "language": "python",
     "metadata": {},
     "outputs": [],
     "prompt_number": 161
    },
    {
     "cell_type": "code",
     "collapsed": false,
     "input": [
      "X_scaled[0]"
     ],
     "language": "python",
     "metadata": {},
     "outputs": [
      {
       "metadata": {},
       "output_type": "pyout",
       "prompt_number": 163,
       "text": [
        "array([ 0.54768934,  0.3201633 ,  0.8000649 ,  0.34879341,  0.63882063,\n",
        "        0.52887636,  0.6498604 ,  0.59414052,  0.4918225 ,  0.51175956,\n",
        "        0.28236241,  0.66643806,  0.58070021,  0.7745685 ,  0.8069802 ,\n",
        "        0.49930528,  0.57952714,  0.53844392,  0.63734005,  0.89939759,\n",
        "        0.44212449,  0.50575269,  0.47782523,  0.6726211 ,  0.44432756,\n",
        "        0.42520146,  0.56487789,  0.61511922,  0.42339089,  0.28077799,\n",
        "        0.40628762,  0.3526166 ,  0.40048828,  0.51825714,  0.81316446,\n",
        "        0.57586941,  0.72647689,  0.10885793,  0.38835347,  0.54099147])"
       ]
      }
     ],
     "prompt_number": 163
    },
    {
     "cell_type": "code",
     "collapsed": false,
     "input": [
      "X_scaled.max()"
     ],
     "language": "python",
     "metadata": {},
     "outputs": [
      {
       "metadata": {},
       "output_type": "pyout",
       "prompt_number": 168,
       "text": [
        "1.0000000000000002"
       ]
      }
     ],
     "prompt_number": 168
    },
    {
     "cell_type": "code",
     "collapsed": false,
     "input": [
      "from sklearn.decomposition import RandomizedPCA, PCA, NMF\n",
      "from sklearn.svm import SVC\n",
      "decompt = [RandomizedPCA(), PCA()]\n",
      "for reduction in decompt:\n",
      "    X_red = reduction.fit(X_scaled, y.ravel()).transform(X)\n",
      "    #clf_red = RandomForestClassifier(n_estimators=500)\n",
      "    #clf_red = LogisticRegression(penalty='l2')\n",
      "    clf_red = SVC(C=10, gamma=.01)\n",
      "    \n",
      "    clf_red.fit(X_red, y.ravel())\n",
      "    print cross_val_score(clf_red, X_red, y.ravel(), cv=5)"
     ],
     "language": "python",
     "metadata": {},
     "outputs": [
      {
       "output_type": "stream",
       "stream": "stdout",
       "text": [
        "[ 0.875  0.93   0.93   0.935  0.915]\n",
        "[ 0.875  0.93   0.93   0.935  0.915]"
       ]
      },
      {
       "output_type": "stream",
       "stream": "stdout",
       "text": [
        "\n"
       ]
      }
     ],
     "prompt_number": 177
    },
    {
     "cell_type": "code",
     "collapsed": false,
     "input": [
      "X_red[0]"
     ],
     "language": "python",
     "metadata": {},
     "outputs": [
      {
       "metadata": {},
       "output_type": "pyout",
       "prompt_number": 178,
       "text": [
        "array([ 1.15831635, -7.57808084, -3.35627998, -0.28157474,  0.53774788,\n",
        "       -0.40833054, -0.37155672, -0.43163425, -0.26714508, -0.95677181,\n",
        "       -0.68485453,  0.16389513,  0.04926728,  0.04623549,  3.04515294,\n",
        "       -0.93337112, -1.21653471, -0.21893167, -0.79716191, -1.36219637,\n",
        "        2.92459008,  1.49172575,  0.92718838, -0.04762693,  1.76013204,\n",
        "        0.40627476, -0.56072495, -1.81950206,  1.40847085, -0.08780133,\n",
        "       -2.19118625, -0.60520328,  2.3122273 , -3.01917332,  2.74249363,\n",
        "       -1.98633736,  0.67228068,  0.55238447,  0.97608066,  1.25358421])"
       ]
      }
     ],
     "prompt_number": 178
    },
    {
     "cell_type": "code",
     "collapsed": false,
     "input": [
      "from sklearn.ensemble import ExtraTreesClassifier\n",
      "\n",
      "# Build a forest and compute the feature importances\n",
      "forest = ExtraTreesClassifier(n_estimators=2000,n_jobs=10,\n",
      "                                 random_state=0)\n",
      "forest.fit(X, y.ravel())\n",
      "importances = forest.feature_importances_\n",
      "std = np.std([tree.feature_importances_ for tree in forest.estimators_],\n",
      "             axis=0)\n",
      "indices = np.argsort(importances)[::-1]\n",
      "\n",
      "num_features = 40\n",
      "# Plot the feature importances of the forest\n",
      "import pylab as pl\n",
      "pl.figure()\n",
      "pl.title(\"Feature importances\")\n",
      "pl.bar(range(num_features), importances[indices],\n",
      "       color=\"r\", yerr=std[indices], align=\"center\")\n",
      "pl.xticks(range(num_features), indices)\n",
      "pl.xlim([-1, num_features])\n",
      "pl.show()"
     ],
     "language": "python",
     "metadata": {},
     "outputs": [
      {
       "metadata": {},
       "output_type": "display_data",
       "png": "[encoded data removed]",
       "text": [
        "<matplotlib.figure.Figure at 0x4d4ce10>"
       ]
      }
     ],
     "prompt_number": 182
    },
    {
     "cell_type": "code",
     "collapsed": false,
     "input": [
      "clf_rf = RandomForestClassifier(n_estimators=200, random_state=22, n_jobs=6)\n",
      "clf_rf.fit(X,y.ravel())\n",
      "# threshold value found after getting all the features importances \n",
      "# and seeing upto what we want to pick the features\n",
      "X_rf = clf_rf.transform(X, threshold=0.013165079409344109)"
     ],
     "language": "python",
     "metadata": {},
     "outputs": [],
     "prompt_number": 201
    },
    {
     "cell_type": "code",
     "collapsed": false,
     "input": [
      "X_rf.shape"
     ],
     "language": "python",
     "metadata": {},
     "outputs": [
      {
       "metadata": {},
       "output_type": "pyout",
       "prompt_number": 202,
       "text": [
        "(1000, 18)"
       ]
      }
     ],
     "prompt_number": 202
    },
    {
     "cell_type": "code",
     "collapsed": false,
     "input": [
      "sorted(clf_rf.feature_importances_, reverse=True)"
     ],
     "language": "python",
     "metadata": {},
     "outputs": [
      {
       "metadata": {},
       "output_type": "pyout",
       "prompt_number": 189,
       "text": [
        "[0.11779691766383177,\n",
        " 0.10942790089603846,\n",
        " 0.056896868253683619,\n",
        " 0.052756395591547357,\n",
        " 0.048772394313168273,\n",
        " 0.039569878234191017,\n",
        " 0.037954002987930571,\n",
        " 0.037950769164491353,\n",
        " 0.035910014589998478,\n",
        " 0.0358845435456739,\n",
        " 0.035825873724102696,\n",
        " 0.028504295413853079,\n",
        " 0.023918387796585582,\n",
        " 0.021890553938800811,\n",
        " 0.020087092467018661,\n",
        " 0.013895553203342594,\n",
        " 0.013385027314425329,\n",
        " 0.013165079409344109,\n",
        " 0.012913660123578741,\n",
        " 0.012884824700286972,\n",
        " 0.012633388317349184,\n",
        " 0.012598834600102663,\n",
        " 0.012590324576193714,\n",
        " 0.01249710973738179,\n",
        " 0.012262423024405793,\n",
        " 0.01224744686975999,\n",
        " 0.012061207614709206,\n",
        " 0.011880140782232023,\n",
        " 0.011874643387291555,\n",
        " 0.01187387710929271,\n",
        " 0.011718671332569864,\n",
        " 0.011167738977942068,\n",
        " 0.011118088349293075,\n",
        " 0.011078358456413879,\n",
        " 0.010973554557016884,\n",
        " 0.010970399453775124,\n",
        " 0.0108878660415809,\n",
        " 0.010785351905307428,\n",
        " 0.0099746481771248105,\n",
        " 0.0094158933983640239]"
       ]
      }
     ],
     "prompt_number": 189
    },
    {
     "cell_type": "code",
     "collapsed": false,
     "input": [
      "clf_red = SVC(C=10, gamma=.01)   \n",
      "clf_red.fit(X_rf, y.ravel())\n",
      "scores = cross_val_score(clf_red, X_rf, y.ravel(), cv=5)\n",
      "print scores\n",
      "print scores.mean()"
     ],
     "language": "python",
     "metadata": {},
     "outputs": [
      {
       "output_type": "stream",
       "stream": "stdout",
       "text": [
        "[ 0.905  0.945  0.955  0.93   0.91 ]\n",
        "0.929\n"
       ]
      }
     ],
     "prompt_number": 203
    },
    {
     "cell_type": "code",
     "collapsed": false,
     "input": [
      "np.std(clf_rf.feature_importances_)"
     ],
     "language": "python",
     "metadata": {},
     "outputs": [
      {
       "metadata": {},
       "output_type": "pyout",
       "prompt_number": 207,
       "text": [
        "0.024174820931845715"
       ]
      }
     ],
     "prompt_number": 207
    },
    {
     "cell_type": "code",
     "collapsed": false,
     "input": [
      "X_rf_test = clf_rf.transform(test,threshold=0.013165079409344109)\n",
      "X_rf_test.shape"
     ],
     "language": "python",
     "metadata": {},
     "outputs": [
      {
       "metadata": {},
       "output_type": "pyout",
       "prompt_number": 211,
       "text": [
        "(9000, 18)"
       ]
      }
     ],
     "prompt_number": 211
    },
    {
     "cell_type": "code",
     "collapsed": false,
     "input": [
      "y_predicted = clf_red.predict(X_rf_test)"
     ],
     "language": "python",
     "metadata": {},
     "outputs": [],
     "prompt_number": 212
    },
    {
     "cell_type": "code",
     "collapsed": false,
     "input": [
      "print y_predicted[:5]\n",
      "print clf_red"
     ],
     "language": "python",
     "metadata": {},
     "outputs": [
      {
       "output_type": "stream",
       "stream": "stdout",
       "text": [
        "[1 0 1 0 0]\n",
        "SVC(C=10, cache_size=200, class_weight=None, coef0=0.0, degree=3, gamma=0.01,\n",
        "  kernel=rbf, max_iter=-1, probability=False, random_state=None,\n",
        "  shrinking=True, tol=0.001, verbose=False)\n"
       ]
      }
     ],
     "prompt_number": 235
    },
    {
     "cell_type": "code",
     "collapsed": false,
     "input": [
      "submissionFile = '/home/ubuntu/stableDisk/img/gkt/kaggle/data_science_london_scikit/submission_2.csv'\n",
      "np.savetxt(submissionFile, y_predicted, fmt='%d', newline='\\r\\n')"
     ],
     "language": "python",
     "metadata": {},
     "outputs": [],
     "prompt_number": 216
    },
    {
     "cell_type": "code",
     "collapsed": false,
     "input": [
      "from sklearn.naive_bayes import GaussianNB\n",
      "clf_nb = GaussianNB().fit(X_scaled,y.ravel())\n",
      "scores = cross_val_score(clf_nb, X_scaled, y.ravel(), cv=5)\n",
      "print scores\n",
      "print scores.mean()"
     ],
     "language": "python",
     "metadata": {},
     "outputs": [
      {
       "output_type": "stream",
       "stream": "stdout",
       "text": [
        "[ 0.735  0.85   0.84   0.85   0.835]\n",
        "0.822\n"
       ]
      }
     ],
     "prompt_number": 222
    },
    {
     "cell_type": "code",
     "collapsed": false,
     "input": [
      "Cs=np.logspace(-1, 2, num=4)\n",
      "gammas = np.logspace(-4, 0, num=5)\n",
      "svc_params = {\n",
      "        'C':Cs,\n",
      "        'gamma':gammas\n",
      "        }\n",
      "from pprint import pprint\n",
      "pprint(svc_params)"
     ],
     "language": "python",
     "metadata": {},
     "outputs": [
      {
       "output_type": "stream",
       "stream": "stdout",
       "text": [
        "{'C': array([   0.1,    1. ,   10. ,  100. ]),\n",
        " 'gamma': array([ 0.0001,  0.001 ,  0.01  ,  0.1   ,  1.    ])}\n"
       ]
      }
     ],
     "prompt_number": 243
    },
    {
     "cell_type": "code",
     "collapsed": false,
     "input": [
      "from sklearn.grid_search import GridSearchCV\n",
      "from sklearn import svm\n",
      "\n",
      "clf_svm_cv = GridSearchCV(svm.SVC(),svc_params, cv=3, n_jobs=-1)\n",
      "clf_svm_cv.fit(X_rf,y.ravel())\n",
      "\n",
      "print clf_svm_cv.best_params_\n",
      "print clf_svm_cv.best_score_\n",
      "\n",
      "scores = cross_val_score(clf_svm_cv, X_rf, y.ravel(), cv=5)\n",
      "print scores\n",
      "print scores.mean()"
     ],
     "language": "python",
     "metadata": {},
     "outputs": [
      {
       "output_type": "stream",
       "stream": "stdout",
       "text": [
        "{'C': 100.0, 'gamma': 0.001}\n",
        "0.914\n"
       ]
      },
      {
       "output_type": "stream",
       "stream": "stdout",
       "text": [
        "[ 0.905  0.92   0.955  0.93   0.91 ]\n",
        "0.924\n"
       ]
      }
     ],
     "prompt_number": 245
    },
    {
     "cell_type": "code",
     "collapsed": false,
     "input": [],
     "language": "python",
     "metadata": {},
     "outputs": []
    }
   ],
   "metadata": {}
  }
 ]
}